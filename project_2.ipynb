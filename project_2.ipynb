{
 "cells": [
  {
   "cell_type": "markdown",
   "id": "2df92b66",
   "metadata": {},
   "source": [
    "# Project 2"
   ]
  },
  {
   "cell_type": "code",
   "execution_count": 1,
   "id": "7de030cf-f322-4271-bdd2-bede3f02f0b2",
   "metadata": {},
   "outputs": [],
   "source": [
    "import pandas as pd\n",
    "import plotly.express as px"
   ]
  },
  {
   "cell_type": "code",
   "execution_count": 2,
   "id": "229c5594",
   "metadata": {},
   "outputs": [],
   "source": [
    "import plotly.io as pio\n",
    "\n",
    "pio.renderers.default = \"vscode+jupyterlab+notebook_connected\""
   ]
  },
  {
   "cell_type": "markdown",
   "id": "7dee6838-855b-4004-8886-76ae647fe10d",
   "metadata": {},
   "source": [
    "## Datasets used:\n",
    "\n",
    "1. World Happiness Index (2018) - https://www.kaggle.com/datasets/sougatapramanick/happiness-index-2018-2019\n",
    "\n",
    "2. World Bank Indicators Collection - https://www.kaggle.com/datasets/ploverbrown/world-bank-indicators-collection\n",
    "(This dataset consists of multiple sheets of indicators across thematic areas. Only sheet titled 'Health1' has been retained for the purpose of this project) "
   ]
  },
  {
   "cell_type": "markdown",
   "id": "c894d5cb-082e-44d4-967a-42904e612e6c",
   "metadata": {},
   "source": [
    "## Dataset 1 - World Happiness Index (2018)\n",
    "\n",
    "The World Happiness Report reflects a worldwide demand for more attention to happiness and well-being as criteria for government policy. It reviews the state of happiness in the world today and shows how the science of happiness explains personal and national variations in happiness.\n",
    "\n",
    "The dataset also includes observed data on six variables and estimates of their associations with life evaluations to explain the variation across countries. They include GDP per capita, social support, healthy life expectancy, freedom, generosity, and corruption. Happiness rankings are not based on any index of these six factors – the scores are instead based on individuals’ own assessments of their lives, in particular, their answers to the single-item Cantril ladder life-evaluation question. "
   ]
  },
  {
   "cell_type": "code",
   "execution_count": 3,
   "id": "f6905494-dd93-414e-9e8c-eeac84db3c35",
   "metadata": {
    "tags": []
   },
   "outputs": [
    {
     "data": {
      "text/html": [
       "<div>\n",
       "<style scoped>\n",
       "    .dataframe tbody tr th:only-of-type {\n",
       "        vertical-align: middle;\n",
       "    }\n",
       "\n",
       "    .dataframe tbody tr th {\n",
       "        vertical-align: top;\n",
       "    }\n",
       "\n",
       "    .dataframe thead th {\n",
       "        text-align: right;\n",
       "    }\n",
       "</style>\n",
       "<table border=\"1\" class=\"dataframe\">\n",
       "  <thead>\n",
       "    <tr style=\"text-align: right;\">\n",
       "      <th></th>\n",
       "      <th>Overall rank</th>\n",
       "      <th>Country or region</th>\n",
       "      <th>Score</th>\n",
       "      <th>GDP per capita</th>\n",
       "      <th>Social support</th>\n",
       "      <th>Healthy life expectancy</th>\n",
       "      <th>Freedom to make life choices</th>\n",
       "      <th>Generosity</th>\n",
       "      <th>Perceptions of corruption</th>\n",
       "    </tr>\n",
       "  </thead>\n",
       "  <tbody>\n",
       "    <tr>\n",
       "      <th>0</th>\n",
       "      <td>1</td>\n",
       "      <td>Finland</td>\n",
       "      <td>7.632</td>\n",
       "      <td>1.305</td>\n",
       "      <td>1.592</td>\n",
       "      <td>0.874</td>\n",
       "      <td>0.681</td>\n",
       "      <td>0.202</td>\n",
       "      <td>0.393</td>\n",
       "    </tr>\n",
       "    <tr>\n",
       "      <th>1</th>\n",
       "      <td>2</td>\n",
       "      <td>Norway</td>\n",
       "      <td>7.594</td>\n",
       "      <td>1.456</td>\n",
       "      <td>1.582</td>\n",
       "      <td>0.861</td>\n",
       "      <td>0.686</td>\n",
       "      <td>0.286</td>\n",
       "      <td>0.340</td>\n",
       "    </tr>\n",
       "    <tr>\n",
       "      <th>2</th>\n",
       "      <td>3</td>\n",
       "      <td>Denmark</td>\n",
       "      <td>7.555</td>\n",
       "      <td>1.351</td>\n",
       "      <td>1.590</td>\n",
       "      <td>0.868</td>\n",
       "      <td>0.683</td>\n",
       "      <td>0.284</td>\n",
       "      <td>0.408</td>\n",
       "    </tr>\n",
       "    <tr>\n",
       "      <th>3</th>\n",
       "      <td>4</td>\n",
       "      <td>Iceland</td>\n",
       "      <td>7.495</td>\n",
       "      <td>1.343</td>\n",
       "      <td>1.644</td>\n",
       "      <td>0.914</td>\n",
       "      <td>0.677</td>\n",
       "      <td>0.353</td>\n",
       "      <td>0.138</td>\n",
       "    </tr>\n",
       "    <tr>\n",
       "      <th>4</th>\n",
       "      <td>5</td>\n",
       "      <td>Switzerland</td>\n",
       "      <td>7.487</td>\n",
       "      <td>1.420</td>\n",
       "      <td>1.549</td>\n",
       "      <td>0.927</td>\n",
       "      <td>0.660</td>\n",
       "      <td>0.256</td>\n",
       "      <td>0.357</td>\n",
       "    </tr>\n",
       "    <tr>\n",
       "      <th>...</th>\n",
       "      <td>...</td>\n",
       "      <td>...</td>\n",
       "      <td>...</td>\n",
       "      <td>...</td>\n",
       "      <td>...</td>\n",
       "      <td>...</td>\n",
       "      <td>...</td>\n",
       "      <td>...</td>\n",
       "      <td>...</td>\n",
       "    </tr>\n",
       "    <tr>\n",
       "      <th>151</th>\n",
       "      <td>152</td>\n",
       "      <td>Yemen</td>\n",
       "      <td>3.355</td>\n",
       "      <td>0.442</td>\n",
       "      <td>1.073</td>\n",
       "      <td>0.343</td>\n",
       "      <td>0.244</td>\n",
       "      <td>0.083</td>\n",
       "      <td>0.064</td>\n",
       "    </tr>\n",
       "    <tr>\n",
       "      <th>152</th>\n",
       "      <td>153</td>\n",
       "      <td>Tanzania</td>\n",
       "      <td>3.303</td>\n",
       "      <td>0.455</td>\n",
       "      <td>0.991</td>\n",
       "      <td>0.381</td>\n",
       "      <td>0.481</td>\n",
       "      <td>0.270</td>\n",
       "      <td>0.097</td>\n",
       "    </tr>\n",
       "    <tr>\n",
       "      <th>153</th>\n",
       "      <td>154</td>\n",
       "      <td>South Sudan</td>\n",
       "      <td>3.254</td>\n",
       "      <td>0.337</td>\n",
       "      <td>0.608</td>\n",
       "      <td>0.177</td>\n",
       "      <td>0.112</td>\n",
       "      <td>0.224</td>\n",
       "      <td>0.106</td>\n",
       "    </tr>\n",
       "    <tr>\n",
       "      <th>154</th>\n",
       "      <td>155</td>\n",
       "      <td>Central African Republic</td>\n",
       "      <td>3.083</td>\n",
       "      <td>0.024</td>\n",
       "      <td>0.000</td>\n",
       "      <td>0.010</td>\n",
       "      <td>0.305</td>\n",
       "      <td>0.218</td>\n",
       "      <td>0.038</td>\n",
       "    </tr>\n",
       "    <tr>\n",
       "      <th>155</th>\n",
       "      <td>156</td>\n",
       "      <td>Burundi</td>\n",
       "      <td>2.905</td>\n",
       "      <td>0.091</td>\n",
       "      <td>0.627</td>\n",
       "      <td>0.145</td>\n",
       "      <td>0.065</td>\n",
       "      <td>0.149</td>\n",
       "      <td>0.076</td>\n",
       "    </tr>\n",
       "  </tbody>\n",
       "</table>\n",
       "<p>156 rows × 9 columns</p>\n",
       "</div>"
      ],
      "text/plain": [
       "     Overall rank         Country or region  Score  GDP per capita  \\\n",
       "0               1                   Finland  7.632           1.305   \n",
       "1               2                    Norway  7.594           1.456   \n",
       "2               3                   Denmark  7.555           1.351   \n",
       "3               4                   Iceland  7.495           1.343   \n",
       "4               5               Switzerland  7.487           1.420   \n",
       "..            ...                       ...    ...             ...   \n",
       "151           152                     Yemen  3.355           0.442   \n",
       "152           153                  Tanzania  3.303           0.455   \n",
       "153           154               South Sudan  3.254           0.337   \n",
       "154           155  Central African Republic  3.083           0.024   \n",
       "155           156                   Burundi  2.905           0.091   \n",
       "\n",
       "     Social support  Healthy life expectancy  Freedom to make life choices  \\\n",
       "0             1.592                    0.874                         0.681   \n",
       "1             1.582                    0.861                         0.686   \n",
       "2             1.590                    0.868                         0.683   \n",
       "3             1.644                    0.914                         0.677   \n",
       "4             1.549                    0.927                         0.660   \n",
       "..              ...                      ...                           ...   \n",
       "151           1.073                    0.343                         0.244   \n",
       "152           0.991                    0.381                         0.481   \n",
       "153           0.608                    0.177                         0.112   \n",
       "154           0.000                    0.010                         0.305   \n",
       "155           0.627                    0.145                         0.065   \n",
       "\n",
       "     Generosity  Perceptions of corruption  \n",
       "0         0.202                      0.393  \n",
       "1         0.286                      0.340  \n",
       "2         0.284                      0.408  \n",
       "3         0.353                      0.138  \n",
       "4         0.256                      0.357  \n",
       "..          ...                        ...  \n",
       "151       0.083                      0.064  \n",
       "152       0.270                      0.097  \n",
       "153       0.224                      0.106  \n",
       "154       0.218                      0.038  \n",
       "155       0.149                      0.076  \n",
       "\n",
       "[156 rows x 9 columns]"
      ]
     },
     "execution_count": 3,
     "metadata": {},
     "output_type": "execute_result"
    }
   ],
   "source": [
    "world_happiness_index = pd.read_csv(\"World_Happiness_Index_2018.csv\")\n",
    "world_happiness_index"
   ]
  },
  {
   "cell_type": "code",
   "execution_count": 4,
   "id": "7b87399a-8541-4183-b864-76f1b6996bf2",
   "metadata": {
    "tags": []
   },
   "outputs": [
    {
     "name": "stdout",
     "output_type": "stream",
     "text": [
      "Are there nulls for Overall rank? - False\n",
      "Are there nulls for Country or region? - False\n",
      "Are there nulls for Score? - False\n",
      "Are there nulls for GDP per capita? - False\n",
      "Are there nulls for Social support? - False\n",
      "Are there nulls for Healthy life expectancy? - False\n",
      "Are there nulls for Freedom to make life choices? - False\n",
      "Are there nulls for Generosity? - False\n",
      "Are there nulls for Perceptions of corruption? - True\n",
      "        % nulls for Perceptions of corruption - 0.6410256410256411\n"
     ]
    }
   ],
   "source": [
    "# check for NaNs - entire dataset\n",
    "columns_whi = world_happiness_index.columns\n",
    "cols_null = []\n",
    "for c in columns_whi:\n",
    "    null_check = world_happiness_index[c].isnull().values.any()\n",
    "    print(f\"Are there nulls for {c}? - {null_check}\")\n",
    "    if null_check == True:\n",
    "        cols_null.append(c)\n",
    "        count_na_whi = world_happiness_index.groupby(['Country or region']).agg({c:lambda x: x.isna().sum()}).reset_index()\n",
    "        print(f\"        % nulls for {c} - {count_na_whi.loc[count_na_whi[c] ==1].shape[0]*100/count_na_whi.shape[0]}\")"
   ]
  },
  {
   "cell_type": "code",
   "execution_count": 5,
   "id": "ef1c75b3-ebc3-43ac-a749-6b9bf447c7f9",
   "metadata": {
    "tags": []
   },
   "outputs": [
    {
     "data": {
      "text/html": [
       "<div>\n",
       "<style scoped>\n",
       "    .dataframe tbody tr th:only-of-type {\n",
       "        vertical-align: middle;\n",
       "    }\n",
       "\n",
       "    .dataframe tbody tr th {\n",
       "        vertical-align: top;\n",
       "    }\n",
       "\n",
       "    .dataframe thead th {\n",
       "        text-align: right;\n",
       "    }\n",
       "</style>\n",
       "<table border=\"1\" class=\"dataframe\">\n",
       "  <thead>\n",
       "    <tr style=\"text-align: right;\">\n",
       "      <th></th>\n",
       "      <th>Overall rank</th>\n",
       "      <th>Country Name</th>\n",
       "      <th>Happiness Score</th>\n",
       "      <th>GDP per capita</th>\n",
       "      <th>Social support</th>\n",
       "      <th>Healthy life expectancy</th>\n",
       "      <th>Freedom to make life choices</th>\n",
       "      <th>Generosity</th>\n",
       "      <th>Perceptions of corruption</th>\n",
       "    </tr>\n",
       "  </thead>\n",
       "  <tbody>\n",
       "    <tr>\n",
       "      <th>0</th>\n",
       "      <td>1</td>\n",
       "      <td>Finland</td>\n",
       "      <td>7.632</td>\n",
       "      <td>1.305</td>\n",
       "      <td>1.592</td>\n",
       "      <td>0.874</td>\n",
       "      <td>0.681</td>\n",
       "      <td>0.202</td>\n",
       "      <td>0.393</td>\n",
       "    </tr>\n",
       "    <tr>\n",
       "      <th>1</th>\n",
       "      <td>2</td>\n",
       "      <td>Norway</td>\n",
       "      <td>7.594</td>\n",
       "      <td>1.456</td>\n",
       "      <td>1.582</td>\n",
       "      <td>0.861</td>\n",
       "      <td>0.686</td>\n",
       "      <td>0.286</td>\n",
       "      <td>0.340</td>\n",
       "    </tr>\n",
       "    <tr>\n",
       "      <th>2</th>\n",
       "      <td>3</td>\n",
       "      <td>Denmark</td>\n",
       "      <td>7.555</td>\n",
       "      <td>1.351</td>\n",
       "      <td>1.590</td>\n",
       "      <td>0.868</td>\n",
       "      <td>0.683</td>\n",
       "      <td>0.284</td>\n",
       "      <td>0.408</td>\n",
       "    </tr>\n",
       "    <tr>\n",
       "      <th>3</th>\n",
       "      <td>4</td>\n",
       "      <td>Iceland</td>\n",
       "      <td>7.495</td>\n",
       "      <td>1.343</td>\n",
       "      <td>1.644</td>\n",
       "      <td>0.914</td>\n",
       "      <td>0.677</td>\n",
       "      <td>0.353</td>\n",
       "      <td>0.138</td>\n",
       "    </tr>\n",
       "    <tr>\n",
       "      <th>4</th>\n",
       "      <td>5</td>\n",
       "      <td>Switzerland</td>\n",
       "      <td>7.487</td>\n",
       "      <td>1.420</td>\n",
       "      <td>1.549</td>\n",
       "      <td>0.927</td>\n",
       "      <td>0.660</td>\n",
       "      <td>0.256</td>\n",
       "      <td>0.357</td>\n",
       "    </tr>\n",
       "    <tr>\n",
       "      <th>...</th>\n",
       "      <td>...</td>\n",
       "      <td>...</td>\n",
       "      <td>...</td>\n",
       "      <td>...</td>\n",
       "      <td>...</td>\n",
       "      <td>...</td>\n",
       "      <td>...</td>\n",
       "      <td>...</td>\n",
       "      <td>...</td>\n",
       "    </tr>\n",
       "    <tr>\n",
       "      <th>151</th>\n",
       "      <td>152</td>\n",
       "      <td>Yemen</td>\n",
       "      <td>3.355</td>\n",
       "      <td>0.442</td>\n",
       "      <td>1.073</td>\n",
       "      <td>0.343</td>\n",
       "      <td>0.244</td>\n",
       "      <td>0.083</td>\n",
       "      <td>0.064</td>\n",
       "    </tr>\n",
       "    <tr>\n",
       "      <th>152</th>\n",
       "      <td>153</td>\n",
       "      <td>Tanzania</td>\n",
       "      <td>3.303</td>\n",
       "      <td>0.455</td>\n",
       "      <td>0.991</td>\n",
       "      <td>0.381</td>\n",
       "      <td>0.481</td>\n",
       "      <td>0.270</td>\n",
       "      <td>0.097</td>\n",
       "    </tr>\n",
       "    <tr>\n",
       "      <th>153</th>\n",
       "      <td>154</td>\n",
       "      <td>South Sudan</td>\n",
       "      <td>3.254</td>\n",
       "      <td>0.337</td>\n",
       "      <td>0.608</td>\n",
       "      <td>0.177</td>\n",
       "      <td>0.112</td>\n",
       "      <td>0.224</td>\n",
       "      <td>0.106</td>\n",
       "    </tr>\n",
       "    <tr>\n",
       "      <th>154</th>\n",
       "      <td>155</td>\n",
       "      <td>Central African Republic</td>\n",
       "      <td>3.083</td>\n",
       "      <td>0.024</td>\n",
       "      <td>0.000</td>\n",
       "      <td>0.010</td>\n",
       "      <td>0.305</td>\n",
       "      <td>0.218</td>\n",
       "      <td>0.038</td>\n",
       "    </tr>\n",
       "    <tr>\n",
       "      <th>155</th>\n",
       "      <td>156</td>\n",
       "      <td>Burundi</td>\n",
       "      <td>2.905</td>\n",
       "      <td>0.091</td>\n",
       "      <td>0.627</td>\n",
       "      <td>0.145</td>\n",
       "      <td>0.065</td>\n",
       "      <td>0.149</td>\n",
       "      <td>0.076</td>\n",
       "    </tr>\n",
       "  </tbody>\n",
       "</table>\n",
       "<p>156 rows × 9 columns</p>\n",
       "</div>"
      ],
      "text/plain": [
       "     Overall rank              Country Name  Happiness Score  GDP per capita  \\\n",
       "0               1                   Finland            7.632           1.305   \n",
       "1               2                    Norway            7.594           1.456   \n",
       "2               3                   Denmark            7.555           1.351   \n",
       "3               4                   Iceland            7.495           1.343   \n",
       "4               5               Switzerland            7.487           1.420   \n",
       "..            ...                       ...              ...             ...   \n",
       "151           152                     Yemen            3.355           0.442   \n",
       "152           153                  Tanzania            3.303           0.455   \n",
       "153           154               South Sudan            3.254           0.337   \n",
       "154           155  Central African Republic            3.083           0.024   \n",
       "155           156                   Burundi            2.905           0.091   \n",
       "\n",
       "     Social support  Healthy life expectancy  Freedom to make life choices  \\\n",
       "0             1.592                    0.874                         0.681   \n",
       "1             1.582                    0.861                         0.686   \n",
       "2             1.590                    0.868                         0.683   \n",
       "3             1.644                    0.914                         0.677   \n",
       "4             1.549                    0.927                         0.660   \n",
       "..              ...                      ...                           ...   \n",
       "151           1.073                    0.343                         0.244   \n",
       "152           0.991                    0.381                         0.481   \n",
       "153           0.608                    0.177                         0.112   \n",
       "154           0.000                    0.010                         0.305   \n",
       "155           0.627                    0.145                         0.065   \n",
       "\n",
       "     Generosity  Perceptions of corruption  \n",
       "0         0.202                      0.393  \n",
       "1         0.286                      0.340  \n",
       "2         0.284                      0.408  \n",
       "3         0.353                      0.138  \n",
       "4         0.256                      0.357  \n",
       "..          ...                        ...  \n",
       "151       0.083                      0.064  \n",
       "152       0.270                      0.097  \n",
       "153       0.224                      0.106  \n",
       "154       0.218                      0.038  \n",
       "155       0.149                      0.076  \n",
       "\n",
       "[156 rows x 9 columns]"
      ]
     },
     "execution_count": 5,
     "metadata": {},
     "output_type": "execute_result"
    }
   ],
   "source": [
    "## Standardize the column name (so that we can merge the two datasets later)\n",
    "world_happiness_index = world_happiness_index.rename(columns={\"Country or region\":\"Country Name\",\"Score\":\"Happiness Score\"})\n",
    "world_happiness_index"
   ]
  },
  {
   "cell_type": "markdown",
   "id": "1d57892b-27e4-464f-a460-fb38fd5e533d",
   "metadata": {},
   "source": [
    "Let's explore the countries that score the highest and lowest on the happiness rankings"
   ]
  },
  {
   "cell_type": "code",
   "execution_count": 6,
   "id": "0f320b91-25cc-4328-a7fb-bccef51a123e",
   "metadata": {},
   "outputs": [
    {
     "data": {
      "text/html": [
       "        <script type=\"text/javascript\">\n",
       "        window.PlotlyConfig = {MathJaxConfig: 'local'};\n",
       "        if (window.MathJax && window.MathJax.Hub && window.MathJax.Hub.Config) {window.MathJax.Hub.Config({SVG: {font: \"STIX-Web\"}});}\n",
       "        if (typeof require !== 'undefined') {\n",
       "        require.undef(\"plotly\");\n",
       "        requirejs.config({\n",
       "            paths: {\n",
       "                'plotly': ['https://cdn.plot.ly/plotly-2.35.2.min']\n",
       "            }\n",
       "        });\n",
       "        require(['plotly'], function(Plotly) {\n",
       "            window._Plotly = Plotly;\n",
       "        });\n",
       "        }\n",
       "        </script>\n",
       "        "
      ]
     },
     "metadata": {},
     "output_type": "display_data"
    },
    {
     "data": {
      "application/vnd.plotly.v1+json": {
       "config": {
        "plotlyServerURL": "https://plot.ly"
       },
       "data": [
        {
         "alignmentgroup": "True",
         "hovertemplate": "x=%{x}<br>y=%{y}<extra></extra>",
         "legendgroup": "",
         "marker": {
          "color": "green",
          "pattern": {
           "shape": ""
          }
         },
         "name": "",
         "offsetgroup": "",
         "orientation": "h",
         "showlegend": false,
         "textposition": "auto",
         "type": "bar",
         "x": [
          7.632,
          7.594,
          7.555,
          7.495,
          7.487
         ],
         "xaxis": "x",
         "y": [
          "Finland",
          "Norway",
          "Denmark",
          "Iceland",
          "Switzerland"
         ],
         "yaxis": "y"
        }
       ],
       "layout": {
        "barmode": "relative",
        "legend": {
         "tracegroupgap": 0
        },
        "template": {
         "data": {
          "bar": [
           {
            "error_x": {
             "color": "#2a3f5f"
            },
            "error_y": {
             "color": "#2a3f5f"
            },
            "marker": {
             "line": {
              "color": "#E5ECF6",
              "width": 0.5
             },
             "pattern": {
              "fillmode": "overlay",
              "size": 10,
              "solidity": 0.2
             }
            },
            "type": "bar"
           }
          ],
          "barpolar": [
           {
            "marker": {
             "line": {
              "color": "#E5ECF6",
              "width": 0.5
             },
             "pattern": {
              "fillmode": "overlay",
              "size": 10,
              "solidity": 0.2
             }
            },
            "type": "barpolar"
           }
          ],
          "carpet": [
           {
            "aaxis": {
             "endlinecolor": "#2a3f5f",
             "gridcolor": "white",
             "linecolor": "white",
             "minorgridcolor": "white",
             "startlinecolor": "#2a3f5f"
            },
            "baxis": {
             "endlinecolor": "#2a3f5f",
             "gridcolor": "white",
             "linecolor": "white",
             "minorgridcolor": "white",
             "startlinecolor": "#2a3f5f"
            },
            "type": "carpet"
           }
          ],
          "choropleth": [
           {
            "colorbar": {
             "outlinewidth": 0,
             "ticks": ""
            },
            "type": "choropleth"
           }
          ],
          "contour": [
           {
            "colorbar": {
             "outlinewidth": 0,
             "ticks": ""
            },
            "colorscale": [
             [
              0,
              "#0d0887"
             ],
             [
              0.1111111111111111,
              "#46039f"
             ],
             [
              0.2222222222222222,
              "#7201a8"
             ],
             [
              0.3333333333333333,
              "#9c179e"
             ],
             [
              0.4444444444444444,
              "#bd3786"
             ],
             [
              0.5555555555555556,
              "#d8576b"
             ],
             [
              0.6666666666666666,
              "#ed7953"
             ],
             [
              0.7777777777777778,
              "#fb9f3a"
             ],
             [
              0.8888888888888888,
              "#fdca26"
             ],
             [
              1,
              "#f0f921"
             ]
            ],
            "type": "contour"
           }
          ],
          "contourcarpet": [
           {
            "colorbar": {
             "outlinewidth": 0,
             "ticks": ""
            },
            "type": "contourcarpet"
           }
          ],
          "heatmap": [
           {
            "colorbar": {
             "outlinewidth": 0,
             "ticks": ""
            },
            "colorscale": [
             [
              0,
              "#0d0887"
             ],
             [
              0.1111111111111111,
              "#46039f"
             ],
             [
              0.2222222222222222,
              "#7201a8"
             ],
             [
              0.3333333333333333,
              "#9c179e"
             ],
             [
              0.4444444444444444,
              "#bd3786"
             ],
             [
              0.5555555555555556,
              "#d8576b"
             ],
             [
              0.6666666666666666,
              "#ed7953"
             ],
             [
              0.7777777777777778,
              "#fb9f3a"
             ],
             [
              0.8888888888888888,
              "#fdca26"
             ],
             [
              1,
              "#f0f921"
             ]
            ],
            "type": "heatmap"
           }
          ],
          "heatmapgl": [
           {
            "colorbar": {
             "outlinewidth": 0,
             "ticks": ""
            },
            "colorscale": [
             [
              0,
              "#0d0887"
             ],
             [
              0.1111111111111111,
              "#46039f"
             ],
             [
              0.2222222222222222,
              "#7201a8"
             ],
             [
              0.3333333333333333,
              "#9c179e"
             ],
             [
              0.4444444444444444,
              "#bd3786"
             ],
             [
              0.5555555555555556,
              "#d8576b"
             ],
             [
              0.6666666666666666,
              "#ed7953"
             ],
             [
              0.7777777777777778,
              "#fb9f3a"
             ],
             [
              0.8888888888888888,
              "#fdca26"
             ],
             [
              1,
              "#f0f921"
             ]
            ],
            "type": "heatmapgl"
           }
          ],
          "histogram": [
           {
            "marker": {
             "pattern": {
              "fillmode": "overlay",
              "size": 10,
              "solidity": 0.2
             }
            },
            "type": "histogram"
           }
          ],
          "histogram2d": [
           {
            "colorbar": {
             "outlinewidth": 0,
             "ticks": ""
            },
            "colorscale": [
             [
              0,
              "#0d0887"
             ],
             [
              0.1111111111111111,
              "#46039f"
             ],
             [
              0.2222222222222222,
              "#7201a8"
             ],
             [
              0.3333333333333333,
              "#9c179e"
             ],
             [
              0.4444444444444444,
              "#bd3786"
             ],
             [
              0.5555555555555556,
              "#d8576b"
             ],
             [
              0.6666666666666666,
              "#ed7953"
             ],
             [
              0.7777777777777778,
              "#fb9f3a"
             ],
             [
              0.8888888888888888,
              "#fdca26"
             ],
             [
              1,
              "#f0f921"
             ]
            ],
            "type": "histogram2d"
           }
          ],
          "histogram2dcontour": [
           {
            "colorbar": {
             "outlinewidth": 0,
             "ticks": ""
            },
            "colorscale": [
             [
              0,
              "#0d0887"
             ],
             [
              0.1111111111111111,
              "#46039f"
             ],
             [
              0.2222222222222222,
              "#7201a8"
             ],
             [
              0.3333333333333333,
              "#9c179e"
             ],
             [
              0.4444444444444444,
              "#bd3786"
             ],
             [
              0.5555555555555556,
              "#d8576b"
             ],
             [
              0.6666666666666666,
              "#ed7953"
             ],
             [
              0.7777777777777778,
              "#fb9f3a"
             ],
             [
              0.8888888888888888,
              "#fdca26"
             ],
             [
              1,
              "#f0f921"
             ]
            ],
            "type": "histogram2dcontour"
           }
          ],
          "mesh3d": [
           {
            "colorbar": {
             "outlinewidth": 0,
             "ticks": ""
            },
            "type": "mesh3d"
           }
          ],
          "parcoords": [
           {
            "line": {
             "colorbar": {
              "outlinewidth": 0,
              "ticks": ""
             }
            },
            "type": "parcoords"
           }
          ],
          "pie": [
           {
            "automargin": true,
            "type": "pie"
           }
          ],
          "scatter": [
           {
            "fillpattern": {
             "fillmode": "overlay",
             "size": 10,
             "solidity": 0.2
            },
            "type": "scatter"
           }
          ],
          "scatter3d": [
           {
            "line": {
             "colorbar": {
              "outlinewidth": 0,
              "ticks": ""
             }
            },
            "marker": {
             "colorbar": {
              "outlinewidth": 0,
              "ticks": ""
             }
            },
            "type": "scatter3d"
           }
          ],
          "scattercarpet": [
           {
            "marker": {
             "colorbar": {
              "outlinewidth": 0,
              "ticks": ""
             }
            },
            "type": "scattercarpet"
           }
          ],
          "scattergeo": [
           {
            "marker": {
             "colorbar": {
              "outlinewidth": 0,
              "ticks": ""
             }
            },
            "type": "scattergeo"
           }
          ],
          "scattergl": [
           {
            "marker": {
             "colorbar": {
              "outlinewidth": 0,
              "ticks": ""
             }
            },
            "type": "scattergl"
           }
          ],
          "scattermapbox": [
           {
            "marker": {
             "colorbar": {
              "outlinewidth": 0,
              "ticks": ""
             }
            },
            "type": "scattermapbox"
           }
          ],
          "scatterpolar": [
           {
            "marker": {
             "colorbar": {
              "outlinewidth": 0,
              "ticks": ""
             }
            },
            "type": "scatterpolar"
           }
          ],
          "scatterpolargl": [
           {
            "marker": {
             "colorbar": {
              "outlinewidth": 0,
              "ticks": ""
             }
            },
            "type": "scatterpolargl"
           }
          ],
          "scatterternary": [
           {
            "marker": {
             "colorbar": {
              "outlinewidth": 0,
              "ticks": ""
             }
            },
            "type": "scatterternary"
           }
          ],
          "surface": [
           {
            "colorbar": {
             "outlinewidth": 0,
             "ticks": ""
            },
            "colorscale": [
             [
              0,
              "#0d0887"
             ],
             [
              0.1111111111111111,
              "#46039f"
             ],
             [
              0.2222222222222222,
              "#7201a8"
             ],
             [
              0.3333333333333333,
              "#9c179e"
             ],
             [
              0.4444444444444444,
              "#bd3786"
             ],
             [
              0.5555555555555556,
              "#d8576b"
             ],
             [
              0.6666666666666666,
              "#ed7953"
             ],
             [
              0.7777777777777778,
              "#fb9f3a"
             ],
             [
              0.8888888888888888,
              "#fdca26"
             ],
             [
              1,
              "#f0f921"
             ]
            ],
            "type": "surface"
           }
          ],
          "table": [
           {
            "cells": {
             "fill": {
              "color": "#EBF0F8"
             },
             "line": {
              "color": "white"
             }
            },
            "header": {
             "fill": {
              "color": "#C8D4E3"
             },
             "line": {
              "color": "white"
             }
            },
            "type": "table"
           }
          ]
         },
         "layout": {
          "annotationdefaults": {
           "arrowcolor": "#2a3f5f",
           "arrowhead": 0,
           "arrowwidth": 1
          },
          "autotypenumbers": "strict",
          "coloraxis": {
           "colorbar": {
            "outlinewidth": 0,
            "ticks": ""
           }
          },
          "colorscale": {
           "diverging": [
            [
             0,
             "#8e0152"
            ],
            [
             0.1,
             "#c51b7d"
            ],
            [
             0.2,
             "#de77ae"
            ],
            [
             0.3,
             "#f1b6da"
            ],
            [
             0.4,
             "#fde0ef"
            ],
            [
             0.5,
             "#f7f7f7"
            ],
            [
             0.6,
             "#e6f5d0"
            ],
            [
             0.7,
             "#b8e186"
            ],
            [
             0.8,
             "#7fbc41"
            ],
            [
             0.9,
             "#4d9221"
            ],
            [
             1,
             "#276419"
            ]
           ],
           "sequential": [
            [
             0,
             "#0d0887"
            ],
            [
             0.1111111111111111,
             "#46039f"
            ],
            [
             0.2222222222222222,
             "#7201a8"
            ],
            [
             0.3333333333333333,
             "#9c179e"
            ],
            [
             0.4444444444444444,
             "#bd3786"
            ],
            [
             0.5555555555555556,
             "#d8576b"
            ],
            [
             0.6666666666666666,
             "#ed7953"
            ],
            [
             0.7777777777777778,
             "#fb9f3a"
            ],
            [
             0.8888888888888888,
             "#fdca26"
            ],
            [
             1,
             "#f0f921"
            ]
           ],
           "sequentialminus": [
            [
             0,
             "#0d0887"
            ],
            [
             0.1111111111111111,
             "#46039f"
            ],
            [
             0.2222222222222222,
             "#7201a8"
            ],
            [
             0.3333333333333333,
             "#9c179e"
            ],
            [
             0.4444444444444444,
             "#bd3786"
            ],
            [
             0.5555555555555556,
             "#d8576b"
            ],
            [
             0.6666666666666666,
             "#ed7953"
            ],
            [
             0.7777777777777778,
             "#fb9f3a"
            ],
            [
             0.8888888888888888,
             "#fdca26"
            ],
            [
             1,
             "#f0f921"
            ]
           ]
          },
          "colorway": [
           "#636efa",
           "#EF553B",
           "#00cc96",
           "#ab63fa",
           "#FFA15A",
           "#19d3f3",
           "#FF6692",
           "#B6E880",
           "#FF97FF",
           "#FECB52"
          ],
          "font": {
           "color": "#2a3f5f"
          },
          "geo": {
           "bgcolor": "white",
           "lakecolor": "white",
           "landcolor": "#E5ECF6",
           "showlakes": true,
           "showland": true,
           "subunitcolor": "white"
          },
          "hoverlabel": {
           "align": "left"
          },
          "hovermode": "closest",
          "mapbox": {
           "style": "light"
          },
          "paper_bgcolor": "white",
          "plot_bgcolor": "#E5ECF6",
          "polar": {
           "angularaxis": {
            "gridcolor": "white",
            "linecolor": "white",
            "ticks": ""
           },
           "bgcolor": "#E5ECF6",
           "radialaxis": {
            "gridcolor": "white",
            "linecolor": "white",
            "ticks": ""
           }
          },
          "scene": {
           "xaxis": {
            "backgroundcolor": "#E5ECF6",
            "gridcolor": "white",
            "gridwidth": 2,
            "linecolor": "white",
            "showbackground": true,
            "ticks": "",
            "zerolinecolor": "white"
           },
           "yaxis": {
            "backgroundcolor": "#E5ECF6",
            "gridcolor": "white",
            "gridwidth": 2,
            "linecolor": "white",
            "showbackground": true,
            "ticks": "",
            "zerolinecolor": "white"
           },
           "zaxis": {
            "backgroundcolor": "#E5ECF6",
            "gridcolor": "white",
            "gridwidth": 2,
            "linecolor": "white",
            "showbackground": true,
            "ticks": "",
            "zerolinecolor": "white"
           }
          },
          "shapedefaults": {
           "line": {
            "color": "#2a3f5f"
           }
          },
          "ternary": {
           "aaxis": {
            "gridcolor": "white",
            "linecolor": "white",
            "ticks": ""
           },
           "baxis": {
            "gridcolor": "white",
            "linecolor": "white",
            "ticks": ""
           },
           "bgcolor": "#E5ECF6",
           "caxis": {
            "gridcolor": "white",
            "linecolor": "white",
            "ticks": ""
           }
          },
          "title": {
           "x": 0.05
          },
          "xaxis": {
           "automargin": true,
           "gridcolor": "white",
           "linecolor": "white",
           "ticks": "",
           "title": {
            "standoff": 15
           },
           "zerolinecolor": "white",
           "zerolinewidth": 2
          },
          "yaxis": {
           "automargin": true,
           "gridcolor": "white",
           "linecolor": "white",
           "ticks": "",
           "title": {
            "standoff": 15
           },
           "zerolinecolor": "white",
           "zerolinewidth": 2
          }
         }
        },
        "title": {
         "text": "Top 5 countries with highest happiness scores in 2018",
         "x": 0.5
        },
        "xaxis": {
         "anchor": "y",
         "domain": [
          0,
          1
         ],
         "title": {
          "text": "Happiness Score"
         }
        },
        "yaxis": {
         "anchor": "x",
         "autorange": "reversed",
         "domain": [
          0,
          1
         ],
         "title": {
          "text": "Country Name"
         }
        }
       }
      },
      "text/html": [
       "<div>                            <div id=\"7ba9a275-0324-4fcb-9f64-e2d49362fd27\" class=\"plotly-graph-div\" style=\"height:525px; width:100%;\"></div>            <script type=\"text/javascript\">                require([\"plotly\"], function(Plotly) {                    window.PLOTLYENV=window.PLOTLYENV || {};                                    if (document.getElementById(\"7ba9a275-0324-4fcb-9f64-e2d49362fd27\")) {                    Plotly.newPlot(                        \"7ba9a275-0324-4fcb-9f64-e2d49362fd27\",                        [{\"alignmentgroup\":\"True\",\"hovertemplate\":\"x=%{x}\\u003cbr\\u003ey=%{y}\\u003cextra\\u003e\\u003c\\u002fextra\\u003e\",\"legendgroup\":\"\",\"marker\":{\"color\":\"green\",\"pattern\":{\"shape\":\"\"}},\"name\":\"\",\"offsetgroup\":\"\",\"orientation\":\"h\",\"showlegend\":false,\"textposition\":\"auto\",\"x\":[7.632,7.594,7.555,7.495,7.487],\"xaxis\":\"x\",\"y\":[\"Finland\",\"Norway\",\"Denmark\",\"Iceland\",\"Switzerland\"],\"yaxis\":\"y\",\"type\":\"bar\"}],                        {\"template\":{\"data\":{\"histogram2dcontour\":[{\"type\":\"histogram2dcontour\",\"colorbar\":{\"outlinewidth\":0,\"ticks\":\"\"},\"colorscale\":[[0.0,\"#0d0887\"],[0.1111111111111111,\"#46039f\"],[0.2222222222222222,\"#7201a8\"],[0.3333333333333333,\"#9c179e\"],[0.4444444444444444,\"#bd3786\"],[0.5555555555555556,\"#d8576b\"],[0.6666666666666666,\"#ed7953\"],[0.7777777777777778,\"#fb9f3a\"],[0.8888888888888888,\"#fdca26\"],[1.0,\"#f0f921\"]]}],\"choropleth\":[{\"type\":\"choropleth\",\"colorbar\":{\"outlinewidth\":0,\"ticks\":\"\"}}],\"histogram2d\":[{\"type\":\"histogram2d\",\"colorbar\":{\"outlinewidth\":0,\"ticks\":\"\"},\"colorscale\":[[0.0,\"#0d0887\"],[0.1111111111111111,\"#46039f\"],[0.2222222222222222,\"#7201a8\"],[0.3333333333333333,\"#9c179e\"],[0.4444444444444444,\"#bd3786\"],[0.5555555555555556,\"#d8576b\"],[0.6666666666666666,\"#ed7953\"],[0.7777777777777778,\"#fb9f3a\"],[0.8888888888888888,\"#fdca26\"],[1.0,\"#f0f921\"]]}],\"heatmap\":[{\"type\":\"heatmap\",\"colorbar\":{\"outlinewidth\":0,\"ticks\":\"\"},\"colorscale\":[[0.0,\"#0d0887\"],[0.1111111111111111,\"#46039f\"],[0.2222222222222222,\"#7201a8\"],[0.3333333333333333,\"#9c179e\"],[0.4444444444444444,\"#bd3786\"],[0.5555555555555556,\"#d8576b\"],[0.6666666666666666,\"#ed7953\"],[0.7777777777777778,\"#fb9f3a\"],[0.8888888888888888,\"#fdca26\"],[1.0,\"#f0f921\"]]}],\"heatmapgl\":[{\"type\":\"heatmapgl\",\"colorbar\":{\"outlinewidth\":0,\"ticks\":\"\"},\"colorscale\":[[0.0,\"#0d0887\"],[0.1111111111111111,\"#46039f\"],[0.2222222222222222,\"#7201a8\"],[0.3333333333333333,\"#9c179e\"],[0.4444444444444444,\"#bd3786\"],[0.5555555555555556,\"#d8576b\"],[0.6666666666666666,\"#ed7953\"],[0.7777777777777778,\"#fb9f3a\"],[0.8888888888888888,\"#fdca26\"],[1.0,\"#f0f921\"]]}],\"contourcarpet\":[{\"type\":\"contourcarpet\",\"colorbar\":{\"outlinewidth\":0,\"ticks\":\"\"}}],\"contour\":[{\"type\":\"contour\",\"colorbar\":{\"outlinewidth\":0,\"ticks\":\"\"},\"colorscale\":[[0.0,\"#0d0887\"],[0.1111111111111111,\"#46039f\"],[0.2222222222222222,\"#7201a8\"],[0.3333333333333333,\"#9c179e\"],[0.4444444444444444,\"#bd3786\"],[0.5555555555555556,\"#d8576b\"],[0.6666666666666666,\"#ed7953\"],[0.7777777777777778,\"#fb9f3a\"],[0.8888888888888888,\"#fdca26\"],[1.0,\"#f0f921\"]]}],\"surface\":[{\"type\":\"surface\",\"colorbar\":{\"outlinewidth\":0,\"ticks\":\"\"},\"colorscale\":[[0.0,\"#0d0887\"],[0.1111111111111111,\"#46039f\"],[0.2222222222222222,\"#7201a8\"],[0.3333333333333333,\"#9c179e\"],[0.4444444444444444,\"#bd3786\"],[0.5555555555555556,\"#d8576b\"],[0.6666666666666666,\"#ed7953\"],[0.7777777777777778,\"#fb9f3a\"],[0.8888888888888888,\"#fdca26\"],[1.0,\"#f0f921\"]]}],\"mesh3d\":[{\"type\":\"mesh3d\",\"colorbar\":{\"outlinewidth\":0,\"ticks\":\"\"}}],\"scatter\":[{\"fillpattern\":{\"fillmode\":\"overlay\",\"size\":10,\"solidity\":0.2},\"type\":\"scatter\"}],\"parcoords\":[{\"type\":\"parcoords\",\"line\":{\"colorbar\":{\"outlinewidth\":0,\"ticks\":\"\"}}}],\"scatterpolargl\":[{\"type\":\"scatterpolargl\",\"marker\":{\"colorbar\":{\"outlinewidth\":0,\"ticks\":\"\"}}}],\"bar\":[{\"error_x\":{\"color\":\"#2a3f5f\"},\"error_y\":{\"color\":\"#2a3f5f\"},\"marker\":{\"line\":{\"color\":\"#E5ECF6\",\"width\":0.5},\"pattern\":{\"fillmode\":\"overlay\",\"size\":10,\"solidity\":0.2}},\"type\":\"bar\"}],\"scattergeo\":[{\"type\":\"scattergeo\",\"marker\":{\"colorbar\":{\"outlinewidth\":0,\"ticks\":\"\"}}}],\"scatterpolar\":[{\"type\":\"scatterpolar\",\"marker\":{\"colorbar\":{\"outlinewidth\":0,\"ticks\":\"\"}}}],\"histogram\":[{\"marker\":{\"pattern\":{\"fillmode\":\"overlay\",\"size\":10,\"solidity\":0.2}},\"type\":\"histogram\"}],\"scattergl\":[{\"type\":\"scattergl\",\"marker\":{\"colorbar\":{\"outlinewidth\":0,\"ticks\":\"\"}}}],\"scatter3d\":[{\"type\":\"scatter3d\",\"line\":{\"colorbar\":{\"outlinewidth\":0,\"ticks\":\"\"}},\"marker\":{\"colorbar\":{\"outlinewidth\":0,\"ticks\":\"\"}}}],\"scattermapbox\":[{\"type\":\"scattermapbox\",\"marker\":{\"colorbar\":{\"outlinewidth\":0,\"ticks\":\"\"}}}],\"scatterternary\":[{\"type\":\"scatterternary\",\"marker\":{\"colorbar\":{\"outlinewidth\":0,\"ticks\":\"\"}}}],\"scattercarpet\":[{\"type\":\"scattercarpet\",\"marker\":{\"colorbar\":{\"outlinewidth\":0,\"ticks\":\"\"}}}],\"carpet\":[{\"aaxis\":{\"endlinecolor\":\"#2a3f5f\",\"gridcolor\":\"white\",\"linecolor\":\"white\",\"minorgridcolor\":\"white\",\"startlinecolor\":\"#2a3f5f\"},\"baxis\":{\"endlinecolor\":\"#2a3f5f\",\"gridcolor\":\"white\",\"linecolor\":\"white\",\"minorgridcolor\":\"white\",\"startlinecolor\":\"#2a3f5f\"},\"type\":\"carpet\"}],\"table\":[{\"cells\":{\"fill\":{\"color\":\"#EBF0F8\"},\"line\":{\"color\":\"white\"}},\"header\":{\"fill\":{\"color\":\"#C8D4E3\"},\"line\":{\"color\":\"white\"}},\"type\":\"table\"}],\"barpolar\":[{\"marker\":{\"line\":{\"color\":\"#E5ECF6\",\"width\":0.5},\"pattern\":{\"fillmode\":\"overlay\",\"size\":10,\"solidity\":0.2}},\"type\":\"barpolar\"}],\"pie\":[{\"automargin\":true,\"type\":\"pie\"}]},\"layout\":{\"autotypenumbers\":\"strict\",\"colorway\":[\"#636efa\",\"#EF553B\",\"#00cc96\",\"#ab63fa\",\"#FFA15A\",\"#19d3f3\",\"#FF6692\",\"#B6E880\",\"#FF97FF\",\"#FECB52\"],\"font\":{\"color\":\"#2a3f5f\"},\"hovermode\":\"closest\",\"hoverlabel\":{\"align\":\"left\"},\"paper_bgcolor\":\"white\",\"plot_bgcolor\":\"#E5ECF6\",\"polar\":{\"bgcolor\":\"#E5ECF6\",\"angularaxis\":{\"gridcolor\":\"white\",\"linecolor\":\"white\",\"ticks\":\"\"},\"radialaxis\":{\"gridcolor\":\"white\",\"linecolor\":\"white\",\"ticks\":\"\"}},\"ternary\":{\"bgcolor\":\"#E5ECF6\",\"aaxis\":{\"gridcolor\":\"white\",\"linecolor\":\"white\",\"ticks\":\"\"},\"baxis\":{\"gridcolor\":\"white\",\"linecolor\":\"white\",\"ticks\":\"\"},\"caxis\":{\"gridcolor\":\"white\",\"linecolor\":\"white\",\"ticks\":\"\"}},\"coloraxis\":{\"colorbar\":{\"outlinewidth\":0,\"ticks\":\"\"}},\"colorscale\":{\"sequential\":[[0.0,\"#0d0887\"],[0.1111111111111111,\"#46039f\"],[0.2222222222222222,\"#7201a8\"],[0.3333333333333333,\"#9c179e\"],[0.4444444444444444,\"#bd3786\"],[0.5555555555555556,\"#d8576b\"],[0.6666666666666666,\"#ed7953\"],[0.7777777777777778,\"#fb9f3a\"],[0.8888888888888888,\"#fdca26\"],[1.0,\"#f0f921\"]],\"sequentialminus\":[[0.0,\"#0d0887\"],[0.1111111111111111,\"#46039f\"],[0.2222222222222222,\"#7201a8\"],[0.3333333333333333,\"#9c179e\"],[0.4444444444444444,\"#bd3786\"],[0.5555555555555556,\"#d8576b\"],[0.6666666666666666,\"#ed7953\"],[0.7777777777777778,\"#fb9f3a\"],[0.8888888888888888,\"#fdca26\"],[1.0,\"#f0f921\"]],\"diverging\":[[0,\"#8e0152\"],[0.1,\"#c51b7d\"],[0.2,\"#de77ae\"],[0.3,\"#f1b6da\"],[0.4,\"#fde0ef\"],[0.5,\"#f7f7f7\"],[0.6,\"#e6f5d0\"],[0.7,\"#b8e186\"],[0.8,\"#7fbc41\"],[0.9,\"#4d9221\"],[1,\"#276419\"]]},\"xaxis\":{\"gridcolor\":\"white\",\"linecolor\":\"white\",\"ticks\":\"\",\"title\":{\"standoff\":15},\"zerolinecolor\":\"white\",\"automargin\":true,\"zerolinewidth\":2},\"yaxis\":{\"gridcolor\":\"white\",\"linecolor\":\"white\",\"ticks\":\"\",\"title\":{\"standoff\":15},\"zerolinecolor\":\"white\",\"automargin\":true,\"zerolinewidth\":2},\"scene\":{\"xaxis\":{\"backgroundcolor\":\"#E5ECF6\",\"gridcolor\":\"white\",\"linecolor\":\"white\",\"showbackground\":true,\"ticks\":\"\",\"zerolinecolor\":\"white\",\"gridwidth\":2},\"yaxis\":{\"backgroundcolor\":\"#E5ECF6\",\"gridcolor\":\"white\",\"linecolor\":\"white\",\"showbackground\":true,\"ticks\":\"\",\"zerolinecolor\":\"white\",\"gridwidth\":2},\"zaxis\":{\"backgroundcolor\":\"#E5ECF6\",\"gridcolor\":\"white\",\"linecolor\":\"white\",\"showbackground\":true,\"ticks\":\"\",\"zerolinecolor\":\"white\",\"gridwidth\":2}},\"shapedefaults\":{\"line\":{\"color\":\"#2a3f5f\"}},\"annotationdefaults\":{\"arrowcolor\":\"#2a3f5f\",\"arrowhead\":0,\"arrowwidth\":1},\"geo\":{\"bgcolor\":\"white\",\"landcolor\":\"#E5ECF6\",\"subunitcolor\":\"white\",\"showland\":true,\"showlakes\":true,\"lakecolor\":\"white\"},\"title\":{\"x\":0.05},\"mapbox\":{\"style\":\"light\"}}},\"xaxis\":{\"anchor\":\"y\",\"domain\":[0.0,1.0],\"title\":{\"text\":\"Happiness Score\"}},\"yaxis\":{\"anchor\":\"x\",\"domain\":[0.0,1.0],\"title\":{\"text\":\"Country Name\"},\"autorange\":\"reversed\"},\"legend\":{\"tracegroupgap\":0},\"title\":{\"text\":\"Top 5 countries with highest happiness scores in 2018\",\"x\":0.5},\"barmode\":\"relative\"},                        {\"responsive\": true}                    ).then(function(){\n",
       "                            \n",
       "var gd = document.getElementById('7ba9a275-0324-4fcb-9f64-e2d49362fd27');\n",
       "var x = new MutationObserver(function (mutations, observer) {{\n",
       "        var display = window.getComputedStyle(gd).display;\n",
       "        if (!display || display === 'none') {{\n",
       "            console.log([gd, 'removed!']);\n",
       "            Plotly.purge(gd);\n",
       "            observer.disconnect();\n",
       "        }}\n",
       "}});\n",
       "\n",
       "// Listen for the removal of the full notebook cells\n",
       "var notebookContainer = gd.closest('#notebook-container');\n",
       "if (notebookContainer) {{\n",
       "    x.observe(notebookContainer, {childList: true});\n",
       "}}\n",
       "\n",
       "// Listen for the clearing of the current output cell\n",
       "var outputEl = gd.closest('.output');\n",
       "if (outputEl) {{\n",
       "    x.observe(outputEl, {childList: true});\n",
       "}}\n",
       "\n",
       "                        })                };                });            </script>        </div>"
      ]
     },
     "metadata": {},
     "output_type": "display_data"
    },
    {
     "data": {
      "application/vnd.plotly.v1+json": {
       "config": {
        "plotlyServerURL": "https://plot.ly"
       },
       "data": [
        {
         "alignmentgroup": "True",
         "hovertemplate": "x=%{x}<br>y=%{y}<extra></extra>",
         "legendgroup": "",
         "marker": {
          "color": "red",
          "pattern": {
           "shape": ""
          }
         },
         "name": "",
         "offsetgroup": "",
         "orientation": "h",
         "showlegend": false,
         "textposition": "auto",
         "type": "bar",
         "x": [
          3.355,
          3.303,
          3.254,
          3.083,
          2.905
         ],
         "xaxis": "x",
         "y": [
          "Yemen",
          "Tanzania",
          "South Sudan",
          "Central African Republic",
          "Burundi"
         ],
         "yaxis": "y"
        }
       ],
       "layout": {
        "barmode": "relative",
        "legend": {
         "tracegroupgap": 0
        },
        "template": {
         "data": {
          "bar": [
           {
            "error_x": {
             "color": "#2a3f5f"
            },
            "error_y": {
             "color": "#2a3f5f"
            },
            "marker": {
             "line": {
              "color": "#E5ECF6",
              "width": 0.5
             },
             "pattern": {
              "fillmode": "overlay",
              "size": 10,
              "solidity": 0.2
             }
            },
            "type": "bar"
           }
          ],
          "barpolar": [
           {
            "marker": {
             "line": {
              "color": "#E5ECF6",
              "width": 0.5
             },
             "pattern": {
              "fillmode": "overlay",
              "size": 10,
              "solidity": 0.2
             }
            },
            "type": "barpolar"
           }
          ],
          "carpet": [
           {
            "aaxis": {
             "endlinecolor": "#2a3f5f",
             "gridcolor": "white",
             "linecolor": "white",
             "minorgridcolor": "white",
             "startlinecolor": "#2a3f5f"
            },
            "baxis": {
             "endlinecolor": "#2a3f5f",
             "gridcolor": "white",
             "linecolor": "white",
             "minorgridcolor": "white",
             "startlinecolor": "#2a3f5f"
            },
            "type": "carpet"
           }
          ],
          "choropleth": [
           {
            "colorbar": {
             "outlinewidth": 0,
             "ticks": ""
            },
            "type": "choropleth"
           }
          ],
          "contour": [
           {
            "colorbar": {
             "outlinewidth": 0,
             "ticks": ""
            },
            "colorscale": [
             [
              0,
              "#0d0887"
             ],
             [
              0.1111111111111111,
              "#46039f"
             ],
             [
              0.2222222222222222,
              "#7201a8"
             ],
             [
              0.3333333333333333,
              "#9c179e"
             ],
             [
              0.4444444444444444,
              "#bd3786"
             ],
             [
              0.5555555555555556,
              "#d8576b"
             ],
             [
              0.6666666666666666,
              "#ed7953"
             ],
             [
              0.7777777777777778,
              "#fb9f3a"
             ],
             [
              0.8888888888888888,
              "#fdca26"
             ],
             [
              1,
              "#f0f921"
             ]
            ],
            "type": "contour"
           }
          ],
          "contourcarpet": [
           {
            "colorbar": {
             "outlinewidth": 0,
             "ticks": ""
            },
            "type": "contourcarpet"
           }
          ],
          "heatmap": [
           {
            "colorbar": {
             "outlinewidth": 0,
             "ticks": ""
            },
            "colorscale": [
             [
              0,
              "#0d0887"
             ],
             [
              0.1111111111111111,
              "#46039f"
             ],
             [
              0.2222222222222222,
              "#7201a8"
             ],
             [
              0.3333333333333333,
              "#9c179e"
             ],
             [
              0.4444444444444444,
              "#bd3786"
             ],
             [
              0.5555555555555556,
              "#d8576b"
             ],
             [
              0.6666666666666666,
              "#ed7953"
             ],
             [
              0.7777777777777778,
              "#fb9f3a"
             ],
             [
              0.8888888888888888,
              "#fdca26"
             ],
             [
              1,
              "#f0f921"
             ]
            ],
            "type": "heatmap"
           }
          ],
          "heatmapgl": [
           {
            "colorbar": {
             "outlinewidth": 0,
             "ticks": ""
            },
            "colorscale": [
             [
              0,
              "#0d0887"
             ],
             [
              0.1111111111111111,
              "#46039f"
             ],
             [
              0.2222222222222222,
              "#7201a8"
             ],
             [
              0.3333333333333333,
              "#9c179e"
             ],
             [
              0.4444444444444444,
              "#bd3786"
             ],
             [
              0.5555555555555556,
              "#d8576b"
             ],
             [
              0.6666666666666666,
              "#ed7953"
             ],
             [
              0.7777777777777778,
              "#fb9f3a"
             ],
             [
              0.8888888888888888,
              "#fdca26"
             ],
             [
              1,
              "#f0f921"
             ]
            ],
            "type": "heatmapgl"
           }
          ],
          "histogram": [
           {
            "marker": {
             "pattern": {
              "fillmode": "overlay",
              "size": 10,
              "solidity": 0.2
             }
            },
            "type": "histogram"
           }
          ],
          "histogram2d": [
           {
            "colorbar": {
             "outlinewidth": 0,
             "ticks": ""
            },
            "colorscale": [
             [
              0,
              "#0d0887"
             ],
             [
              0.1111111111111111,
              "#46039f"
             ],
             [
              0.2222222222222222,
              "#7201a8"
             ],
             [
              0.3333333333333333,
              "#9c179e"
             ],
             [
              0.4444444444444444,
              "#bd3786"
             ],
             [
              0.5555555555555556,
              "#d8576b"
             ],
             [
              0.6666666666666666,
              "#ed7953"
             ],
             [
              0.7777777777777778,
              "#fb9f3a"
             ],
             [
              0.8888888888888888,
              "#fdca26"
             ],
             [
              1,
              "#f0f921"
             ]
            ],
            "type": "histogram2d"
           }
          ],
          "histogram2dcontour": [
           {
            "colorbar": {
             "outlinewidth": 0,
             "ticks": ""
            },
            "colorscale": [
             [
              0,
              "#0d0887"
             ],
             [
              0.1111111111111111,
              "#46039f"
             ],
             [
              0.2222222222222222,
              "#7201a8"
             ],
             [
              0.3333333333333333,
              "#9c179e"
             ],
             [
              0.4444444444444444,
              "#bd3786"
             ],
             [
              0.5555555555555556,
              "#d8576b"
             ],
             [
              0.6666666666666666,
              "#ed7953"
             ],
             [
              0.7777777777777778,
              "#fb9f3a"
             ],
             [
              0.8888888888888888,
              "#fdca26"
             ],
             [
              1,
              "#f0f921"
             ]
            ],
            "type": "histogram2dcontour"
           }
          ],
          "mesh3d": [
           {
            "colorbar": {
             "outlinewidth": 0,
             "ticks": ""
            },
            "type": "mesh3d"
           }
          ],
          "parcoords": [
           {
            "line": {
             "colorbar": {
              "outlinewidth": 0,
              "ticks": ""
             }
            },
            "type": "parcoords"
           }
          ],
          "pie": [
           {
            "automargin": true,
            "type": "pie"
           }
          ],
          "scatter": [
           {
            "fillpattern": {
             "fillmode": "overlay",
             "size": 10,
             "solidity": 0.2
            },
            "type": "scatter"
           }
          ],
          "scatter3d": [
           {
            "line": {
             "colorbar": {
              "outlinewidth": 0,
              "ticks": ""
             }
            },
            "marker": {
             "colorbar": {
              "outlinewidth": 0,
              "ticks": ""
             }
            },
            "type": "scatter3d"
           }
          ],
          "scattercarpet": [
           {
            "marker": {
             "colorbar": {
              "outlinewidth": 0,
              "ticks": ""
             }
            },
            "type": "scattercarpet"
           }
          ],
          "scattergeo": [
           {
            "marker": {
             "colorbar": {
              "outlinewidth": 0,
              "ticks": ""
             }
            },
            "type": "scattergeo"
           }
          ],
          "scattergl": [
           {
            "marker": {
             "colorbar": {
              "outlinewidth": 0,
              "ticks": ""
             }
            },
            "type": "scattergl"
           }
          ],
          "scattermapbox": [
           {
            "marker": {
             "colorbar": {
              "outlinewidth": 0,
              "ticks": ""
             }
            },
            "type": "scattermapbox"
           }
          ],
          "scatterpolar": [
           {
            "marker": {
             "colorbar": {
              "outlinewidth": 0,
              "ticks": ""
             }
            },
            "type": "scatterpolar"
           }
          ],
          "scatterpolargl": [
           {
            "marker": {
             "colorbar": {
              "outlinewidth": 0,
              "ticks": ""
             }
            },
            "type": "scatterpolargl"
           }
          ],
          "scatterternary": [
           {
            "marker": {
             "colorbar": {
              "outlinewidth": 0,
              "ticks": ""
             }
            },
            "type": "scatterternary"
           }
          ],
          "surface": [
           {
            "colorbar": {
             "outlinewidth": 0,
             "ticks": ""
            },
            "colorscale": [
             [
              0,
              "#0d0887"
             ],
             [
              0.1111111111111111,
              "#46039f"
             ],
             [
              0.2222222222222222,
              "#7201a8"
             ],
             [
              0.3333333333333333,
              "#9c179e"
             ],
             [
              0.4444444444444444,
              "#bd3786"
             ],
             [
              0.5555555555555556,
              "#d8576b"
             ],
             [
              0.6666666666666666,
              "#ed7953"
             ],
             [
              0.7777777777777778,
              "#fb9f3a"
             ],
             [
              0.8888888888888888,
              "#fdca26"
             ],
             [
              1,
              "#f0f921"
             ]
            ],
            "type": "surface"
           }
          ],
          "table": [
           {
            "cells": {
             "fill": {
              "color": "#EBF0F8"
             },
             "line": {
              "color": "white"
             }
            },
            "header": {
             "fill": {
              "color": "#C8D4E3"
             },
             "line": {
              "color": "white"
             }
            },
            "type": "table"
           }
          ]
         },
         "layout": {
          "annotationdefaults": {
           "arrowcolor": "#2a3f5f",
           "arrowhead": 0,
           "arrowwidth": 1
          },
          "autotypenumbers": "strict",
          "coloraxis": {
           "colorbar": {
            "outlinewidth": 0,
            "ticks": ""
           }
          },
          "colorscale": {
           "diverging": [
            [
             0,
             "#8e0152"
            ],
            [
             0.1,
             "#c51b7d"
            ],
            [
             0.2,
             "#de77ae"
            ],
            [
             0.3,
             "#f1b6da"
            ],
            [
             0.4,
             "#fde0ef"
            ],
            [
             0.5,
             "#f7f7f7"
            ],
            [
             0.6,
             "#e6f5d0"
            ],
            [
             0.7,
             "#b8e186"
            ],
            [
             0.8,
             "#7fbc41"
            ],
            [
             0.9,
             "#4d9221"
            ],
            [
             1,
             "#276419"
            ]
           ],
           "sequential": [
            [
             0,
             "#0d0887"
            ],
            [
             0.1111111111111111,
             "#46039f"
            ],
            [
             0.2222222222222222,
             "#7201a8"
            ],
            [
             0.3333333333333333,
             "#9c179e"
            ],
            [
             0.4444444444444444,
             "#bd3786"
            ],
            [
             0.5555555555555556,
             "#d8576b"
            ],
            [
             0.6666666666666666,
             "#ed7953"
            ],
            [
             0.7777777777777778,
             "#fb9f3a"
            ],
            [
             0.8888888888888888,
             "#fdca26"
            ],
            [
             1,
             "#f0f921"
            ]
           ],
           "sequentialminus": [
            [
             0,
             "#0d0887"
            ],
            [
             0.1111111111111111,
             "#46039f"
            ],
            [
             0.2222222222222222,
             "#7201a8"
            ],
            [
             0.3333333333333333,
             "#9c179e"
            ],
            [
             0.4444444444444444,
             "#bd3786"
            ],
            [
             0.5555555555555556,
             "#d8576b"
            ],
            [
             0.6666666666666666,
             "#ed7953"
            ],
            [
             0.7777777777777778,
             "#fb9f3a"
            ],
            [
             0.8888888888888888,
             "#fdca26"
            ],
            [
             1,
             "#f0f921"
            ]
           ]
          },
          "colorway": [
           "#636efa",
           "#EF553B",
           "#00cc96",
           "#ab63fa",
           "#FFA15A",
           "#19d3f3",
           "#FF6692",
           "#B6E880",
           "#FF97FF",
           "#FECB52"
          ],
          "font": {
           "color": "#2a3f5f"
          },
          "geo": {
           "bgcolor": "white",
           "lakecolor": "white",
           "landcolor": "#E5ECF6",
           "showlakes": true,
           "showland": true,
           "subunitcolor": "white"
          },
          "hoverlabel": {
           "align": "left"
          },
          "hovermode": "closest",
          "mapbox": {
           "style": "light"
          },
          "paper_bgcolor": "white",
          "plot_bgcolor": "#E5ECF6",
          "polar": {
           "angularaxis": {
            "gridcolor": "white",
            "linecolor": "white",
            "ticks": ""
           },
           "bgcolor": "#E5ECF6",
           "radialaxis": {
            "gridcolor": "white",
            "linecolor": "white",
            "ticks": ""
           }
          },
          "scene": {
           "xaxis": {
            "backgroundcolor": "#E5ECF6",
            "gridcolor": "white",
            "gridwidth": 2,
            "linecolor": "white",
            "showbackground": true,
            "ticks": "",
            "zerolinecolor": "white"
           },
           "yaxis": {
            "backgroundcolor": "#E5ECF6",
            "gridcolor": "white",
            "gridwidth": 2,
            "linecolor": "white",
            "showbackground": true,
            "ticks": "",
            "zerolinecolor": "white"
           },
           "zaxis": {
            "backgroundcolor": "#E5ECF6",
            "gridcolor": "white",
            "gridwidth": 2,
            "linecolor": "white",
            "showbackground": true,
            "ticks": "",
            "zerolinecolor": "white"
           }
          },
          "shapedefaults": {
           "line": {
            "color": "#2a3f5f"
           }
          },
          "ternary": {
           "aaxis": {
            "gridcolor": "white",
            "linecolor": "white",
            "ticks": ""
           },
           "baxis": {
            "gridcolor": "white",
            "linecolor": "white",
            "ticks": ""
           },
           "bgcolor": "#E5ECF6",
           "caxis": {
            "gridcolor": "white",
            "linecolor": "white",
            "ticks": ""
           }
          },
          "title": {
           "x": 0.05
          },
          "xaxis": {
           "automargin": true,
           "gridcolor": "white",
           "linecolor": "white",
           "ticks": "",
           "title": {
            "standoff": 15
           },
           "zerolinecolor": "white",
           "zerolinewidth": 2
          },
          "yaxis": {
           "automargin": true,
           "gridcolor": "white",
           "linecolor": "white",
           "ticks": "",
           "title": {
            "standoff": 15
           },
           "zerolinecolor": "white",
           "zerolinewidth": 2
          }
         }
        },
        "title": {
         "text": "Bottom 5 countries with lowest happiness scores in 2018",
         "x": 0.5
        },
        "xaxis": {
         "anchor": "y",
         "domain": [
          0,
          1
         ],
         "title": {
          "text": "Happiness Score"
         }
        },
        "yaxis": {
         "anchor": "x",
         "autorange": "reversed",
         "domain": [
          0,
          1
         ],
         "title": {
          "text": "Country Name"
         }
        }
       }
      },
      "text/html": [
       "<div>                            <div id=\"623663bb-478c-4dea-8f3c-01219f3d5e47\" class=\"plotly-graph-div\" style=\"height:525px; width:100%;\"></div>            <script type=\"text/javascript\">                require([\"plotly\"], function(Plotly) {                    window.PLOTLYENV=window.PLOTLYENV || {};                                    if (document.getElementById(\"623663bb-478c-4dea-8f3c-01219f3d5e47\")) {                    Plotly.newPlot(                        \"623663bb-478c-4dea-8f3c-01219f3d5e47\",                        [{\"alignmentgroup\":\"True\",\"hovertemplate\":\"x=%{x}\\u003cbr\\u003ey=%{y}\\u003cextra\\u003e\\u003c\\u002fextra\\u003e\",\"legendgroup\":\"\",\"marker\":{\"color\":\"red\",\"pattern\":{\"shape\":\"\"}},\"name\":\"\",\"offsetgroup\":\"\",\"orientation\":\"h\",\"showlegend\":false,\"textposition\":\"auto\",\"x\":[3.355,3.303,3.254,3.083,2.905],\"xaxis\":\"x\",\"y\":[\"Yemen\",\"Tanzania\",\"South Sudan\",\"Central African Republic\",\"Burundi\"],\"yaxis\":\"y\",\"type\":\"bar\"}],                        {\"template\":{\"data\":{\"histogram2dcontour\":[{\"type\":\"histogram2dcontour\",\"colorbar\":{\"outlinewidth\":0,\"ticks\":\"\"},\"colorscale\":[[0.0,\"#0d0887\"],[0.1111111111111111,\"#46039f\"],[0.2222222222222222,\"#7201a8\"],[0.3333333333333333,\"#9c179e\"],[0.4444444444444444,\"#bd3786\"],[0.5555555555555556,\"#d8576b\"],[0.6666666666666666,\"#ed7953\"],[0.7777777777777778,\"#fb9f3a\"],[0.8888888888888888,\"#fdca26\"],[1.0,\"#f0f921\"]]}],\"choropleth\":[{\"type\":\"choropleth\",\"colorbar\":{\"outlinewidth\":0,\"ticks\":\"\"}}],\"histogram2d\":[{\"type\":\"histogram2d\",\"colorbar\":{\"outlinewidth\":0,\"ticks\":\"\"},\"colorscale\":[[0.0,\"#0d0887\"],[0.1111111111111111,\"#46039f\"],[0.2222222222222222,\"#7201a8\"],[0.3333333333333333,\"#9c179e\"],[0.4444444444444444,\"#bd3786\"],[0.5555555555555556,\"#d8576b\"],[0.6666666666666666,\"#ed7953\"],[0.7777777777777778,\"#fb9f3a\"],[0.8888888888888888,\"#fdca26\"],[1.0,\"#f0f921\"]]}],\"heatmap\":[{\"type\":\"heatmap\",\"colorbar\":{\"outlinewidth\":0,\"ticks\":\"\"},\"colorscale\":[[0.0,\"#0d0887\"],[0.1111111111111111,\"#46039f\"],[0.2222222222222222,\"#7201a8\"],[0.3333333333333333,\"#9c179e\"],[0.4444444444444444,\"#bd3786\"],[0.5555555555555556,\"#d8576b\"],[0.6666666666666666,\"#ed7953\"],[0.7777777777777778,\"#fb9f3a\"],[0.8888888888888888,\"#fdca26\"],[1.0,\"#f0f921\"]]}],\"heatmapgl\":[{\"type\":\"heatmapgl\",\"colorbar\":{\"outlinewidth\":0,\"ticks\":\"\"},\"colorscale\":[[0.0,\"#0d0887\"],[0.1111111111111111,\"#46039f\"],[0.2222222222222222,\"#7201a8\"],[0.3333333333333333,\"#9c179e\"],[0.4444444444444444,\"#bd3786\"],[0.5555555555555556,\"#d8576b\"],[0.6666666666666666,\"#ed7953\"],[0.7777777777777778,\"#fb9f3a\"],[0.8888888888888888,\"#fdca26\"],[1.0,\"#f0f921\"]]}],\"contourcarpet\":[{\"type\":\"contourcarpet\",\"colorbar\":{\"outlinewidth\":0,\"ticks\":\"\"}}],\"contour\":[{\"type\":\"contour\",\"colorbar\":{\"outlinewidth\":0,\"ticks\":\"\"},\"colorscale\":[[0.0,\"#0d0887\"],[0.1111111111111111,\"#46039f\"],[0.2222222222222222,\"#7201a8\"],[0.3333333333333333,\"#9c179e\"],[0.4444444444444444,\"#bd3786\"],[0.5555555555555556,\"#d8576b\"],[0.6666666666666666,\"#ed7953\"],[0.7777777777777778,\"#fb9f3a\"],[0.8888888888888888,\"#fdca26\"],[1.0,\"#f0f921\"]]}],\"surface\":[{\"type\":\"surface\",\"colorbar\":{\"outlinewidth\":0,\"ticks\":\"\"},\"colorscale\":[[0.0,\"#0d0887\"],[0.1111111111111111,\"#46039f\"],[0.2222222222222222,\"#7201a8\"],[0.3333333333333333,\"#9c179e\"],[0.4444444444444444,\"#bd3786\"],[0.5555555555555556,\"#d8576b\"],[0.6666666666666666,\"#ed7953\"],[0.7777777777777778,\"#fb9f3a\"],[0.8888888888888888,\"#fdca26\"],[1.0,\"#f0f921\"]]}],\"mesh3d\":[{\"type\":\"mesh3d\",\"colorbar\":{\"outlinewidth\":0,\"ticks\":\"\"}}],\"scatter\":[{\"fillpattern\":{\"fillmode\":\"overlay\",\"size\":10,\"solidity\":0.2},\"type\":\"scatter\"}],\"parcoords\":[{\"type\":\"parcoords\",\"line\":{\"colorbar\":{\"outlinewidth\":0,\"ticks\":\"\"}}}],\"scatterpolargl\":[{\"type\":\"scatterpolargl\",\"marker\":{\"colorbar\":{\"outlinewidth\":0,\"ticks\":\"\"}}}],\"bar\":[{\"error_x\":{\"color\":\"#2a3f5f\"},\"error_y\":{\"color\":\"#2a3f5f\"},\"marker\":{\"line\":{\"color\":\"#E5ECF6\",\"width\":0.5},\"pattern\":{\"fillmode\":\"overlay\",\"size\":10,\"solidity\":0.2}},\"type\":\"bar\"}],\"scattergeo\":[{\"type\":\"scattergeo\",\"marker\":{\"colorbar\":{\"outlinewidth\":0,\"ticks\":\"\"}}}],\"scatterpolar\":[{\"type\":\"scatterpolar\",\"marker\":{\"colorbar\":{\"outlinewidth\":0,\"ticks\":\"\"}}}],\"histogram\":[{\"marker\":{\"pattern\":{\"fillmode\":\"overlay\",\"size\":10,\"solidity\":0.2}},\"type\":\"histogram\"}],\"scattergl\":[{\"type\":\"scattergl\",\"marker\":{\"colorbar\":{\"outlinewidth\":0,\"ticks\":\"\"}}}],\"scatter3d\":[{\"type\":\"scatter3d\",\"line\":{\"colorbar\":{\"outlinewidth\":0,\"ticks\":\"\"}},\"marker\":{\"colorbar\":{\"outlinewidth\":0,\"ticks\":\"\"}}}],\"scattermapbox\":[{\"type\":\"scattermapbox\",\"marker\":{\"colorbar\":{\"outlinewidth\":0,\"ticks\":\"\"}}}],\"scatterternary\":[{\"type\":\"scatterternary\",\"marker\":{\"colorbar\":{\"outlinewidth\":0,\"ticks\":\"\"}}}],\"scattercarpet\":[{\"type\":\"scattercarpet\",\"marker\":{\"colorbar\":{\"outlinewidth\":0,\"ticks\":\"\"}}}],\"carpet\":[{\"aaxis\":{\"endlinecolor\":\"#2a3f5f\",\"gridcolor\":\"white\",\"linecolor\":\"white\",\"minorgridcolor\":\"white\",\"startlinecolor\":\"#2a3f5f\"},\"baxis\":{\"endlinecolor\":\"#2a3f5f\",\"gridcolor\":\"white\",\"linecolor\":\"white\",\"minorgridcolor\":\"white\",\"startlinecolor\":\"#2a3f5f\"},\"type\":\"carpet\"}],\"table\":[{\"cells\":{\"fill\":{\"color\":\"#EBF0F8\"},\"line\":{\"color\":\"white\"}},\"header\":{\"fill\":{\"color\":\"#C8D4E3\"},\"line\":{\"color\":\"white\"}},\"type\":\"table\"}],\"barpolar\":[{\"marker\":{\"line\":{\"color\":\"#E5ECF6\",\"width\":0.5},\"pattern\":{\"fillmode\":\"overlay\",\"size\":10,\"solidity\":0.2}},\"type\":\"barpolar\"}],\"pie\":[{\"automargin\":true,\"type\":\"pie\"}]},\"layout\":{\"autotypenumbers\":\"strict\",\"colorway\":[\"#636efa\",\"#EF553B\",\"#00cc96\",\"#ab63fa\",\"#FFA15A\",\"#19d3f3\",\"#FF6692\",\"#B6E880\",\"#FF97FF\",\"#FECB52\"],\"font\":{\"color\":\"#2a3f5f\"},\"hovermode\":\"closest\",\"hoverlabel\":{\"align\":\"left\"},\"paper_bgcolor\":\"white\",\"plot_bgcolor\":\"#E5ECF6\",\"polar\":{\"bgcolor\":\"#E5ECF6\",\"angularaxis\":{\"gridcolor\":\"white\",\"linecolor\":\"white\",\"ticks\":\"\"},\"radialaxis\":{\"gridcolor\":\"white\",\"linecolor\":\"white\",\"ticks\":\"\"}},\"ternary\":{\"bgcolor\":\"#E5ECF6\",\"aaxis\":{\"gridcolor\":\"white\",\"linecolor\":\"white\",\"ticks\":\"\"},\"baxis\":{\"gridcolor\":\"white\",\"linecolor\":\"white\",\"ticks\":\"\"},\"caxis\":{\"gridcolor\":\"white\",\"linecolor\":\"white\",\"ticks\":\"\"}},\"coloraxis\":{\"colorbar\":{\"outlinewidth\":0,\"ticks\":\"\"}},\"colorscale\":{\"sequential\":[[0.0,\"#0d0887\"],[0.1111111111111111,\"#46039f\"],[0.2222222222222222,\"#7201a8\"],[0.3333333333333333,\"#9c179e\"],[0.4444444444444444,\"#bd3786\"],[0.5555555555555556,\"#d8576b\"],[0.6666666666666666,\"#ed7953\"],[0.7777777777777778,\"#fb9f3a\"],[0.8888888888888888,\"#fdca26\"],[1.0,\"#f0f921\"]],\"sequentialminus\":[[0.0,\"#0d0887\"],[0.1111111111111111,\"#46039f\"],[0.2222222222222222,\"#7201a8\"],[0.3333333333333333,\"#9c179e\"],[0.4444444444444444,\"#bd3786\"],[0.5555555555555556,\"#d8576b\"],[0.6666666666666666,\"#ed7953\"],[0.7777777777777778,\"#fb9f3a\"],[0.8888888888888888,\"#fdca26\"],[1.0,\"#f0f921\"]],\"diverging\":[[0,\"#8e0152\"],[0.1,\"#c51b7d\"],[0.2,\"#de77ae\"],[0.3,\"#f1b6da\"],[0.4,\"#fde0ef\"],[0.5,\"#f7f7f7\"],[0.6,\"#e6f5d0\"],[0.7,\"#b8e186\"],[0.8,\"#7fbc41\"],[0.9,\"#4d9221\"],[1,\"#276419\"]]},\"xaxis\":{\"gridcolor\":\"white\",\"linecolor\":\"white\",\"ticks\":\"\",\"title\":{\"standoff\":15},\"zerolinecolor\":\"white\",\"automargin\":true,\"zerolinewidth\":2},\"yaxis\":{\"gridcolor\":\"white\",\"linecolor\":\"white\",\"ticks\":\"\",\"title\":{\"standoff\":15},\"zerolinecolor\":\"white\",\"automargin\":true,\"zerolinewidth\":2},\"scene\":{\"xaxis\":{\"backgroundcolor\":\"#E5ECF6\",\"gridcolor\":\"white\",\"linecolor\":\"white\",\"showbackground\":true,\"ticks\":\"\",\"zerolinecolor\":\"white\",\"gridwidth\":2},\"yaxis\":{\"backgroundcolor\":\"#E5ECF6\",\"gridcolor\":\"white\",\"linecolor\":\"white\",\"showbackground\":true,\"ticks\":\"\",\"zerolinecolor\":\"white\",\"gridwidth\":2},\"zaxis\":{\"backgroundcolor\":\"#E5ECF6\",\"gridcolor\":\"white\",\"linecolor\":\"white\",\"showbackground\":true,\"ticks\":\"\",\"zerolinecolor\":\"white\",\"gridwidth\":2}},\"shapedefaults\":{\"line\":{\"color\":\"#2a3f5f\"}},\"annotationdefaults\":{\"arrowcolor\":\"#2a3f5f\",\"arrowhead\":0,\"arrowwidth\":1},\"geo\":{\"bgcolor\":\"white\",\"landcolor\":\"#E5ECF6\",\"subunitcolor\":\"white\",\"showland\":true,\"showlakes\":true,\"lakecolor\":\"white\"},\"title\":{\"x\":0.05},\"mapbox\":{\"style\":\"light\"}}},\"xaxis\":{\"anchor\":\"y\",\"domain\":[0.0,1.0],\"title\":{\"text\":\"Happiness Score\"}},\"yaxis\":{\"anchor\":\"x\",\"domain\":[0.0,1.0],\"title\":{\"text\":\"Country Name\"},\"autorange\":\"reversed\"},\"legend\":{\"tracegroupgap\":0},\"title\":{\"text\":\"Bottom 5 countries with lowest happiness scores in 2018\",\"x\":0.5},\"barmode\":\"relative\"},                        {\"responsive\": true}                    ).then(function(){\n",
       "                            \n",
       "var gd = document.getElementById('623663bb-478c-4dea-8f3c-01219f3d5e47');\n",
       "var x = new MutationObserver(function (mutations, observer) {{\n",
       "        var display = window.getComputedStyle(gd).display;\n",
       "        if (!display || display === 'none') {{\n",
       "            console.log([gd, 'removed!']);\n",
       "            Plotly.purge(gd);\n",
       "            observer.disconnect();\n",
       "        }}\n",
       "}});\n",
       "\n",
       "// Listen for the removal of the full notebook cells\n",
       "var notebookContainer = gd.closest('#notebook-container');\n",
       "if (notebookContainer) {{\n",
       "    x.observe(notebookContainer, {childList: true});\n",
       "}}\n",
       "\n",
       "// Listen for the clearing of the current output cell\n",
       "var outputEl = gd.closest('.output');\n",
       "if (outputEl) {{\n",
       "    x.observe(outputEl, {childList: true});\n",
       "}}\n",
       "\n",
       "                        })                };                });            </script>        </div>"
      ]
     },
     "metadata": {},
     "output_type": "display_data"
    }
   ],
   "source": [
    "hap_5 = world_happiness_index.sort_values(['Happiness Score'],ascending=False).reset_index(drop=True)\n",
    "top_hap_5 = hap_5.iloc[:5]\n",
    "fig = px.bar(y=top_hap_5['Country Name'],x=top_hap_5['Happiness Score'], title='Top 5 countries with highest \\\n",
    "happiness scores in 2018',orientation='h')\n",
    "# Customize chart\n",
    "fig.update_traces(marker_color='green')\n",
    "fig.update_layout(\n",
    "    yaxis=dict(autorange=\"reversed\"),\n",
    "    xaxis_title=\"Happiness Score\",\n",
    "    yaxis_title=\"Country Name\",\n",
    "    title_x=0.5 # center title\n",
    ")\n",
    "fig.show()\n",
    "bottom_hap_5 = hap_5.iloc[-5:]\n",
    "fig = px.bar(y=bottom_hap_5['Country Name'],x=bottom_hap_5['Happiness Score'], title='Bottom 5 countries with lowest \\\n",
    "happiness scores in 2018',orientation='h')\n",
    "# Customize chart\n",
    "fig.update_traces(marker_color='red')\n",
    "fig.update_layout(\n",
    "    yaxis=dict(autorange=\"reversed\"),\n",
    "    xaxis_title=\"Happiness Score\",\n",
    "    yaxis_title=\"Country Name\",\n",
    "    title_x=0.5 # center title\n",
    ")\n",
    "fig.show()\n"
   ]
  },
  {
   "cell_type": "markdown",
   "id": "c14764ff-97c5-4255-a6c9-f7a080449218",
   "metadata": {},
   "source": [
    "Unsurprisingly, it is Western European countries that rank the highest on happiness while African countries in armed conflict zones rank lowest on happiness scores"
   ]
  },
  {
   "cell_type": "markdown",
   "id": "29aa5ca4-2bca-4d2f-bffe-4cd896041297",
   "metadata": {},
   "source": [
    "## Common drivers of Happiness"
   ]
  },
  {
   "cell_type": "markdown",
   "id": "912a8b5d-e8c6-457c-91dc-56cb412e321d",
   "metadata": {},
   "source": [
    "### 1. Income and Happiness\n",
    "\n",
    "It is reasonable to suspect that income and happiness scores are positively correlated. Countries with higher GDP per capita should be able to have better infrastructure, institutions and governance to cater to its citizens' well-being needs (financial, social, environmental, health etc.). So let's explore this hypothesis."
   ]
  },
  {
   "cell_type": "code",
   "execution_count": 7,
   "id": "fb1a077e-a40f-4ad6-b886-fc5a716878bf",
   "metadata": {},
   "outputs": [
    {
     "data": {
      "text/plain": [
       "Index(['Overall rank', 'Country Name', 'Happiness Score', 'GDP per capita',\n",
       "       'Social support', 'Healthy life expectancy',\n",
       "       'Freedom to make life choices', 'Generosity',\n",
       "       'Perceptions of corruption'],\n",
       "      dtype='object')"
      ]
     },
     "execution_count": 7,
     "metadata": {},
     "output_type": "execute_result"
    }
   ],
   "source": [
    "world_happiness_index.columns"
   ]
  },
  {
   "cell_type": "markdown",
   "id": "dca0fdd0-a82b-42ed-aafb-b819ed439a81",
   "metadata": {},
   "source": [
    "Comment"
   ]
  },
  {
   "cell_type": "code",
   "execution_count": 8,
   "id": "add51c49-b9df-4727-aef6-c515ec6254f0",
   "metadata": {},
   "outputs": [
    {
     "data": {
      "application/vnd.plotly.v1+json": {
       "config": {
        "plotlyServerURL": "https://plot.ly"
       },
       "data": [
        {
         "customdata": [
          [
           "Finland"
          ],
          [
           "Norway"
          ],
          [
           "Denmark"
          ],
          [
           "Iceland"
          ],
          [
           "Switzerland"
          ]
         ],
         "hovertemplate": "GDP per capita: %{y}<br>Happiness Score: %{x}<br>Country Name: %{customdata[0]}",
         "legendgroup": "Top 5 Countries ranked by happiness",
         "marker": {
          "color": "green",
          "symbol": "circle"
         },
         "mode": "markers",
         "name": "Top 5 Countries ranked by happiness",
         "orientation": "v",
         "showlegend": true,
         "type": "scatter",
         "x": [
          1.305,
          1.456,
          1.351,
          1.343,
          1.42
         ],
         "xaxis": "x",
         "y": [
          7.632,
          7.594,
          7.555,
          7.495,
          7.487
         ],
         "yaxis": "y"
        },
        {
         "hovertemplate": "GDP per capita: %{y}<br>Happiness Score: %{x}<br>Country Name: %{customdata[0]}",
         "legendgroup": "Top 5 Countries ranked by happiness",
         "marker": {
          "color": "green",
          "symbol": "circle"
         },
         "mode": "lines",
         "name": "Top 5 Countries ranked by happiness",
         "showlegend": false,
         "type": "scatter",
         "x": [
          1.305,
          1.343,
          1.351,
          1.42,
          1.456
         ],
         "xaxis": "x",
         "y": [
          7.568241654514126,
          7.559750470635033,
          7.557962852976277,
          7.5425446506695035,
          7.534500371205101
         ],
         "yaxis": "y"
        },
        {
         "customdata": [
          [
           "Netherlands"
          ],
          [
           "Canada"
          ],
          [
           "New Zealand"
          ],
          [
           "Sweden"
          ],
          [
           "Australia"
          ],
          [
           "United Kingdom"
          ],
          [
           "Austria"
          ],
          [
           "Costa Rica"
          ],
          [
           "Ireland"
          ],
          [
           "Germany"
          ],
          [
           "Belgium"
          ],
          [
           "Luxembourg"
          ],
          [
           "United States"
          ],
          [
           "Israel"
          ],
          [
           "United Arab Emirates"
          ],
          [
           "Czech Republic"
          ],
          [
           "Malta"
          ],
          [
           "France"
          ],
          [
           "Mexico"
          ],
          [
           "Chile"
          ],
          [
           "Taiwan"
          ],
          [
           "Panama"
          ],
          [
           "Brazil"
          ],
          [
           "Argentina"
          ],
          [
           "Guatemala"
          ],
          [
           "Uruguay"
          ],
          [
           "Qatar"
          ],
          [
           "Saudi Arabia"
          ],
          [
           "Singapore"
          ],
          [
           "Malaysia"
          ],
          [
           "Spain"
          ],
          [
           "Colombia"
          ],
          [
           "Trinidad & Tobago"
          ],
          [
           "Slovakia"
          ],
          [
           "El Salvador"
          ],
          [
           "Nicaragua"
          ],
          [
           "Poland"
          ],
          [
           "Bahrain"
          ],
          [
           "Uzbekistan"
          ],
          [
           "Kuwait"
          ],
          [
           "Thailand"
          ],
          [
           "Italy"
          ],
          [
           "Ecuador"
          ],
          [
           "Belize"
          ],
          [
           "Lithuania"
          ],
          [
           "Slovenia"
          ],
          [
           "Romania"
          ],
          [
           "Latvia"
          ],
          [
           "Japan"
          ],
          [
           "Mauritius"
          ],
          [
           "Jamaica"
          ],
          [
           "South Korea"
          ],
          [
           "Northern Cyprus"
          ],
          [
           "Russia"
          ],
          [
           "Kazakhstan"
          ],
          [
           "Cyprus"
          ],
          [
           "Bolivia"
          ],
          [
           "Estonia"
          ],
          [
           "Paraguay"
          ],
          [
           "Peru"
          ],
          [
           "Kosovo"
          ],
          [
           "Moldova"
          ],
          [
           "Turkmenistan"
          ],
          [
           "Hungary"
          ],
          [
           "Libya"
          ],
          [
           "Philippines"
          ],
          [
           "Honduras"
          ],
          [
           "Belarus"
          ],
          [
           "Turkey"
          ],
          [
           "Pakistan"
          ],
          [
           "Hong Kong"
          ],
          [
           "Portugal"
          ],
          [
           "Serbia"
          ],
          [
           "Greece"
          ],
          [
           "Lebanon"
          ],
          [
           "Montenegro"
          ],
          [
           "Croatia"
          ],
          [
           "Dominican Republic"
          ],
          [
           "Algeria"
          ],
          [
           "Morocco"
          ],
          [
           "China"
          ],
          [
           "Azerbaijan"
          ],
          [
           "Tajikistan"
          ],
          [
           "Macedonia"
          ],
          [
           "Jordan"
          ],
          [
           "Nigeria"
          ],
          [
           "Kyrgyzstan"
          ],
          [
           "Bosnia and Herzegovina"
          ],
          [
           "Mongolia"
          ],
          [
           "Vietnam"
          ],
          [
           "Indonesia"
          ],
          [
           "Bhutan"
          ],
          [
           "Somalia"
          ],
          [
           "Cameroon"
          ],
          [
           "Bulgaria"
          ],
          [
           "Nepal"
          ],
          [
           "Venezuela"
          ],
          [
           "Gabon"
          ],
          [
           "Palestinian Territories"
          ],
          [
           "South Africa"
          ],
          [
           "Iran"
          ],
          [
           "Ivory Coast"
          ],
          [
           "Ghana"
          ],
          [
           "Senegal"
          ],
          [
           "Laos"
          ],
          [
           "Tunisia"
          ],
          [
           "Albania"
          ],
          [
           "Sierra Leone"
          ],
          [
           "Congo (Brazzaville)"
          ],
          [
           "Bangladesh"
          ],
          [
           "Sri Lanka"
          ],
          [
           "Iraq"
          ],
          [
           "Mali"
          ],
          [
           "Namibia"
          ],
          [
           "Cambodia"
          ],
          [
           "Burkina Faso"
          ],
          [
           "Egypt"
          ],
          [
           "Mozambique"
          ],
          [
           "Kenya"
          ],
          [
           "Zambia"
          ],
          [
           "Mauritania"
          ],
          [
           "Ethiopia"
          ],
          [
           "Georgia"
          ],
          [
           "Armenia"
          ],
          [
           "Myanmar"
          ],
          [
           "Chad"
          ],
          [
           "Congo (Kinshasa)"
          ],
          [
           "India"
          ],
          [
           "Niger"
          ],
          [
           "Uganda"
          ],
          [
           "Benin"
          ],
          [
           "Sudan"
          ],
          [
           "Ukraine"
          ],
          [
           "Togo"
          ],
          [
           "Guinea"
          ],
          [
           "Lesotho"
          ],
          [
           "Angola"
          ],
          [
           "Madagascar"
          ],
          [
           "Zimbabwe"
          ],
          [
           "Afghanistan"
          ],
          [
           "Botswana"
          ],
          [
           "Malawi"
          ],
          [
           "Haiti"
          ],
          [
           "Liberia"
          ],
          [
           "Syria"
          ],
          [
           "Rwanda"
          ]
         ],
         "hovertemplate": "GDP per capita: %{y}<br>Happiness Score: %{x}<br>Country Name: %{customdata[0]}",
         "legendgroup": "Other Countries",
         "marker": {
          "color": "blue",
          "symbol": "circle"
         },
         "mode": "markers",
         "name": "Other Countries",
         "orientation": "v",
         "showlegend": true,
         "type": "scatter",
         "x": [
          1.361,
          1.33,
          1.268,
          1.355,
          1.34,
          1.244,
          1.341,
          1.01,
          1.448,
          1.34,
          1.324,
          1.576,
          1.398,
          1.301,
          2.096,
          1.233,
          1.27,
          1.293,
          1.038,
          1.131,
          1.365,
          1.112,
          0.986,
          1.073,
          0.781,
          1.093,
          1.649,
          1.379,
          1.529,
          1.161,
          1.251,
          0.96,
          1.223,
          1.21,
          0.806,
          0.668,
          1.176,
          1.338,
          0.719,
          1.474,
          1.016,
          1.264,
          0.889,
          0.807,
          1.197,
          1.219,
          1.116,
          1.148,
          1.294,
          1.09,
          0.819,
          1.266,
          1.229,
          1.151,
          1.143,
          1.229,
          0.751,
          1.2,
          0.835,
          0.934,
          0.855,
          0.657,
          1.016,
          1.171,
          0.985,
          0.775,
          0.62,
          1.039,
          1.148,
          0.652,
          1.405,
          1.188,
          0.975,
          1.154,
          0.965,
          1.017,
          1.115,
          0.982,
          0.979,
          0.779,
          0.989,
          1.024,
          0.474,
          0.959,
          0.822,
          0.689,
          0.53,
          0.915,
          0.914,
          0.715,
          0.899,
          0.796,
          0,
          0.535,
          1.054,
          0.425,
          0.996,
          1.036,
          0.642,
          0.94,
          1.059,
          0.541,
          0.592,
          0.429,
          0.72,
          0.9,
          0.916,
          0.256,
          0.682,
          0.532,
          0.918,
          1.01,
          0.37,
          0.874,
          0.549,
          0.314,
          0.885,
          0.198,
          0.493,
          0.562,
          0.557,
          0.308,
          0.853,
          0.816,
          0.682,
          0.358,
          0.069,
          0.721,
          0.131,
          0.322,
          0.378,
          0.605,
          0.793,
          0.259,
          0.344,
          0.472,
          0.73,
          0.262,
          0.357,
          0.332,
          1.017,
          0.186,
          0.315,
          0.076,
          0.689,
          0.332
         ],
         "xaxis": "x",
         "y": [
          7.441,
          7.328,
          7.324,
          7.314,
          7.272,
          7.19,
          7.139,
          7.072,
          6.977,
          6.965,
          6.927,
          6.91,
          6.886,
          6.814,
          6.774,
          6.711,
          6.627,
          6.489,
          6.488,
          6.476,
          6.441,
          6.43,
          6.419,
          6.388,
          6.382,
          6.379,
          6.374,
          6.371,
          6.343,
          6.322,
          6.31,
          6.26,
          6.192,
          6.173,
          6.167,
          6.141,
          6.123,
          6.105,
          6.096,
          6.083,
          6.072,
          6,
          5.973,
          5.956,
          5.952,
          5.948,
          5.945,
          5.933,
          5.915,
          5.891,
          5.89,
          5.875,
          5.835,
          5.81,
          5.79,
          5.762,
          5.752,
          5.739,
          5.681,
          5.663,
          5.662,
          5.64,
          5.636,
          5.62,
          5.566,
          5.524,
          5.504,
          5.483,
          5.483,
          5.472,
          5.43,
          5.41,
          5.398,
          5.358,
          5.358,
          5.347,
          5.321,
          5.302,
          5.295,
          5.254,
          5.246,
          5.201,
          5.199,
          5.185,
          5.161,
          5.155,
          5.131,
          5.129,
          5.125,
          5.103,
          5.093,
          5.082,
          4.982,
          4.975,
          4.933,
          4.88,
          4.806,
          4.758,
          4.743,
          4.724,
          4.707,
          4.671,
          4.657,
          4.631,
          4.623,
          4.592,
          4.586,
          4.571,
          4.559,
          4.5,
          4.471,
          4.456,
          4.447,
          4.441,
          4.433,
          4.424,
          4.419,
          4.417,
          4.41,
          4.377,
          4.356,
          4.35,
          4.34,
          4.321,
          4.308,
          4.301,
          4.245,
          4.19,
          4.166,
          4.161,
          4.141,
          4.139,
          4.103,
          3.999,
          3.964,
          3.808,
          3.795,
          3.774,
          3.692,
          3.632,
          3.59,
          3.587,
          3.582,
          3.495,
          3.462,
          3.408
         ],
         "yaxis": "y"
        },
        {
         "hovertemplate": "GDP per capita: %{y}<br>Happiness Score: %{x}<br>Country Name: %{customdata[0]}",
         "legendgroup": "Other Countries",
         "marker": {
          "color": "blue",
          "symbol": "circle"
         },
         "mode": "lines",
         "name": "Other Countries",
         "showlegend": false,
         "type": "scatter",
         "x": [
          0,
          0.069,
          0.076,
          0.131,
          0.186,
          0.198,
          0.256,
          0.259,
          0.262,
          0.308,
          0.314,
          0.315,
          0.322,
          0.332,
          0.332,
          0.344,
          0.357,
          0.358,
          0.37,
          0.378,
          0.425,
          0.429,
          0.472,
          0.474,
          0.493,
          0.53,
          0.532,
          0.535,
          0.541,
          0.549,
          0.557,
          0.562,
          0.592,
          0.605,
          0.62,
          0.642,
          0.652,
          0.657,
          0.668,
          0.682,
          0.682,
          0.689,
          0.689,
          0.715,
          0.719,
          0.72,
          0.721,
          0.73,
          0.751,
          0.775,
          0.779,
          0.781,
          0.793,
          0.796,
          0.806,
          0.807,
          0.816,
          0.819,
          0.822,
          0.835,
          0.853,
          0.855,
          0.874,
          0.885,
          0.889,
          0.899,
          0.9,
          0.914,
          0.915,
          0.916,
          0.918,
          0.934,
          0.94,
          0.959,
          0.96,
          0.965,
          0.975,
          0.979,
          0.982,
          0.985,
          0.986,
          0.989,
          0.996,
          1.01,
          1.01,
          1.016,
          1.016,
          1.017,
          1.017,
          1.024,
          1.036,
          1.038,
          1.039,
          1.054,
          1.059,
          1.073,
          1.09,
          1.093,
          1.112,
          1.115,
          1.116,
          1.131,
          1.143,
          1.148,
          1.148,
          1.151,
          1.154,
          1.161,
          1.171,
          1.176,
          1.188,
          1.197,
          1.2,
          1.21,
          1.219,
          1.223,
          1.229,
          1.229,
          1.233,
          1.244,
          1.251,
          1.264,
          1.266,
          1.268,
          1.27,
          1.293,
          1.294,
          1.301,
          1.324,
          1.33,
          1.338,
          1.34,
          1.34,
          1.341,
          1.355,
          1.361,
          1.365,
          1.379,
          1.398,
          1.405,
          1.448,
          1.474,
          1.529,
          1.576,
          1.649,
          2.096
         ],
         "xaxis": "x",
         "y": [
          3.5283922323558228,
          3.6706905513302153,
          3.6851266126754436,
          3.7985528089593794,
          3.9119790052433157,
          3.9367265389779926,
          4.056339618695598,
          4.062526502129267,
          4.068713385562936,
          4.163578931545865,
          4.175952698413203,
          4.178014992891093,
          4.192451054236321,
          4.213073999015219,
          4.213073999015219,
          4.237821532749895,
          4.264631360962462,
          4.266693655440352,
          4.291441189175028,
          4.307939544998147,
          4.404867385458965,
          4.413116563370524,
          4.501795225919783,
          4.505919814875562,
          4.545103409955468,
          4.621408305637388,
          4.625532894593168,
          4.631719778026837,
          4.644093544894176,
          4.660591900717294,
          4.677090256540412,
          4.68740172892986,
          4.749270563266553,
          4.776080391479119,
          4.807014808647465,
          4.85238528716104,
          4.873008231939937,
          4.883319704329386,
          4.906004943586173,
          4.93487706627663,
          4.93487706627663,
          4.949313127621858,
          4.949313127621858,
          5.002932784046991,
          5.01118196195855,
          5.0132442564364394,
          5.01530655091433,
          5.033867201215338,
          5.077175385251022,
          5.126670452720376,
          5.134919630631935,
          5.139044219587714,
          5.163791753322392,
          5.169978636756061,
          5.190601581534958,
          5.192663876012848,
          5.211224526313855,
          5.217411409747525,
          5.223598293181194,
          5.250408121393761,
          5.287529421995776,
          5.2916540109515555,
          5.33083760603146,
          5.353522845288248,
          5.361772023199807,
          5.382394967978705,
          5.3844572624565945,
          5.413329385147051,
          5.415391679624941,
          5.4174539741028305,
          5.42157856305861,
          5.454575274704846,
          5.4669490415721835,
          5.506132636652089,
          5.508194931129979,
          5.518506403519428,
          5.539129348298325,
          5.547378526209884,
          5.553565409643554,
          5.5597522930772225,
          5.561814587555112,
          5.568001470988782,
          5.582437532334009,
          5.611309655024466,
          5.611309655024466,
          5.623683421891805,
          5.623683421891805,
          5.6257457163696944,
          5.6257457163696944,
          5.640181777714923,
          5.6649293114496,
          5.6690539004053795,
          5.671116194883269,
          5.7020506120516155,
          5.712362084441064,
          5.74123420713152,
          5.776293213255646,
          5.782480096689315,
          5.821663691769221,
          5.8278505752028895,
          5.82991286968078,
          5.8608472868491255,
          5.885594820583803,
          5.895906292973251,
          5.895906292973251,
          5.902093176406921,
          5.90828005984059,
          5.922716121185818,
          5.943339065964715,
          5.953650538354164,
          5.978398072088841,
          5.996958722389849,
          6.0031456058235175,
          6.023768550602416,
          6.042329200903423,
          6.050578378814983,
          6.0629521456823205,
          6.0629521456823205,
          6.07120132359388,
          6.093886562850667,
          6.108322624195895,
          6.135132452408462,
          6.1392570413642416,
          6.143381630320021,
          6.1475062192758,
          6.194938992267264,
          6.197001286745154,
          6.211437348090382,
          6.258870121081847,
          6.271243887949185,
          6.287742243772303,
          6.291866832728083,
          6.291866832728083,
          6.293929127205972,
          6.322801249896429,
          6.335175016763767,
          6.343424194675326,
          6.372296317365783,
          6.411479912445688,
          6.425915973790916,
          6.514594636340175,
          6.568214292765308,
          6.6816404890492445,
          6.778568329510063,
          6.929115826396014,
          7.850961458012731
         ],
         "yaxis": "y"
        },
        {
         "customdata": [
          [
           "Yemen"
          ],
          [
           "Tanzania"
          ],
          [
           "South Sudan"
          ],
          [
           "Central African Republic"
          ],
          [
           "Burundi"
          ]
         ],
         "hovertemplate": "GDP per capita: %{y}<br>Happiness Score: %{x}<br>Country Name: %{customdata[0]}",
         "legendgroup": "Bottom 5 ranked by happiness",
         "marker": {
          "color": "red",
          "symbol": "circle"
         },
         "mode": "markers",
         "name": "Bottom 5 ranked by happiness",
         "orientation": "v",
         "showlegend": true,
         "type": "scatter",
         "x": [
          0.442,
          0.455,
          0.337,
          0.024,
          0.091
         ],
         "xaxis": "x",
         "y": [
          3.355,
          3.303,
          3.254,
          3.083,
          2.905
         ],
         "yaxis": "y"
        },
        {
         "hovertemplate": "GDP per capita: %{y}<br>Happiness Score: %{x}<br>Country Name: %{customdata[0]}",
         "legendgroup": "Bottom 5 ranked by happiness",
         "marker": {
          "color": "red",
          "symbol": "circle"
         },
         "mode": "lines",
         "name": "Bottom 5 ranked by happiness",
         "showlegend": false,
         "type": "scatter",
         "x": [
          0.024,
          0.091,
          0.337,
          0.442,
          0.455
         ],
         "xaxis": "x",
         "y": [
          2.979973516488161,
          3.034496601904325,
          3.2346858408950174,
          3.3201324672934835,
          3.330711573419008
         ],
         "yaxis": "y"
        }
       ],
       "layout": {
        "legend": {
         "title": {
          "text": "color"
         },
         "tracegroupgap": 0
        },
        "template": {
         "data": {
          "bar": [
           {
            "error_x": {
             "color": "#2a3f5f"
            },
            "error_y": {
             "color": "#2a3f5f"
            },
            "marker": {
             "line": {
              "color": "#E5ECF6",
              "width": 0.5
             },
             "pattern": {
              "fillmode": "overlay",
              "size": 10,
              "solidity": 0.2
             }
            },
            "type": "bar"
           }
          ],
          "barpolar": [
           {
            "marker": {
             "line": {
              "color": "#E5ECF6",
              "width": 0.5
             },
             "pattern": {
              "fillmode": "overlay",
              "size": 10,
              "solidity": 0.2
             }
            },
            "type": "barpolar"
           }
          ],
          "carpet": [
           {
            "aaxis": {
             "endlinecolor": "#2a3f5f",
             "gridcolor": "white",
             "linecolor": "white",
             "minorgridcolor": "white",
             "startlinecolor": "#2a3f5f"
            },
            "baxis": {
             "endlinecolor": "#2a3f5f",
             "gridcolor": "white",
             "linecolor": "white",
             "minorgridcolor": "white",
             "startlinecolor": "#2a3f5f"
            },
            "type": "carpet"
           }
          ],
          "choropleth": [
           {
            "colorbar": {
             "outlinewidth": 0,
             "ticks": ""
            },
            "type": "choropleth"
           }
          ],
          "contour": [
           {
            "colorbar": {
             "outlinewidth": 0,
             "ticks": ""
            },
            "colorscale": [
             [
              0,
              "#0d0887"
             ],
             [
              0.1111111111111111,
              "#46039f"
             ],
             [
              0.2222222222222222,
              "#7201a8"
             ],
             [
              0.3333333333333333,
              "#9c179e"
             ],
             [
              0.4444444444444444,
              "#bd3786"
             ],
             [
              0.5555555555555556,
              "#d8576b"
             ],
             [
              0.6666666666666666,
              "#ed7953"
             ],
             [
              0.7777777777777778,
              "#fb9f3a"
             ],
             [
              0.8888888888888888,
              "#fdca26"
             ],
             [
              1,
              "#f0f921"
             ]
            ],
            "type": "contour"
           }
          ],
          "contourcarpet": [
           {
            "colorbar": {
             "outlinewidth": 0,
             "ticks": ""
            },
            "type": "contourcarpet"
           }
          ],
          "heatmap": [
           {
            "colorbar": {
             "outlinewidth": 0,
             "ticks": ""
            },
            "colorscale": [
             [
              0,
              "#0d0887"
             ],
             [
              0.1111111111111111,
              "#46039f"
             ],
             [
              0.2222222222222222,
              "#7201a8"
             ],
             [
              0.3333333333333333,
              "#9c179e"
             ],
             [
              0.4444444444444444,
              "#bd3786"
             ],
             [
              0.5555555555555556,
              "#d8576b"
             ],
             [
              0.6666666666666666,
              "#ed7953"
             ],
             [
              0.7777777777777778,
              "#fb9f3a"
             ],
             [
              0.8888888888888888,
              "#fdca26"
             ],
             [
              1,
              "#f0f921"
             ]
            ],
            "type": "heatmap"
           }
          ],
          "heatmapgl": [
           {
            "colorbar": {
             "outlinewidth": 0,
             "ticks": ""
            },
            "colorscale": [
             [
              0,
              "#0d0887"
             ],
             [
              0.1111111111111111,
              "#46039f"
             ],
             [
              0.2222222222222222,
              "#7201a8"
             ],
             [
              0.3333333333333333,
              "#9c179e"
             ],
             [
              0.4444444444444444,
              "#bd3786"
             ],
             [
              0.5555555555555556,
              "#d8576b"
             ],
             [
              0.6666666666666666,
              "#ed7953"
             ],
             [
              0.7777777777777778,
              "#fb9f3a"
             ],
             [
              0.8888888888888888,
              "#fdca26"
             ],
             [
              1,
              "#f0f921"
             ]
            ],
            "type": "heatmapgl"
           }
          ],
          "histogram": [
           {
            "marker": {
             "pattern": {
              "fillmode": "overlay",
              "size": 10,
              "solidity": 0.2
             }
            },
            "type": "histogram"
           }
          ],
          "histogram2d": [
           {
            "colorbar": {
             "outlinewidth": 0,
             "ticks": ""
            },
            "colorscale": [
             [
              0,
              "#0d0887"
             ],
             [
              0.1111111111111111,
              "#46039f"
             ],
             [
              0.2222222222222222,
              "#7201a8"
             ],
             [
              0.3333333333333333,
              "#9c179e"
             ],
             [
              0.4444444444444444,
              "#bd3786"
             ],
             [
              0.5555555555555556,
              "#d8576b"
             ],
             [
              0.6666666666666666,
              "#ed7953"
             ],
             [
              0.7777777777777778,
              "#fb9f3a"
             ],
             [
              0.8888888888888888,
              "#fdca26"
             ],
             [
              1,
              "#f0f921"
             ]
            ],
            "type": "histogram2d"
           }
          ],
          "histogram2dcontour": [
           {
            "colorbar": {
             "outlinewidth": 0,
             "ticks": ""
            },
            "colorscale": [
             [
              0,
              "#0d0887"
             ],
             [
              0.1111111111111111,
              "#46039f"
             ],
             [
              0.2222222222222222,
              "#7201a8"
             ],
             [
              0.3333333333333333,
              "#9c179e"
             ],
             [
              0.4444444444444444,
              "#bd3786"
             ],
             [
              0.5555555555555556,
              "#d8576b"
             ],
             [
              0.6666666666666666,
              "#ed7953"
             ],
             [
              0.7777777777777778,
              "#fb9f3a"
             ],
             [
              0.8888888888888888,
              "#fdca26"
             ],
             [
              1,
              "#f0f921"
             ]
            ],
            "type": "histogram2dcontour"
           }
          ],
          "mesh3d": [
           {
            "colorbar": {
             "outlinewidth": 0,
             "ticks": ""
            },
            "type": "mesh3d"
           }
          ],
          "parcoords": [
           {
            "line": {
             "colorbar": {
              "outlinewidth": 0,
              "ticks": ""
             }
            },
            "type": "parcoords"
           }
          ],
          "pie": [
           {
            "automargin": true,
            "type": "pie"
           }
          ],
          "scatter": [
           {
            "fillpattern": {
             "fillmode": "overlay",
             "size": 10,
             "solidity": 0.2
            },
            "type": "scatter"
           }
          ],
          "scatter3d": [
           {
            "line": {
             "colorbar": {
              "outlinewidth": 0,
              "ticks": ""
             }
            },
            "marker": {
             "colorbar": {
              "outlinewidth": 0,
              "ticks": ""
             }
            },
            "type": "scatter3d"
           }
          ],
          "scattercarpet": [
           {
            "marker": {
             "colorbar": {
              "outlinewidth": 0,
              "ticks": ""
             }
            },
            "type": "scattercarpet"
           }
          ],
          "scattergeo": [
           {
            "marker": {
             "colorbar": {
              "outlinewidth": 0,
              "ticks": ""
             }
            },
            "type": "scattergeo"
           }
          ],
          "scattergl": [
           {
            "marker": {
             "colorbar": {
              "outlinewidth": 0,
              "ticks": ""
             }
            },
            "type": "scattergl"
           }
          ],
          "scattermapbox": [
           {
            "marker": {
             "colorbar": {
              "outlinewidth": 0,
              "ticks": ""
             }
            },
            "type": "scattermapbox"
           }
          ],
          "scatterpolar": [
           {
            "marker": {
             "colorbar": {
              "outlinewidth": 0,
              "ticks": ""
             }
            },
            "type": "scatterpolar"
           }
          ],
          "scatterpolargl": [
           {
            "marker": {
             "colorbar": {
              "outlinewidth": 0,
              "ticks": ""
             }
            },
            "type": "scatterpolargl"
           }
          ],
          "scatterternary": [
           {
            "marker": {
             "colorbar": {
              "outlinewidth": 0,
              "ticks": ""
             }
            },
            "type": "scatterternary"
           }
          ],
          "surface": [
           {
            "colorbar": {
             "outlinewidth": 0,
             "ticks": ""
            },
            "colorscale": [
             [
              0,
              "#0d0887"
             ],
             [
              0.1111111111111111,
              "#46039f"
             ],
             [
              0.2222222222222222,
              "#7201a8"
             ],
             [
              0.3333333333333333,
              "#9c179e"
             ],
             [
              0.4444444444444444,
              "#bd3786"
             ],
             [
              0.5555555555555556,
              "#d8576b"
             ],
             [
              0.6666666666666666,
              "#ed7953"
             ],
             [
              0.7777777777777778,
              "#fb9f3a"
             ],
             [
              0.8888888888888888,
              "#fdca26"
             ],
             [
              1,
              "#f0f921"
             ]
            ],
            "type": "surface"
           }
          ],
          "table": [
           {
            "cells": {
             "fill": {
              "color": "#EBF0F8"
             },
             "line": {
              "color": "white"
             }
            },
            "header": {
             "fill": {
              "color": "#C8D4E3"
             },
             "line": {
              "color": "white"
             }
            },
            "type": "table"
           }
          ]
         },
         "layout": {
          "annotationdefaults": {
           "arrowcolor": "#2a3f5f",
           "arrowhead": 0,
           "arrowwidth": 1
          },
          "autotypenumbers": "strict",
          "coloraxis": {
           "colorbar": {
            "outlinewidth": 0,
            "ticks": ""
           }
          },
          "colorscale": {
           "diverging": [
            [
             0,
             "#8e0152"
            ],
            [
             0.1,
             "#c51b7d"
            ],
            [
             0.2,
             "#de77ae"
            ],
            [
             0.3,
             "#f1b6da"
            ],
            [
             0.4,
             "#fde0ef"
            ],
            [
             0.5,
             "#f7f7f7"
            ],
            [
             0.6,
             "#e6f5d0"
            ],
            [
             0.7,
             "#b8e186"
            ],
            [
             0.8,
             "#7fbc41"
            ],
            [
             0.9,
             "#4d9221"
            ],
            [
             1,
             "#276419"
            ]
           ],
           "sequential": [
            [
             0,
             "#0d0887"
            ],
            [
             0.1111111111111111,
             "#46039f"
            ],
            [
             0.2222222222222222,
             "#7201a8"
            ],
            [
             0.3333333333333333,
             "#9c179e"
            ],
            [
             0.4444444444444444,
             "#bd3786"
            ],
            [
             0.5555555555555556,
             "#d8576b"
            ],
            [
             0.6666666666666666,
             "#ed7953"
            ],
            [
             0.7777777777777778,
             "#fb9f3a"
            ],
            [
             0.8888888888888888,
             "#fdca26"
            ],
            [
             1,
             "#f0f921"
            ]
           ],
           "sequentialminus": [
            [
             0,
             "#0d0887"
            ],
            [
             0.1111111111111111,
             "#46039f"
            ],
            [
             0.2222222222222222,
             "#7201a8"
            ],
            [
             0.3333333333333333,
             "#9c179e"
            ],
            [
             0.4444444444444444,
             "#bd3786"
            ],
            [
             0.5555555555555556,
             "#d8576b"
            ],
            [
             0.6666666666666666,
             "#ed7953"
            ],
            [
             0.7777777777777778,
             "#fb9f3a"
            ],
            [
             0.8888888888888888,
             "#fdca26"
            ],
            [
             1,
             "#f0f921"
            ]
           ]
          },
          "colorway": [
           "#636efa",
           "#EF553B",
           "#00cc96",
           "#ab63fa",
           "#FFA15A",
           "#19d3f3",
           "#FF6692",
           "#B6E880",
           "#FF97FF",
           "#FECB52"
          ],
          "font": {
           "color": "#2a3f5f"
          },
          "geo": {
           "bgcolor": "white",
           "lakecolor": "white",
           "landcolor": "#E5ECF6",
           "showlakes": true,
           "showland": true,
           "subunitcolor": "white"
          },
          "hoverlabel": {
           "align": "left"
          },
          "hovermode": "closest",
          "mapbox": {
           "style": "light"
          },
          "paper_bgcolor": "white",
          "plot_bgcolor": "#E5ECF6",
          "polar": {
           "angularaxis": {
            "gridcolor": "white",
            "linecolor": "white",
            "ticks": ""
           },
           "bgcolor": "#E5ECF6",
           "radialaxis": {
            "gridcolor": "white",
            "linecolor": "white",
            "ticks": ""
           }
          },
          "scene": {
           "xaxis": {
            "backgroundcolor": "#E5ECF6",
            "gridcolor": "white",
            "gridwidth": 2,
            "linecolor": "white",
            "showbackground": true,
            "ticks": "",
            "zerolinecolor": "white"
           },
           "yaxis": {
            "backgroundcolor": "#E5ECF6",
            "gridcolor": "white",
            "gridwidth": 2,
            "linecolor": "white",
            "showbackground": true,
            "ticks": "",
            "zerolinecolor": "white"
           },
           "zaxis": {
            "backgroundcolor": "#E5ECF6",
            "gridcolor": "white",
            "gridwidth": 2,
            "linecolor": "white",
            "showbackground": true,
            "ticks": "",
            "zerolinecolor": "white"
           }
          },
          "shapedefaults": {
           "line": {
            "color": "#2a3f5f"
           }
          },
          "ternary": {
           "aaxis": {
            "gridcolor": "white",
            "linecolor": "white",
            "ticks": ""
           },
           "baxis": {
            "gridcolor": "white",
            "linecolor": "white",
            "ticks": ""
           },
           "bgcolor": "#E5ECF6",
           "caxis": {
            "gridcolor": "white",
            "linecolor": "white",
            "ticks": ""
           }
          },
          "title": {
           "x": 0.05
          },
          "xaxis": {
           "automargin": true,
           "gridcolor": "white",
           "linecolor": "white",
           "ticks": "",
           "title": {
            "standoff": 15
           },
           "zerolinecolor": "white",
           "zerolinewidth": 2
          },
          "yaxis": {
           "automargin": true,
           "gridcolor": "white",
           "linecolor": "white",
           "ticks": "",
           "title": {
            "standoff": 15
           },
           "zerolinecolor": "white",
           "zerolinewidth": 2
          }
         }
        },
        "title": {
         "text": "ScatterPlot: GDP per capita and Happiness Score",
         "x": 0.5
        },
        "xaxis": {
         "anchor": "y",
         "domain": [
          0,
          1
         ],
         "title": {
          "text": "GDP per capita"
         }
        },
        "yaxis": {
         "anchor": "x",
         "domain": [
          0,
          1
         ],
         "title": {
          "text": "Happiness Score"
         }
        }
       }
      },
      "text/html": [
       "<div>                            <div id=\"9749d650-3bb0-464c-86de-2a840d7c3100\" class=\"plotly-graph-div\" style=\"height:525px; width:100%;\"></div>            <script type=\"text/javascript\">                require([\"plotly\"], function(Plotly) {                    window.PLOTLYENV=window.PLOTLYENV || {};                                    if (document.getElementById(\"9749d650-3bb0-464c-86de-2a840d7c3100\")) {                    Plotly.newPlot(                        \"9749d650-3bb0-464c-86de-2a840d7c3100\",                        [{\"customdata\":[[\"Finland\"],[\"Norway\"],[\"Denmark\"],[\"Iceland\"],[\"Switzerland\"]],\"hovertemplate\":\"GDP per capita: %{y}\\u003cbr\\u003eHappiness Score: %{x}\\u003cbr\\u003eCountry Name: %{customdata[0]}\",\"legendgroup\":\"Top 5 Countries ranked by happiness\",\"marker\":{\"color\":\"green\",\"symbol\":\"circle\"},\"mode\":\"markers\",\"name\":\"Top 5 Countries ranked by happiness\",\"orientation\":\"v\",\"showlegend\":true,\"x\":[1.305,1.456,1.351,1.343,1.42],\"xaxis\":\"x\",\"y\":[7.632,7.594,7.555,7.495,7.487],\"yaxis\":\"y\",\"type\":\"scatter\"},{\"hovertemplate\":\"GDP per capita: %{y}\\u003cbr\\u003eHappiness Score: %{x}\\u003cbr\\u003eCountry Name: %{customdata[0]}\",\"legendgroup\":\"Top 5 Countries ranked by happiness\",\"marker\":{\"color\":\"green\",\"symbol\":\"circle\"},\"mode\":\"lines\",\"name\":\"Top 5 Countries ranked by happiness\",\"showlegend\":false,\"x\":[1.305,1.343,1.351,1.42,1.456],\"xaxis\":\"x\",\"y\":[7.568241654514126,7.559750470635033,7.557962852976277,7.5425446506695035,7.534500371205101],\"yaxis\":\"y\",\"type\":\"scatter\"},{\"customdata\":[[\"Netherlands\"],[\"Canada\"],[\"New Zealand\"],[\"Sweden\"],[\"Australia\"],[\"United Kingdom\"],[\"Austria\"],[\"Costa Rica\"],[\"Ireland\"],[\"Germany\"],[\"Belgium\"],[\"Luxembourg\"],[\"United States\"],[\"Israel\"],[\"United Arab Emirates\"],[\"Czech Republic\"],[\"Malta\"],[\"France\"],[\"Mexico\"],[\"Chile\"],[\"Taiwan\"],[\"Panama\"],[\"Brazil\"],[\"Argentina\"],[\"Guatemala\"],[\"Uruguay\"],[\"Qatar\"],[\"Saudi Arabia\"],[\"Singapore\"],[\"Malaysia\"],[\"Spain\"],[\"Colombia\"],[\"Trinidad & Tobago\"],[\"Slovakia\"],[\"El Salvador\"],[\"Nicaragua\"],[\"Poland\"],[\"Bahrain\"],[\"Uzbekistan\"],[\"Kuwait\"],[\"Thailand\"],[\"Italy\"],[\"Ecuador\"],[\"Belize\"],[\"Lithuania\"],[\"Slovenia\"],[\"Romania\"],[\"Latvia\"],[\"Japan\"],[\"Mauritius\"],[\"Jamaica\"],[\"South Korea\"],[\"Northern Cyprus\"],[\"Russia\"],[\"Kazakhstan\"],[\"Cyprus\"],[\"Bolivia\"],[\"Estonia\"],[\"Paraguay\"],[\"Peru\"],[\"Kosovo\"],[\"Moldova\"],[\"Turkmenistan\"],[\"Hungary\"],[\"Libya\"],[\"Philippines\"],[\"Honduras\"],[\"Belarus\"],[\"Turkey\"],[\"Pakistan\"],[\"Hong Kong\"],[\"Portugal\"],[\"Serbia\"],[\"Greece\"],[\"Lebanon\"],[\"Montenegro\"],[\"Croatia\"],[\"Dominican Republic\"],[\"Algeria\"],[\"Morocco\"],[\"China\"],[\"Azerbaijan\"],[\"Tajikistan\"],[\"Macedonia\"],[\"Jordan\"],[\"Nigeria\"],[\"Kyrgyzstan\"],[\"Bosnia and Herzegovina\"],[\"Mongolia\"],[\"Vietnam\"],[\"Indonesia\"],[\"Bhutan\"],[\"Somalia\"],[\"Cameroon\"],[\"Bulgaria\"],[\"Nepal\"],[\"Venezuela\"],[\"Gabon\"],[\"Palestinian Territories\"],[\"South Africa\"],[\"Iran\"],[\"Ivory Coast\"],[\"Ghana\"],[\"Senegal\"],[\"Laos\"],[\"Tunisia\"],[\"Albania\"],[\"Sierra Leone\"],[\"Congo (Brazzaville)\"],[\"Bangladesh\"],[\"Sri Lanka\"],[\"Iraq\"],[\"Mali\"],[\"Namibia\"],[\"Cambodia\"],[\"Burkina Faso\"],[\"Egypt\"],[\"Mozambique\"],[\"Kenya\"],[\"Zambia\"],[\"Mauritania\"],[\"Ethiopia\"],[\"Georgia\"],[\"Armenia\"],[\"Myanmar\"],[\"Chad\"],[\"Congo (Kinshasa)\"],[\"India\"],[\"Niger\"],[\"Uganda\"],[\"Benin\"],[\"Sudan\"],[\"Ukraine\"],[\"Togo\"],[\"Guinea\"],[\"Lesotho\"],[\"Angola\"],[\"Madagascar\"],[\"Zimbabwe\"],[\"Afghanistan\"],[\"Botswana\"],[\"Malawi\"],[\"Haiti\"],[\"Liberia\"],[\"Syria\"],[\"Rwanda\"]],\"hovertemplate\":\"GDP per capita: %{y}\\u003cbr\\u003eHappiness Score: %{x}\\u003cbr\\u003eCountry Name: %{customdata[0]}\",\"legendgroup\":\"Other Countries\",\"marker\":{\"color\":\"blue\",\"symbol\":\"circle\"},\"mode\":\"markers\",\"name\":\"Other Countries\",\"orientation\":\"v\",\"showlegend\":true,\"x\":[1.361,1.33,1.268,1.355,1.34,1.244,1.341,1.01,1.448,1.34,1.324,1.576,1.398,1.301,2.096,1.233,1.27,1.293,1.038,1.131,1.365,1.112,0.986,1.073,0.781,1.093,1.649,1.379,1.529,1.161,1.251,0.96,1.223,1.21,0.806,0.668,1.176,1.338,0.719,1.474,1.016,1.264,0.889,0.807,1.197,1.219,1.116,1.148,1.294,1.09,0.819,1.266,1.229,1.151,1.143,1.229,0.751,1.2,0.835,0.934,0.855,0.657,1.016,1.171,0.985,0.775,0.62,1.039,1.148,0.652,1.405,1.188,0.975,1.154,0.965,1.017,1.115,0.982,0.979,0.779,0.989,1.024,0.474,0.959,0.822,0.689,0.53,0.915,0.914,0.715,0.899,0.796,0.0,0.535,1.054,0.425,0.996,1.036,0.642,0.94,1.059,0.541,0.592,0.429,0.72,0.9,0.916,0.256,0.682,0.532,0.918,1.01,0.37,0.874,0.549,0.314,0.885,0.198,0.493,0.562,0.557,0.308,0.853,0.816,0.682,0.358,0.069,0.721,0.131,0.322,0.378,0.605,0.793,0.259,0.344,0.472,0.73,0.262,0.357,0.332,1.017,0.186,0.315,0.076,0.689,0.332],\"xaxis\":\"x\",\"y\":[7.441,7.328,7.324,7.314,7.272,7.19,7.139,7.072,6.977,6.965,6.927,6.91,6.886,6.814,6.774,6.711,6.627,6.489,6.488,6.476,6.441,6.43,6.419,6.388,6.382,6.379,6.374,6.371,6.343,6.322,6.31,6.26,6.192,6.173,6.167,6.141,6.123,6.105,6.096,6.083,6.072,6.0,5.973,5.956,5.952,5.948,5.945,5.933,5.915,5.891,5.89,5.875,5.835,5.81,5.79,5.762,5.752,5.739,5.681,5.663,5.662,5.64,5.636,5.62,5.566,5.524,5.504,5.483,5.483,5.472,5.43,5.41,5.398,5.358,5.358,5.347,5.321,5.302,5.295,5.254,5.246,5.201,5.199,5.185,5.161,5.155,5.131,5.129,5.125,5.103,5.093,5.082,4.982,4.975,4.933,4.88,4.806,4.758,4.743,4.724,4.707,4.671,4.657,4.631,4.623,4.592,4.586,4.571,4.559,4.5,4.471,4.456,4.447,4.441,4.433,4.424,4.419,4.417,4.41,4.377,4.356,4.35,4.34,4.321,4.308,4.301,4.245,4.19,4.166,4.161,4.141,4.139,4.103,3.999,3.964,3.808,3.795,3.774,3.692,3.632,3.59,3.587,3.582,3.495,3.462,3.408],\"yaxis\":\"y\",\"type\":\"scatter\"},{\"hovertemplate\":\"GDP per capita: %{y}\\u003cbr\\u003eHappiness Score: %{x}\\u003cbr\\u003eCountry Name: %{customdata[0]}\",\"legendgroup\":\"Other Countries\",\"marker\":{\"color\":\"blue\",\"symbol\":\"circle\"},\"mode\":\"lines\",\"name\":\"Other Countries\",\"showlegend\":false,\"x\":[0.0,0.069,0.076,0.131,0.186,0.198,0.256,0.259,0.262,0.308,0.314,0.315,0.322,0.332,0.332,0.344,0.357,0.358,0.37,0.378,0.425,0.429,0.472,0.474,0.493,0.53,0.532,0.535,0.541,0.549,0.557,0.562,0.592,0.605,0.62,0.642,0.652,0.657,0.668,0.682,0.682,0.689,0.689,0.715,0.719,0.72,0.721,0.73,0.751,0.775,0.779,0.781,0.793,0.796,0.806,0.807,0.816,0.819,0.822,0.835,0.853,0.855,0.874,0.885,0.889,0.899,0.9,0.914,0.915,0.916,0.918,0.934,0.94,0.959,0.96,0.965,0.975,0.979,0.982,0.985,0.986,0.989,0.996,1.01,1.01,1.016,1.016,1.017,1.017,1.024,1.036,1.038,1.039,1.054,1.059,1.073,1.09,1.093,1.112,1.115,1.116,1.131,1.143,1.148,1.148,1.151,1.154,1.161,1.171,1.176,1.188,1.197,1.2,1.21,1.219,1.223,1.229,1.229,1.233,1.244,1.251,1.264,1.266,1.268,1.27,1.293,1.294,1.301,1.324,1.33,1.338,1.34,1.34,1.341,1.355,1.361,1.365,1.379,1.398,1.405,1.448,1.474,1.529,1.576,1.649,2.096],\"xaxis\":\"x\",\"y\":[3.5283922323558228,3.6706905513302153,3.6851266126754436,3.7985528089593794,3.9119790052433157,3.9367265389779926,4.056339618695598,4.062526502129267,4.068713385562936,4.163578931545865,4.175952698413203,4.178014992891093,4.192451054236321,4.213073999015219,4.213073999015219,4.237821532749895,4.264631360962462,4.266693655440352,4.291441189175028,4.307939544998147,4.404867385458965,4.413116563370524,4.501795225919783,4.505919814875562,4.545103409955468,4.621408305637388,4.625532894593168,4.631719778026837,4.644093544894176,4.660591900717294,4.677090256540412,4.68740172892986,4.749270563266553,4.776080391479119,4.807014808647465,4.85238528716104,4.873008231939937,4.883319704329386,4.906004943586173,4.93487706627663,4.93487706627663,4.949313127621858,4.949313127621858,5.002932784046991,5.01118196195855,5.0132442564364394,5.01530655091433,5.033867201215338,5.077175385251022,5.126670452720376,5.134919630631935,5.139044219587714,5.163791753322392,5.169978636756061,5.190601581534958,5.192663876012848,5.211224526313855,5.217411409747525,5.223598293181194,5.250408121393761,5.287529421995776,5.2916540109515555,5.33083760603146,5.353522845288248,5.361772023199807,5.382394967978705,5.3844572624565945,5.413329385147051,5.415391679624941,5.4174539741028305,5.42157856305861,5.454575274704846,5.4669490415721835,5.506132636652089,5.508194931129979,5.518506403519428,5.539129348298325,5.547378526209884,5.553565409643554,5.5597522930772225,5.561814587555112,5.568001470988782,5.582437532334009,5.611309655024466,5.611309655024466,5.623683421891805,5.623683421891805,5.6257457163696944,5.6257457163696944,5.640181777714923,5.6649293114496,5.6690539004053795,5.671116194883269,5.7020506120516155,5.712362084441064,5.74123420713152,5.776293213255646,5.782480096689315,5.821663691769221,5.8278505752028895,5.82991286968078,5.8608472868491255,5.885594820583803,5.895906292973251,5.895906292973251,5.902093176406921,5.90828005984059,5.922716121185818,5.943339065964715,5.953650538354164,5.978398072088841,5.996958722389849,6.0031456058235175,6.023768550602416,6.042329200903423,6.050578378814983,6.0629521456823205,6.0629521456823205,6.07120132359388,6.093886562850667,6.108322624195895,6.135132452408462,6.1392570413642416,6.143381630320021,6.1475062192758,6.194938992267264,6.197001286745154,6.211437348090382,6.258870121081847,6.271243887949185,6.287742243772303,6.291866832728083,6.291866832728083,6.293929127205972,6.322801249896429,6.335175016763767,6.343424194675326,6.372296317365783,6.411479912445688,6.425915973790916,6.514594636340175,6.568214292765308,6.6816404890492445,6.778568329510063,6.929115826396014,7.850961458012731],\"yaxis\":\"y\",\"type\":\"scatter\"},{\"customdata\":[[\"Yemen\"],[\"Tanzania\"],[\"South Sudan\"],[\"Central African Republic\"],[\"Burundi\"]],\"hovertemplate\":\"GDP per capita: %{y}\\u003cbr\\u003eHappiness Score: %{x}\\u003cbr\\u003eCountry Name: %{customdata[0]}\",\"legendgroup\":\"Bottom 5 ranked by happiness\",\"marker\":{\"color\":\"red\",\"symbol\":\"circle\"},\"mode\":\"markers\",\"name\":\"Bottom 5 ranked by happiness\",\"orientation\":\"v\",\"showlegend\":true,\"x\":[0.442,0.455,0.337,0.024,0.091],\"xaxis\":\"x\",\"y\":[3.355,3.303,3.254,3.083,2.905],\"yaxis\":\"y\",\"type\":\"scatter\"},{\"hovertemplate\":\"GDP per capita: %{y}\\u003cbr\\u003eHappiness Score: %{x}\\u003cbr\\u003eCountry Name: %{customdata[0]}\",\"legendgroup\":\"Bottom 5 ranked by happiness\",\"marker\":{\"color\":\"red\",\"symbol\":\"circle\"},\"mode\":\"lines\",\"name\":\"Bottom 5 ranked by happiness\",\"showlegend\":false,\"x\":[0.024,0.091,0.337,0.442,0.455],\"xaxis\":\"x\",\"y\":[2.979973516488161,3.034496601904325,3.2346858408950174,3.3201324672934835,3.330711573419008],\"yaxis\":\"y\",\"type\":\"scatter\"}],                        {\"template\":{\"data\":{\"histogram2dcontour\":[{\"type\":\"histogram2dcontour\",\"colorbar\":{\"outlinewidth\":0,\"ticks\":\"\"},\"colorscale\":[[0.0,\"#0d0887\"],[0.1111111111111111,\"#46039f\"],[0.2222222222222222,\"#7201a8\"],[0.3333333333333333,\"#9c179e\"],[0.4444444444444444,\"#bd3786\"],[0.5555555555555556,\"#d8576b\"],[0.6666666666666666,\"#ed7953\"],[0.7777777777777778,\"#fb9f3a\"],[0.8888888888888888,\"#fdca26\"],[1.0,\"#f0f921\"]]}],\"choropleth\":[{\"type\":\"choropleth\",\"colorbar\":{\"outlinewidth\":0,\"ticks\":\"\"}}],\"histogram2d\":[{\"type\":\"histogram2d\",\"colorbar\":{\"outlinewidth\":0,\"ticks\":\"\"},\"colorscale\":[[0.0,\"#0d0887\"],[0.1111111111111111,\"#46039f\"],[0.2222222222222222,\"#7201a8\"],[0.3333333333333333,\"#9c179e\"],[0.4444444444444444,\"#bd3786\"],[0.5555555555555556,\"#d8576b\"],[0.6666666666666666,\"#ed7953\"],[0.7777777777777778,\"#fb9f3a\"],[0.8888888888888888,\"#fdca26\"],[1.0,\"#f0f921\"]]}],\"heatmap\":[{\"type\":\"heatmap\",\"colorbar\":{\"outlinewidth\":0,\"ticks\":\"\"},\"colorscale\":[[0.0,\"#0d0887\"],[0.1111111111111111,\"#46039f\"],[0.2222222222222222,\"#7201a8\"],[0.3333333333333333,\"#9c179e\"],[0.4444444444444444,\"#bd3786\"],[0.5555555555555556,\"#d8576b\"],[0.6666666666666666,\"#ed7953\"],[0.7777777777777778,\"#fb9f3a\"],[0.8888888888888888,\"#fdca26\"],[1.0,\"#f0f921\"]]}],\"heatmapgl\":[{\"type\":\"heatmapgl\",\"colorbar\":{\"outlinewidth\":0,\"ticks\":\"\"},\"colorscale\":[[0.0,\"#0d0887\"],[0.1111111111111111,\"#46039f\"],[0.2222222222222222,\"#7201a8\"],[0.3333333333333333,\"#9c179e\"],[0.4444444444444444,\"#bd3786\"],[0.5555555555555556,\"#d8576b\"],[0.6666666666666666,\"#ed7953\"],[0.7777777777777778,\"#fb9f3a\"],[0.8888888888888888,\"#fdca26\"],[1.0,\"#f0f921\"]]}],\"contourcarpet\":[{\"type\":\"contourcarpet\",\"colorbar\":{\"outlinewidth\":0,\"ticks\":\"\"}}],\"contour\":[{\"type\":\"contour\",\"colorbar\":{\"outlinewidth\":0,\"ticks\":\"\"},\"colorscale\":[[0.0,\"#0d0887\"],[0.1111111111111111,\"#46039f\"],[0.2222222222222222,\"#7201a8\"],[0.3333333333333333,\"#9c179e\"],[0.4444444444444444,\"#bd3786\"],[0.5555555555555556,\"#d8576b\"],[0.6666666666666666,\"#ed7953\"],[0.7777777777777778,\"#fb9f3a\"],[0.8888888888888888,\"#fdca26\"],[1.0,\"#f0f921\"]]}],\"surface\":[{\"type\":\"surface\",\"colorbar\":{\"outlinewidth\":0,\"ticks\":\"\"},\"colorscale\":[[0.0,\"#0d0887\"],[0.1111111111111111,\"#46039f\"],[0.2222222222222222,\"#7201a8\"],[0.3333333333333333,\"#9c179e\"],[0.4444444444444444,\"#bd3786\"],[0.5555555555555556,\"#d8576b\"],[0.6666666666666666,\"#ed7953\"],[0.7777777777777778,\"#fb9f3a\"],[0.8888888888888888,\"#fdca26\"],[1.0,\"#f0f921\"]]}],\"mesh3d\":[{\"type\":\"mesh3d\",\"colorbar\":{\"outlinewidth\":0,\"ticks\":\"\"}}],\"scatter\":[{\"fillpattern\":{\"fillmode\":\"overlay\",\"size\":10,\"solidity\":0.2},\"type\":\"scatter\"}],\"parcoords\":[{\"type\":\"parcoords\",\"line\":{\"colorbar\":{\"outlinewidth\":0,\"ticks\":\"\"}}}],\"scatterpolargl\":[{\"type\":\"scatterpolargl\",\"marker\":{\"colorbar\":{\"outlinewidth\":0,\"ticks\":\"\"}}}],\"bar\":[{\"error_x\":{\"color\":\"#2a3f5f\"},\"error_y\":{\"color\":\"#2a3f5f\"},\"marker\":{\"line\":{\"color\":\"#E5ECF6\",\"width\":0.5},\"pattern\":{\"fillmode\":\"overlay\",\"size\":10,\"solidity\":0.2}},\"type\":\"bar\"}],\"scattergeo\":[{\"type\":\"scattergeo\",\"marker\":{\"colorbar\":{\"outlinewidth\":0,\"ticks\":\"\"}}}],\"scatterpolar\":[{\"type\":\"scatterpolar\",\"marker\":{\"colorbar\":{\"outlinewidth\":0,\"ticks\":\"\"}}}],\"histogram\":[{\"marker\":{\"pattern\":{\"fillmode\":\"overlay\",\"size\":10,\"solidity\":0.2}},\"type\":\"histogram\"}],\"scattergl\":[{\"type\":\"scattergl\",\"marker\":{\"colorbar\":{\"outlinewidth\":0,\"ticks\":\"\"}}}],\"scatter3d\":[{\"type\":\"scatter3d\",\"line\":{\"colorbar\":{\"outlinewidth\":0,\"ticks\":\"\"}},\"marker\":{\"colorbar\":{\"outlinewidth\":0,\"ticks\":\"\"}}}],\"scattermapbox\":[{\"type\":\"scattermapbox\",\"marker\":{\"colorbar\":{\"outlinewidth\":0,\"ticks\":\"\"}}}],\"scatterternary\":[{\"type\":\"scatterternary\",\"marker\":{\"colorbar\":{\"outlinewidth\":0,\"ticks\":\"\"}}}],\"scattercarpet\":[{\"type\":\"scattercarpet\",\"marker\":{\"colorbar\":{\"outlinewidth\":0,\"ticks\":\"\"}}}],\"carpet\":[{\"aaxis\":{\"endlinecolor\":\"#2a3f5f\",\"gridcolor\":\"white\",\"linecolor\":\"white\",\"minorgridcolor\":\"white\",\"startlinecolor\":\"#2a3f5f\"},\"baxis\":{\"endlinecolor\":\"#2a3f5f\",\"gridcolor\":\"white\",\"linecolor\":\"white\",\"minorgridcolor\":\"white\",\"startlinecolor\":\"#2a3f5f\"},\"type\":\"carpet\"}],\"table\":[{\"cells\":{\"fill\":{\"color\":\"#EBF0F8\"},\"line\":{\"color\":\"white\"}},\"header\":{\"fill\":{\"color\":\"#C8D4E3\"},\"line\":{\"color\":\"white\"}},\"type\":\"table\"}],\"barpolar\":[{\"marker\":{\"line\":{\"color\":\"#E5ECF6\",\"width\":0.5},\"pattern\":{\"fillmode\":\"overlay\",\"size\":10,\"solidity\":0.2}},\"type\":\"barpolar\"}],\"pie\":[{\"automargin\":true,\"type\":\"pie\"}]},\"layout\":{\"autotypenumbers\":\"strict\",\"colorway\":[\"#636efa\",\"#EF553B\",\"#00cc96\",\"#ab63fa\",\"#FFA15A\",\"#19d3f3\",\"#FF6692\",\"#B6E880\",\"#FF97FF\",\"#FECB52\"],\"font\":{\"color\":\"#2a3f5f\"},\"hovermode\":\"closest\",\"hoverlabel\":{\"align\":\"left\"},\"paper_bgcolor\":\"white\",\"plot_bgcolor\":\"#E5ECF6\",\"polar\":{\"bgcolor\":\"#E5ECF6\",\"angularaxis\":{\"gridcolor\":\"white\",\"linecolor\":\"white\",\"ticks\":\"\"},\"radialaxis\":{\"gridcolor\":\"white\",\"linecolor\":\"white\",\"ticks\":\"\"}},\"ternary\":{\"bgcolor\":\"#E5ECF6\",\"aaxis\":{\"gridcolor\":\"white\",\"linecolor\":\"white\",\"ticks\":\"\"},\"baxis\":{\"gridcolor\":\"white\",\"linecolor\":\"white\",\"ticks\":\"\"},\"caxis\":{\"gridcolor\":\"white\",\"linecolor\":\"white\",\"ticks\":\"\"}},\"coloraxis\":{\"colorbar\":{\"outlinewidth\":0,\"ticks\":\"\"}},\"colorscale\":{\"sequential\":[[0.0,\"#0d0887\"],[0.1111111111111111,\"#46039f\"],[0.2222222222222222,\"#7201a8\"],[0.3333333333333333,\"#9c179e\"],[0.4444444444444444,\"#bd3786\"],[0.5555555555555556,\"#d8576b\"],[0.6666666666666666,\"#ed7953\"],[0.7777777777777778,\"#fb9f3a\"],[0.8888888888888888,\"#fdca26\"],[1.0,\"#f0f921\"]],\"sequentialminus\":[[0.0,\"#0d0887\"],[0.1111111111111111,\"#46039f\"],[0.2222222222222222,\"#7201a8\"],[0.3333333333333333,\"#9c179e\"],[0.4444444444444444,\"#bd3786\"],[0.5555555555555556,\"#d8576b\"],[0.6666666666666666,\"#ed7953\"],[0.7777777777777778,\"#fb9f3a\"],[0.8888888888888888,\"#fdca26\"],[1.0,\"#f0f921\"]],\"diverging\":[[0,\"#8e0152\"],[0.1,\"#c51b7d\"],[0.2,\"#de77ae\"],[0.3,\"#f1b6da\"],[0.4,\"#fde0ef\"],[0.5,\"#f7f7f7\"],[0.6,\"#e6f5d0\"],[0.7,\"#b8e186\"],[0.8,\"#7fbc41\"],[0.9,\"#4d9221\"],[1,\"#276419\"]]},\"xaxis\":{\"gridcolor\":\"white\",\"linecolor\":\"white\",\"ticks\":\"\",\"title\":{\"standoff\":15},\"zerolinecolor\":\"white\",\"automargin\":true,\"zerolinewidth\":2},\"yaxis\":{\"gridcolor\":\"white\",\"linecolor\":\"white\",\"ticks\":\"\",\"title\":{\"standoff\":15},\"zerolinecolor\":\"white\",\"automargin\":true,\"zerolinewidth\":2},\"scene\":{\"xaxis\":{\"backgroundcolor\":\"#E5ECF6\",\"gridcolor\":\"white\",\"linecolor\":\"white\",\"showbackground\":true,\"ticks\":\"\",\"zerolinecolor\":\"white\",\"gridwidth\":2},\"yaxis\":{\"backgroundcolor\":\"#E5ECF6\",\"gridcolor\":\"white\",\"linecolor\":\"white\",\"showbackground\":true,\"ticks\":\"\",\"zerolinecolor\":\"white\",\"gridwidth\":2},\"zaxis\":{\"backgroundcolor\":\"#E5ECF6\",\"gridcolor\":\"white\",\"linecolor\":\"white\",\"showbackground\":true,\"ticks\":\"\",\"zerolinecolor\":\"white\",\"gridwidth\":2}},\"shapedefaults\":{\"line\":{\"color\":\"#2a3f5f\"}},\"annotationdefaults\":{\"arrowcolor\":\"#2a3f5f\",\"arrowhead\":0,\"arrowwidth\":1},\"geo\":{\"bgcolor\":\"white\",\"landcolor\":\"#E5ECF6\",\"subunitcolor\":\"white\",\"showland\":true,\"showlakes\":true,\"lakecolor\":\"white\"},\"title\":{\"x\":0.05},\"mapbox\":{\"style\":\"light\"}}},\"xaxis\":{\"anchor\":\"y\",\"domain\":[0.0,1.0],\"title\":{\"text\":\"GDP per capita\"}},\"yaxis\":{\"anchor\":\"x\",\"domain\":[0.0,1.0],\"title\":{\"text\":\"Happiness Score\"}},\"legend\":{\"title\":{\"text\":\"color\"},\"tracegroupgap\":0},\"title\":{\"text\":\"ScatterPlot: GDP per capita and Happiness Score\",\"x\":0.5}},                        {\"responsive\": true}                    ).then(function(){\n",
       "                            \n",
       "var gd = document.getElementById('9749d650-3bb0-464c-86de-2a840d7c3100');\n",
       "var x = new MutationObserver(function (mutations, observer) {{\n",
       "        var display = window.getComputedStyle(gd).display;\n",
       "        if (!display || display === 'none') {{\n",
       "            console.log([gd, 'removed!']);\n",
       "            Plotly.purge(gd);\n",
       "            observer.disconnect();\n",
       "        }}\n",
       "}});\n",
       "\n",
       "// Listen for the removal of the full notebook cells\n",
       "var notebookContainer = gd.closest('#notebook-container');\n",
       "if (notebookContainer) {{\n",
       "    x.observe(notebookContainer, {childList: true});\n",
       "}}\n",
       "\n",
       "// Listen for the clearing of the current output cell\n",
       "var outputEl = gd.closest('.output');\n",
       "if (outputEl) {{\n",
       "    x.observe(outputEl, {childList: true});\n",
       "}}\n",
       "\n",
       "                        })                };                });            </script>        </div>"
      ]
     },
     "metadata": {},
     "output_type": "display_data"
    }
   ],
   "source": [
    "country_col = 'Country Name'\n",
    "world_happiness_index.loc[world_happiness_index[country_col].isin(top_hap_5[country_col].to_list()),'color'] = 'Top 5 Countries ranked by happiness'\n",
    "world_happiness_index.loc[world_happiness_index[country_col].isin(bottom_hap_5[country_col].to_list()),'color'] = 'Bottom 5 ranked by happiness'\n",
    "world_happiness_index.loc[~world_happiness_index[country_col].isin(bottom_hap_5[country_col].to_list()+top_hap_5[country_col].to_list()),'color'] = 'Other Countries'\n",
    "fig = px.scatter(data_frame=world_happiness_index,x='GDP per capita',y='Happiness Score',color='color',\n",
    "                 color_discrete_map={'Top 5 Countries ranked by happiness': 'green', 'Bottom 5 ranked by happiness': 'red','Other Countries':'blue'},\n",
    "                 title=\"ScatterPlot: GDP per capita and Happiness Score\",custom_data=[country_col], trendline = \"ols\")\n",
    "# Note - install statsmodels for trendlines\n",
    "fig.update_traces(\n",
    "    hovertemplate=\"<br>\".join([\n",
    "        \"GDP per capita: %{y}\",\n",
    "        \"Happiness Score: %{x}\",\n",
    "        \"Country Name: %{customdata[0]}\",\n",
    "    ])\n",
    ")\n",
    "# Customize axis labels\n",
    "fig.update_layout(\n",
    "    xaxis_title=\"GDP per capita\",\n",
    "    yaxis_title=\"Happiness Score\",\n",
    "    title_x=0.5 # center title\n",
    ")\n",
    "fig.show()"
   ]
  },
  {
   "cell_type": "code",
   "execution_count": 9,
   "id": "8f48bbe2-b74f-4f60-95f9-d3c98300509d",
   "metadata": {},
   "outputs": [
    {
     "name": "stderr",
     "output_type": "stream",
     "text": [
      "/Users/darshanakrishnamony/anaconda3/envs/cic/lib/python3.12/site-packages/statsmodels/stats/stattools.py:74: ValueWarning:\n",
      "\n",
      "omni_normtest is not valid with less than 8 observations; 5 samples were given.\n",
      "\n"
     ]
    },
    {
     "data": {
      "text/html": [
       "<table class=\"simpletable\">\n",
       "<caption>OLS Regression Results</caption>\n",
       "<tr>\n",
       "  <th>Dep. Variable:</th>            <td>y</td>        <th>  R-squared:         </th> <td>   0.048</td>\n",
       "</tr>\n",
       "<tr>\n",
       "  <th>Model:</th>                   <td>OLS</td>       <th>  Adj. R-squared:    </th> <td>  -0.269</td>\n",
       "</tr>\n",
       "<tr>\n",
       "  <th>Method:</th>             <td>Least Squares</td>  <th>  F-statistic:       </th> <td>  0.1517</td>\n",
       "</tr>\n",
       "<tr>\n",
       "  <th>Date:</th>             <td>Tue, 10 Dec 2024</td> <th>  Prob (F-statistic):</th>  <td> 0.723</td> \n",
       "</tr>\n",
       "<tr>\n",
       "  <th>Time:</th>                 <td>22:20:54</td>     <th>  Log-Likelihood:    </th> <td>  7.4462</td>\n",
       "</tr>\n",
       "<tr>\n",
       "  <th>No. Observations:</th>      <td>     5</td>      <th>  AIC:               </th> <td>  -10.89</td>\n",
       "</tr>\n",
       "<tr>\n",
       "  <th>Df Residuals:</th>          <td>     3</td>      <th>  BIC:               </th> <td>  -11.67</td>\n",
       "</tr>\n",
       "<tr>\n",
       "  <th>Df Model:</th>              <td>     1</td>      <th>                     </th>     <td> </td>   \n",
       "</tr>\n",
       "<tr>\n",
       "  <th>Covariance Type:</th>      <td>nonrobust</td>    <th>                     </th>     <td> </td>   \n",
       "</tr>\n",
       "</table>\n",
       "<table class=\"simpletable\">\n",
       "<tr>\n",
       "    <td></td>       <th>coef</th>     <th>std err</th>      <th>t</th>      <th>P>|t|</th>  <th>[0.025</th>    <th>0.975]</th>  \n",
       "</tr>\n",
       "<tr>\n",
       "  <th>const</th> <td>    7.8598</td> <td>    0.789</td> <td>    9.957</td> <td> 0.002</td> <td>    5.348</td> <td>   10.372</td>\n",
       "</tr>\n",
       "<tr>\n",
       "  <th>x1</th>    <td>   -0.2235</td> <td>    0.574</td> <td>   -0.390</td> <td> 0.723</td> <td>   -2.049</td> <td>    1.602</td>\n",
       "</tr>\n",
       "</table>\n",
       "<table class=\"simpletable\">\n",
       "<tr>\n",
       "  <th>Omnibus:</th>       <td>   nan</td> <th>  Durbin-Watson:     </th> <td>   2.440</td>\n",
       "</tr>\n",
       "<tr>\n",
       "  <th>Prob(Omnibus):</th> <td>   nan</td> <th>  Jarque-Bera (JB):  </th> <td>   0.627</td>\n",
       "</tr>\n",
       "<tr>\n",
       "  <th>Skew:</th>          <td> 0.033</td> <th>  Prob(JB):          </th> <td>   0.731</td>\n",
       "</tr>\n",
       "<tr>\n",
       "  <th>Kurtosis:</th>      <td> 1.266</td> <th>  Cond. No.          </th> <td>    52.7</td>\n",
       "</tr>\n",
       "</table><br/><br/>Notes:<br/>[1] Standard Errors assume that the covariance matrix of the errors is correctly specified."
      ],
      "text/latex": [
       "\\begin{center}\n",
       "\\begin{tabular}{lclc}\n",
       "\\toprule\n",
       "\\textbf{Dep. Variable:}    &        y         & \\textbf{  R-squared:         } &     0.048   \\\\\n",
       "\\textbf{Model:}            &       OLS        & \\textbf{  Adj. R-squared:    } &    -0.269   \\\\\n",
       "\\textbf{Method:}           &  Least Squares   & \\textbf{  F-statistic:       } &    0.1517   \\\\\n",
       "\\textbf{Date:}             & Tue, 10 Dec 2024 & \\textbf{  Prob (F-statistic):} &    0.723    \\\\\n",
       "\\textbf{Time:}             &     22:20:54     & \\textbf{  Log-Likelihood:    } &    7.4462   \\\\\n",
       "\\textbf{No. Observations:} &           5      & \\textbf{  AIC:               } &    -10.89   \\\\\n",
       "\\textbf{Df Residuals:}     &           3      & \\textbf{  BIC:               } &    -11.67   \\\\\n",
       "\\textbf{Df Model:}         &           1      & \\textbf{                     } &             \\\\\n",
       "\\textbf{Covariance Type:}  &    nonrobust     & \\textbf{                     } &             \\\\\n",
       "\\bottomrule\n",
       "\\end{tabular}\n",
       "\\begin{tabular}{lcccccc}\n",
       "               & \\textbf{coef} & \\textbf{std err} & \\textbf{t} & \\textbf{P$> |$t$|$} & \\textbf{[0.025} & \\textbf{0.975]}  \\\\\n",
       "\\midrule\n",
       "\\textbf{const} &       7.8598  &        0.789     &     9.957  &         0.002        &        5.348    &       10.372     \\\\\n",
       "\\textbf{x1}    &      -0.2235  &        0.574     &    -0.390  &         0.723        &       -2.049    &        1.602     \\\\\n",
       "\\bottomrule\n",
       "\\end{tabular}\n",
       "\\begin{tabular}{lclc}\n",
       "\\textbf{Omnibus:}       &    nan & \\textbf{  Durbin-Watson:     } &    2.440  \\\\\n",
       "\\textbf{Prob(Omnibus):} &    nan & \\textbf{  Jarque-Bera (JB):  } &    0.627  \\\\\n",
       "\\textbf{Skew:}          &  0.033 & \\textbf{  Prob(JB):          } &    0.731  \\\\\n",
       "\\textbf{Kurtosis:}      &  1.266 & \\textbf{  Cond. No.          } &     52.7  \\\\\n",
       "\\bottomrule\n",
       "\\end{tabular}\n",
       "%\\caption{OLS Regression Results}\n",
       "\\end{center}\n",
       "\n",
       "Notes: \\newline\n",
       " [1] Standard Errors assume that the covariance matrix of the errors is correctly specified."
      ],
      "text/plain": [
       "<class 'statsmodels.iolib.summary.Summary'>\n",
       "\"\"\"\n",
       "                            OLS Regression Results                            \n",
       "==============================================================================\n",
       "Dep. Variable:                      y   R-squared:                       0.048\n",
       "Model:                            OLS   Adj. R-squared:                 -0.269\n",
       "Method:                 Least Squares   F-statistic:                    0.1517\n",
       "Date:                Tue, 10 Dec 2024   Prob (F-statistic):              0.723\n",
       "Time:                        22:20:54   Log-Likelihood:                 7.4462\n",
       "No. Observations:                   5   AIC:                            -10.89\n",
       "Df Residuals:                       3   BIC:                            -11.67\n",
       "Df Model:                           1                                         \n",
       "Covariance Type:            nonrobust                                         \n",
       "==============================================================================\n",
       "                 coef    std err          t      P>|t|      [0.025      0.975]\n",
       "------------------------------------------------------------------------------\n",
       "const          7.8598      0.789      9.957      0.002       5.348      10.372\n",
       "x1            -0.2235      0.574     -0.390      0.723      -2.049       1.602\n",
       "==============================================================================\n",
       "Omnibus:                          nan   Durbin-Watson:                   2.440\n",
       "Prob(Omnibus):                    nan   Jarque-Bera (JB):                0.627\n",
       "Skew:                           0.033   Prob(JB):                        0.731\n",
       "Kurtosis:                       1.266   Cond. No.                         52.7\n",
       "==============================================================================\n",
       "\n",
       "Notes:\n",
       "[1] Standard Errors assume that the covariance matrix of the errors is correctly specified.\n",
       "\"\"\""
      ]
     },
     "execution_count": 9,
     "metadata": {},
     "output_type": "execute_result"
    }
   ],
   "source": [
    "results = px.get_trendline_results(fig)\n",
    "results.iloc[0,1].summary()"
   ]
  },
  {
   "cell_type": "markdown",
   "id": "d2a63a6c-a22b-459d-9f20-cb5363e29581",
   "metadata": {},
   "source": [
    "The scatterplot above confirms the hypothesis that GDP per Capita and Happiness scores are strongly positively correlated. We can also see that the African countries with the lowest happiness scores have some of the lowest levels of GDP per capita while the western European countries that ranked higest on happiness have some of the highest GDP per capita. This is a good proxy to understand the resources at a government's disposal to cater to an average citizen."
   ]
  },
  {
   "cell_type": "markdown",
   "id": "36d9f5ec-53d5-4255-a83c-6a5d09359cde",
   "metadata": {},
   "source": [
    "### 2. Healthy life expectancy and Happiness Score\n",
    "\n",
    "Another important d river of a subjective well-being measure such as 'Happiness' would be the quality of life that an average citizen of the country is likely to experience. One way of proxying for quality of life is estimating the 'Healthy life expectancy' i.e. A \"healthy life expectancy\" value between 0 and 1 represents a probability, where a number closer to 1 indicates a higher proportion of life lived in good health, while a number closer to 0 signifies a larger portion of life spent in a less healthy state; essentially, it shows the likelihood of living a significant portion of one's life in good health, with 1 representing perfect health throughout life and 0 representing no healthy years at all. \n",
    "\n",
    "So let's look at the correlation between Healthy life expectancy and Happiness with the hypothesis that higher the Healthy life expectancy, higher the Happiness score."
   ]
  },
  {
   "cell_type": "code",
   "execution_count": 10,
   "id": "89451672-1cec-4cea-9ab2-e6ccadba9c15",
   "metadata": {},
   "outputs": [
    {
     "data": {
      "application/vnd.plotly.v1+json": {
       "config": {
        "plotlyServerURL": "https://plot.ly"
       },
       "data": [
        {
         "customdata": [
          [
           "Finland"
          ],
          [
           "Norway"
          ],
          [
           "Denmark"
          ],
          [
           "Iceland"
          ],
          [
           "Switzerland"
          ]
         ],
         "hovertemplate": "Healthy life expectancy: %{y}<br>Happiness Score: %{x}<br>Country Name: %{customdata[0]}",
         "legendgroup": "Top 5 Countries ranked by happiness",
         "marker": {
          "color": "green",
          "symbol": "circle"
         },
         "mode": "markers",
         "name": "Top 5 Countries ranked by happiness",
         "orientation": "v",
         "showlegend": true,
         "type": "scatter",
         "x": [
          0.874,
          0.861,
          0.868,
          0.914,
          0.927
         ],
         "xaxis": "x",
         "y": [
          7.632,
          7.594,
          7.555,
          7.495,
          7.487
         ],
         "yaxis": "y"
        },
        {
         "customdata": [
          [
           "Netherlands"
          ],
          [
           "Canada"
          ],
          [
           "New Zealand"
          ],
          [
           "Sweden"
          ],
          [
           "Australia"
          ],
          [
           "United Kingdom"
          ],
          [
           "Austria"
          ],
          [
           "Costa Rica"
          ],
          [
           "Ireland"
          ],
          [
           "Germany"
          ],
          [
           "Belgium"
          ],
          [
           "Luxembourg"
          ],
          [
           "United States"
          ],
          [
           "Israel"
          ],
          [
           "United Arab Emirates"
          ],
          [
           "Czech Republic"
          ],
          [
           "Malta"
          ],
          [
           "France"
          ],
          [
           "Mexico"
          ],
          [
           "Chile"
          ],
          [
           "Taiwan"
          ],
          [
           "Panama"
          ],
          [
           "Brazil"
          ],
          [
           "Argentina"
          ],
          [
           "Guatemala"
          ],
          [
           "Uruguay"
          ],
          [
           "Qatar"
          ],
          [
           "Saudi Arabia"
          ],
          [
           "Singapore"
          ],
          [
           "Malaysia"
          ],
          [
           "Spain"
          ],
          [
           "Colombia"
          ],
          [
           "Trinidad & Tobago"
          ],
          [
           "Slovakia"
          ],
          [
           "El Salvador"
          ],
          [
           "Nicaragua"
          ],
          [
           "Poland"
          ],
          [
           "Bahrain"
          ],
          [
           "Uzbekistan"
          ],
          [
           "Kuwait"
          ],
          [
           "Thailand"
          ],
          [
           "Italy"
          ],
          [
           "Ecuador"
          ],
          [
           "Belize"
          ],
          [
           "Lithuania"
          ],
          [
           "Slovenia"
          ],
          [
           "Romania"
          ],
          [
           "Latvia"
          ],
          [
           "Japan"
          ],
          [
           "Mauritius"
          ],
          [
           "Jamaica"
          ],
          [
           "South Korea"
          ],
          [
           "Northern Cyprus"
          ],
          [
           "Russia"
          ],
          [
           "Kazakhstan"
          ],
          [
           "Cyprus"
          ],
          [
           "Bolivia"
          ],
          [
           "Estonia"
          ],
          [
           "Paraguay"
          ],
          [
           "Peru"
          ],
          [
           "Kosovo"
          ],
          [
           "Moldova"
          ],
          [
           "Turkmenistan"
          ],
          [
           "Hungary"
          ],
          [
           "Libya"
          ],
          [
           "Philippines"
          ],
          [
           "Honduras"
          ],
          [
           "Belarus"
          ],
          [
           "Turkey"
          ],
          [
           "Pakistan"
          ],
          [
           "Hong Kong"
          ],
          [
           "Portugal"
          ],
          [
           "Serbia"
          ],
          [
           "Greece"
          ],
          [
           "Lebanon"
          ],
          [
           "Montenegro"
          ],
          [
           "Croatia"
          ],
          [
           "Dominican Republic"
          ],
          [
           "Algeria"
          ],
          [
           "Morocco"
          ],
          [
           "China"
          ],
          [
           "Azerbaijan"
          ],
          [
           "Tajikistan"
          ],
          [
           "Macedonia"
          ],
          [
           "Jordan"
          ],
          [
           "Nigeria"
          ],
          [
           "Kyrgyzstan"
          ],
          [
           "Bosnia and Herzegovina"
          ],
          [
           "Mongolia"
          ],
          [
           "Vietnam"
          ],
          [
           "Indonesia"
          ],
          [
           "Bhutan"
          ],
          [
           "Somalia"
          ],
          [
           "Cameroon"
          ],
          [
           "Bulgaria"
          ],
          [
           "Nepal"
          ],
          [
           "Venezuela"
          ],
          [
           "Gabon"
          ],
          [
           "Palestinian Territories"
          ],
          [
           "South Africa"
          ],
          [
           "Iran"
          ],
          [
           "Ivory Coast"
          ],
          [
           "Ghana"
          ],
          [
           "Senegal"
          ],
          [
           "Laos"
          ],
          [
           "Tunisia"
          ],
          [
           "Albania"
          ],
          [
           "Sierra Leone"
          ],
          [
           "Congo (Brazzaville)"
          ],
          [
           "Bangladesh"
          ],
          [
           "Sri Lanka"
          ],
          [
           "Iraq"
          ],
          [
           "Mali"
          ],
          [
           "Namibia"
          ],
          [
           "Cambodia"
          ],
          [
           "Burkina Faso"
          ],
          [
           "Egypt"
          ],
          [
           "Mozambique"
          ],
          [
           "Kenya"
          ],
          [
           "Zambia"
          ],
          [
           "Mauritania"
          ],
          [
           "Ethiopia"
          ],
          [
           "Georgia"
          ],
          [
           "Armenia"
          ],
          [
           "Myanmar"
          ],
          [
           "Chad"
          ],
          [
           "Congo (Kinshasa)"
          ],
          [
           "India"
          ],
          [
           "Niger"
          ],
          [
           "Uganda"
          ],
          [
           "Benin"
          ],
          [
           "Sudan"
          ],
          [
           "Ukraine"
          ],
          [
           "Togo"
          ],
          [
           "Guinea"
          ],
          [
           "Lesotho"
          ],
          [
           "Angola"
          ],
          [
           "Madagascar"
          ],
          [
           "Zimbabwe"
          ],
          [
           "Afghanistan"
          ],
          [
           "Botswana"
          ],
          [
           "Malawi"
          ],
          [
           "Haiti"
          ],
          [
           "Liberia"
          ],
          [
           "Syria"
          ],
          [
           "Rwanda"
          ]
         ],
         "hovertemplate": "Healthy life expectancy: %{y}<br>Happiness Score: %{x}<br>Country Name: %{customdata[0]}",
         "legendgroup": "Other Countries",
         "marker": {
          "color": "blue",
          "symbol": "circle"
         },
         "mode": "markers",
         "name": "Other Countries",
         "orientation": "v",
         "showlegend": true,
         "type": "scatter",
         "x": [
          0.878,
          0.896,
          0.876,
          0.913,
          0.91,
          0.888,
          0.891,
          0.817,
          0.876,
          0.861,
          0.894,
          0.896,
          0.819,
          0.883,
          0.67,
          0.854,
          0.884,
          0.908,
          0.761,
          0.808,
          0.857,
          0.759,
          0.675,
          0.744,
          0.608,
          0.771,
          0.748,
          0.633,
          1.008,
          0.669,
          0.965,
          0.635,
          0.564,
          0.776,
          0.639,
          0.7,
          0.781,
          0.698,
          0.605,
          0.675,
          0.707,
          0.946,
          0.736,
          0.474,
          0.716,
          0.856,
          0.726,
          0.671,
          0.988,
          0.684,
          0.693,
          0.955,
          0.909,
          0.599,
          0.631,
          0.909,
          0.508,
          0.737,
          0.615,
          0.674,
          0.578,
          0.62,
          0.517,
          0.732,
          0.553,
          0.513,
          0.622,
          0.7,
          0.686,
          0.424,
          1.03,
          0.884,
          0.685,
          0.879,
          0.785,
          0.729,
          0.737,
          0.614,
          0.687,
          0.669,
          0.799,
          0.603,
          0.598,
          0.691,
          0.645,
          0.048,
          0.594,
          0.758,
          0.575,
          0.702,
          0.522,
          0.527,
          0.115,
          0.182,
          0.712,
          0.539,
          0.657,
          0.404,
          0.602,
          0.33,
          0.691,
          0.08,
          0.337,
          0.433,
          0.441,
          0.69,
          0.79,
          0,
          0.343,
          0.579,
          0.672,
          0.536,
          0.152,
          0.365,
          0.457,
          0.254,
          0.553,
          0.173,
          0.454,
          0.295,
          0.292,
          0.391,
          0.643,
          0.666,
          0.429,
          0.053,
          0.204,
          0.485,
          0.221,
          0.237,
          0.24,
          0.312,
          0.609,
          0.253,
          0.211,
          0.079,
          0.269,
          0.402,
          0.248,
          0.255,
          0.417,
          0.306,
          0.289,
          0.267,
          0.539,
          0.4
         ],
         "xaxis": "x",
         "y": [
          7.441,
          7.328,
          7.324,
          7.314,
          7.272,
          7.19,
          7.139,
          7.072,
          6.977,
          6.965,
          6.927,
          6.91,
          6.886,
          6.814,
          6.774,
          6.711,
          6.627,
          6.489,
          6.488,
          6.476,
          6.441,
          6.43,
          6.419,
          6.388,
          6.382,
          6.379,
          6.374,
          6.371,
          6.343,
          6.322,
          6.31,
          6.26,
          6.192,
          6.173,
          6.167,
          6.141,
          6.123,
          6.105,
          6.096,
          6.083,
          6.072,
          6,
          5.973,
          5.956,
          5.952,
          5.948,
          5.945,
          5.933,
          5.915,
          5.891,
          5.89,
          5.875,
          5.835,
          5.81,
          5.79,
          5.762,
          5.752,
          5.739,
          5.681,
          5.663,
          5.662,
          5.64,
          5.636,
          5.62,
          5.566,
          5.524,
          5.504,
          5.483,
          5.483,
          5.472,
          5.43,
          5.41,
          5.398,
          5.358,
          5.358,
          5.347,
          5.321,
          5.302,
          5.295,
          5.254,
          5.246,
          5.201,
          5.199,
          5.185,
          5.161,
          5.155,
          5.131,
          5.129,
          5.125,
          5.103,
          5.093,
          5.082,
          4.982,
          4.975,
          4.933,
          4.88,
          4.806,
          4.758,
          4.743,
          4.724,
          4.707,
          4.671,
          4.657,
          4.631,
          4.623,
          4.592,
          4.586,
          4.571,
          4.559,
          4.5,
          4.471,
          4.456,
          4.447,
          4.441,
          4.433,
          4.424,
          4.419,
          4.417,
          4.41,
          4.377,
          4.356,
          4.35,
          4.34,
          4.321,
          4.308,
          4.301,
          4.245,
          4.19,
          4.166,
          4.161,
          4.141,
          4.139,
          4.103,
          3.999,
          3.964,
          3.808,
          3.795,
          3.774,
          3.692,
          3.632,
          3.59,
          3.587,
          3.582,
          3.495,
          3.462,
          3.408
         ],
         "yaxis": "y"
        },
        {
         "customdata": [
          [
           "Yemen"
          ],
          [
           "Tanzania"
          ],
          [
           "South Sudan"
          ],
          [
           "Central African Republic"
          ],
          [
           "Burundi"
          ]
         ],
         "hovertemplate": "Healthy life expectancy: %{y}<br>Happiness Score: %{x}<br>Country Name: %{customdata[0]}",
         "legendgroup": "Bottom 5 ranked by happiness",
         "marker": {
          "color": "red",
          "symbol": "circle"
         },
         "mode": "markers",
         "name": "Bottom 5 ranked by happiness",
         "orientation": "v",
         "showlegend": true,
         "type": "scatter",
         "x": [
          0.343,
          0.381,
          0.177,
          0.01,
          0.145
         ],
         "xaxis": "x",
         "y": [
          3.355,
          3.303,
          3.254,
          3.083,
          2.905
         ],
         "yaxis": "y"
        }
       ],
       "layout": {
        "legend": {
         "title": {
          "text": "color"
         },
         "tracegroupgap": 0
        },
        "template": {
         "data": {
          "bar": [
           {
            "error_x": {
             "color": "#2a3f5f"
            },
            "error_y": {
             "color": "#2a3f5f"
            },
            "marker": {
             "line": {
              "color": "#E5ECF6",
              "width": 0.5
             },
             "pattern": {
              "fillmode": "overlay",
              "size": 10,
              "solidity": 0.2
             }
            },
            "type": "bar"
           }
          ],
          "barpolar": [
           {
            "marker": {
             "line": {
              "color": "#E5ECF6",
              "width": 0.5
             },
             "pattern": {
              "fillmode": "overlay",
              "size": 10,
              "solidity": 0.2
             }
            },
            "type": "barpolar"
           }
          ],
          "carpet": [
           {
            "aaxis": {
             "endlinecolor": "#2a3f5f",
             "gridcolor": "white",
             "linecolor": "white",
             "minorgridcolor": "white",
             "startlinecolor": "#2a3f5f"
            },
            "baxis": {
             "endlinecolor": "#2a3f5f",
             "gridcolor": "white",
             "linecolor": "white",
             "minorgridcolor": "white",
             "startlinecolor": "#2a3f5f"
            },
            "type": "carpet"
           }
          ],
          "choropleth": [
           {
            "colorbar": {
             "outlinewidth": 0,
             "ticks": ""
            },
            "type": "choropleth"
           }
          ],
          "contour": [
           {
            "colorbar": {
             "outlinewidth": 0,
             "ticks": ""
            },
            "colorscale": [
             [
              0,
              "#0d0887"
             ],
             [
              0.1111111111111111,
              "#46039f"
             ],
             [
              0.2222222222222222,
              "#7201a8"
             ],
             [
              0.3333333333333333,
              "#9c179e"
             ],
             [
              0.4444444444444444,
              "#bd3786"
             ],
             [
              0.5555555555555556,
              "#d8576b"
             ],
             [
              0.6666666666666666,
              "#ed7953"
             ],
             [
              0.7777777777777778,
              "#fb9f3a"
             ],
             [
              0.8888888888888888,
              "#fdca26"
             ],
             [
              1,
              "#f0f921"
             ]
            ],
            "type": "contour"
           }
          ],
          "contourcarpet": [
           {
            "colorbar": {
             "outlinewidth": 0,
             "ticks": ""
            },
            "type": "contourcarpet"
           }
          ],
          "heatmap": [
           {
            "colorbar": {
             "outlinewidth": 0,
             "ticks": ""
            },
            "colorscale": [
             [
              0,
              "#0d0887"
             ],
             [
              0.1111111111111111,
              "#46039f"
             ],
             [
              0.2222222222222222,
              "#7201a8"
             ],
             [
              0.3333333333333333,
              "#9c179e"
             ],
             [
              0.4444444444444444,
              "#bd3786"
             ],
             [
              0.5555555555555556,
              "#d8576b"
             ],
             [
              0.6666666666666666,
              "#ed7953"
             ],
             [
              0.7777777777777778,
              "#fb9f3a"
             ],
             [
              0.8888888888888888,
              "#fdca26"
             ],
             [
              1,
              "#f0f921"
             ]
            ],
            "type": "heatmap"
           }
          ],
          "heatmapgl": [
           {
            "colorbar": {
             "outlinewidth": 0,
             "ticks": ""
            },
            "colorscale": [
             [
              0,
              "#0d0887"
             ],
             [
              0.1111111111111111,
              "#46039f"
             ],
             [
              0.2222222222222222,
              "#7201a8"
             ],
             [
              0.3333333333333333,
              "#9c179e"
             ],
             [
              0.4444444444444444,
              "#bd3786"
             ],
             [
              0.5555555555555556,
              "#d8576b"
             ],
             [
              0.6666666666666666,
              "#ed7953"
             ],
             [
              0.7777777777777778,
              "#fb9f3a"
             ],
             [
              0.8888888888888888,
              "#fdca26"
             ],
             [
              1,
              "#f0f921"
             ]
            ],
            "type": "heatmapgl"
           }
          ],
          "histogram": [
           {
            "marker": {
             "pattern": {
              "fillmode": "overlay",
              "size": 10,
              "solidity": 0.2
             }
            },
            "type": "histogram"
           }
          ],
          "histogram2d": [
           {
            "colorbar": {
             "outlinewidth": 0,
             "ticks": ""
            },
            "colorscale": [
             [
              0,
              "#0d0887"
             ],
             [
              0.1111111111111111,
              "#46039f"
             ],
             [
              0.2222222222222222,
              "#7201a8"
             ],
             [
              0.3333333333333333,
              "#9c179e"
             ],
             [
              0.4444444444444444,
              "#bd3786"
             ],
             [
              0.5555555555555556,
              "#d8576b"
             ],
             [
              0.6666666666666666,
              "#ed7953"
             ],
             [
              0.7777777777777778,
              "#fb9f3a"
             ],
             [
              0.8888888888888888,
              "#fdca26"
             ],
             [
              1,
              "#f0f921"
             ]
            ],
            "type": "histogram2d"
           }
          ],
          "histogram2dcontour": [
           {
            "colorbar": {
             "outlinewidth": 0,
             "ticks": ""
            },
            "colorscale": [
             [
              0,
              "#0d0887"
             ],
             [
              0.1111111111111111,
              "#46039f"
             ],
             [
              0.2222222222222222,
              "#7201a8"
             ],
             [
              0.3333333333333333,
              "#9c179e"
             ],
             [
              0.4444444444444444,
              "#bd3786"
             ],
             [
              0.5555555555555556,
              "#d8576b"
             ],
             [
              0.6666666666666666,
              "#ed7953"
             ],
             [
              0.7777777777777778,
              "#fb9f3a"
             ],
             [
              0.8888888888888888,
              "#fdca26"
             ],
             [
              1,
              "#f0f921"
             ]
            ],
            "type": "histogram2dcontour"
           }
          ],
          "mesh3d": [
           {
            "colorbar": {
             "outlinewidth": 0,
             "ticks": ""
            },
            "type": "mesh3d"
           }
          ],
          "parcoords": [
           {
            "line": {
             "colorbar": {
              "outlinewidth": 0,
              "ticks": ""
             }
            },
            "type": "parcoords"
           }
          ],
          "pie": [
           {
            "automargin": true,
            "type": "pie"
           }
          ],
          "scatter": [
           {
            "fillpattern": {
             "fillmode": "overlay",
             "size": 10,
             "solidity": 0.2
            },
            "type": "scatter"
           }
          ],
          "scatter3d": [
           {
            "line": {
             "colorbar": {
              "outlinewidth": 0,
              "ticks": ""
             }
            },
            "marker": {
             "colorbar": {
              "outlinewidth": 0,
              "ticks": ""
             }
            },
            "type": "scatter3d"
           }
          ],
          "scattercarpet": [
           {
            "marker": {
             "colorbar": {
              "outlinewidth": 0,
              "ticks": ""
             }
            },
            "type": "scattercarpet"
           }
          ],
          "scattergeo": [
           {
            "marker": {
             "colorbar": {
              "outlinewidth": 0,
              "ticks": ""
             }
            },
            "type": "scattergeo"
           }
          ],
          "scattergl": [
           {
            "marker": {
             "colorbar": {
              "outlinewidth": 0,
              "ticks": ""
             }
            },
            "type": "scattergl"
           }
          ],
          "scattermapbox": [
           {
            "marker": {
             "colorbar": {
              "outlinewidth": 0,
              "ticks": ""
             }
            },
            "type": "scattermapbox"
           }
          ],
          "scatterpolar": [
           {
            "marker": {
             "colorbar": {
              "outlinewidth": 0,
              "ticks": ""
             }
            },
            "type": "scatterpolar"
           }
          ],
          "scatterpolargl": [
           {
            "marker": {
             "colorbar": {
              "outlinewidth": 0,
              "ticks": ""
             }
            },
            "type": "scatterpolargl"
           }
          ],
          "scatterternary": [
           {
            "marker": {
             "colorbar": {
              "outlinewidth": 0,
              "ticks": ""
             }
            },
            "type": "scatterternary"
           }
          ],
          "surface": [
           {
            "colorbar": {
             "outlinewidth": 0,
             "ticks": ""
            },
            "colorscale": [
             [
              0,
              "#0d0887"
             ],
             [
              0.1111111111111111,
              "#46039f"
             ],
             [
              0.2222222222222222,
              "#7201a8"
             ],
             [
              0.3333333333333333,
              "#9c179e"
             ],
             [
              0.4444444444444444,
              "#bd3786"
             ],
             [
              0.5555555555555556,
              "#d8576b"
             ],
             [
              0.6666666666666666,
              "#ed7953"
             ],
             [
              0.7777777777777778,
              "#fb9f3a"
             ],
             [
              0.8888888888888888,
              "#fdca26"
             ],
             [
              1,
              "#f0f921"
             ]
            ],
            "type": "surface"
           }
          ],
          "table": [
           {
            "cells": {
             "fill": {
              "color": "#EBF0F8"
             },
             "line": {
              "color": "white"
             }
            },
            "header": {
             "fill": {
              "color": "#C8D4E3"
             },
             "line": {
              "color": "white"
             }
            },
            "type": "table"
           }
          ]
         },
         "layout": {
          "annotationdefaults": {
           "arrowcolor": "#2a3f5f",
           "arrowhead": 0,
           "arrowwidth": 1
          },
          "autotypenumbers": "strict",
          "coloraxis": {
           "colorbar": {
            "outlinewidth": 0,
            "ticks": ""
           }
          },
          "colorscale": {
           "diverging": [
            [
             0,
             "#8e0152"
            ],
            [
             0.1,
             "#c51b7d"
            ],
            [
             0.2,
             "#de77ae"
            ],
            [
             0.3,
             "#f1b6da"
            ],
            [
             0.4,
             "#fde0ef"
            ],
            [
             0.5,
             "#f7f7f7"
            ],
            [
             0.6,
             "#e6f5d0"
            ],
            [
             0.7,
             "#b8e186"
            ],
            [
             0.8,
             "#7fbc41"
            ],
            [
             0.9,
             "#4d9221"
            ],
            [
             1,
             "#276419"
            ]
           ],
           "sequential": [
            [
             0,
             "#0d0887"
            ],
            [
             0.1111111111111111,
             "#46039f"
            ],
            [
             0.2222222222222222,
             "#7201a8"
            ],
            [
             0.3333333333333333,
             "#9c179e"
            ],
            [
             0.4444444444444444,
             "#bd3786"
            ],
            [
             0.5555555555555556,
             "#d8576b"
            ],
            [
             0.6666666666666666,
             "#ed7953"
            ],
            [
             0.7777777777777778,
             "#fb9f3a"
            ],
            [
             0.8888888888888888,
             "#fdca26"
            ],
            [
             1,
             "#f0f921"
            ]
           ],
           "sequentialminus": [
            [
             0,
             "#0d0887"
            ],
            [
             0.1111111111111111,
             "#46039f"
            ],
            [
             0.2222222222222222,
             "#7201a8"
            ],
            [
             0.3333333333333333,
             "#9c179e"
            ],
            [
             0.4444444444444444,
             "#bd3786"
            ],
            [
             0.5555555555555556,
             "#d8576b"
            ],
            [
             0.6666666666666666,
             "#ed7953"
            ],
            [
             0.7777777777777778,
             "#fb9f3a"
            ],
            [
             0.8888888888888888,
             "#fdca26"
            ],
            [
             1,
             "#f0f921"
            ]
           ]
          },
          "colorway": [
           "#636efa",
           "#EF553B",
           "#00cc96",
           "#ab63fa",
           "#FFA15A",
           "#19d3f3",
           "#FF6692",
           "#B6E880",
           "#FF97FF",
           "#FECB52"
          ],
          "font": {
           "color": "#2a3f5f"
          },
          "geo": {
           "bgcolor": "white",
           "lakecolor": "white",
           "landcolor": "#E5ECF6",
           "showlakes": true,
           "showland": true,
           "subunitcolor": "white"
          },
          "hoverlabel": {
           "align": "left"
          },
          "hovermode": "closest",
          "mapbox": {
           "style": "light"
          },
          "paper_bgcolor": "white",
          "plot_bgcolor": "#E5ECF6",
          "polar": {
           "angularaxis": {
            "gridcolor": "white",
            "linecolor": "white",
            "ticks": ""
           },
           "bgcolor": "#E5ECF6",
           "radialaxis": {
            "gridcolor": "white",
            "linecolor": "white",
            "ticks": ""
           }
          },
          "scene": {
           "xaxis": {
            "backgroundcolor": "#E5ECF6",
            "gridcolor": "white",
            "gridwidth": 2,
            "linecolor": "white",
            "showbackground": true,
            "ticks": "",
            "zerolinecolor": "white"
           },
           "yaxis": {
            "backgroundcolor": "#E5ECF6",
            "gridcolor": "white",
            "gridwidth": 2,
            "linecolor": "white",
            "showbackground": true,
            "ticks": "",
            "zerolinecolor": "white"
           },
           "zaxis": {
            "backgroundcolor": "#E5ECF6",
            "gridcolor": "white",
            "gridwidth": 2,
            "linecolor": "white",
            "showbackground": true,
            "ticks": "",
            "zerolinecolor": "white"
           }
          },
          "shapedefaults": {
           "line": {
            "color": "#2a3f5f"
           }
          },
          "ternary": {
           "aaxis": {
            "gridcolor": "white",
            "linecolor": "white",
            "ticks": ""
           },
           "baxis": {
            "gridcolor": "white",
            "linecolor": "white",
            "ticks": ""
           },
           "bgcolor": "#E5ECF6",
           "caxis": {
            "gridcolor": "white",
            "linecolor": "white",
            "ticks": ""
           }
          },
          "title": {
           "x": 0.05
          },
          "xaxis": {
           "automargin": true,
           "gridcolor": "white",
           "linecolor": "white",
           "ticks": "",
           "title": {
            "standoff": 15
           },
           "zerolinecolor": "white",
           "zerolinewidth": 2
          },
          "yaxis": {
           "automargin": true,
           "gridcolor": "white",
           "linecolor": "white",
           "ticks": "",
           "title": {
            "standoff": 15
           },
           "zerolinecolor": "white",
           "zerolinewidth": 2
          }
         }
        },
        "title": {
         "text": "ScatterPlot: Healthy life expectancy and Happiness Score",
         "x": 0.5
        },
        "xaxis": {
         "anchor": "y",
         "domain": [
          0,
          1
         ],
         "title": {
          "text": "Healthy life expectancy"
         }
        },
        "yaxis": {
         "anchor": "x",
         "domain": [
          0,
          1
         ],
         "title": {
          "text": "Happiness Score"
         }
        }
       }
      },
      "text/html": [
       "<div>                            <div id=\"e756218d-e145-48c5-a501-9e9ec33ae13f\" class=\"plotly-graph-div\" style=\"height:525px; width:100%;\"></div>            <script type=\"text/javascript\">                require([\"plotly\"], function(Plotly) {                    window.PLOTLYENV=window.PLOTLYENV || {};                                    if (document.getElementById(\"e756218d-e145-48c5-a501-9e9ec33ae13f\")) {                    Plotly.newPlot(                        \"e756218d-e145-48c5-a501-9e9ec33ae13f\",                        [{\"customdata\":[[\"Finland\"],[\"Norway\"],[\"Denmark\"],[\"Iceland\"],[\"Switzerland\"]],\"hovertemplate\":\"Healthy life expectancy: %{y}\\u003cbr\\u003eHappiness Score: %{x}\\u003cbr\\u003eCountry Name: %{customdata[0]}\",\"legendgroup\":\"Top 5 Countries ranked by happiness\",\"marker\":{\"color\":\"green\",\"symbol\":\"circle\"},\"mode\":\"markers\",\"name\":\"Top 5 Countries ranked by happiness\",\"orientation\":\"v\",\"showlegend\":true,\"x\":[0.874,0.861,0.868,0.914,0.927],\"xaxis\":\"x\",\"y\":[7.632,7.594,7.555,7.495,7.487],\"yaxis\":\"y\",\"type\":\"scatter\"},{\"customdata\":[[\"Netherlands\"],[\"Canada\"],[\"New Zealand\"],[\"Sweden\"],[\"Australia\"],[\"United Kingdom\"],[\"Austria\"],[\"Costa Rica\"],[\"Ireland\"],[\"Germany\"],[\"Belgium\"],[\"Luxembourg\"],[\"United States\"],[\"Israel\"],[\"United Arab Emirates\"],[\"Czech Republic\"],[\"Malta\"],[\"France\"],[\"Mexico\"],[\"Chile\"],[\"Taiwan\"],[\"Panama\"],[\"Brazil\"],[\"Argentina\"],[\"Guatemala\"],[\"Uruguay\"],[\"Qatar\"],[\"Saudi Arabia\"],[\"Singapore\"],[\"Malaysia\"],[\"Spain\"],[\"Colombia\"],[\"Trinidad & Tobago\"],[\"Slovakia\"],[\"El Salvador\"],[\"Nicaragua\"],[\"Poland\"],[\"Bahrain\"],[\"Uzbekistan\"],[\"Kuwait\"],[\"Thailand\"],[\"Italy\"],[\"Ecuador\"],[\"Belize\"],[\"Lithuania\"],[\"Slovenia\"],[\"Romania\"],[\"Latvia\"],[\"Japan\"],[\"Mauritius\"],[\"Jamaica\"],[\"South Korea\"],[\"Northern Cyprus\"],[\"Russia\"],[\"Kazakhstan\"],[\"Cyprus\"],[\"Bolivia\"],[\"Estonia\"],[\"Paraguay\"],[\"Peru\"],[\"Kosovo\"],[\"Moldova\"],[\"Turkmenistan\"],[\"Hungary\"],[\"Libya\"],[\"Philippines\"],[\"Honduras\"],[\"Belarus\"],[\"Turkey\"],[\"Pakistan\"],[\"Hong Kong\"],[\"Portugal\"],[\"Serbia\"],[\"Greece\"],[\"Lebanon\"],[\"Montenegro\"],[\"Croatia\"],[\"Dominican Republic\"],[\"Algeria\"],[\"Morocco\"],[\"China\"],[\"Azerbaijan\"],[\"Tajikistan\"],[\"Macedonia\"],[\"Jordan\"],[\"Nigeria\"],[\"Kyrgyzstan\"],[\"Bosnia and Herzegovina\"],[\"Mongolia\"],[\"Vietnam\"],[\"Indonesia\"],[\"Bhutan\"],[\"Somalia\"],[\"Cameroon\"],[\"Bulgaria\"],[\"Nepal\"],[\"Venezuela\"],[\"Gabon\"],[\"Palestinian Territories\"],[\"South Africa\"],[\"Iran\"],[\"Ivory Coast\"],[\"Ghana\"],[\"Senegal\"],[\"Laos\"],[\"Tunisia\"],[\"Albania\"],[\"Sierra Leone\"],[\"Congo (Brazzaville)\"],[\"Bangladesh\"],[\"Sri Lanka\"],[\"Iraq\"],[\"Mali\"],[\"Namibia\"],[\"Cambodia\"],[\"Burkina Faso\"],[\"Egypt\"],[\"Mozambique\"],[\"Kenya\"],[\"Zambia\"],[\"Mauritania\"],[\"Ethiopia\"],[\"Georgia\"],[\"Armenia\"],[\"Myanmar\"],[\"Chad\"],[\"Congo (Kinshasa)\"],[\"India\"],[\"Niger\"],[\"Uganda\"],[\"Benin\"],[\"Sudan\"],[\"Ukraine\"],[\"Togo\"],[\"Guinea\"],[\"Lesotho\"],[\"Angola\"],[\"Madagascar\"],[\"Zimbabwe\"],[\"Afghanistan\"],[\"Botswana\"],[\"Malawi\"],[\"Haiti\"],[\"Liberia\"],[\"Syria\"],[\"Rwanda\"]],\"hovertemplate\":\"Healthy life expectancy: %{y}\\u003cbr\\u003eHappiness Score: %{x}\\u003cbr\\u003eCountry Name: %{customdata[0]}\",\"legendgroup\":\"Other Countries\",\"marker\":{\"color\":\"blue\",\"symbol\":\"circle\"},\"mode\":\"markers\",\"name\":\"Other Countries\",\"orientation\":\"v\",\"showlegend\":true,\"x\":[0.878,0.896,0.876,0.913,0.91,0.888,0.891,0.817,0.876,0.861,0.894,0.896,0.819,0.883,0.67,0.854,0.884,0.908,0.761,0.808,0.857,0.759,0.675,0.744,0.608,0.771,0.748,0.633,1.008,0.669,0.965,0.635,0.564,0.776,0.639,0.7,0.781,0.698,0.605,0.675,0.707,0.946,0.736,0.474,0.716,0.856,0.726,0.671,0.988,0.684,0.693,0.955,0.909,0.599,0.631,0.909,0.508,0.737,0.615,0.674,0.578,0.62,0.517,0.732,0.553,0.513,0.622,0.7,0.686,0.424,1.03,0.884,0.685,0.879,0.785,0.729,0.737,0.614,0.687,0.669,0.799,0.603,0.598,0.691,0.645,0.048,0.594,0.758,0.575,0.702,0.522,0.527,0.115,0.182,0.712,0.539,0.657,0.404,0.602,0.33,0.691,0.08,0.337,0.433,0.441,0.69,0.79,0.0,0.343,0.579,0.672,0.536,0.152,0.365,0.457,0.254,0.553,0.173,0.454,0.295,0.292,0.391,0.643,0.666,0.429,0.053,0.204,0.485,0.221,0.237,0.24,0.312,0.609,0.253,0.211,0.079,0.269,0.402,0.248,0.255,0.417,0.306,0.289,0.267,0.539,0.4],\"xaxis\":\"x\",\"y\":[7.441,7.328,7.324,7.314,7.272,7.19,7.139,7.072,6.977,6.965,6.927,6.91,6.886,6.814,6.774,6.711,6.627,6.489,6.488,6.476,6.441,6.43,6.419,6.388,6.382,6.379,6.374,6.371,6.343,6.322,6.31,6.26,6.192,6.173,6.167,6.141,6.123,6.105,6.096,6.083,6.072,6.0,5.973,5.956,5.952,5.948,5.945,5.933,5.915,5.891,5.89,5.875,5.835,5.81,5.79,5.762,5.752,5.739,5.681,5.663,5.662,5.64,5.636,5.62,5.566,5.524,5.504,5.483,5.483,5.472,5.43,5.41,5.398,5.358,5.358,5.347,5.321,5.302,5.295,5.254,5.246,5.201,5.199,5.185,5.161,5.155,5.131,5.129,5.125,5.103,5.093,5.082,4.982,4.975,4.933,4.88,4.806,4.758,4.743,4.724,4.707,4.671,4.657,4.631,4.623,4.592,4.586,4.571,4.559,4.5,4.471,4.456,4.447,4.441,4.433,4.424,4.419,4.417,4.41,4.377,4.356,4.35,4.34,4.321,4.308,4.301,4.245,4.19,4.166,4.161,4.141,4.139,4.103,3.999,3.964,3.808,3.795,3.774,3.692,3.632,3.59,3.587,3.582,3.495,3.462,3.408],\"yaxis\":\"y\",\"type\":\"scatter\"},{\"customdata\":[[\"Yemen\"],[\"Tanzania\"],[\"South Sudan\"],[\"Central African Republic\"],[\"Burundi\"]],\"hovertemplate\":\"Healthy life expectancy: %{y}\\u003cbr\\u003eHappiness Score: %{x}\\u003cbr\\u003eCountry Name: %{customdata[0]}\",\"legendgroup\":\"Bottom 5 ranked by happiness\",\"marker\":{\"color\":\"red\",\"symbol\":\"circle\"},\"mode\":\"markers\",\"name\":\"Bottom 5 ranked by happiness\",\"orientation\":\"v\",\"showlegend\":true,\"x\":[0.343,0.381,0.177,0.01,0.145],\"xaxis\":\"x\",\"y\":[3.355,3.303,3.254,3.083,2.905],\"yaxis\":\"y\",\"type\":\"scatter\"}],                        {\"template\":{\"data\":{\"histogram2dcontour\":[{\"type\":\"histogram2dcontour\",\"colorbar\":{\"outlinewidth\":0,\"ticks\":\"\"},\"colorscale\":[[0.0,\"#0d0887\"],[0.1111111111111111,\"#46039f\"],[0.2222222222222222,\"#7201a8\"],[0.3333333333333333,\"#9c179e\"],[0.4444444444444444,\"#bd3786\"],[0.5555555555555556,\"#d8576b\"],[0.6666666666666666,\"#ed7953\"],[0.7777777777777778,\"#fb9f3a\"],[0.8888888888888888,\"#fdca26\"],[1.0,\"#f0f921\"]]}],\"choropleth\":[{\"type\":\"choropleth\",\"colorbar\":{\"outlinewidth\":0,\"ticks\":\"\"}}],\"histogram2d\":[{\"type\":\"histogram2d\",\"colorbar\":{\"outlinewidth\":0,\"ticks\":\"\"},\"colorscale\":[[0.0,\"#0d0887\"],[0.1111111111111111,\"#46039f\"],[0.2222222222222222,\"#7201a8\"],[0.3333333333333333,\"#9c179e\"],[0.4444444444444444,\"#bd3786\"],[0.5555555555555556,\"#d8576b\"],[0.6666666666666666,\"#ed7953\"],[0.7777777777777778,\"#fb9f3a\"],[0.8888888888888888,\"#fdca26\"],[1.0,\"#f0f921\"]]}],\"heatmap\":[{\"type\":\"heatmap\",\"colorbar\":{\"outlinewidth\":0,\"ticks\":\"\"},\"colorscale\":[[0.0,\"#0d0887\"],[0.1111111111111111,\"#46039f\"],[0.2222222222222222,\"#7201a8\"],[0.3333333333333333,\"#9c179e\"],[0.4444444444444444,\"#bd3786\"],[0.5555555555555556,\"#d8576b\"],[0.6666666666666666,\"#ed7953\"],[0.7777777777777778,\"#fb9f3a\"],[0.8888888888888888,\"#fdca26\"],[1.0,\"#f0f921\"]]}],\"heatmapgl\":[{\"type\":\"heatmapgl\",\"colorbar\":{\"outlinewidth\":0,\"ticks\":\"\"},\"colorscale\":[[0.0,\"#0d0887\"],[0.1111111111111111,\"#46039f\"],[0.2222222222222222,\"#7201a8\"],[0.3333333333333333,\"#9c179e\"],[0.4444444444444444,\"#bd3786\"],[0.5555555555555556,\"#d8576b\"],[0.6666666666666666,\"#ed7953\"],[0.7777777777777778,\"#fb9f3a\"],[0.8888888888888888,\"#fdca26\"],[1.0,\"#f0f921\"]]}],\"contourcarpet\":[{\"type\":\"contourcarpet\",\"colorbar\":{\"outlinewidth\":0,\"ticks\":\"\"}}],\"contour\":[{\"type\":\"contour\",\"colorbar\":{\"outlinewidth\":0,\"ticks\":\"\"},\"colorscale\":[[0.0,\"#0d0887\"],[0.1111111111111111,\"#46039f\"],[0.2222222222222222,\"#7201a8\"],[0.3333333333333333,\"#9c179e\"],[0.4444444444444444,\"#bd3786\"],[0.5555555555555556,\"#d8576b\"],[0.6666666666666666,\"#ed7953\"],[0.7777777777777778,\"#fb9f3a\"],[0.8888888888888888,\"#fdca26\"],[1.0,\"#f0f921\"]]}],\"surface\":[{\"type\":\"surface\",\"colorbar\":{\"outlinewidth\":0,\"ticks\":\"\"},\"colorscale\":[[0.0,\"#0d0887\"],[0.1111111111111111,\"#46039f\"],[0.2222222222222222,\"#7201a8\"],[0.3333333333333333,\"#9c179e\"],[0.4444444444444444,\"#bd3786\"],[0.5555555555555556,\"#d8576b\"],[0.6666666666666666,\"#ed7953\"],[0.7777777777777778,\"#fb9f3a\"],[0.8888888888888888,\"#fdca26\"],[1.0,\"#f0f921\"]]}],\"mesh3d\":[{\"type\":\"mesh3d\",\"colorbar\":{\"outlinewidth\":0,\"ticks\":\"\"}}],\"scatter\":[{\"fillpattern\":{\"fillmode\":\"overlay\",\"size\":10,\"solidity\":0.2},\"type\":\"scatter\"}],\"parcoords\":[{\"type\":\"parcoords\",\"line\":{\"colorbar\":{\"outlinewidth\":0,\"ticks\":\"\"}}}],\"scatterpolargl\":[{\"type\":\"scatterpolargl\",\"marker\":{\"colorbar\":{\"outlinewidth\":0,\"ticks\":\"\"}}}],\"bar\":[{\"error_x\":{\"color\":\"#2a3f5f\"},\"error_y\":{\"color\":\"#2a3f5f\"},\"marker\":{\"line\":{\"color\":\"#E5ECF6\",\"width\":0.5},\"pattern\":{\"fillmode\":\"overlay\",\"size\":10,\"solidity\":0.2}},\"type\":\"bar\"}],\"scattergeo\":[{\"type\":\"scattergeo\",\"marker\":{\"colorbar\":{\"outlinewidth\":0,\"ticks\":\"\"}}}],\"scatterpolar\":[{\"type\":\"scatterpolar\",\"marker\":{\"colorbar\":{\"outlinewidth\":0,\"ticks\":\"\"}}}],\"histogram\":[{\"marker\":{\"pattern\":{\"fillmode\":\"overlay\",\"size\":10,\"solidity\":0.2}},\"type\":\"histogram\"}],\"scattergl\":[{\"type\":\"scattergl\",\"marker\":{\"colorbar\":{\"outlinewidth\":0,\"ticks\":\"\"}}}],\"scatter3d\":[{\"type\":\"scatter3d\",\"line\":{\"colorbar\":{\"outlinewidth\":0,\"ticks\":\"\"}},\"marker\":{\"colorbar\":{\"outlinewidth\":0,\"ticks\":\"\"}}}],\"scattermapbox\":[{\"type\":\"scattermapbox\",\"marker\":{\"colorbar\":{\"outlinewidth\":0,\"ticks\":\"\"}}}],\"scatterternary\":[{\"type\":\"scatterternary\",\"marker\":{\"colorbar\":{\"outlinewidth\":0,\"ticks\":\"\"}}}],\"scattercarpet\":[{\"type\":\"scattercarpet\",\"marker\":{\"colorbar\":{\"outlinewidth\":0,\"ticks\":\"\"}}}],\"carpet\":[{\"aaxis\":{\"endlinecolor\":\"#2a3f5f\",\"gridcolor\":\"white\",\"linecolor\":\"white\",\"minorgridcolor\":\"white\",\"startlinecolor\":\"#2a3f5f\"},\"baxis\":{\"endlinecolor\":\"#2a3f5f\",\"gridcolor\":\"white\",\"linecolor\":\"white\",\"minorgridcolor\":\"white\",\"startlinecolor\":\"#2a3f5f\"},\"type\":\"carpet\"}],\"table\":[{\"cells\":{\"fill\":{\"color\":\"#EBF0F8\"},\"line\":{\"color\":\"white\"}},\"header\":{\"fill\":{\"color\":\"#C8D4E3\"},\"line\":{\"color\":\"white\"}},\"type\":\"table\"}],\"barpolar\":[{\"marker\":{\"line\":{\"color\":\"#E5ECF6\",\"width\":0.5},\"pattern\":{\"fillmode\":\"overlay\",\"size\":10,\"solidity\":0.2}},\"type\":\"barpolar\"}],\"pie\":[{\"automargin\":true,\"type\":\"pie\"}]},\"layout\":{\"autotypenumbers\":\"strict\",\"colorway\":[\"#636efa\",\"#EF553B\",\"#00cc96\",\"#ab63fa\",\"#FFA15A\",\"#19d3f3\",\"#FF6692\",\"#B6E880\",\"#FF97FF\",\"#FECB52\"],\"font\":{\"color\":\"#2a3f5f\"},\"hovermode\":\"closest\",\"hoverlabel\":{\"align\":\"left\"},\"paper_bgcolor\":\"white\",\"plot_bgcolor\":\"#E5ECF6\",\"polar\":{\"bgcolor\":\"#E5ECF6\",\"angularaxis\":{\"gridcolor\":\"white\",\"linecolor\":\"white\",\"ticks\":\"\"},\"radialaxis\":{\"gridcolor\":\"white\",\"linecolor\":\"white\",\"ticks\":\"\"}},\"ternary\":{\"bgcolor\":\"#E5ECF6\",\"aaxis\":{\"gridcolor\":\"white\",\"linecolor\":\"white\",\"ticks\":\"\"},\"baxis\":{\"gridcolor\":\"white\",\"linecolor\":\"white\",\"ticks\":\"\"},\"caxis\":{\"gridcolor\":\"white\",\"linecolor\":\"white\",\"ticks\":\"\"}},\"coloraxis\":{\"colorbar\":{\"outlinewidth\":0,\"ticks\":\"\"}},\"colorscale\":{\"sequential\":[[0.0,\"#0d0887\"],[0.1111111111111111,\"#46039f\"],[0.2222222222222222,\"#7201a8\"],[0.3333333333333333,\"#9c179e\"],[0.4444444444444444,\"#bd3786\"],[0.5555555555555556,\"#d8576b\"],[0.6666666666666666,\"#ed7953\"],[0.7777777777777778,\"#fb9f3a\"],[0.8888888888888888,\"#fdca26\"],[1.0,\"#f0f921\"]],\"sequentialminus\":[[0.0,\"#0d0887\"],[0.1111111111111111,\"#46039f\"],[0.2222222222222222,\"#7201a8\"],[0.3333333333333333,\"#9c179e\"],[0.4444444444444444,\"#bd3786\"],[0.5555555555555556,\"#d8576b\"],[0.6666666666666666,\"#ed7953\"],[0.7777777777777778,\"#fb9f3a\"],[0.8888888888888888,\"#fdca26\"],[1.0,\"#f0f921\"]],\"diverging\":[[0,\"#8e0152\"],[0.1,\"#c51b7d\"],[0.2,\"#de77ae\"],[0.3,\"#f1b6da\"],[0.4,\"#fde0ef\"],[0.5,\"#f7f7f7\"],[0.6,\"#e6f5d0\"],[0.7,\"#b8e186\"],[0.8,\"#7fbc41\"],[0.9,\"#4d9221\"],[1,\"#276419\"]]},\"xaxis\":{\"gridcolor\":\"white\",\"linecolor\":\"white\",\"ticks\":\"\",\"title\":{\"standoff\":15},\"zerolinecolor\":\"white\",\"automargin\":true,\"zerolinewidth\":2},\"yaxis\":{\"gridcolor\":\"white\",\"linecolor\":\"white\",\"ticks\":\"\",\"title\":{\"standoff\":15},\"zerolinecolor\":\"white\",\"automargin\":true,\"zerolinewidth\":2},\"scene\":{\"xaxis\":{\"backgroundcolor\":\"#E5ECF6\",\"gridcolor\":\"white\",\"linecolor\":\"white\",\"showbackground\":true,\"ticks\":\"\",\"zerolinecolor\":\"white\",\"gridwidth\":2},\"yaxis\":{\"backgroundcolor\":\"#E5ECF6\",\"gridcolor\":\"white\",\"linecolor\":\"white\",\"showbackground\":true,\"ticks\":\"\",\"zerolinecolor\":\"white\",\"gridwidth\":2},\"zaxis\":{\"backgroundcolor\":\"#E5ECF6\",\"gridcolor\":\"white\",\"linecolor\":\"white\",\"showbackground\":true,\"ticks\":\"\",\"zerolinecolor\":\"white\",\"gridwidth\":2}},\"shapedefaults\":{\"line\":{\"color\":\"#2a3f5f\"}},\"annotationdefaults\":{\"arrowcolor\":\"#2a3f5f\",\"arrowhead\":0,\"arrowwidth\":1},\"geo\":{\"bgcolor\":\"white\",\"landcolor\":\"#E5ECF6\",\"subunitcolor\":\"white\",\"showland\":true,\"showlakes\":true,\"lakecolor\":\"white\"},\"title\":{\"x\":0.05},\"mapbox\":{\"style\":\"light\"}}},\"xaxis\":{\"anchor\":\"y\",\"domain\":[0.0,1.0],\"title\":{\"text\":\"Healthy life expectancy\"}},\"yaxis\":{\"anchor\":\"x\",\"domain\":[0.0,1.0],\"title\":{\"text\":\"Happiness Score\"}},\"legend\":{\"title\":{\"text\":\"color\"},\"tracegroupgap\":0},\"title\":{\"text\":\"ScatterPlot: Healthy life expectancy and Happiness Score\",\"x\":0.5}},                        {\"responsive\": true}                    ).then(function(){\n",
       "                            \n",
       "var gd = document.getElementById('e756218d-e145-48c5-a501-9e9ec33ae13f');\n",
       "var x = new MutationObserver(function (mutations, observer) {{\n",
       "        var display = window.getComputedStyle(gd).display;\n",
       "        if (!display || display === 'none') {{\n",
       "            console.log([gd, 'removed!']);\n",
       "            Plotly.purge(gd);\n",
       "            observer.disconnect();\n",
       "        }}\n",
       "}});\n",
       "\n",
       "// Listen for the removal of the full notebook cells\n",
       "var notebookContainer = gd.closest('#notebook-container');\n",
       "if (notebookContainer) {{\n",
       "    x.observe(notebookContainer, {childList: true});\n",
       "}}\n",
       "\n",
       "// Listen for the clearing of the current output cell\n",
       "var outputEl = gd.closest('.output');\n",
       "if (outputEl) {{\n",
       "    x.observe(outputEl, {childList: true});\n",
       "}}\n",
       "\n",
       "                        })                };                });            </script>        </div>"
      ]
     },
     "metadata": {},
     "output_type": "display_data"
    }
   ],
   "source": [
    "country_col = 'Country Name'\n",
    "world_happiness_index.loc[world_happiness_index[country_col].isin(top_hap_5[country_col].to_list()),'color'] = 'Top 5 Countries ranked by happiness'\n",
    "world_happiness_index.loc[world_happiness_index[country_col].isin(bottom_hap_5[country_col].to_list()),'color'] = 'Bottom 5 ranked by happiness'\n",
    "world_happiness_index.loc[~world_happiness_index[country_col].isin(bottom_hap_5[country_col].to_list()+top_hap_5[country_col].to_list()),'color'] = 'Other Countries'\n",
    "fig = px.scatter(data_frame=world_happiness_index,x='Healthy life expectancy',y='Happiness Score',color='color',\n",
    "                 color_discrete_map={'Top 5 Countries ranked by happiness': 'green', 'Bottom 5 ranked by happiness': 'red','Other Countries':'blue'},\n",
    "                 title=\"ScatterPlot: Healthy life expectancy and Happiness Score\",custom_data=[country_col])\n",
    "# Note - install statsmodels for trendlines\n",
    "fig.update_traces(\n",
    "    hovertemplate=\"<br>\".join([\n",
    "        \"Healthy life expectancy: %{y}\",\n",
    "        \"Happiness Score: %{x}\",\n",
    "        \"Country Name: %{customdata[0]}\",\n",
    "    ])\n",
    ")\n",
    "# Customize axis labels\n",
    "fig.update_layout(\n",
    "    xaxis_title=\"Healthy life expectancy\",\n",
    "    yaxis_title=\"Happiness Score\",\n",
    "    title_x=0.5 # center title\n",
    ")\n",
    "fig.show()"
   ]
  },
  {
   "cell_type": "markdown",
   "id": "8afa5223-3c70-4a31-a789-a8d4a0513a7b",
   "metadata": {},
   "source": [
    "The scatterplot above reveals a convex relationship between Healthy life expectancy and Happiness scores. We observe that countries with a Healthy life expectancy of upto 0.3 see a marginally decreasing happiness score (sign of hopelessness perhaps) but as their life expectancy improves, we see a strong positive correlation with happiness scores. "
   ]
  },
  {
   "cell_type": "markdown",
   "id": "1a9e9475-52c8-4196-92d3-33c4ef765f0d",
   "metadata": {
    "tags": []
   },
   "source": [
    "## Dataset 2 - World Bank Health Data"
   ]
  },
  {
   "cell_type": "markdown",
   "id": "cf020afd-7dab-4850-b1d0-d31849a3e248",
   "metadata": {},
   "source": [
    "This dataset includes the following World Bank data from 1960 to 2019 :Population Totals; Population Density; Population Growth; Female Population; Male Population; Education; Climate Change; Trade; Infrastructure; Poverty; Social Development; Environment; Agriculture & Rural; Economic Growth; Health; Private Sector; Public Sector; Financial Sector; Science & Technology; External Debt; Country Metadata; Metadata Indicators.\n",
    "\n",
    "For the purpose of this project, only the sheet titled 'Health 1' has been retained using a spreadsheet program.\n"
   ]
  },
  {
   "cell_type": "code",
   "execution_count": 11,
   "id": "1cd486f5-099b-4f6c-97b1-236158863337",
   "metadata": {
    "tags": []
   },
   "outputs": [
    {
     "data": {
      "text/html": [
       "<div>\n",
       "<style scoped>\n",
       "    .dataframe tbody tr th:only-of-type {\n",
       "        vertical-align: middle;\n",
       "    }\n",
       "\n",
       "    .dataframe tbody tr th {\n",
       "        vertical-align: top;\n",
       "    }\n",
       "\n",
       "    .dataframe thead th {\n",
       "        text-align: right;\n",
       "    }\n",
       "</style>\n",
       "<table border=\"1\" class=\"dataframe\">\n",
       "  <thead>\n",
       "    <tr style=\"text-align: right;\">\n",
       "      <th></th>\n",
       "      <th>Country Name</th>\n",
       "      <th>Country Code</th>\n",
       "      <th>Indicator Name</th>\n",
       "      <th>Indicator Code</th>\n",
       "      <th>1960</th>\n",
       "      <th>1961</th>\n",
       "      <th>1962</th>\n",
       "      <th>1963</th>\n",
       "      <th>1964</th>\n",
       "      <th>1965</th>\n",
       "      <th>...</th>\n",
       "      <th>2011</th>\n",
       "      <th>2012</th>\n",
       "      <th>2013</th>\n",
       "      <th>2014</th>\n",
       "      <th>2015</th>\n",
       "      <th>2016</th>\n",
       "      <th>2017</th>\n",
       "      <th>2018</th>\n",
       "      <th>2019</th>\n",
       "      <th>2020</th>\n",
       "    </tr>\n",
       "  </thead>\n",
       "  <tbody>\n",
       "    <tr>\n",
       "      <th>0</th>\n",
       "      <td>Aruba</td>\n",
       "      <td>ABW</td>\n",
       "      <td>Unmet need for contraception (% of married wom...</td>\n",
       "      <td>SP.UWT.TFRT</td>\n",
       "      <td>NaN</td>\n",
       "      <td>NaN</td>\n",
       "      <td>NaN</td>\n",
       "      <td>NaN</td>\n",
       "      <td>NaN</td>\n",
       "      <td>NaN</td>\n",
       "      <td>...</td>\n",
       "      <td>NaN</td>\n",
       "      <td>NaN</td>\n",
       "      <td>NaN</td>\n",
       "      <td>NaN</td>\n",
       "      <td>NaN</td>\n",
       "      <td>NaN</td>\n",
       "      <td>NaN</td>\n",
       "      <td>NaN</td>\n",
       "      <td>NaN</td>\n",
       "      <td>NaN</td>\n",
       "    </tr>\n",
       "    <tr>\n",
       "      <th>1</th>\n",
       "      <td>Aruba</td>\n",
       "      <td>ABW</td>\n",
       "      <td>Completeness of death registration with cause-...</td>\n",
       "      <td>SP.REG.DTHS.ZS</td>\n",
       "      <td>NaN</td>\n",
       "      <td>NaN</td>\n",
       "      <td>NaN</td>\n",
       "      <td>NaN</td>\n",
       "      <td>NaN</td>\n",
       "      <td>NaN</td>\n",
       "      <td>...</td>\n",
       "      <td>NaN</td>\n",
       "      <td>NaN</td>\n",
       "      <td>NaN</td>\n",
       "      <td>NaN</td>\n",
       "      <td>NaN</td>\n",
       "      <td>NaN</td>\n",
       "      <td>NaN</td>\n",
       "      <td>NaN</td>\n",
       "      <td>NaN</td>\n",
       "      <td>NaN</td>\n",
       "    </tr>\n",
       "    <tr>\n",
       "      <th>2</th>\n",
       "      <td>Aruba</td>\n",
       "      <td>ABW</td>\n",
       "      <td>Completeness of birth registration (%)</td>\n",
       "      <td>SP.REG.BRTH.ZS</td>\n",
       "      <td>NaN</td>\n",
       "      <td>NaN</td>\n",
       "      <td>NaN</td>\n",
       "      <td>NaN</td>\n",
       "      <td>NaN</td>\n",
       "      <td>NaN</td>\n",
       "      <td>...</td>\n",
       "      <td>NaN</td>\n",
       "      <td>NaN</td>\n",
       "      <td>NaN</td>\n",
       "      <td>NaN</td>\n",
       "      <td>NaN</td>\n",
       "      <td>NaN</td>\n",
       "      <td>NaN</td>\n",
       "      <td>NaN</td>\n",
       "      <td>NaN</td>\n",
       "      <td>NaN</td>\n",
       "    </tr>\n",
       "    <tr>\n",
       "      <th>3</th>\n",
       "      <td>Aruba</td>\n",
       "      <td>ABW</td>\n",
       "      <td>Completeness of birth registration, urban (%)</td>\n",
       "      <td>SP.REG.BRTH.UR.ZS</td>\n",
       "      <td>NaN</td>\n",
       "      <td>NaN</td>\n",
       "      <td>NaN</td>\n",
       "      <td>NaN</td>\n",
       "      <td>NaN</td>\n",
       "      <td>NaN</td>\n",
       "      <td>...</td>\n",
       "      <td>NaN</td>\n",
       "      <td>NaN</td>\n",
       "      <td>NaN</td>\n",
       "      <td>NaN</td>\n",
       "      <td>NaN</td>\n",
       "      <td>NaN</td>\n",
       "      <td>NaN</td>\n",
       "      <td>NaN</td>\n",
       "      <td>NaN</td>\n",
       "      <td>NaN</td>\n",
       "    </tr>\n",
       "    <tr>\n",
       "      <th>4</th>\n",
       "      <td>Aruba</td>\n",
       "      <td>ABW</td>\n",
       "      <td>Completeness of birth registration, rural (%)</td>\n",
       "      <td>SP.REG.BRTH.RU.ZS</td>\n",
       "      <td>NaN</td>\n",
       "      <td>NaN</td>\n",
       "      <td>NaN</td>\n",
       "      <td>NaN</td>\n",
       "      <td>NaN</td>\n",
       "      <td>NaN</td>\n",
       "      <td>...</td>\n",
       "      <td>NaN</td>\n",
       "      <td>NaN</td>\n",
       "      <td>NaN</td>\n",
       "      <td>NaN</td>\n",
       "      <td>NaN</td>\n",
       "      <td>NaN</td>\n",
       "      <td>NaN</td>\n",
       "      <td>NaN</td>\n",
       "      <td>NaN</td>\n",
       "      <td>NaN</td>\n",
       "    </tr>\n",
       "    <tr>\n",
       "      <th>...</th>\n",
       "      <td>...</td>\n",
       "      <td>...</td>\n",
       "      <td>...</td>\n",
       "      <td>...</td>\n",
       "      <td>...</td>\n",
       "      <td>...</td>\n",
       "      <td>...</td>\n",
       "      <td>...</td>\n",
       "      <td>...</td>\n",
       "      <td>...</td>\n",
       "      <td>...</td>\n",
       "      <td>...</td>\n",
       "      <td>...</td>\n",
       "      <td>...</td>\n",
       "      <td>...</td>\n",
       "      <td>...</td>\n",
       "      <td>...</td>\n",
       "      <td>...</td>\n",
       "      <td>...</td>\n",
       "      <td>...</td>\n",
       "      <td>...</td>\n",
       "    </tr>\n",
       "    <tr>\n",
       "      <th>65527</th>\n",
       "      <td>Kosovo</td>\n",
       "      <td>XKX</td>\n",
       "      <td>Unmet need for contraception (% of married wom...</td>\n",
       "      <td>SP.UWT.TFRT</td>\n",
       "      <td>NaN</td>\n",
       "      <td>NaN</td>\n",
       "      <td>NaN</td>\n",
       "      <td>NaN</td>\n",
       "      <td>NaN</td>\n",
       "      <td>NaN</td>\n",
       "      <td>...</td>\n",
       "      <td>NaN</td>\n",
       "      <td>NaN</td>\n",
       "      <td>NaN</td>\n",
       "      <td>NaN</td>\n",
       "      <td>NaN</td>\n",
       "      <td>NaN</td>\n",
       "      <td>NaN</td>\n",
       "      <td>NaN</td>\n",
       "      <td>NaN</td>\n",
       "      <td>NaN</td>\n",
       "    </tr>\n",
       "    <tr>\n",
       "      <th>65528</th>\n",
       "      <td>Kosovo</td>\n",
       "      <td>XKX</td>\n",
       "      <td>Completeness of death registration with cause-...</td>\n",
       "      <td>SP.REG.DTHS.ZS</td>\n",
       "      <td>NaN</td>\n",
       "      <td>NaN</td>\n",
       "      <td>NaN</td>\n",
       "      <td>NaN</td>\n",
       "      <td>NaN</td>\n",
       "      <td>NaN</td>\n",
       "      <td>...</td>\n",
       "      <td>NaN</td>\n",
       "      <td>NaN</td>\n",
       "      <td>NaN</td>\n",
       "      <td>NaN</td>\n",
       "      <td>NaN</td>\n",
       "      <td>NaN</td>\n",
       "      <td>NaN</td>\n",
       "      <td>NaN</td>\n",
       "      <td>NaN</td>\n",
       "      <td>NaN</td>\n",
       "    </tr>\n",
       "    <tr>\n",
       "      <th>65529</th>\n",
       "      <td>Kosovo</td>\n",
       "      <td>XKX</td>\n",
       "      <td>Completeness of birth registration (%)</td>\n",
       "      <td>SP.REG.BRTH.ZS</td>\n",
       "      <td>NaN</td>\n",
       "      <td>NaN</td>\n",
       "      <td>NaN</td>\n",
       "      <td>NaN</td>\n",
       "      <td>NaN</td>\n",
       "      <td>NaN</td>\n",
       "      <td>...</td>\n",
       "      <td>NaN</td>\n",
       "      <td>NaN</td>\n",
       "      <td>NaN</td>\n",
       "      <td>NaN</td>\n",
       "      <td>NaN</td>\n",
       "      <td>NaN</td>\n",
       "      <td>NaN</td>\n",
       "      <td>NaN</td>\n",
       "      <td>NaN</td>\n",
       "      <td>NaN</td>\n",
       "    </tr>\n",
       "    <tr>\n",
       "      <th>65530</th>\n",
       "      <td>Kosovo</td>\n",
       "      <td>XKX</td>\n",
       "      <td>Completeness of birth registration, urban (%)</td>\n",
       "      <td>SP.REG.BRTH.UR.ZS</td>\n",
       "      <td>NaN</td>\n",
       "      <td>NaN</td>\n",
       "      <td>NaN</td>\n",
       "      <td>NaN</td>\n",
       "      <td>NaN</td>\n",
       "      <td>NaN</td>\n",
       "      <td>...</td>\n",
       "      <td>NaN</td>\n",
       "      <td>NaN</td>\n",
       "      <td>NaN</td>\n",
       "      <td>NaN</td>\n",
       "      <td>NaN</td>\n",
       "      <td>NaN</td>\n",
       "      <td>NaN</td>\n",
       "      <td>NaN</td>\n",
       "      <td>NaN</td>\n",
       "      <td>NaN</td>\n",
       "    </tr>\n",
       "    <tr>\n",
       "      <th>65531</th>\n",
       "      <td>Kosovo</td>\n",
       "      <td>XKX</td>\n",
       "      <td>Completeness of birth registration, rural (%)</td>\n",
       "      <td>SP.REG.BRTH.RU.ZS</td>\n",
       "      <td>NaN</td>\n",
       "      <td>NaN</td>\n",
       "      <td>NaN</td>\n",
       "      <td>NaN</td>\n",
       "      <td>NaN</td>\n",
       "      <td>NaN</td>\n",
       "      <td>...</td>\n",
       "      <td>NaN</td>\n",
       "      <td>NaN</td>\n",
       "      <td>NaN</td>\n",
       "      <td>NaN</td>\n",
       "      <td>NaN</td>\n",
       "      <td>NaN</td>\n",
       "      <td>NaN</td>\n",
       "      <td>NaN</td>\n",
       "      <td>NaN</td>\n",
       "      <td>NaN</td>\n",
       "    </tr>\n",
       "  </tbody>\n",
       "</table>\n",
       "<p>65532 rows × 65 columns</p>\n",
       "</div>"
      ],
      "text/plain": [
       "      Country Name Country Code  \\\n",
       "0            Aruba          ABW   \n",
       "1            Aruba          ABW   \n",
       "2            Aruba          ABW   \n",
       "3            Aruba          ABW   \n",
       "4            Aruba          ABW   \n",
       "...            ...          ...   \n",
       "65527       Kosovo          XKX   \n",
       "65528       Kosovo          XKX   \n",
       "65529       Kosovo          XKX   \n",
       "65530       Kosovo          XKX   \n",
       "65531       Kosovo          XKX   \n",
       "\n",
       "                                          Indicator Name     Indicator Code  \\\n",
       "0      Unmet need for contraception (% of married wom...        SP.UWT.TFRT   \n",
       "1      Completeness of death registration with cause-...     SP.REG.DTHS.ZS   \n",
       "2                 Completeness of birth registration (%)     SP.REG.BRTH.ZS   \n",
       "3          Completeness of birth registration, urban (%)  SP.REG.BRTH.UR.ZS   \n",
       "4          Completeness of birth registration, rural (%)  SP.REG.BRTH.RU.ZS   \n",
       "...                                                  ...                ...   \n",
       "65527  Unmet need for contraception (% of married wom...        SP.UWT.TFRT   \n",
       "65528  Completeness of death registration with cause-...     SP.REG.DTHS.ZS   \n",
       "65529             Completeness of birth registration (%)     SP.REG.BRTH.ZS   \n",
       "65530      Completeness of birth registration, urban (%)  SP.REG.BRTH.UR.ZS   \n",
       "65531      Completeness of birth registration, rural (%)  SP.REG.BRTH.RU.ZS   \n",
       "\n",
       "       1960  1961  1962  1963  1964  1965  ...  2011  2012  2013  2014  2015  \\\n",
       "0       NaN   NaN   NaN   NaN   NaN   NaN  ...   NaN   NaN   NaN   NaN   NaN   \n",
       "1       NaN   NaN   NaN   NaN   NaN   NaN  ...   NaN   NaN   NaN   NaN   NaN   \n",
       "2       NaN   NaN   NaN   NaN   NaN   NaN  ...   NaN   NaN   NaN   NaN   NaN   \n",
       "3       NaN   NaN   NaN   NaN   NaN   NaN  ...   NaN   NaN   NaN   NaN   NaN   \n",
       "4       NaN   NaN   NaN   NaN   NaN   NaN  ...   NaN   NaN   NaN   NaN   NaN   \n",
       "...     ...   ...   ...   ...   ...   ...  ...   ...   ...   ...   ...   ...   \n",
       "65527   NaN   NaN   NaN   NaN   NaN   NaN  ...   NaN   NaN   NaN   NaN   NaN   \n",
       "65528   NaN   NaN   NaN   NaN   NaN   NaN  ...   NaN   NaN   NaN   NaN   NaN   \n",
       "65529   NaN   NaN   NaN   NaN   NaN   NaN  ...   NaN   NaN   NaN   NaN   NaN   \n",
       "65530   NaN   NaN   NaN   NaN   NaN   NaN  ...   NaN   NaN   NaN   NaN   NaN   \n",
       "65531   NaN   NaN   NaN   NaN   NaN   NaN  ...   NaN   NaN   NaN   NaN   NaN   \n",
       "\n",
       "       2016  2017  2018  2019  2020  \n",
       "0       NaN   NaN   NaN   NaN   NaN  \n",
       "1       NaN   NaN   NaN   NaN   NaN  \n",
       "2       NaN   NaN   NaN   NaN   NaN  \n",
       "3       NaN   NaN   NaN   NaN   NaN  \n",
       "4       NaN   NaN   NaN   NaN   NaN  \n",
       "...     ...   ...   ...   ...   ...  \n",
       "65527   NaN   NaN   NaN   NaN   NaN  \n",
       "65528   NaN   NaN   NaN   NaN   NaN  \n",
       "65529   NaN   NaN   NaN   NaN   NaN  \n",
       "65530   NaN   NaN   NaN   NaN   NaN  \n",
       "65531   NaN   NaN   NaN   NaN   NaN  \n",
       "\n",
       "[65532 rows x 65 columns]"
      ]
     },
     "execution_count": 11,
     "metadata": {},
     "output_type": "execute_result"
    }
   ],
   "source": [
    "world_bank_health_df = pd.read_excel(f\"WorldBank_Healthdata.xlsx\")\n",
    "world_bank_health_df"
   ]
  },
  {
   "cell_type": "markdown",
   "id": "b8501131-8984-41db-813a-638732c09dd6",
   "metadata": {},
   "source": [
    "### We only want to look at the data for year 2018"
   ]
  },
  {
   "cell_type": "code",
   "execution_count": 12,
   "id": "191c0c32-2488-4af1-989b-41a83ca3f6fa",
   "metadata": {},
   "outputs": [
    {
     "data": {
      "text/html": [
       "<div>\n",
       "<style scoped>\n",
       "    .dataframe tbody tr th:only-of-type {\n",
       "        vertical-align: middle;\n",
       "    }\n",
       "\n",
       "    .dataframe tbody tr th {\n",
       "        vertical-align: top;\n",
       "    }\n",
       "\n",
       "    .dataframe thead th {\n",
       "        text-align: right;\n",
       "    }\n",
       "</style>\n",
       "<table border=\"1\" class=\"dataframe\">\n",
       "  <thead>\n",
       "    <tr style=\"text-align: right;\">\n",
       "      <th></th>\n",
       "      <th>Country Name</th>\n",
       "      <th>Indicator Name</th>\n",
       "      <th>2018</th>\n",
       "    </tr>\n",
       "  </thead>\n",
       "  <tbody>\n",
       "    <tr>\n",
       "      <th>0</th>\n",
       "      <td>Aruba</td>\n",
       "      <td>Unmet need for contraception (% of married wom...</td>\n",
       "      <td>NaN</td>\n",
       "    </tr>\n",
       "    <tr>\n",
       "      <th>1</th>\n",
       "      <td>Aruba</td>\n",
       "      <td>Completeness of death registration with cause-...</td>\n",
       "      <td>NaN</td>\n",
       "    </tr>\n",
       "    <tr>\n",
       "      <th>2</th>\n",
       "      <td>Aruba</td>\n",
       "      <td>Completeness of birth registration (%)</td>\n",
       "      <td>NaN</td>\n",
       "    </tr>\n",
       "    <tr>\n",
       "      <th>3</th>\n",
       "      <td>Aruba</td>\n",
       "      <td>Completeness of birth registration, urban (%)</td>\n",
       "      <td>NaN</td>\n",
       "    </tr>\n",
       "    <tr>\n",
       "      <th>4</th>\n",
       "      <td>Aruba</td>\n",
       "      <td>Completeness of birth registration, rural (%)</td>\n",
       "      <td>NaN</td>\n",
       "    </tr>\n",
       "    <tr>\n",
       "      <th>...</th>\n",
       "      <td>...</td>\n",
       "      <td>...</td>\n",
       "      <td>...</td>\n",
       "    </tr>\n",
       "    <tr>\n",
       "      <th>65527</th>\n",
       "      <td>Kosovo</td>\n",
       "      <td>Unmet need for contraception (% of married wom...</td>\n",
       "      <td>NaN</td>\n",
       "    </tr>\n",
       "    <tr>\n",
       "      <th>65528</th>\n",
       "      <td>Kosovo</td>\n",
       "      <td>Completeness of death registration with cause-...</td>\n",
       "      <td>NaN</td>\n",
       "    </tr>\n",
       "    <tr>\n",
       "      <th>65529</th>\n",
       "      <td>Kosovo</td>\n",
       "      <td>Completeness of birth registration (%)</td>\n",
       "      <td>NaN</td>\n",
       "    </tr>\n",
       "    <tr>\n",
       "      <th>65530</th>\n",
       "      <td>Kosovo</td>\n",
       "      <td>Completeness of birth registration, urban (%)</td>\n",
       "      <td>NaN</td>\n",
       "    </tr>\n",
       "    <tr>\n",
       "      <th>65531</th>\n",
       "      <td>Kosovo</td>\n",
       "      <td>Completeness of birth registration, rural (%)</td>\n",
       "      <td>NaN</td>\n",
       "    </tr>\n",
       "  </tbody>\n",
       "</table>\n",
       "<p>65532 rows × 3 columns</p>\n",
       "</div>"
      ],
      "text/plain": [
       "      Country Name                                     Indicator Name  2018\n",
       "0            Aruba  Unmet need for contraception (% of married wom...   NaN\n",
       "1            Aruba  Completeness of death registration with cause-...   NaN\n",
       "2            Aruba             Completeness of birth registration (%)   NaN\n",
       "3            Aruba      Completeness of birth registration, urban (%)   NaN\n",
       "4            Aruba      Completeness of birth registration, rural (%)   NaN\n",
       "...            ...                                                ...   ...\n",
       "65527       Kosovo  Unmet need for contraception (% of married wom...   NaN\n",
       "65528       Kosovo  Completeness of death registration with cause-...   NaN\n",
       "65529       Kosovo             Completeness of birth registration (%)   NaN\n",
       "65530       Kosovo      Completeness of birth registration, urban (%)   NaN\n",
       "65531       Kosovo      Completeness of birth registration, rural (%)   NaN\n",
       "\n",
       "[65532 rows x 3 columns]"
      ]
     },
     "execution_count": 12,
     "metadata": {},
     "output_type": "execute_result"
    }
   ],
   "source": [
    "# filter to columns of interest\n",
    "columns = ['Country Name','Indicator Name','2018']\n",
    "world_bank_health_df = world_bank_health_df[columns]\n",
    "world_bank_health_df"
   ]
  },
  {
   "cell_type": "markdown",
   "id": "91dff81f-c9c1-4881-a053-b31f8f217448",
   "metadata": {},
   "source": [
    "Let's look at the list of health indicators available in the dataset"
   ]
  },
  {
   "cell_type": "code",
   "execution_count": 13,
   "id": "51e70773-8570-429e-9649-eb41054a1d19",
   "metadata": {},
   "outputs": [
    {
     "data": {
      "text/plain": [
       "array(['Unmet need for contraception (% of married women ages 15-49)',\n",
       "       'Completeness of death registration with cause-of-death information (%)',\n",
       "       'Completeness of birth registration (%)',\n",
       "       'Completeness of birth registration, urban (%)',\n",
       "       'Completeness of birth registration, rural (%)',\n",
       "       'Completeness of birth registration, male (%)',\n",
       "       'Completeness of birth registration, female (%)',\n",
       "       'Population, male (% of total population)', 'Population, male',\n",
       "       'Population, female (% of total population)', 'Population, female',\n",
       "       'Population, total', 'Population growth (annual %)',\n",
       "       'Age dependency ratio, young (% of working-age population)',\n",
       "       'Age dependency ratio, old (% of working-age population)',\n",
       "       'Age dependency ratio (% of working-age population)',\n",
       "       'Sex ratio at birth (male births per female births)',\n",
       "       'Population ages 80 and above, male (% of male population)',\n",
       "       'Population ages 80 and above, female (% of female population)',\n",
       "       'Population ages 75-79, male (% of male population)',\n",
       "       'Population ages 75-79, female (% of female population)',\n",
       "       'Population ages 70-74, male (% of male population)',\n",
       "       'Population ages 70-74, female (% of female population)',\n",
       "       'Population ages 65 and above (% of total population)',\n",
       "       'Population ages 65 and above, total',\n",
       "       'Population ages 65 and above, male (% of male population)',\n",
       "       'Population ages 65 and above, male',\n",
       "       'Population ages 65 and above, female (% of female population)',\n",
       "       'Population ages 65 and above, female',\n",
       "       'Population ages 65-69, male (% of male population)',\n",
       "       'Population ages 65-69, female (% of female population)',\n",
       "       'Population ages 60-64, male (% of male population)',\n",
       "       'Population ages 60-64, female (% of female population)',\n",
       "       'Population ages 55-59, male (% of male population)',\n",
       "       'Population ages 55-59, female (% of female population)',\n",
       "       'Population ages 50-54, male (% of male population)',\n",
       "       'Population ages 50-54, female (% of female population)',\n",
       "       'Population ages 45-49, male (% of male population)',\n",
       "       'Population ages 45-49, female (% of female population)',\n",
       "       'Population ages 40-44, male (% of male population)',\n",
       "       'Population ages 40-44, female (% of female population)',\n",
       "       'Population ages 35-39, male (% of male population)',\n",
       "       'Population ages 35-39, female (% of female population)',\n",
       "       'Population ages 30-34, male (% of male population)',\n",
       "       'Population ages 30-34, female (% of female population)',\n",
       "       'Population ages 25-29, male (% of male population)',\n",
       "       'Population ages 25-29, female (% of female population)',\n",
       "       'Population ages 20-24, male (% of male population)',\n",
       "       'Population ages 20-24, female (% of female population)',\n",
       "       'Population ages 15-64 (% of total population)',\n",
       "       'Population ages 15-64, total',\n",
       "       'Population ages 15-64, male (% of male population)',\n",
       "       'Population ages 15-64, male',\n",
       "       'Population ages 15-64, female (% of female population)',\n",
       "       'Population ages 15-64, female',\n",
       "       'Population ages 15-19, male (% of male population)',\n",
       "       'Population ages 15-19, female (% of female population)',\n",
       "       'Population ages 10-14, male (% of male population)',\n",
       "       'Population ages 10-14, female (% of female population)',\n",
       "       'Population ages 05-09, male (% of male population)',\n",
       "       'Population ages 05-09, female (% of female population)',\n",
       "       'Population ages 0-14 (% of total population)',\n",
       "       'Population ages 0-14, total',\n",
       "       'Population ages 0-14, male (% of male population)',\n",
       "       'Population ages 0-14, male',\n",
       "       'Population ages 0-14, female (% of female population)',\n",
       "       'Population ages 0-14, female',\n",
       "       'Population ages 00-04, male (% of male population)',\n",
       "       'Population ages 00-04, female (% of female population)',\n",
       "       'Teenage mothers (% of women ages 15-19 who have had children or are currently pregnant)',\n",
       "       'Women who were first married by age 18 (% of women ages 20-24)',\n",
       "       'Women who were first married by age 15 (% of women ages 20-24)',\n",
       "       'Female headed households (% of households with a female head)',\n",
       "       'Wanted fertility rate (births per woman)',\n",
       "       'Survival to age 65, male (% of cohort)',\n",
       "       'Survival to age 65, female (% of cohort)',\n",
       "       'Fertility rate, total (births per woman)',\n",
       "       'Life expectancy at birth, male (years)',\n",
       "       'Life expectancy at birth, total (years)',\n",
       "       'Life expectancy at birth, female (years)',\n",
       "       'Mortality rate, infant, male (per 1,000 live births)',\n",
       "       'Mortality rate, infant (per 1,000 live births)',\n",
       "       'Mortality rate, infant, female (per 1,000 live births)',\n",
       "       'Contraceptive prevalence, any methods (% of women ages 15-49)',\n",
       "       'Contraceptive prevalence, modern methods (% of women ages 15-49)',\n",
       "       'Death rate, crude (per 1,000 people)',\n",
       "       'Birth rate, crude (per 1,000 people)',\n",
       "       'Mortality rate, adult, male (per 1,000 male adults)',\n",
       "       'Mortality rate, adult, female (per 1,000 female adults)',\n",
       "       'Adolescent fertility rate (births per 1,000 women ages 15-19)',\n",
       "       'Vitamin A supplementation coverage rate (% of children ages 6-59 months)',\n",
       "       'Prevalence of severe food insecurity in the population (%)',\n",
       "       'Consumption of iodized salt (% of households)',\n",
       "       'Prevalence of moderate or severe food insecurity in the population (%)',\n",
       "       'Prevalence of undernourishment (% of population)',\n",
       "       'International migrant stock (% of population)',\n",
       "       'International migrant stock, total',\n",
       "       'Refugee population by country or territory of origin',\n",
       "       'Refugee population by country or territory of asylum',\n",
       "       'Net migration',\n",
       "       'Domestic private health expenditure per capita, PPP (current international $)',\n",
       "       'Domestic private health expenditure per capita (current US$)',\n",
       "       'Domestic private health expenditure (% of current health expenditure)',\n",
       "       'Out-of-pocket expenditure per capita, PPP (current international $)',\n",
       "       'Out-of-pocket expenditure per capita (current US$)',\n",
       "       'Out-of-pocket expenditure (% of current health expenditure)',\n",
       "       'Domestic general government health expenditure per capita, PPP (current international $)',\n",
       "       'Domestic general government health expenditure per capita (current US$)',\n",
       "       'Domestic general government health expenditure (% of general government expenditure)',\n",
       "       'Domestic general government health expenditure (% of GDP)',\n",
       "       'Domestic general government health expenditure (% of current health expenditure)',\n",
       "       'External health expenditure per capita, PPP (current international $)',\n",
       "       'External health expenditure per capita (current US$)',\n",
       "       'External health expenditure (% of current health expenditure)',\n",
       "       'Current health expenditure per capita, PPP (current international $)',\n",
       "       'Current health expenditure per capita (current US$)',\n",
       "       'Current health expenditure (% of GDP)',\n",
       "       'Newborns protected against tetanus (%)',\n",
       "       'UHC service coverage index',\n",
       "       'Proportion of population spending more than 25% of household consumption or income on out-of-pocket health care expenditure (%)',\n",
       "       'Number of people spending more than 25% of household consumption or income on out-of-pocket health care expenditure',\n",
       "       'Proportion of population spending more than 10% of household consumption or income on out-of-pocket health care expenditure (%)',\n",
       "       'Number of people spending more than 10% of household consumption or income on out-of-pocket health care expenditure',\n",
       "       'Proportion of population pushed below the $3.20 ($ 2011 PPP) poverty line by out-of-pocket health care expenditure (%)',\n",
       "       'Increase in poverty gap at $3.20 ($ 2011 PPP) poverty line due to out-of-pocket health care expenditure (% of poverty line)',\n",
       "       'Number of people pushed below the $3.20 ($ 2011 PPP) poverty line by out-of-pocket health care expenditure',\n",
       "       'Increase in poverty gap at $3.20 ($ 2011 PPP) poverty line due to out-of-pocket health care expenditure (USD)',\n",
       "       'Proportion of population pushed below the $1.90 ($ 2011 PPP) poverty line by out-of-pocket health care expenditure (%)',\n",
       "       'Increase in poverty gap at $1.90 ($ 2011 PPP) poverty line due to out-of-pocket health care expenditure (% of poverty line)',\n",
       "       'Number of people pushed below the $1.90 ($ 2011 PPP) poverty line by out-of-pocket health care expenditure',\n",
       "       'Increase in poverty gap at $1.90 ($ 2011 PPP) poverty line due to out-of-pocket health care expenditure (USD)',\n",
       "       'Incidence of tuberculosis (per 100,000 people)',\n",
       "       'Tuberculosis case detection rate (%, all forms)',\n",
       "       'Tuberculosis treatment success rate (% of new cases)',\n",
       "       'Prevalence of severe wasting, weight for height (% of children under 5)',\n",
       "       'Prevalence of severe wasting, weight for height, male (% of children under 5)',\n",
       "       'Prevalence of severe wasting, weight for height, female (% of children under 5)',\n",
       "       'Prevalence of wasting, weight for height (% of children under 5)',\n",
       "       'Prevalence of wasting, weight for height, male (% of children under 5)',\n",
       "       'Prevalence of wasting, weight for height, female (% of children under 5)',\n",
       "       'Mortality rate attributed to unsafe water, unsafe sanitation and lack of hygiene (per 100,000 population)',\n",
       "       'Mortality caused by road traffic injury (per 100,000 people)',\n",
       "       'Suicide mortality rate (per 100,000 population)',\n",
       "       'Suicide mortality rate, male (per 100,000 male population)',\n",
       "       'Suicide mortality rate, female (per 100,000 female population)',\n",
       "       'Prevalence of stunting, height for age (% of children under 5)',\n",
       "       'Prevalence of stunting, height for age, male (% of children under 5)',\n",
       "       'Prevalence of stunting, height for age, female (% of children under 5)',\n",
       "       'People using safely managed sanitation services (% of population)',\n",
       "       'People using safely managed sanitation services, urban (% of urban population)',\n",
       "       'People using safely managed sanitation services, rural (% of rural population)',\n",
       "       'Mortality rate attributed to unintentional poisoning, male (per 100,000 male population)',\n",
       "       'Mortality rate attributed to unintentional poisoning, female (per 100,000 female population)',\n",
       "       'Mortality rate attributed to unintentional poisoning (per 100,000 population)',\n",
       "       'Prevalence of overweight, weight for height (% of children under 5)',\n",
       "       'Prevalence of overweight, weight for height, male (% of children under 5)',\n",
       "       'Prevalence of overweight, weight for height, female (% of children under 5)',\n",
       "       'Diarrhea treatment (% of children under 5 who received ORS packet)',\n",
       "       'Diarrhea treatment (% of children under 5 receiving oral rehydration and continued feeding)',\n",
       "       'People practicing open defecation (% of population)',\n",
       "       'People practicing open defecation, urban (% of urban population)',\n",
       "       'People practicing open defecation, rural (% of rural population)',\n",
       "       'Maternal mortality ratio (national estimate, per 100,000 live births)',\n",
       "       'Maternal mortality ratio (modeled estimate, per 100,000 live births)',\n",
       "       'Prevalence of underweight, weight for age (% of children under 5)',\n",
       "       'Prevalence of underweight, weight for age, male (% of children under 5)',\n",
       "       'Prevalence of underweight, weight for age, female (% of children under 5)',\n",
       "       'People with basic handwashing facilities including soap and water (% of population)',\n",
       "       'People with basic handwashing facilities including soap and water, urban (% of urban population)',\n",
       "       'People with basic handwashing facilities including soap and water, rural (% of rural population)',\n",
       "       'Female genital mutilation prevalence (%)',\n",
       "       'Diabetes prevalence (% of population ages 20 to 79)',\n",
       "       'Low-birthweight babies (% of births)',\n",
       "       'Births attended by skilled health staff (% of total)',\n",
       "       'Exclusive breastfeeding (% of children under 6 months)',\n",
       "       'People using at least basic sanitation services (% of population)',\n",
       "       'People using at least basic sanitation services, urban (% of urban population)',\n",
       "       'People using at least basic sanitation services, rural (% of rural population)',\n",
       "       'ARI treatment (% of children under 5 taken to a health provider)',\n",
       "       'Pregnant women receiving prenatal care (%)',\n",
       "       'Mortality rate attributed to household and ambient air pollution, age-standardized (per 100,000 population)',\n",
       "       'Mortality rate attributed to household and ambient air pollution, age-standardized, male (per 100,000 male population)',\n",
       "       'Mortality rate attributed to household and ambient air pollution, age-standardized, female (per 100,000 female population)',\n",
       "       'Number of surgical procedures (per 100,000 population)',\n",
       "       'Risk of impoverishing expenditure for surgical care (% of people at risk)',\n",
       "       'Risk of catastrophic expenditure for surgical care (% of people at risk)',\n",
       "       'Prevalence of current tobacco use, males (% of male adults)',\n",
       "       'Prevalence of current tobacco use, females (% of female adults)',\n",
       "       'Prevalence of current tobacco use (% of adults)',\n",
       "       'Prevalence of anemia among pregnant women (%)',\n",
       "       'Lifetime risk of maternal death (%)',\n",
       "       'Lifetime risk of maternal death (1 in: rate varies by country)',\n",
       "       'Number of maternal deaths',\n",
       "       'Children with fever receiving antimalarial drugs (% of children under age 5 with fever)',\n",
       "       'Use of insecticide-treated bed nets (% of under-5 population)',\n",
       "       'Incidence of malaria (per 1,000 population at risk)',\n",
       "       'Specialist surgical workforce (per 100,000 population)',\n",
       "       'Physicians (per 1,000 people)',\n",
       "       'Nurses and midwives (per 1,000 people)',\n",
       "       'Community health workers (per 1,000 people)',\n",
       "       'Hospital beds (per 1,000 people)',\n",
       "       'Immunization, measles (% of children ages 12-23 months)',\n",
       "       'Immunization, DPT (% of children ages 12-23 months)',\n",
       "       'Immunization, HepB3 (% of one-year-old children)',\n",
       "       'Antiretroviral therapy coverage for PMTCT (% of pregnant women living with HIV)',\n",
       "       'Incidence of HIV, ages 15-49 (per 1,000 uninfected population ages 15-49)',\n",
       "       'Incidence of HIV, ages 15-24 (per 1,000 uninfected population ages 15-24)',\n",
       "       'Young people (ages 15-24) newly infected with HIV',\n",
       "       'Incidence of HIV, all (per 1,000 uninfected population)',\n",
       "       'Adults (ages 15+) and children (ages 0-14) newly infected with HIV',\n",
       "       'Children (ages 0-14) newly infected with HIV',\n",
       "       'Adults (ages 15-49) newly infected with HIV',\n",
       "       'Antiretroviral therapy coverage (% of people living with HIV)',\n",
       "       'Prevalence of HIV, male (% ages 15-24)',\n",
       "       'Prevalence of HIV, female (% ages 15-24)',\n",
       "       'Children (0-14) living with HIV',\n",
       "       'People using safely managed drinking water services (% of population)',\n",
       "       'People using safely managed drinking water services, urban (% of urban population)',\n",
       "       'People using safely managed drinking water services, rural (% of rural population)',\n",
       "       'People using at least basic drinking water services (% of population)',\n",
       "       'People using at least basic drinking water services, urban (% of urban population)',\n",
       "       'People using at least basic drinking water services, rural (% of rural population)',\n",
       "       'Demand for family planning satisfied by modern methods (% of married women with demand for family planning)',\n",
       "       'Mortality rate, neonatal (per 1,000 live births)',\n",
       "       'Mortality from CVD, cancer, diabetes or CRD between exact ages 30 and 70 (%)',\n",
       "       'Mortality from CVD, cancer, diabetes or CRD between exact ages 30 and 70, male (%)',\n",
       "       'Mortality from CVD, cancer, diabetes or CRD between exact ages 30 and 70, female (%)',\n",
       "       'Mortality rate, under-5, male (per 1,000 live births)',\n",
       "       'Mortality rate, under-5, female (per 1,000 live births)',\n",
       "       'Mortality rate, under-5 (per 1,000 live births)',\n",
       "       'Prevalence of HIV, total (% of population ages 15-49)',\n",
       "       \"Women's share of population ages 15+ living with HIV (%)\",\n",
       "       'Number of neonatal deaths',\n",
       "       'Cause of death, by non-communicable diseases (% of total)',\n",
       "       'Number of under-five deaths',\n",
       "       'Cause of death, by injury (% of total)',\n",
       "       'Number of infant deaths',\n",
       "       'Cause of death, by communicable diseases and maternal, prenatal and nutrition conditions (% of total)',\n",
       "       'Condom use, population ages 15-24, male (% of males ages 15-24)',\n",
       "       'Condom use, population ages 15-24, female (% of females ages 15-24)',\n",
       "       'Prevalence of anemia among non-pregnant women (% of women ages 15-49)',\n",
       "       'Prevalence of anemia among children (% of children under 5)',\n",
       "       'Prevalence of anemia among women of reproductive age (% of women ages 15-49)',\n",
       "       'Total alcohol consumption per capita, male (liters of pure alcohol, projected estimates, male 15+ years of age)',\n",
       "       'Total alcohol consumption per capita (liters of pure alcohol, projected estimates, 15+ years of age)',\n",
       "       'Total alcohol consumption per capita, female (liters of pure alcohol, projected estimates, female 15+ years of age)',\n",
       "       'Women who believe a husband is justified in beating his wife when she refuses sex with him (%)',\n",
       "       'Women who believe a husband is justified in beating his wife (any of five reasons) (%)',\n",
       "       'Women who believe a husband is justified in beating his wife when she neglects the children (%)',\n",
       "       'Women who believe a husband is justified in beating his wife when she goes out without telling him (%)',\n",
       "       'Women who believe a husband is justified in beating his wife when she burns the food (%)',\n",
       "       'Women who believe a husband is justified in beating his wife when she argues with him (%)',\n",
       "       'Proportion of women subjected to physical and/or sexual violence in the last 12 months (% of women age 15-49)'],\n",
       "      dtype=object)"
      ]
     },
     "execution_count": 13,
     "metadata": {},
     "output_type": "execute_result"
    }
   ],
   "source": [
    "world_bank_health_df['Indicator Name'].unique()"
   ]
  },
  {
   "cell_type": "markdown",
   "id": "7b21a8f6-ef18-4223-bdd7-0c54727c6a8e",
   "metadata": {},
   "source": [
    "## What drives Healthy Life Expectancy ?\n",
    "\n",
    "Given that we know healthy life expectancy is strongly positively correlated with the happiness score, we might want to explore a few potential indicators that could influence a healthy life expectancy such as proportion of GDP spent on current health expenditure in these countries, what this translates to in per capita terms at purchasing power parity. Another interesting explanatory variable we could consider would be the prevalence of moderate to severe food insecurity. Since food insecurity can be traced to the roots of stunting, malnourishment, disease and other aspects that not drive healthy life expectancy and also the subjective well-being experiences captured by the Happiness scores. "
   ]
  },
  {
   "cell_type": "code",
   "execution_count": 14,
   "id": "50bcf09f-463d-4d5a-9686-64409db07359",
   "metadata": {
    "tags": []
   },
   "outputs": [
    {
     "data": {
      "text/html": [
       "<div>\n",
       "<style scoped>\n",
       "    .dataframe tbody tr th:only-of-type {\n",
       "        vertical-align: middle;\n",
       "    }\n",
       "\n",
       "    .dataframe tbody tr th {\n",
       "        vertical-align: top;\n",
       "    }\n",
       "\n",
       "    .dataframe thead th {\n",
       "        text-align: right;\n",
       "    }\n",
       "</style>\n",
       "<table border=\"1\" class=\"dataframe\">\n",
       "  <thead>\n",
       "    <tr style=\"text-align: right;\">\n",
       "      <th></th>\n",
       "      <th>Country Name</th>\n",
       "      <th>Indicator Name</th>\n",
       "      <th>2018</th>\n",
       "    </tr>\n",
       "  </thead>\n",
       "  <tbody>\n",
       "    <tr>\n",
       "      <th>369</th>\n",
       "      <td>Afghanistan</td>\n",
       "      <td>Current health expenditure (% of GDP)</td>\n",
       "      <td>9.395727e+00</td>\n",
       "    </tr>\n",
       "    <tr>\n",
       "      <th>367</th>\n",
       "      <td>Afghanistan</td>\n",
       "      <td>Current health expenditure per capita, PPP (cu...</td>\n",
       "      <td>1.864073e+02</td>\n",
       "    </tr>\n",
       "    <tr>\n",
       "      <th>264</th>\n",
       "      <td>Afghanistan</td>\n",
       "      <td>Population, total</td>\n",
       "      <td>3.717239e+07</td>\n",
       "    </tr>\n",
       "    <tr>\n",
       "      <th>346</th>\n",
       "      <td>Afghanistan</td>\n",
       "      <td>Prevalence of moderate or severe food insecuri...</td>\n",
       "      <td>6.080000e+01</td>\n",
       "    </tr>\n",
       "    <tr>\n",
       "      <th>875</th>\n",
       "      <td>Albania</td>\n",
       "      <td>Current health expenditure (% of GDP)</td>\n",
       "      <td>5.262714e+00</td>\n",
       "    </tr>\n",
       "    <tr>\n",
       "      <th>...</th>\n",
       "      <td>...</td>\n",
       "      <td>...</td>\n",
       "      <td>...</td>\n",
       "    </tr>\n",
       "    <tr>\n",
       "      <th>49175</th>\n",
       "      <td>West Bank and Gaza</td>\n",
       "      <td>Prevalence of moderate or severe food insecuri...</td>\n",
       "      <td>NaN</td>\n",
       "    </tr>\n",
       "    <tr>\n",
       "      <th>65137</th>\n",
       "      <td>World</td>\n",
       "      <td>Current health expenditure (% of GDP)</td>\n",
       "      <td>9.848779e+00</td>\n",
       "    </tr>\n",
       "    <tr>\n",
       "      <th>65135</th>\n",
       "      <td>World</td>\n",
       "      <td>Current health expenditure per capita, PPP (cu...</td>\n",
       "      <td>1.467186e+03</td>\n",
       "    </tr>\n",
       "    <tr>\n",
       "      <th>65032</th>\n",
       "      <td>World</td>\n",
       "      <td>Population, total</td>\n",
       "      <td>7.591945e+09</td>\n",
       "    </tr>\n",
       "    <tr>\n",
       "      <th>65114</th>\n",
       "      <td>World</td>\n",
       "      <td>Prevalence of moderate or severe food insecuri...</td>\n",
       "      <td>2.580534e+01</td>\n",
       "    </tr>\n",
       "  </tbody>\n",
       "</table>\n",
       "<p>1036 rows × 3 columns</p>\n",
       "</div>"
      ],
      "text/plain": [
       "             Country Name                                     Indicator Name  \\\n",
       "369           Afghanistan              Current health expenditure (% of GDP)   \n",
       "367           Afghanistan  Current health expenditure per capita, PPP (cu...   \n",
       "264           Afghanistan                                  Population, total   \n",
       "346           Afghanistan  Prevalence of moderate or severe food insecuri...   \n",
       "875               Albania              Current health expenditure (% of GDP)   \n",
       "...                   ...                                                ...   \n",
       "49175  West Bank and Gaza  Prevalence of moderate or severe food insecuri...   \n",
       "65137               World              Current health expenditure (% of GDP)   \n",
       "65135               World  Current health expenditure per capita, PPP (cu...   \n",
       "65032               World                                  Population, total   \n",
       "65114               World  Prevalence of moderate or severe food insecuri...   \n",
       "\n",
       "               2018  \n",
       "369    9.395727e+00  \n",
       "367    1.864073e+02  \n",
       "264    3.717239e+07  \n",
       "346    6.080000e+01  \n",
       "875    5.262714e+00  \n",
       "...             ...  \n",
       "49175           NaN  \n",
       "65137  9.848779e+00  \n",
       "65135  1.467186e+03  \n",
       "65032  7.591945e+09  \n",
       "65114  2.580534e+01  \n",
       "\n",
       "[1036 rows x 3 columns]"
      ]
     },
     "execution_count": 14,
     "metadata": {},
     "output_type": "execute_result"
    }
   ],
   "source": [
    "## Filter to keep indicators of interest\n",
    "indicators = ['Population, total','Prevalence of moderate or severe food insecurity in the population (%)','Current health expenditure per capita, PPP (current international $)','Current health expenditure (% of GDP)']\n",
    "world_bank_health_df = world_bank_health_df.loc[world_bank_health_df['Indicator Name'].isin(indicators)].sort_values(['Country Name','Indicator Name'])\n",
    "world_bank_health_df"
   ]
  },
  {
   "cell_type": "code",
   "execution_count": 15,
   "id": "06369fe2-bbb3-4359-a079-4f030daf1889",
   "metadata": {
    "tags": []
   },
   "outputs": [
    {
     "data": {
      "text/plain": [
       "20.55984555984556"
      ]
     },
     "execution_count": 15,
     "metadata": {},
     "output_type": "execute_result"
    }
   ],
   "source": [
    "# check for % of rows that have NaNs in the filtered dataset\n",
    "world_bank_health_df.loc[world_bank_health_df['2018'].isna()].shape[0]*100/world_bank_health_df.shape[0]"
   ]
  },
  {
   "cell_type": "markdown",
   "id": "10cb22cc-e349-411a-a995-67563a13168d",
   "metadata": {},
   "source": [
    "We now want to reshape the dataframe so that we have 1 row per country and columns representing the indicators filtered."
   ]
  },
  {
   "cell_type": "code",
   "execution_count": 16,
   "id": "b42a9592-808d-4e1f-91a8-3273f1addb8c",
   "metadata": {},
   "outputs": [
    {
     "data": {
      "text/html": [
       "<div>\n",
       "<style scoped>\n",
       "    .dataframe tbody tr th:only-of-type {\n",
       "        vertical-align: middle;\n",
       "    }\n",
       "\n",
       "    .dataframe tbody tr th {\n",
       "        vertical-align: top;\n",
       "    }\n",
       "\n",
       "    .dataframe thead th {\n",
       "        text-align: right;\n",
       "    }\n",
       "</style>\n",
       "<table border=\"1\" class=\"dataframe\">\n",
       "  <thead>\n",
       "    <tr style=\"text-align: right;\">\n",
       "      <th></th>\n",
       "      <th>Country Name</th>\n",
       "      <th>Current health expenditure (% of GDP)</th>\n",
       "      <th>Current health expenditure per capita, PPP (current international $)</th>\n",
       "      <th>Population, total</th>\n",
       "      <th>Prevalence of moderate or severe food insecurity in the population (%)</th>\n",
       "    </tr>\n",
       "  </thead>\n",
       "  <tbody>\n",
       "    <tr>\n",
       "      <th>0</th>\n",
       "      <td>Afghanistan</td>\n",
       "      <td>9.395727</td>\n",
       "      <td>186.407288</td>\n",
       "      <td>3.717239e+07</td>\n",
       "      <td>60.800000</td>\n",
       "    </tr>\n",
       "    <tr>\n",
       "      <th>1</th>\n",
       "      <td>Albania</td>\n",
       "      <td>5.262714</td>\n",
       "      <td>697.304871</td>\n",
       "      <td>2.866376e+06</td>\n",
       "      <td>37.100000</td>\n",
       "    </tr>\n",
       "    <tr>\n",
       "      <th>2</th>\n",
       "      <td>Algeria</td>\n",
       "      <td>6.218427</td>\n",
       "      <td>962.719360</td>\n",
       "      <td>4.222843e+07</td>\n",
       "      <td>17.600000</td>\n",
       "    </tr>\n",
       "    <tr>\n",
       "      <th>3</th>\n",
       "      <td>American Samoa</td>\n",
       "      <td>NaN</td>\n",
       "      <td>NaN</td>\n",
       "      <td>5.546500e+04</td>\n",
       "      <td>NaN</td>\n",
       "    </tr>\n",
       "    <tr>\n",
       "      <th>4</th>\n",
       "      <td>Andorra</td>\n",
       "      <td>6.710331</td>\n",
       "      <td>3607.000977</td>\n",
       "      <td>7.700600e+04</td>\n",
       "      <td>NaN</td>\n",
       "    </tr>\n",
       "    <tr>\n",
       "      <th>...</th>\n",
       "      <td>...</td>\n",
       "      <td>...</td>\n",
       "      <td>...</td>\n",
       "      <td>...</td>\n",
       "      <td>...</td>\n",
       "    </tr>\n",
       "    <tr>\n",
       "      <th>254</th>\n",
       "      <td>Venezuela, RB</td>\n",
       "      <td>3.562690</td>\n",
       "      <td>383.508545</td>\n",
       "      <td>2.887020e+07</td>\n",
       "      <td>NaN</td>\n",
       "    </tr>\n",
       "    <tr>\n",
       "      <th>255</th>\n",
       "      <td>Vietnam</td>\n",
       "      <td>5.917897</td>\n",
       "      <td>440.166504</td>\n",
       "      <td>9.554040e+07</td>\n",
       "      <td>NaN</td>\n",
       "    </tr>\n",
       "    <tr>\n",
       "      <th>256</th>\n",
       "      <td>Virgin Islands (U.S.)</td>\n",
       "      <td>NaN</td>\n",
       "      <td>NaN</td>\n",
       "      <td>1.069770e+05</td>\n",
       "      <td>NaN</td>\n",
       "    </tr>\n",
       "    <tr>\n",
       "      <th>257</th>\n",
       "      <td>West Bank and Gaza</td>\n",
       "      <td>NaN</td>\n",
       "      <td>NaN</td>\n",
       "      <td>4.569087e+06</td>\n",
       "      <td>NaN</td>\n",
       "    </tr>\n",
       "    <tr>\n",
       "      <th>258</th>\n",
       "      <td>World</td>\n",
       "      <td>9.848779</td>\n",
       "      <td>1467.185618</td>\n",
       "      <td>7.591945e+09</td>\n",
       "      <td>25.805336</td>\n",
       "    </tr>\n",
       "  </tbody>\n",
       "</table>\n",
       "<p>259 rows × 5 columns</p>\n",
       "</div>"
      ],
      "text/plain": [
       "              Country Name  Current health expenditure (% of GDP)  \\\n",
       "0              Afghanistan                               9.395727   \n",
       "1                  Albania                               5.262714   \n",
       "2                  Algeria                               6.218427   \n",
       "3           American Samoa                                    NaN   \n",
       "4                  Andorra                               6.710331   \n",
       "..                     ...                                    ...   \n",
       "254          Venezuela, RB                               3.562690   \n",
       "255                Vietnam                               5.917897   \n",
       "256  Virgin Islands (U.S.)                                    NaN   \n",
       "257     West Bank and Gaza                                    NaN   \n",
       "258                  World                               9.848779   \n",
       "\n",
       "     Current health expenditure per capita, PPP (current international $)  \\\n",
       "0                                           186.407288                      \n",
       "1                                           697.304871                      \n",
       "2                                           962.719360                      \n",
       "3                                                  NaN                      \n",
       "4                                          3607.000977                      \n",
       "..                                                 ...                      \n",
       "254                                         383.508545                      \n",
       "255                                         440.166504                      \n",
       "256                                                NaN                      \n",
       "257                                                NaN                      \n",
       "258                                        1467.185618                      \n",
       "\n",
       "     Population, total  \\\n",
       "0         3.717239e+07   \n",
       "1         2.866376e+06   \n",
       "2         4.222843e+07   \n",
       "3         5.546500e+04   \n",
       "4         7.700600e+04   \n",
       "..                 ...   \n",
       "254       2.887020e+07   \n",
       "255       9.554040e+07   \n",
       "256       1.069770e+05   \n",
       "257       4.569087e+06   \n",
       "258       7.591945e+09   \n",
       "\n",
       "     Prevalence of moderate or severe food insecurity in the population (%)  \n",
       "0                                            60.800000                       \n",
       "1                                            37.100000                       \n",
       "2                                            17.600000                       \n",
       "3                                                  NaN                       \n",
       "4                                                  NaN                       \n",
       "..                                                 ...                       \n",
       "254                                                NaN                       \n",
       "255                                                NaN                       \n",
       "256                                                NaN                       \n",
       "257                                                NaN                       \n",
       "258                                          25.805336                       \n",
       "\n",
       "[259 rows x 5 columns]"
      ]
     },
     "execution_count": 16,
     "metadata": {},
     "output_type": "execute_result"
    }
   ],
   "source": [
    "# reshape the dataset to have the indicators as columns\n",
    "world_bank_health_df = world_bank_health_df.set_index([\"Country Name\",\"Indicator Name\"])[\"2018\"].unstack(\"Indicator Name\").reset_index().rename_axis(None, axis=\"columns\")\n",
    "world_bank_health_df"
   ]
  },
  {
   "cell_type": "markdown",
   "id": "9f606668-e56a-4544-9fa3-c475b657791e",
   "metadata": {},
   "source": [
    "## Combine datasets"
   ]
  },
  {
   "cell_type": "code",
   "execution_count": 17,
   "id": "fcf31c5c-7d03-4325-8ae9-bf76c11552fc",
   "metadata": {},
   "outputs": [
    {
     "data": {
      "text/html": [
       "<div>\n",
       "<style scoped>\n",
       "    .dataframe tbody tr th:only-of-type {\n",
       "        vertical-align: middle;\n",
       "    }\n",
       "\n",
       "    .dataframe tbody tr th {\n",
       "        vertical-align: top;\n",
       "    }\n",
       "\n",
       "    .dataframe thead th {\n",
       "        text-align: right;\n",
       "    }\n",
       "</style>\n",
       "<table border=\"1\" class=\"dataframe\">\n",
       "  <thead>\n",
       "    <tr style=\"text-align: right;\">\n",
       "      <th></th>\n",
       "      <th>Country Name</th>\n",
       "      <th>Current health expenditure (% of GDP)</th>\n",
       "      <th>Current health expenditure per capita, PPP (current international $)</th>\n",
       "      <th>Population, total</th>\n",
       "      <th>Prevalence of moderate or severe food insecurity in the population (%)</th>\n",
       "      <th>Overall rank</th>\n",
       "      <th>Happiness Score</th>\n",
       "      <th>GDP per capita</th>\n",
       "      <th>Social support</th>\n",
       "      <th>Healthy life expectancy</th>\n",
       "      <th>Freedom to make life choices</th>\n",
       "      <th>Generosity</th>\n",
       "      <th>Perceptions of corruption</th>\n",
       "      <th>color</th>\n",
       "    </tr>\n",
       "  </thead>\n",
       "  <tbody>\n",
       "    <tr>\n",
       "      <th>0</th>\n",
       "      <td>Finland</td>\n",
       "      <td>9.037323</td>\n",
       "      <td>4457.170898</td>\n",
       "      <td>5515525.0</td>\n",
       "      <td>7.7</td>\n",
       "      <td>1</td>\n",
       "      <td>7.632</td>\n",
       "      <td>1.305</td>\n",
       "      <td>1.592</td>\n",
       "      <td>0.874</td>\n",
       "      <td>0.681</td>\n",
       "      <td>0.202</td>\n",
       "      <td>0.393</td>\n",
       "      <td>Top 5 Countries ranked by happiness</td>\n",
       "    </tr>\n",
       "    <tr>\n",
       "      <th>1</th>\n",
       "      <td>Norway</td>\n",
       "      <td>10.049393</td>\n",
       "      <td>6818.346191</td>\n",
       "      <td>5311916.0</td>\n",
       "      <td>4.9</td>\n",
       "      <td>2</td>\n",
       "      <td>7.594</td>\n",
       "      <td>1.456</td>\n",
       "      <td>1.582</td>\n",
       "      <td>0.861</td>\n",
       "      <td>0.686</td>\n",
       "      <td>0.286</td>\n",
       "      <td>0.340</td>\n",
       "      <td>Top 5 Countries ranked by happiness</td>\n",
       "    </tr>\n",
       "    <tr>\n",
       "      <th>2</th>\n",
       "      <td>Denmark</td>\n",
       "      <td>10.070716</td>\n",
       "      <td>5794.259277</td>\n",
       "      <td>5793636.0</td>\n",
       "      <td>5.2</td>\n",
       "      <td>3</td>\n",
       "      <td>7.555</td>\n",
       "      <td>1.351</td>\n",
       "      <td>1.590</td>\n",
       "      <td>0.868</td>\n",
       "      <td>0.683</td>\n",
       "      <td>0.284</td>\n",
       "      <td>0.408</td>\n",
       "      <td>Top 5 Countries ranked by happiness</td>\n",
       "    </tr>\n",
       "    <tr>\n",
       "      <th>3</th>\n",
       "      <td>Iceland</td>\n",
       "      <td>8.469309</td>\n",
       "      <td>5113.221680</td>\n",
       "      <td>352721.0</td>\n",
       "      <td>7.3</td>\n",
       "      <td>4</td>\n",
       "      <td>7.495</td>\n",
       "      <td>1.343</td>\n",
       "      <td>1.644</td>\n",
       "      <td>0.914</td>\n",
       "      <td>0.677</td>\n",
       "      <td>0.353</td>\n",
       "      <td>0.138</td>\n",
       "      <td>Top 5 Countries ranked by happiness</td>\n",
       "    </tr>\n",
       "    <tr>\n",
       "      <th>4</th>\n",
       "      <td>Switzerland</td>\n",
       "      <td>11.876209</td>\n",
       "      <td>8113.943359</td>\n",
       "      <td>8514329.0</td>\n",
       "      <td>2.7</td>\n",
       "      <td>5</td>\n",
       "      <td>7.487</td>\n",
       "      <td>1.420</td>\n",
       "      <td>1.549</td>\n",
       "      <td>0.927</td>\n",
       "      <td>0.660</td>\n",
       "      <td>0.256</td>\n",
       "      <td>0.357</td>\n",
       "      <td>Top 5 Countries ranked by happiness</td>\n",
       "    </tr>\n",
       "    <tr>\n",
       "      <th>...</th>\n",
       "      <td>...</td>\n",
       "      <td>...</td>\n",
       "      <td>...</td>\n",
       "      <td>...</td>\n",
       "      <td>...</td>\n",
       "      <td>...</td>\n",
       "      <td>...</td>\n",
       "      <td>...</td>\n",
       "      <td>...</td>\n",
       "      <td>...</td>\n",
       "      <td>...</td>\n",
       "      <td>...</td>\n",
       "      <td>...</td>\n",
       "      <td>...</td>\n",
       "    </tr>\n",
       "    <tr>\n",
       "      <th>151</th>\n",
       "      <td>Yemen</td>\n",
       "      <td>NaN</td>\n",
       "      <td>NaN</td>\n",
       "      <td>NaN</td>\n",
       "      <td>NaN</td>\n",
       "      <td>152</td>\n",
       "      <td>3.355</td>\n",
       "      <td>0.442</td>\n",
       "      <td>1.073</td>\n",
       "      <td>0.343</td>\n",
       "      <td>0.244</td>\n",
       "      <td>0.083</td>\n",
       "      <td>0.064</td>\n",
       "      <td>Bottom 5 ranked by happiness</td>\n",
       "    </tr>\n",
       "    <tr>\n",
       "      <th>152</th>\n",
       "      <td>Tanzania</td>\n",
       "      <td>3.628680</td>\n",
       "      <td>112.456367</td>\n",
       "      <td>56318348.0</td>\n",
       "      <td>NaN</td>\n",
       "      <td>153</td>\n",
       "      <td>3.303</td>\n",
       "      <td>0.455</td>\n",
       "      <td>0.991</td>\n",
       "      <td>0.381</td>\n",
       "      <td>0.481</td>\n",
       "      <td>0.270</td>\n",
       "      <td>0.097</td>\n",
       "      <td>Bottom 5 ranked by happiness</td>\n",
       "    </tr>\n",
       "    <tr>\n",
       "      <th>153</th>\n",
       "      <td>South Sudan</td>\n",
       "      <td>6.400380</td>\n",
       "      <td>113.779228</td>\n",
       "      <td>10975920.0</td>\n",
       "      <td>84.9</td>\n",
       "      <td>154</td>\n",
       "      <td>3.254</td>\n",
       "      <td>0.337</td>\n",
       "      <td>0.608</td>\n",
       "      <td>0.177</td>\n",
       "      <td>0.112</td>\n",
       "      <td>0.224</td>\n",
       "      <td>0.106</td>\n",
       "      <td>Bottom 5 ranked by happiness</td>\n",
       "    </tr>\n",
       "    <tr>\n",
       "      <th>154</th>\n",
       "      <td>Central African Republic</td>\n",
       "      <td>10.992531</td>\n",
       "      <td>97.005814</td>\n",
       "      <td>4666377.0</td>\n",
       "      <td>NaN</td>\n",
       "      <td>155</td>\n",
       "      <td>3.083</td>\n",
       "      <td>0.024</td>\n",
       "      <td>0.000</td>\n",
       "      <td>0.010</td>\n",
       "      <td>0.305</td>\n",
       "      <td>0.218</td>\n",
       "      <td>0.038</td>\n",
       "      <td>Bottom 5 ranked by happiness</td>\n",
       "    </tr>\n",
       "    <tr>\n",
       "      <th>155</th>\n",
       "      <td>Burundi</td>\n",
       "      <td>7.741655</td>\n",
       "      <td>65.792679</td>\n",
       "      <td>11175378.0</td>\n",
       "      <td>NaN</td>\n",
       "      <td>156</td>\n",
       "      <td>2.905</td>\n",
       "      <td>0.091</td>\n",
       "      <td>0.627</td>\n",
       "      <td>0.145</td>\n",
       "      <td>0.065</td>\n",
       "      <td>0.149</td>\n",
       "      <td>0.076</td>\n",
       "      <td>Bottom 5 ranked by happiness</td>\n",
       "    </tr>\n",
       "  </tbody>\n",
       "</table>\n",
       "<p>156 rows × 14 columns</p>\n",
       "</div>"
      ],
      "text/plain": [
       "                 Country Name  Current health expenditure (% of GDP)  \\\n",
       "0                     Finland                               9.037323   \n",
       "1                      Norway                              10.049393   \n",
       "2                     Denmark                              10.070716   \n",
       "3                     Iceland                               8.469309   \n",
       "4                 Switzerland                              11.876209   \n",
       "..                        ...                                    ...   \n",
       "151                     Yemen                                    NaN   \n",
       "152                  Tanzania                               3.628680   \n",
       "153               South Sudan                               6.400380   \n",
       "154  Central African Republic                              10.992531   \n",
       "155                   Burundi                               7.741655   \n",
       "\n",
       "     Current health expenditure per capita, PPP (current international $)  \\\n",
       "0                                          4457.170898                      \n",
       "1                                          6818.346191                      \n",
       "2                                          5794.259277                      \n",
       "3                                          5113.221680                      \n",
       "4                                          8113.943359                      \n",
       "..                                                 ...                      \n",
       "151                                                NaN                      \n",
       "152                                         112.456367                      \n",
       "153                                         113.779228                      \n",
       "154                                          97.005814                      \n",
       "155                                          65.792679                      \n",
       "\n",
       "     Population, total  \\\n",
       "0            5515525.0   \n",
       "1            5311916.0   \n",
       "2            5793636.0   \n",
       "3             352721.0   \n",
       "4            8514329.0   \n",
       "..                 ...   \n",
       "151                NaN   \n",
       "152         56318348.0   \n",
       "153         10975920.0   \n",
       "154          4666377.0   \n",
       "155         11175378.0   \n",
       "\n",
       "     Prevalence of moderate or severe food insecurity in the population (%)  \\\n",
       "0                                                  7.7                        \n",
       "1                                                  4.9                        \n",
       "2                                                  5.2                        \n",
       "3                                                  7.3                        \n",
       "4                                                  2.7                        \n",
       "..                                                 ...                        \n",
       "151                                                NaN                        \n",
       "152                                                NaN                        \n",
       "153                                               84.9                        \n",
       "154                                                NaN                        \n",
       "155                                                NaN                        \n",
       "\n",
       "     Overall rank  Happiness Score  GDP per capita  Social support  \\\n",
       "0               1            7.632           1.305           1.592   \n",
       "1               2            7.594           1.456           1.582   \n",
       "2               3            7.555           1.351           1.590   \n",
       "3               4            7.495           1.343           1.644   \n",
       "4               5            7.487           1.420           1.549   \n",
       "..            ...              ...             ...             ...   \n",
       "151           152            3.355           0.442           1.073   \n",
       "152           153            3.303           0.455           0.991   \n",
       "153           154            3.254           0.337           0.608   \n",
       "154           155            3.083           0.024           0.000   \n",
       "155           156            2.905           0.091           0.627   \n",
       "\n",
       "     Healthy life expectancy  Freedom to make life choices  Generosity  \\\n",
       "0                      0.874                         0.681       0.202   \n",
       "1                      0.861                         0.686       0.286   \n",
       "2                      0.868                         0.683       0.284   \n",
       "3                      0.914                         0.677       0.353   \n",
       "4                      0.927                         0.660       0.256   \n",
       "..                       ...                           ...         ...   \n",
       "151                    0.343                         0.244       0.083   \n",
       "152                    0.381                         0.481       0.270   \n",
       "153                    0.177                         0.112       0.224   \n",
       "154                    0.010                         0.305       0.218   \n",
       "155                    0.145                         0.065       0.149   \n",
       "\n",
       "     Perceptions of corruption                                color  \n",
       "0                        0.393  Top 5 Countries ranked by happiness  \n",
       "1                        0.340  Top 5 Countries ranked by happiness  \n",
       "2                        0.408  Top 5 Countries ranked by happiness  \n",
       "3                        0.138  Top 5 Countries ranked by happiness  \n",
       "4                        0.357  Top 5 Countries ranked by happiness  \n",
       "..                         ...                                  ...  \n",
       "151                      0.064         Bottom 5 ranked by happiness  \n",
       "152                      0.097         Bottom 5 ranked by happiness  \n",
       "153                      0.106         Bottom 5 ranked by happiness  \n",
       "154                      0.038         Bottom 5 ranked by happiness  \n",
       "155                      0.076         Bottom 5 ranked by happiness  \n",
       "\n",
       "[156 rows x 14 columns]"
      ]
     },
     "execution_count": 17,
     "metadata": {},
     "output_type": "execute_result"
    }
   ],
   "source": [
    "combined_indicator_df = pd.merge(world_bank_health_df,world_happiness_index,on=['Country Name'],how='right')\n",
    "combined_indicator_df"
   ]
  },
  {
   "cell_type": "code",
   "execution_count": 18,
   "id": "2851634f-3274-477b-9b80-63612bec3987",
   "metadata": {},
   "outputs": [
    {
     "data": {
      "text/html": [
       "<div>\n",
       "<style scoped>\n",
       "    .dataframe tbody tr th:only-of-type {\n",
       "        vertical-align: middle;\n",
       "    }\n",
       "\n",
       "    .dataframe tbody tr th {\n",
       "        vertical-align: top;\n",
       "    }\n",
       "\n",
       "    .dataframe thead th {\n",
       "        text-align: right;\n",
       "    }\n",
       "</style>\n",
       "<table border=\"1\" class=\"dataframe\">\n",
       "  <thead>\n",
       "    <tr style=\"text-align: right;\">\n",
       "      <th></th>\n",
       "      <th>Country Name</th>\n",
       "      <th>Current health expenditure (% of GDP)</th>\n",
       "      <th>Current health expenditure per capita, PPP (current international $)</th>\n",
       "      <th>Population, total</th>\n",
       "      <th>Prevalence of moderate or severe food insecurity in the population (%)</th>\n",
       "      <th>Overall rank</th>\n",
       "      <th>Happiness Score</th>\n",
       "      <th>GDP per capita</th>\n",
       "      <th>Social support</th>\n",
       "      <th>Healthy life expectancy</th>\n",
       "      <th>Freedom to make life choices</th>\n",
       "      <th>Generosity</th>\n",
       "      <th>Perceptions of corruption</th>\n",
       "      <th>color</th>\n",
       "    </tr>\n",
       "  </thead>\n",
       "  <tbody>\n",
       "    <tr>\n",
       "      <th>25</th>\n",
       "      <td>Taiwan</td>\n",
       "      <td>NaN</td>\n",
       "      <td>NaN</td>\n",
       "      <td>NaN</td>\n",
       "      <td>NaN</td>\n",
       "      <td>26</td>\n",
       "      <td>6.441</td>\n",
       "      <td>1.365</td>\n",
       "      <td>1.436</td>\n",
       "      <td>0.857</td>\n",
       "      <td>0.418</td>\n",
       "      <td>0.151</td>\n",
       "      <td>0.078</td>\n",
       "      <td>Other Countries</td>\n",
       "    </tr>\n",
       "    <tr>\n",
       "      <th>37</th>\n",
       "      <td>Trinidad &amp; Tobago</td>\n",
       "      <td>NaN</td>\n",
       "      <td>NaN</td>\n",
       "      <td>NaN</td>\n",
       "      <td>NaN</td>\n",
       "      <td>38</td>\n",
       "      <td>6.192</td>\n",
       "      <td>1.223</td>\n",
       "      <td>1.492</td>\n",
       "      <td>0.564</td>\n",
       "      <td>0.575</td>\n",
       "      <td>0.171</td>\n",
       "      <td>0.019</td>\n",
       "      <td>Other Countries</td>\n",
       "    </tr>\n",
       "    <tr>\n",
       "      <th>38</th>\n",
       "      <td>Slovakia</td>\n",
       "      <td>NaN</td>\n",
       "      <td>NaN</td>\n",
       "      <td>NaN</td>\n",
       "      <td>NaN</td>\n",
       "      <td>39</td>\n",
       "      <td>6.173</td>\n",
       "      <td>1.210</td>\n",
       "      <td>1.537</td>\n",
       "      <td>0.776</td>\n",
       "      <td>0.354</td>\n",
       "      <td>0.118</td>\n",
       "      <td>0.014</td>\n",
       "      <td>Other Countries</td>\n",
       "    </tr>\n",
       "    <tr>\n",
       "      <th>56</th>\n",
       "      <td>South Korea</td>\n",
       "      <td>NaN</td>\n",
       "      <td>NaN</td>\n",
       "      <td>NaN</td>\n",
       "      <td>NaN</td>\n",
       "      <td>57</td>\n",
       "      <td>5.875</td>\n",
       "      <td>1.266</td>\n",
       "      <td>1.204</td>\n",
       "      <td>0.955</td>\n",
       "      <td>0.244</td>\n",
       "      <td>0.175</td>\n",
       "      <td>0.051</td>\n",
       "      <td>Other Countries</td>\n",
       "    </tr>\n",
       "    <tr>\n",
       "      <th>57</th>\n",
       "      <td>Northern Cyprus</td>\n",
       "      <td>NaN</td>\n",
       "      <td>NaN</td>\n",
       "      <td>NaN</td>\n",
       "      <td>NaN</td>\n",
       "      <td>58</td>\n",
       "      <td>5.835</td>\n",
       "      <td>1.229</td>\n",
       "      <td>1.211</td>\n",
       "      <td>0.909</td>\n",
       "      <td>0.495</td>\n",
       "      <td>0.179</td>\n",
       "      <td>0.154</td>\n",
       "      <td>Other Countries</td>\n",
       "    </tr>\n",
       "    <tr>\n",
       "      <th>58</th>\n",
       "      <td>Russia</td>\n",
       "      <td>NaN</td>\n",
       "      <td>NaN</td>\n",
       "      <td>NaN</td>\n",
       "      <td>NaN</td>\n",
       "      <td>59</td>\n",
       "      <td>5.810</td>\n",
       "      <td>1.151</td>\n",
       "      <td>1.479</td>\n",
       "      <td>0.599</td>\n",
       "      <td>0.399</td>\n",
       "      <td>0.065</td>\n",
       "      <td>0.025</td>\n",
       "      <td>Other Countries</td>\n",
       "    </tr>\n",
       "    <tr>\n",
       "      <th>65</th>\n",
       "      <td>Kosovo</td>\n",
       "      <td>NaN</td>\n",
       "      <td>NaN</td>\n",
       "      <td>NaN</td>\n",
       "      <td>NaN</td>\n",
       "      <td>66</td>\n",
       "      <td>5.662</td>\n",
       "      <td>0.855</td>\n",
       "      <td>1.230</td>\n",
       "      <td>0.578</td>\n",
       "      <td>0.448</td>\n",
       "      <td>0.274</td>\n",
       "      <td>0.023</td>\n",
       "      <td>Other Countries</td>\n",
       "    </tr>\n",
       "    <tr>\n",
       "      <th>69</th>\n",
       "      <td>Libya</td>\n",
       "      <td>NaN</td>\n",
       "      <td>NaN</td>\n",
       "      <td>6678567.0</td>\n",
       "      <td>35.9</td>\n",
       "      <td>70</td>\n",
       "      <td>5.566</td>\n",
       "      <td>0.985</td>\n",
       "      <td>1.350</td>\n",
       "      <td>0.553</td>\n",
       "      <td>0.496</td>\n",
       "      <td>0.116</td>\n",
       "      <td>0.148</td>\n",
       "      <td>Other Countries</td>\n",
       "    </tr>\n",
       "    <tr>\n",
       "      <th>75</th>\n",
       "      <td>Hong Kong</td>\n",
       "      <td>NaN</td>\n",
       "      <td>NaN</td>\n",
       "      <td>NaN</td>\n",
       "      <td>NaN</td>\n",
       "      <td>76</td>\n",
       "      <td>5.430</td>\n",
       "      <td>1.405</td>\n",
       "      <td>1.290</td>\n",
       "      <td>1.030</td>\n",
       "      <td>0.524</td>\n",
       "      <td>0.246</td>\n",
       "      <td>0.291</td>\n",
       "      <td>Other Countries</td>\n",
       "    </tr>\n",
       "    <tr>\n",
       "      <th>88</th>\n",
       "      <td>Macedonia</td>\n",
       "      <td>NaN</td>\n",
       "      <td>NaN</td>\n",
       "      <td>NaN</td>\n",
       "      <td>NaN</td>\n",
       "      <td>89</td>\n",
       "      <td>5.185</td>\n",
       "      <td>0.959</td>\n",
       "      <td>1.239</td>\n",
       "      <td>0.691</td>\n",
       "      <td>0.394</td>\n",
       "      <td>0.173</td>\n",
       "      <td>0.052</td>\n",
       "      <td>Other Countries</td>\n",
       "    </tr>\n",
       "    <tr>\n",
       "      <th>91</th>\n",
       "      <td>Kyrgyzstan</td>\n",
       "      <td>NaN</td>\n",
       "      <td>NaN</td>\n",
       "      <td>NaN</td>\n",
       "      <td>NaN</td>\n",
       "      <td>92</td>\n",
       "      <td>5.131</td>\n",
       "      <td>0.530</td>\n",
       "      <td>1.416</td>\n",
       "      <td>0.594</td>\n",
       "      <td>0.540</td>\n",
       "      <td>0.281</td>\n",
       "      <td>0.035</td>\n",
       "      <td>Other Countries</td>\n",
       "    </tr>\n",
       "    <tr>\n",
       "      <th>97</th>\n",
       "      <td>Somalia</td>\n",
       "      <td>NaN</td>\n",
       "      <td>NaN</td>\n",
       "      <td>15008154.0</td>\n",
       "      <td>NaN</td>\n",
       "      <td>98</td>\n",
       "      <td>4.982</td>\n",
       "      <td>0.000</td>\n",
       "      <td>0.712</td>\n",
       "      <td>0.115</td>\n",
       "      <td>0.674</td>\n",
       "      <td>0.238</td>\n",
       "      <td>0.282</td>\n",
       "      <td>Other Countries</td>\n",
       "    </tr>\n",
       "    <tr>\n",
       "      <th>101</th>\n",
       "      <td>Venezuela</td>\n",
       "      <td>NaN</td>\n",
       "      <td>NaN</td>\n",
       "      <td>NaN</td>\n",
       "      <td>NaN</td>\n",
       "      <td>102</td>\n",
       "      <td>4.806</td>\n",
       "      <td>0.996</td>\n",
       "      <td>1.469</td>\n",
       "      <td>0.657</td>\n",
       "      <td>0.133</td>\n",
       "      <td>0.056</td>\n",
       "      <td>0.052</td>\n",
       "      <td>Other Countries</td>\n",
       "    </tr>\n",
       "    <tr>\n",
       "      <th>103</th>\n",
       "      <td>Palestinian Territories</td>\n",
       "      <td>NaN</td>\n",
       "      <td>NaN</td>\n",
       "      <td>NaN</td>\n",
       "      <td>NaN</td>\n",
       "      <td>104</td>\n",
       "      <td>4.743</td>\n",
       "      <td>0.642</td>\n",
       "      <td>1.217</td>\n",
       "      <td>0.602</td>\n",
       "      <td>0.266</td>\n",
       "      <td>0.086</td>\n",
       "      <td>0.076</td>\n",
       "      <td>Other Countries</td>\n",
       "    </tr>\n",
       "    <tr>\n",
       "      <th>104</th>\n",
       "      <td>South Africa</td>\n",
       "      <td>NaN</td>\n",
       "      <td>NaN</td>\n",
       "      <td>NaN</td>\n",
       "      <td>NaN</td>\n",
       "      <td>105</td>\n",
       "      <td>4.724</td>\n",
       "      <td>0.940</td>\n",
       "      <td>1.410</td>\n",
       "      <td>0.330</td>\n",
       "      <td>0.516</td>\n",
       "      <td>0.103</td>\n",
       "      <td>0.056</td>\n",
       "      <td>Other Countries</td>\n",
       "    </tr>\n",
       "    <tr>\n",
       "      <th>105</th>\n",
       "      <td>Iran</td>\n",
       "      <td>NaN</td>\n",
       "      <td>NaN</td>\n",
       "      <td>NaN</td>\n",
       "      <td>NaN</td>\n",
       "      <td>106</td>\n",
       "      <td>4.707</td>\n",
       "      <td>1.059</td>\n",
       "      <td>0.771</td>\n",
       "      <td>0.691</td>\n",
       "      <td>0.459</td>\n",
       "      <td>0.282</td>\n",
       "      <td>0.129</td>\n",
       "      <td>Other Countries</td>\n",
       "    </tr>\n",
       "    <tr>\n",
       "      <th>106</th>\n",
       "      <td>Ivory Coast</td>\n",
       "      <td>NaN</td>\n",
       "      <td>NaN</td>\n",
       "      <td>NaN</td>\n",
       "      <td>NaN</td>\n",
       "      <td>107</td>\n",
       "      <td>4.671</td>\n",
       "      <td>0.541</td>\n",
       "      <td>0.872</td>\n",
       "      <td>0.080</td>\n",
       "      <td>0.467</td>\n",
       "      <td>0.146</td>\n",
       "      <td>0.103</td>\n",
       "      <td>Other Countries</td>\n",
       "    </tr>\n",
       "    <tr>\n",
       "      <th>109</th>\n",
       "      <td>Laos</td>\n",
       "      <td>NaN</td>\n",
       "      <td>NaN</td>\n",
       "      <td>NaN</td>\n",
       "      <td>NaN</td>\n",
       "      <td>110</td>\n",
       "      <td>4.623</td>\n",
       "      <td>0.720</td>\n",
       "      <td>1.034</td>\n",
       "      <td>0.441</td>\n",
       "      <td>0.626</td>\n",
       "      <td>0.230</td>\n",
       "      <td>0.174</td>\n",
       "      <td>Other Countries</td>\n",
       "    </tr>\n",
       "    <tr>\n",
       "      <th>113</th>\n",
       "      <td>Congo (Brazzaville)</td>\n",
       "      <td>NaN</td>\n",
       "      <td>NaN</td>\n",
       "      <td>NaN</td>\n",
       "      <td>NaN</td>\n",
       "      <td>114</td>\n",
       "      <td>4.559</td>\n",
       "      <td>0.682</td>\n",
       "      <td>0.811</td>\n",
       "      <td>0.343</td>\n",
       "      <td>0.514</td>\n",
       "      <td>0.091</td>\n",
       "      <td>0.077</td>\n",
       "      <td>Other Countries</td>\n",
       "    </tr>\n",
       "    <tr>\n",
       "      <th>121</th>\n",
       "      <td>Egypt</td>\n",
       "      <td>NaN</td>\n",
       "      <td>NaN</td>\n",
       "      <td>NaN</td>\n",
       "      <td>NaN</td>\n",
       "      <td>122</td>\n",
       "      <td>4.419</td>\n",
       "      <td>0.885</td>\n",
       "      <td>1.025</td>\n",
       "      <td>0.553</td>\n",
       "      <td>0.312</td>\n",
       "      <td>0.092</td>\n",
       "      <td>0.107</td>\n",
       "      <td>Other Countries</td>\n",
       "    </tr>\n",
       "    <tr>\n",
       "      <th>124</th>\n",
       "      <td>Zambia</td>\n",
       "      <td>NaN</td>\n",
       "      <td>NaN</td>\n",
       "      <td>NaN</td>\n",
       "      <td>NaN</td>\n",
       "      <td>125</td>\n",
       "      <td>4.377</td>\n",
       "      <td>0.562</td>\n",
       "      <td>1.047</td>\n",
       "      <td>0.295</td>\n",
       "      <td>0.503</td>\n",
       "      <td>0.221</td>\n",
       "      <td>0.082</td>\n",
       "      <td>Other Countries</td>\n",
       "    </tr>\n",
       "    <tr>\n",
       "      <th>131</th>\n",
       "      <td>Congo (Kinshasa)</td>\n",
       "      <td>NaN</td>\n",
       "      <td>NaN</td>\n",
       "      <td>NaN</td>\n",
       "      <td>NaN</td>\n",
       "      <td>132</td>\n",
       "      <td>4.245</td>\n",
       "      <td>0.069</td>\n",
       "      <td>1.136</td>\n",
       "      <td>0.204</td>\n",
       "      <td>0.312</td>\n",
       "      <td>0.197</td>\n",
       "      <td>0.052</td>\n",
       "      <td>Other Countries</td>\n",
       "    </tr>\n",
       "    <tr>\n",
       "      <th>143</th>\n",
       "      <td>Zimbabwe</td>\n",
       "      <td>NaN</td>\n",
       "      <td>NaN</td>\n",
       "      <td>NaN</td>\n",
       "      <td>NaN</td>\n",
       "      <td>144</td>\n",
       "      <td>3.692</td>\n",
       "      <td>0.357</td>\n",
       "      <td>1.094</td>\n",
       "      <td>0.248</td>\n",
       "      <td>0.406</td>\n",
       "      <td>0.132</td>\n",
       "      <td>0.099</td>\n",
       "      <td>Other Countries</td>\n",
       "    </tr>\n",
       "    <tr>\n",
       "      <th>149</th>\n",
       "      <td>Syria</td>\n",
       "      <td>NaN</td>\n",
       "      <td>NaN</td>\n",
       "      <td>NaN</td>\n",
       "      <td>NaN</td>\n",
       "      <td>150</td>\n",
       "      <td>3.462</td>\n",
       "      <td>0.689</td>\n",
       "      <td>0.382</td>\n",
       "      <td>0.539</td>\n",
       "      <td>0.088</td>\n",
       "      <td>0.376</td>\n",
       "      <td>0.144</td>\n",
       "      <td>Other Countries</td>\n",
       "    </tr>\n",
       "    <tr>\n",
       "      <th>151</th>\n",
       "      <td>Yemen</td>\n",
       "      <td>NaN</td>\n",
       "      <td>NaN</td>\n",
       "      <td>NaN</td>\n",
       "      <td>NaN</td>\n",
       "      <td>152</td>\n",
       "      <td>3.355</td>\n",
       "      <td>0.442</td>\n",
       "      <td>1.073</td>\n",
       "      <td>0.343</td>\n",
       "      <td>0.244</td>\n",
       "      <td>0.083</td>\n",
       "      <td>0.064</td>\n",
       "      <td>Bottom 5 ranked by happiness</td>\n",
       "    </tr>\n",
       "  </tbody>\n",
       "</table>\n",
       "</div>"
      ],
      "text/plain": [
       "                Country Name  Current health expenditure (% of GDP)  \\\n",
       "25                    Taiwan                                    NaN   \n",
       "37         Trinidad & Tobago                                    NaN   \n",
       "38                  Slovakia                                    NaN   \n",
       "56               South Korea                                    NaN   \n",
       "57           Northern Cyprus                                    NaN   \n",
       "58                    Russia                                    NaN   \n",
       "65                    Kosovo                                    NaN   \n",
       "69                     Libya                                    NaN   \n",
       "75                 Hong Kong                                    NaN   \n",
       "88                 Macedonia                                    NaN   \n",
       "91                Kyrgyzstan                                    NaN   \n",
       "97                   Somalia                                    NaN   \n",
       "101                Venezuela                                    NaN   \n",
       "103  Palestinian Territories                                    NaN   \n",
       "104             South Africa                                    NaN   \n",
       "105                     Iran                                    NaN   \n",
       "106              Ivory Coast                                    NaN   \n",
       "109                     Laos                                    NaN   \n",
       "113      Congo (Brazzaville)                                    NaN   \n",
       "121                    Egypt                                    NaN   \n",
       "124                   Zambia                                    NaN   \n",
       "131         Congo (Kinshasa)                                    NaN   \n",
       "143                 Zimbabwe                                    NaN   \n",
       "149                    Syria                                    NaN   \n",
       "151                    Yemen                                    NaN   \n",
       "\n",
       "     Current health expenditure per capita, PPP (current international $)  \\\n",
       "25                                                 NaN                      \n",
       "37                                                 NaN                      \n",
       "38                                                 NaN                      \n",
       "56                                                 NaN                      \n",
       "57                                                 NaN                      \n",
       "58                                                 NaN                      \n",
       "65                                                 NaN                      \n",
       "69                                                 NaN                      \n",
       "75                                                 NaN                      \n",
       "88                                                 NaN                      \n",
       "91                                                 NaN                      \n",
       "97                                                 NaN                      \n",
       "101                                                NaN                      \n",
       "103                                                NaN                      \n",
       "104                                                NaN                      \n",
       "105                                                NaN                      \n",
       "106                                                NaN                      \n",
       "109                                                NaN                      \n",
       "113                                                NaN                      \n",
       "121                                                NaN                      \n",
       "124                                                NaN                      \n",
       "131                                                NaN                      \n",
       "143                                                NaN                      \n",
       "149                                                NaN                      \n",
       "151                                                NaN                      \n",
       "\n",
       "     Population, total  \\\n",
       "25                 NaN   \n",
       "37                 NaN   \n",
       "38                 NaN   \n",
       "56                 NaN   \n",
       "57                 NaN   \n",
       "58                 NaN   \n",
       "65                 NaN   \n",
       "69           6678567.0   \n",
       "75                 NaN   \n",
       "88                 NaN   \n",
       "91                 NaN   \n",
       "97          15008154.0   \n",
       "101                NaN   \n",
       "103                NaN   \n",
       "104                NaN   \n",
       "105                NaN   \n",
       "106                NaN   \n",
       "109                NaN   \n",
       "113                NaN   \n",
       "121                NaN   \n",
       "124                NaN   \n",
       "131                NaN   \n",
       "143                NaN   \n",
       "149                NaN   \n",
       "151                NaN   \n",
       "\n",
       "     Prevalence of moderate or severe food insecurity in the population (%)  \\\n",
       "25                                                 NaN                        \n",
       "37                                                 NaN                        \n",
       "38                                                 NaN                        \n",
       "56                                                 NaN                        \n",
       "57                                                 NaN                        \n",
       "58                                                 NaN                        \n",
       "65                                                 NaN                        \n",
       "69                                                35.9                        \n",
       "75                                                 NaN                        \n",
       "88                                                 NaN                        \n",
       "91                                                 NaN                        \n",
       "97                                                 NaN                        \n",
       "101                                                NaN                        \n",
       "103                                                NaN                        \n",
       "104                                                NaN                        \n",
       "105                                                NaN                        \n",
       "106                                                NaN                        \n",
       "109                                                NaN                        \n",
       "113                                                NaN                        \n",
       "121                                                NaN                        \n",
       "124                                                NaN                        \n",
       "131                                                NaN                        \n",
       "143                                                NaN                        \n",
       "149                                                NaN                        \n",
       "151                                                NaN                        \n",
       "\n",
       "     Overall rank  Happiness Score  GDP per capita  Social support  \\\n",
       "25             26            6.441           1.365           1.436   \n",
       "37             38            6.192           1.223           1.492   \n",
       "38             39            6.173           1.210           1.537   \n",
       "56             57            5.875           1.266           1.204   \n",
       "57             58            5.835           1.229           1.211   \n",
       "58             59            5.810           1.151           1.479   \n",
       "65             66            5.662           0.855           1.230   \n",
       "69             70            5.566           0.985           1.350   \n",
       "75             76            5.430           1.405           1.290   \n",
       "88             89            5.185           0.959           1.239   \n",
       "91             92            5.131           0.530           1.416   \n",
       "97             98            4.982           0.000           0.712   \n",
       "101           102            4.806           0.996           1.469   \n",
       "103           104            4.743           0.642           1.217   \n",
       "104           105            4.724           0.940           1.410   \n",
       "105           106            4.707           1.059           0.771   \n",
       "106           107            4.671           0.541           0.872   \n",
       "109           110            4.623           0.720           1.034   \n",
       "113           114            4.559           0.682           0.811   \n",
       "121           122            4.419           0.885           1.025   \n",
       "124           125            4.377           0.562           1.047   \n",
       "131           132            4.245           0.069           1.136   \n",
       "143           144            3.692           0.357           1.094   \n",
       "149           150            3.462           0.689           0.382   \n",
       "151           152            3.355           0.442           1.073   \n",
       "\n",
       "     Healthy life expectancy  Freedom to make life choices  Generosity  \\\n",
       "25                     0.857                         0.418       0.151   \n",
       "37                     0.564                         0.575       0.171   \n",
       "38                     0.776                         0.354       0.118   \n",
       "56                     0.955                         0.244       0.175   \n",
       "57                     0.909                         0.495       0.179   \n",
       "58                     0.599                         0.399       0.065   \n",
       "65                     0.578                         0.448       0.274   \n",
       "69                     0.553                         0.496       0.116   \n",
       "75                     1.030                         0.524       0.246   \n",
       "88                     0.691                         0.394       0.173   \n",
       "91                     0.594                         0.540       0.281   \n",
       "97                     0.115                         0.674       0.238   \n",
       "101                    0.657                         0.133       0.056   \n",
       "103                    0.602                         0.266       0.086   \n",
       "104                    0.330                         0.516       0.103   \n",
       "105                    0.691                         0.459       0.282   \n",
       "106                    0.080                         0.467       0.146   \n",
       "109                    0.441                         0.626       0.230   \n",
       "113                    0.343                         0.514       0.091   \n",
       "121                    0.553                         0.312       0.092   \n",
       "124                    0.295                         0.503       0.221   \n",
       "131                    0.204                         0.312       0.197   \n",
       "143                    0.248                         0.406       0.132   \n",
       "149                    0.539                         0.088       0.376   \n",
       "151                    0.343                         0.244       0.083   \n",
       "\n",
       "     Perceptions of corruption                         color  \n",
       "25                       0.078               Other Countries  \n",
       "37                       0.019               Other Countries  \n",
       "38                       0.014               Other Countries  \n",
       "56                       0.051               Other Countries  \n",
       "57                       0.154               Other Countries  \n",
       "58                       0.025               Other Countries  \n",
       "65                       0.023               Other Countries  \n",
       "69                       0.148               Other Countries  \n",
       "75                       0.291               Other Countries  \n",
       "88                       0.052               Other Countries  \n",
       "91                       0.035               Other Countries  \n",
       "97                       0.282               Other Countries  \n",
       "101                      0.052               Other Countries  \n",
       "103                      0.076               Other Countries  \n",
       "104                      0.056               Other Countries  \n",
       "105                      0.129               Other Countries  \n",
       "106                      0.103               Other Countries  \n",
       "109                      0.174               Other Countries  \n",
       "113                      0.077               Other Countries  \n",
       "121                      0.107               Other Countries  \n",
       "124                      0.082               Other Countries  \n",
       "131                      0.052               Other Countries  \n",
       "143                      0.099               Other Countries  \n",
       "149                      0.144               Other Countries  \n",
       "151                      0.064  Bottom 5 ranked by happiness  "
      ]
     },
     "execution_count": 18,
     "metadata": {},
     "output_type": "execute_result"
    }
   ],
   "source": [
    "combined_indicator_df.loc[combined_indicator_df['Current health expenditure per capita, PPP (current international $)'].isna()]"
   ]
  },
  {
   "cell_type": "code",
   "execution_count": 19,
   "id": "6c04f624-c84f-476a-990a-591cedabe2ad",
   "metadata": {},
   "outputs": [
    {
     "name": "stdout",
     "output_type": "stream",
     "text": [
      "Are there nulls for Country Name? - False\n",
      "Are there nulls for Current health expenditure (% of GDP)? - True\n",
      "        % nulls for Current health expenditure (% of GDP) - 16.025641025641026\n",
      "Are there nulls for Current health expenditure per capita, PPP (current international $)? - True\n",
      "        % nulls for Current health expenditure per capita, PPP (current international $) - 16.025641025641026\n",
      "Are there nulls for Population, total? - True\n",
      "        % nulls for Population, total - 14.743589743589743\n",
      "Are there nulls for Prevalence of moderate or severe food insecurity in the population (%)? - True\n",
      "        % nulls for Prevalence of moderate or severe food insecurity in the population (%) - 46.794871794871796\n",
      "Are there nulls for Overall rank? - False\n",
      "Are there nulls for Happiness Score? - False\n",
      "Are there nulls for GDP per capita? - False\n",
      "Are there nulls for Social support? - False\n",
      "Are there nulls for Healthy life expectancy? - False\n",
      "Are there nulls for Freedom to make life choices? - False\n",
      "Are there nulls for Generosity? - False\n",
      "Are there nulls for Perceptions of corruption? - True\n",
      "        % nulls for Perceptions of corruption - 0.6410256410256411\n",
      "Are there nulls for color? - False\n"
     ]
    }
   ],
   "source": [
    "# check for NaNs - combined dataset\n",
    "columns_ci = combined_indicator_df.columns\n",
    "cols_null = []\n",
    "for c in columns_ci:\n",
    "    null_check = combined_indicator_df[c].isnull().values.any()\n",
    "    print(f\"Are there nulls for {c}? - {null_check}\")\n",
    "    if null_check == True:\n",
    "        cols_null.append(c)\n",
    "        count_na_ci = combined_indicator_df.groupby(['Country Name']).agg({c:lambda x: x.isna().sum()}).reset_index()\n",
    "        print(f\"        % nulls for {c} - {count_na_ci.loc[count_na_ci[c] ==1].shape[0]*100/count_na_ci.shape[0]}\")"
   ]
  },
  {
   "cell_type": "markdown",
   "id": "74a81539-7604-4411-a1be-b00567986337",
   "metadata": {},
   "source": [
    "## Healthy Life Expectancy and Current Health Expenditure (% of GDP)\n",
    "\n",
    "In the earlier sections, we saw that GDP per capita had a strong positive correlation with Happiness Score. One pathway of influence from income to happiness could be via the country's expenditure on health as a % of its GDP indicative of how high or low health ranks in its priorities. Conventionally, we would expect a strong positive correlation between the government's expenditure on health and the healthy life expectancy of its citizens as improvements in healthcare infrastructure, access and service delivery can be achieved through higher budgetary allocations."
   ]
  },
  {
   "cell_type": "code",
   "execution_count": 20,
   "id": "d3de2376-0b6c-4d19-b763-329e3b332bf8",
   "metadata": {},
   "outputs": [
    {
     "data": {
      "application/vnd.plotly.v1+json": {
       "config": {
        "plotlyServerURL": "https://plot.ly"
       },
       "data": [
        {
         "customdata": [
          [
           "Finland"
          ],
          [
           "Norway"
          ],
          [
           "Denmark"
          ],
          [
           "Iceland"
          ],
          [
           "Switzerland"
          ]
         ],
         "hovertemplate": "Healthy life expectancy: %{y}<br>Current health expenditure (% of GDP): %{x}<br>Country Name: %{customdata[0]}",
         "legendgroup": "Top 5 Countries ranked by happiness",
         "marker": {
          "color": "green",
          "symbol": "circle"
         },
         "mode": "markers",
         "name": "Top 5 Countries ranked by happiness",
         "orientation": "v",
         "showlegend": true,
         "type": "scatter",
         "x": [
          9.037323,
          10.0493927,
          10.0707159,
          8.46930885,
          11.87620926
         ],
         "xaxis": "x",
         "y": [
          0.874,
          0.861,
          0.868,
          0.914,
          0.927
         ],
         "yaxis": "y"
        },
        {
         "customdata": [
          [
           "Netherlands"
          ],
          [
           "Canada"
          ],
          [
           "New Zealand"
          ],
          [
           "Sweden"
          ],
          [
           "Australia"
          ],
          [
           "United Kingdom"
          ],
          [
           "Austria"
          ],
          [
           "Costa Rica"
          ],
          [
           "Ireland"
          ],
          [
           "Germany"
          ],
          [
           "Belgium"
          ],
          [
           "Luxembourg"
          ],
          [
           "United States"
          ],
          [
           "Israel"
          ],
          [
           "United Arab Emirates"
          ],
          [
           "Czech Republic"
          ],
          [
           "Malta"
          ],
          [
           "France"
          ],
          [
           "Mexico"
          ],
          [
           "Chile"
          ],
          [
           "Taiwan"
          ],
          [
           "Panama"
          ],
          [
           "Brazil"
          ],
          [
           "Argentina"
          ],
          [
           "Guatemala"
          ],
          [
           "Uruguay"
          ],
          [
           "Qatar"
          ],
          [
           "Saudi Arabia"
          ],
          [
           "Singapore"
          ],
          [
           "Malaysia"
          ],
          [
           "Spain"
          ],
          [
           "Colombia"
          ],
          [
           "Trinidad & Tobago"
          ],
          [
           "Slovakia"
          ],
          [
           "El Salvador"
          ],
          [
           "Nicaragua"
          ],
          [
           "Poland"
          ],
          [
           "Bahrain"
          ],
          [
           "Uzbekistan"
          ],
          [
           "Kuwait"
          ],
          [
           "Thailand"
          ],
          [
           "Italy"
          ],
          [
           "Ecuador"
          ],
          [
           "Belize"
          ],
          [
           "Lithuania"
          ],
          [
           "Slovenia"
          ],
          [
           "Romania"
          ],
          [
           "Latvia"
          ],
          [
           "Japan"
          ],
          [
           "Mauritius"
          ],
          [
           "Jamaica"
          ],
          [
           "South Korea"
          ],
          [
           "Northern Cyprus"
          ],
          [
           "Russia"
          ],
          [
           "Kazakhstan"
          ],
          [
           "Cyprus"
          ],
          [
           "Bolivia"
          ],
          [
           "Estonia"
          ],
          [
           "Paraguay"
          ],
          [
           "Peru"
          ],
          [
           "Kosovo"
          ],
          [
           "Moldova"
          ],
          [
           "Turkmenistan"
          ],
          [
           "Hungary"
          ],
          [
           "Libya"
          ],
          [
           "Philippines"
          ],
          [
           "Honduras"
          ],
          [
           "Belarus"
          ],
          [
           "Turkey"
          ],
          [
           "Pakistan"
          ],
          [
           "Hong Kong"
          ],
          [
           "Portugal"
          ],
          [
           "Serbia"
          ],
          [
           "Greece"
          ],
          [
           "Lebanon"
          ],
          [
           "Montenegro"
          ],
          [
           "Croatia"
          ],
          [
           "Dominican Republic"
          ],
          [
           "Algeria"
          ],
          [
           "Morocco"
          ],
          [
           "China"
          ],
          [
           "Azerbaijan"
          ],
          [
           "Tajikistan"
          ],
          [
           "Macedonia"
          ],
          [
           "Jordan"
          ],
          [
           "Nigeria"
          ],
          [
           "Kyrgyzstan"
          ],
          [
           "Bosnia and Herzegovina"
          ],
          [
           "Mongolia"
          ],
          [
           "Vietnam"
          ],
          [
           "Indonesia"
          ],
          [
           "Bhutan"
          ],
          [
           "Somalia"
          ],
          [
           "Cameroon"
          ],
          [
           "Bulgaria"
          ],
          [
           "Nepal"
          ],
          [
           "Venezuela"
          ],
          [
           "Gabon"
          ],
          [
           "Palestinian Territories"
          ],
          [
           "South Africa"
          ],
          [
           "Iran"
          ],
          [
           "Ivory Coast"
          ],
          [
           "Ghana"
          ],
          [
           "Senegal"
          ],
          [
           "Laos"
          ],
          [
           "Tunisia"
          ],
          [
           "Albania"
          ],
          [
           "Sierra Leone"
          ],
          [
           "Congo (Brazzaville)"
          ],
          [
           "Bangladesh"
          ],
          [
           "Sri Lanka"
          ],
          [
           "Iraq"
          ],
          [
           "Mali"
          ],
          [
           "Namibia"
          ],
          [
           "Cambodia"
          ],
          [
           "Burkina Faso"
          ],
          [
           "Egypt"
          ],
          [
           "Mozambique"
          ],
          [
           "Kenya"
          ],
          [
           "Zambia"
          ],
          [
           "Mauritania"
          ],
          [
           "Ethiopia"
          ],
          [
           "Georgia"
          ],
          [
           "Armenia"
          ],
          [
           "Myanmar"
          ],
          [
           "Chad"
          ],
          [
           "Congo (Kinshasa)"
          ],
          [
           "India"
          ],
          [
           "Niger"
          ],
          [
           "Uganda"
          ],
          [
           "Benin"
          ],
          [
           "Sudan"
          ],
          [
           "Ukraine"
          ],
          [
           "Togo"
          ],
          [
           "Guinea"
          ],
          [
           "Lesotho"
          ],
          [
           "Angola"
          ],
          [
           "Madagascar"
          ],
          [
           "Zimbabwe"
          ],
          [
           "Afghanistan"
          ],
          [
           "Botswana"
          ],
          [
           "Malawi"
          ],
          [
           "Haiti"
          ],
          [
           "Liberia"
          ],
          [
           "Syria"
          ],
          [
           "Rwanda"
          ]
         ],
         "hovertemplate": "Healthy life expectancy: %{y}<br>Current health expenditure (% of GDP): %{x}<br>Country Name: %{customdata[0]}",
         "legendgroup": "Other Countries",
         "marker": {
          "color": "blue",
          "symbol": "circle"
         },
         "mode": "markers",
         "name": "Other Countries",
         "orientation": "v",
         "showlegend": true,
         "type": "scatter",
         "x": [
          9.97458649,
          10.79046917,
          9.21034622,
          10.8985014,
          9.28459835,
          9.99696255,
          10.32559872,
          7.56336021,
          6.92870378,
          11.42995071,
          10.31865311,
          5.28587103,
          16.88529778,
          7.51703548,
          4.22590351,
          7.64651203,
          8.96454525,
          11.25789452,
          5.37147474,
          9.14051342,
          null,
          7.26584625,
          9.51438713,
          9.62454033,
          5.70716429,
          9.20269966,
          2.49480486,
          6.3615365,
          4.46444654,
          3.7562995,
          8.97741413,
          7.63980007,
          null,
          null,
          7.10940361,
          8.56453705,
          6.33085012,
          4.13356352,
          5.29149055,
          4.99920797,
          3.79303908,
          8.66763401,
          8.13646507,
          5.69105911,
          6.56775236,
          8.29891014,
          5.55660582,
          6.18923044,
          10.95338821,
          5.82624388,
          6.06135607,
          null,
          null,
          null,
          2.92212725,
          6.76976299,
          6.30102587,
          6.6878767,
          6.65451145,
          5.23800182,
          null,
          6.59544849,
          6.60540628,
          6.70007229,
          null,
          4.40060663,
          7.04958153,
          5.64426613,
          4.12414074,
          3.20193386,
          null,
          9.40783501,
          8.53899002,
          7.71544075,
          8.35297012,
          8.4230423,
          6.82702351,
          5.73298407,
          6.2184267,
          5.31261539,
          5.35107994,
          3.51373243,
          7.2394805,
          null,
          7.79041338,
          3.88990784,
          null,
          8.895051,
          3.78789377,
          5.91789675,
          2.87053037,
          3.0574255,
          null,
          3.52989626,
          7.34667873,
          5.84083414,
          null,
          2.74503946,
          null,
          null,
          null,
          null,
          3.53888083,
          3.97799659,
          null,
          7.29209566,
          5.26271439,
          16.06307983,
          null,
          2.3428061,
          3.75841475,
          4.1062417,
          3.8849268,
          7.95077181,
          6.02654314,
          5.62852383,
          null,
          8.17430115,
          5.16729498,
          null,
          4.58039093,
          3.29555655,
          7.11329746,
          10.02538967,
          4.79125547,
          4.09880257,
          null,
          3.544245,
          7.33380175,
          6.52623558,
          2.49141979,
          4.51304483,
          7.72391653,
          6.16532087,
          3.93172431,
          9.28354836,
          2.54900527,
          4.78956461,
          null,
          9.39572716,
          5.84825039,
          9.33423615,
          7.69460344,
          6.73955679,
          null,
          7.54268694
         ],
         "xaxis": "x",
         "y": [
          0.878,
          0.896,
          0.876,
          0.913,
          0.91,
          0.888,
          0.891,
          0.817,
          0.876,
          0.861,
          0.894,
          0.896,
          0.819,
          0.883,
          0.67,
          0.854,
          0.884,
          0.908,
          0.761,
          0.808,
          0.857,
          0.759,
          0.675,
          0.744,
          0.608,
          0.771,
          0.748,
          0.633,
          1.008,
          0.669,
          0.965,
          0.635,
          0.564,
          0.776,
          0.639,
          0.7,
          0.781,
          0.698,
          0.605,
          0.675,
          0.707,
          0.946,
          0.736,
          0.474,
          0.716,
          0.856,
          0.726,
          0.671,
          0.988,
          0.684,
          0.693,
          0.955,
          0.909,
          0.599,
          0.631,
          0.909,
          0.508,
          0.737,
          0.615,
          0.674,
          0.578,
          0.62,
          0.517,
          0.732,
          0.553,
          0.513,
          0.622,
          0.7,
          0.686,
          0.424,
          1.03,
          0.884,
          0.685,
          0.879,
          0.785,
          0.729,
          0.737,
          0.614,
          0.687,
          0.669,
          0.799,
          0.603,
          0.598,
          0.691,
          0.645,
          0.048,
          0.594,
          0.758,
          0.575,
          0.702,
          0.522,
          0.527,
          0.115,
          0.182,
          0.712,
          0.539,
          0.657,
          0.404,
          0.602,
          0.33,
          0.691,
          0.08,
          0.337,
          0.433,
          0.441,
          0.69,
          0.79,
          0,
          0.343,
          0.579,
          0.672,
          0.536,
          0.152,
          0.365,
          0.457,
          0.254,
          0.553,
          0.173,
          0.454,
          0.295,
          0.292,
          0.391,
          0.643,
          0.666,
          0.429,
          0.053,
          0.204,
          0.485,
          0.221,
          0.237,
          0.24,
          0.312,
          0.609,
          0.253,
          0.211,
          0.079,
          0.269,
          0.402,
          0.248,
          0.255,
          0.417,
          0.306,
          0.289,
          0.267,
          0.539,
          0.4
         ],
         "yaxis": "y"
        },
        {
         "customdata": [
          [
           "Yemen"
          ],
          [
           "Tanzania"
          ],
          [
           "South Sudan"
          ],
          [
           "Central African Republic"
          ],
          [
           "Burundi"
          ]
         ],
         "hovertemplate": "Healthy life expectancy: %{y}<br>Current health expenditure (% of GDP): %{x}<br>Country Name: %{customdata[0]}",
         "legendgroup": "Bottom 5 ranked by happiness",
         "marker": {
          "color": "red",
          "symbol": "circle"
         },
         "mode": "markers",
         "name": "Bottom 5 ranked by happiness",
         "orientation": "v",
         "showlegend": true,
         "type": "scatter",
         "x": [
          null,
          3.62868047,
          6.40037966,
          10.99253082,
          7.74165535
         ],
         "xaxis": "x",
         "y": [
          0.343,
          0.381,
          0.177,
          0.01,
          0.145
         ],
         "yaxis": "y"
        }
       ],
       "layout": {
        "legend": {
         "title": {
          "text": "color"
         },
         "tracegroupgap": 0
        },
        "template": {
         "data": {
          "bar": [
           {
            "error_x": {
             "color": "#2a3f5f"
            },
            "error_y": {
             "color": "#2a3f5f"
            },
            "marker": {
             "line": {
              "color": "#E5ECF6",
              "width": 0.5
             },
             "pattern": {
              "fillmode": "overlay",
              "size": 10,
              "solidity": 0.2
             }
            },
            "type": "bar"
           }
          ],
          "barpolar": [
           {
            "marker": {
             "line": {
              "color": "#E5ECF6",
              "width": 0.5
             },
             "pattern": {
              "fillmode": "overlay",
              "size": 10,
              "solidity": 0.2
             }
            },
            "type": "barpolar"
           }
          ],
          "carpet": [
           {
            "aaxis": {
             "endlinecolor": "#2a3f5f",
             "gridcolor": "white",
             "linecolor": "white",
             "minorgridcolor": "white",
             "startlinecolor": "#2a3f5f"
            },
            "baxis": {
             "endlinecolor": "#2a3f5f",
             "gridcolor": "white",
             "linecolor": "white",
             "minorgridcolor": "white",
             "startlinecolor": "#2a3f5f"
            },
            "type": "carpet"
           }
          ],
          "choropleth": [
           {
            "colorbar": {
             "outlinewidth": 0,
             "ticks": ""
            },
            "type": "choropleth"
           }
          ],
          "contour": [
           {
            "colorbar": {
             "outlinewidth": 0,
             "ticks": ""
            },
            "colorscale": [
             [
              0,
              "#0d0887"
             ],
             [
              0.1111111111111111,
              "#46039f"
             ],
             [
              0.2222222222222222,
              "#7201a8"
             ],
             [
              0.3333333333333333,
              "#9c179e"
             ],
             [
              0.4444444444444444,
              "#bd3786"
             ],
             [
              0.5555555555555556,
              "#d8576b"
             ],
             [
              0.6666666666666666,
              "#ed7953"
             ],
             [
              0.7777777777777778,
              "#fb9f3a"
             ],
             [
              0.8888888888888888,
              "#fdca26"
             ],
             [
              1,
              "#f0f921"
             ]
            ],
            "type": "contour"
           }
          ],
          "contourcarpet": [
           {
            "colorbar": {
             "outlinewidth": 0,
             "ticks": ""
            },
            "type": "contourcarpet"
           }
          ],
          "heatmap": [
           {
            "colorbar": {
             "outlinewidth": 0,
             "ticks": ""
            },
            "colorscale": [
             [
              0,
              "#0d0887"
             ],
             [
              0.1111111111111111,
              "#46039f"
             ],
             [
              0.2222222222222222,
              "#7201a8"
             ],
             [
              0.3333333333333333,
              "#9c179e"
             ],
             [
              0.4444444444444444,
              "#bd3786"
             ],
             [
              0.5555555555555556,
              "#d8576b"
             ],
             [
              0.6666666666666666,
              "#ed7953"
             ],
             [
              0.7777777777777778,
              "#fb9f3a"
             ],
             [
              0.8888888888888888,
              "#fdca26"
             ],
             [
              1,
              "#f0f921"
             ]
            ],
            "type": "heatmap"
           }
          ],
          "heatmapgl": [
           {
            "colorbar": {
             "outlinewidth": 0,
             "ticks": ""
            },
            "colorscale": [
             [
              0,
              "#0d0887"
             ],
             [
              0.1111111111111111,
              "#46039f"
             ],
             [
              0.2222222222222222,
              "#7201a8"
             ],
             [
              0.3333333333333333,
              "#9c179e"
             ],
             [
              0.4444444444444444,
              "#bd3786"
             ],
             [
              0.5555555555555556,
              "#d8576b"
             ],
             [
              0.6666666666666666,
              "#ed7953"
             ],
             [
              0.7777777777777778,
              "#fb9f3a"
             ],
             [
              0.8888888888888888,
              "#fdca26"
             ],
             [
              1,
              "#f0f921"
             ]
            ],
            "type": "heatmapgl"
           }
          ],
          "histogram": [
           {
            "marker": {
             "pattern": {
              "fillmode": "overlay",
              "size": 10,
              "solidity": 0.2
             }
            },
            "type": "histogram"
           }
          ],
          "histogram2d": [
           {
            "colorbar": {
             "outlinewidth": 0,
             "ticks": ""
            },
            "colorscale": [
             [
              0,
              "#0d0887"
             ],
             [
              0.1111111111111111,
              "#46039f"
             ],
             [
              0.2222222222222222,
              "#7201a8"
             ],
             [
              0.3333333333333333,
              "#9c179e"
             ],
             [
              0.4444444444444444,
              "#bd3786"
             ],
             [
              0.5555555555555556,
              "#d8576b"
             ],
             [
              0.6666666666666666,
              "#ed7953"
             ],
             [
              0.7777777777777778,
              "#fb9f3a"
             ],
             [
              0.8888888888888888,
              "#fdca26"
             ],
             [
              1,
              "#f0f921"
             ]
            ],
            "type": "histogram2d"
           }
          ],
          "histogram2dcontour": [
           {
            "colorbar": {
             "outlinewidth": 0,
             "ticks": ""
            },
            "colorscale": [
             [
              0,
              "#0d0887"
             ],
             [
              0.1111111111111111,
              "#46039f"
             ],
             [
              0.2222222222222222,
              "#7201a8"
             ],
             [
              0.3333333333333333,
              "#9c179e"
             ],
             [
              0.4444444444444444,
              "#bd3786"
             ],
             [
              0.5555555555555556,
              "#d8576b"
             ],
             [
              0.6666666666666666,
              "#ed7953"
             ],
             [
              0.7777777777777778,
              "#fb9f3a"
             ],
             [
              0.8888888888888888,
              "#fdca26"
             ],
             [
              1,
              "#f0f921"
             ]
            ],
            "type": "histogram2dcontour"
           }
          ],
          "mesh3d": [
           {
            "colorbar": {
             "outlinewidth": 0,
             "ticks": ""
            },
            "type": "mesh3d"
           }
          ],
          "parcoords": [
           {
            "line": {
             "colorbar": {
              "outlinewidth": 0,
              "ticks": ""
             }
            },
            "type": "parcoords"
           }
          ],
          "pie": [
           {
            "automargin": true,
            "type": "pie"
           }
          ],
          "scatter": [
           {
            "fillpattern": {
             "fillmode": "overlay",
             "size": 10,
             "solidity": 0.2
            },
            "type": "scatter"
           }
          ],
          "scatter3d": [
           {
            "line": {
             "colorbar": {
              "outlinewidth": 0,
              "ticks": ""
             }
            },
            "marker": {
             "colorbar": {
              "outlinewidth": 0,
              "ticks": ""
             }
            },
            "type": "scatter3d"
           }
          ],
          "scattercarpet": [
           {
            "marker": {
             "colorbar": {
              "outlinewidth": 0,
              "ticks": ""
             }
            },
            "type": "scattercarpet"
           }
          ],
          "scattergeo": [
           {
            "marker": {
             "colorbar": {
              "outlinewidth": 0,
              "ticks": ""
             }
            },
            "type": "scattergeo"
           }
          ],
          "scattergl": [
           {
            "marker": {
             "colorbar": {
              "outlinewidth": 0,
              "ticks": ""
             }
            },
            "type": "scattergl"
           }
          ],
          "scattermapbox": [
           {
            "marker": {
             "colorbar": {
              "outlinewidth": 0,
              "ticks": ""
             }
            },
            "type": "scattermapbox"
           }
          ],
          "scatterpolar": [
           {
            "marker": {
             "colorbar": {
              "outlinewidth": 0,
              "ticks": ""
             }
            },
            "type": "scatterpolar"
           }
          ],
          "scatterpolargl": [
           {
            "marker": {
             "colorbar": {
              "outlinewidth": 0,
              "ticks": ""
             }
            },
            "type": "scatterpolargl"
           }
          ],
          "scatterternary": [
           {
            "marker": {
             "colorbar": {
              "outlinewidth": 0,
              "ticks": ""
             }
            },
            "type": "scatterternary"
           }
          ],
          "surface": [
           {
            "colorbar": {
             "outlinewidth": 0,
             "ticks": ""
            },
            "colorscale": [
             [
              0,
              "#0d0887"
             ],
             [
              0.1111111111111111,
              "#46039f"
             ],
             [
              0.2222222222222222,
              "#7201a8"
             ],
             [
              0.3333333333333333,
              "#9c179e"
             ],
             [
              0.4444444444444444,
              "#bd3786"
             ],
             [
              0.5555555555555556,
              "#d8576b"
             ],
             [
              0.6666666666666666,
              "#ed7953"
             ],
             [
              0.7777777777777778,
              "#fb9f3a"
             ],
             [
              0.8888888888888888,
              "#fdca26"
             ],
             [
              1,
              "#f0f921"
             ]
            ],
            "type": "surface"
           }
          ],
          "table": [
           {
            "cells": {
             "fill": {
              "color": "#EBF0F8"
             },
             "line": {
              "color": "white"
             }
            },
            "header": {
             "fill": {
              "color": "#C8D4E3"
             },
             "line": {
              "color": "white"
             }
            },
            "type": "table"
           }
          ]
         },
         "layout": {
          "annotationdefaults": {
           "arrowcolor": "#2a3f5f",
           "arrowhead": 0,
           "arrowwidth": 1
          },
          "autotypenumbers": "strict",
          "coloraxis": {
           "colorbar": {
            "outlinewidth": 0,
            "ticks": ""
           }
          },
          "colorscale": {
           "diverging": [
            [
             0,
             "#8e0152"
            ],
            [
             0.1,
             "#c51b7d"
            ],
            [
             0.2,
             "#de77ae"
            ],
            [
             0.3,
             "#f1b6da"
            ],
            [
             0.4,
             "#fde0ef"
            ],
            [
             0.5,
             "#f7f7f7"
            ],
            [
             0.6,
             "#e6f5d0"
            ],
            [
             0.7,
             "#b8e186"
            ],
            [
             0.8,
             "#7fbc41"
            ],
            [
             0.9,
             "#4d9221"
            ],
            [
             1,
             "#276419"
            ]
           ],
           "sequential": [
            [
             0,
             "#0d0887"
            ],
            [
             0.1111111111111111,
             "#46039f"
            ],
            [
             0.2222222222222222,
             "#7201a8"
            ],
            [
             0.3333333333333333,
             "#9c179e"
            ],
            [
             0.4444444444444444,
             "#bd3786"
            ],
            [
             0.5555555555555556,
             "#d8576b"
            ],
            [
             0.6666666666666666,
             "#ed7953"
            ],
            [
             0.7777777777777778,
             "#fb9f3a"
            ],
            [
             0.8888888888888888,
             "#fdca26"
            ],
            [
             1,
             "#f0f921"
            ]
           ],
           "sequentialminus": [
            [
             0,
             "#0d0887"
            ],
            [
             0.1111111111111111,
             "#46039f"
            ],
            [
             0.2222222222222222,
             "#7201a8"
            ],
            [
             0.3333333333333333,
             "#9c179e"
            ],
            [
             0.4444444444444444,
             "#bd3786"
            ],
            [
             0.5555555555555556,
             "#d8576b"
            ],
            [
             0.6666666666666666,
             "#ed7953"
            ],
            [
             0.7777777777777778,
             "#fb9f3a"
            ],
            [
             0.8888888888888888,
             "#fdca26"
            ],
            [
             1,
             "#f0f921"
            ]
           ]
          },
          "colorway": [
           "#636efa",
           "#EF553B",
           "#00cc96",
           "#ab63fa",
           "#FFA15A",
           "#19d3f3",
           "#FF6692",
           "#B6E880",
           "#FF97FF",
           "#FECB52"
          ],
          "font": {
           "color": "#2a3f5f"
          },
          "geo": {
           "bgcolor": "white",
           "lakecolor": "white",
           "landcolor": "#E5ECF6",
           "showlakes": true,
           "showland": true,
           "subunitcolor": "white"
          },
          "hoverlabel": {
           "align": "left"
          },
          "hovermode": "closest",
          "mapbox": {
           "style": "light"
          },
          "paper_bgcolor": "white",
          "plot_bgcolor": "#E5ECF6",
          "polar": {
           "angularaxis": {
            "gridcolor": "white",
            "linecolor": "white",
            "ticks": ""
           },
           "bgcolor": "#E5ECF6",
           "radialaxis": {
            "gridcolor": "white",
            "linecolor": "white",
            "ticks": ""
           }
          },
          "scene": {
           "xaxis": {
            "backgroundcolor": "#E5ECF6",
            "gridcolor": "white",
            "gridwidth": 2,
            "linecolor": "white",
            "showbackground": true,
            "ticks": "",
            "zerolinecolor": "white"
           },
           "yaxis": {
            "backgroundcolor": "#E5ECF6",
            "gridcolor": "white",
            "gridwidth": 2,
            "linecolor": "white",
            "showbackground": true,
            "ticks": "",
            "zerolinecolor": "white"
           },
           "zaxis": {
            "backgroundcolor": "#E5ECF6",
            "gridcolor": "white",
            "gridwidth": 2,
            "linecolor": "white",
            "showbackground": true,
            "ticks": "",
            "zerolinecolor": "white"
           }
          },
          "shapedefaults": {
           "line": {
            "color": "#2a3f5f"
           }
          },
          "ternary": {
           "aaxis": {
            "gridcolor": "white",
            "linecolor": "white",
            "ticks": ""
           },
           "baxis": {
            "gridcolor": "white",
            "linecolor": "white",
            "ticks": ""
           },
           "bgcolor": "#E5ECF6",
           "caxis": {
            "gridcolor": "white",
            "linecolor": "white",
            "ticks": ""
           }
          },
          "title": {
           "x": 0.05
          },
          "xaxis": {
           "automargin": true,
           "gridcolor": "white",
           "linecolor": "white",
           "ticks": "",
           "title": {
            "standoff": 15
           },
           "zerolinecolor": "white",
           "zerolinewidth": 2
          },
          "yaxis": {
           "automargin": true,
           "gridcolor": "white",
           "linecolor": "white",
           "ticks": "",
           "title": {
            "standoff": 15
           },
           "zerolinecolor": "white",
           "zerolinewidth": 2
          }
         }
        },
        "title": {
         "text": "ScatterPlot: Healthy life expectancy and Current health expenditure (% of GDP)",
         "x": 0.5
        },
        "xaxis": {
         "anchor": "y",
         "domain": [
          0,
          1
         ],
         "title": {
          "text": "Current health expenditure (% of GDP)"
         }
        },
        "yaxis": {
         "anchor": "x",
         "domain": [
          0,
          1
         ],
         "title": {
          "text": "Healthy life expectancy"
         }
        }
       }
      },
      "text/html": [
       "<div>                            <div id=\"dc9cacc2-e121-4a05-b9f5-22c9beaaf624\" class=\"plotly-graph-div\" style=\"height:525px; width:100%;\"></div>            <script type=\"text/javascript\">                require([\"plotly\"], function(Plotly) {                    window.PLOTLYENV=window.PLOTLYENV || {};                                    if (document.getElementById(\"dc9cacc2-e121-4a05-b9f5-22c9beaaf624\")) {                    Plotly.newPlot(                        \"dc9cacc2-e121-4a05-b9f5-22c9beaaf624\",                        [{\"customdata\":[[\"Finland\"],[\"Norway\"],[\"Denmark\"],[\"Iceland\"],[\"Switzerland\"]],\"hovertemplate\":\"Healthy life expectancy: %{y}\\u003cbr\\u003eCurrent health expenditure (% of GDP): %{x}\\u003cbr\\u003eCountry Name: %{customdata[0]}\",\"legendgroup\":\"Top 5 Countries ranked by happiness\",\"marker\":{\"color\":\"green\",\"symbol\":\"circle\"},\"mode\":\"markers\",\"name\":\"Top 5 Countries ranked by happiness\",\"orientation\":\"v\",\"showlegend\":true,\"x\":[9.037323,10.0493927,10.0707159,8.46930885,11.87620926],\"xaxis\":\"x\",\"y\":[0.874,0.861,0.868,0.914,0.927],\"yaxis\":\"y\",\"type\":\"scatter\"},{\"customdata\":[[\"Netherlands\"],[\"Canada\"],[\"New Zealand\"],[\"Sweden\"],[\"Australia\"],[\"United Kingdom\"],[\"Austria\"],[\"Costa Rica\"],[\"Ireland\"],[\"Germany\"],[\"Belgium\"],[\"Luxembourg\"],[\"United States\"],[\"Israel\"],[\"United Arab Emirates\"],[\"Czech Republic\"],[\"Malta\"],[\"France\"],[\"Mexico\"],[\"Chile\"],[\"Taiwan\"],[\"Panama\"],[\"Brazil\"],[\"Argentina\"],[\"Guatemala\"],[\"Uruguay\"],[\"Qatar\"],[\"Saudi Arabia\"],[\"Singapore\"],[\"Malaysia\"],[\"Spain\"],[\"Colombia\"],[\"Trinidad & Tobago\"],[\"Slovakia\"],[\"El Salvador\"],[\"Nicaragua\"],[\"Poland\"],[\"Bahrain\"],[\"Uzbekistan\"],[\"Kuwait\"],[\"Thailand\"],[\"Italy\"],[\"Ecuador\"],[\"Belize\"],[\"Lithuania\"],[\"Slovenia\"],[\"Romania\"],[\"Latvia\"],[\"Japan\"],[\"Mauritius\"],[\"Jamaica\"],[\"South Korea\"],[\"Northern Cyprus\"],[\"Russia\"],[\"Kazakhstan\"],[\"Cyprus\"],[\"Bolivia\"],[\"Estonia\"],[\"Paraguay\"],[\"Peru\"],[\"Kosovo\"],[\"Moldova\"],[\"Turkmenistan\"],[\"Hungary\"],[\"Libya\"],[\"Philippines\"],[\"Honduras\"],[\"Belarus\"],[\"Turkey\"],[\"Pakistan\"],[\"Hong Kong\"],[\"Portugal\"],[\"Serbia\"],[\"Greece\"],[\"Lebanon\"],[\"Montenegro\"],[\"Croatia\"],[\"Dominican Republic\"],[\"Algeria\"],[\"Morocco\"],[\"China\"],[\"Azerbaijan\"],[\"Tajikistan\"],[\"Macedonia\"],[\"Jordan\"],[\"Nigeria\"],[\"Kyrgyzstan\"],[\"Bosnia and Herzegovina\"],[\"Mongolia\"],[\"Vietnam\"],[\"Indonesia\"],[\"Bhutan\"],[\"Somalia\"],[\"Cameroon\"],[\"Bulgaria\"],[\"Nepal\"],[\"Venezuela\"],[\"Gabon\"],[\"Palestinian Territories\"],[\"South Africa\"],[\"Iran\"],[\"Ivory Coast\"],[\"Ghana\"],[\"Senegal\"],[\"Laos\"],[\"Tunisia\"],[\"Albania\"],[\"Sierra Leone\"],[\"Congo (Brazzaville)\"],[\"Bangladesh\"],[\"Sri Lanka\"],[\"Iraq\"],[\"Mali\"],[\"Namibia\"],[\"Cambodia\"],[\"Burkina Faso\"],[\"Egypt\"],[\"Mozambique\"],[\"Kenya\"],[\"Zambia\"],[\"Mauritania\"],[\"Ethiopia\"],[\"Georgia\"],[\"Armenia\"],[\"Myanmar\"],[\"Chad\"],[\"Congo (Kinshasa)\"],[\"India\"],[\"Niger\"],[\"Uganda\"],[\"Benin\"],[\"Sudan\"],[\"Ukraine\"],[\"Togo\"],[\"Guinea\"],[\"Lesotho\"],[\"Angola\"],[\"Madagascar\"],[\"Zimbabwe\"],[\"Afghanistan\"],[\"Botswana\"],[\"Malawi\"],[\"Haiti\"],[\"Liberia\"],[\"Syria\"],[\"Rwanda\"]],\"hovertemplate\":\"Healthy life expectancy: %{y}\\u003cbr\\u003eCurrent health expenditure (% of GDP): %{x}\\u003cbr\\u003eCountry Name: %{customdata[0]}\",\"legendgroup\":\"Other Countries\",\"marker\":{\"color\":\"blue\",\"symbol\":\"circle\"},\"mode\":\"markers\",\"name\":\"Other Countries\",\"orientation\":\"v\",\"showlegend\":true,\"x\":[9.97458649,10.79046917,9.21034622,10.8985014,9.28459835,9.99696255,10.32559872,7.56336021,6.92870378,11.42995071,10.31865311,5.28587103,16.88529778,7.51703548,4.22590351,7.64651203,8.96454525,11.25789452,5.37147474,9.14051342,null,7.26584625,9.51438713,9.62454033,5.70716429,9.20269966,2.49480486,6.3615365,4.46444654,3.7562995,8.97741413,7.63980007,null,null,7.10940361,8.56453705,6.33085012,4.13356352,5.29149055,4.99920797,3.79303908,8.66763401,8.13646507,5.69105911,6.56775236,8.29891014,5.55660582,6.18923044,10.95338821,5.82624388,6.06135607,null,null,null,2.92212725,6.76976299,6.30102587,6.6878767,6.65451145,5.23800182,null,6.59544849,6.60540628,6.70007229,null,4.40060663,7.04958153,5.64426613,4.12414074,3.20193386,null,9.40783501,8.53899002,7.71544075,8.35297012,8.4230423,6.82702351,5.73298407,6.2184267,5.31261539,5.35107994,3.51373243,7.2394805,null,7.79041338,3.88990784,null,8.895051,3.78789377,5.91789675,2.87053037,3.0574255,null,3.52989626,7.34667873,5.84083414,null,2.74503946,null,null,null,null,3.53888083,3.97799659,null,7.29209566,5.26271439,16.06307983,null,2.3428061,3.75841475,4.1062417,3.8849268,7.95077181,6.02654314,5.62852383,null,8.17430115,5.16729498,null,4.58039093,3.29555655,7.11329746,10.02538967,4.79125547,4.09880257,null,3.544245,7.33380175,6.52623558,2.49141979,4.51304483,7.72391653,6.16532087,3.93172431,9.28354836,2.54900527,4.78956461,null,9.39572716,5.84825039,9.33423615,7.69460344,6.73955679,null,7.54268694],\"xaxis\":\"x\",\"y\":[0.878,0.896,0.876,0.913,0.91,0.888,0.891,0.817,0.876,0.861,0.894,0.896,0.819,0.883,0.67,0.854,0.884,0.908,0.761,0.808,0.857,0.759,0.675,0.744,0.608,0.771,0.748,0.633,1.008,0.669,0.965,0.635,0.564,0.776,0.639,0.7,0.781,0.698,0.605,0.675,0.707,0.946,0.736,0.474,0.716,0.856,0.726,0.671,0.988,0.684,0.693,0.955,0.909,0.599,0.631,0.909,0.508,0.737,0.615,0.674,0.578,0.62,0.517,0.732,0.553,0.513,0.622,0.7,0.686,0.424,1.03,0.884,0.685,0.879,0.785,0.729,0.737,0.614,0.687,0.669,0.799,0.603,0.598,0.691,0.645,0.048,0.594,0.758,0.575,0.702,0.522,0.527,0.115,0.182,0.712,0.539,0.657,0.404,0.602,0.33,0.691,0.08,0.337,0.433,0.441,0.69,0.79,0.0,0.343,0.579,0.672,0.536,0.152,0.365,0.457,0.254,0.553,0.173,0.454,0.295,0.292,0.391,0.643,0.666,0.429,0.053,0.204,0.485,0.221,0.237,0.24,0.312,0.609,0.253,0.211,0.079,0.269,0.402,0.248,0.255,0.417,0.306,0.289,0.267,0.539,0.4],\"yaxis\":\"y\",\"type\":\"scatter\"},{\"customdata\":[[\"Yemen\"],[\"Tanzania\"],[\"South Sudan\"],[\"Central African Republic\"],[\"Burundi\"]],\"hovertemplate\":\"Healthy life expectancy: %{y}\\u003cbr\\u003eCurrent health expenditure (% of GDP): %{x}\\u003cbr\\u003eCountry Name: %{customdata[0]}\",\"legendgroup\":\"Bottom 5 ranked by happiness\",\"marker\":{\"color\":\"red\",\"symbol\":\"circle\"},\"mode\":\"markers\",\"name\":\"Bottom 5 ranked by happiness\",\"orientation\":\"v\",\"showlegend\":true,\"x\":[null,3.62868047,6.40037966,10.99253082,7.74165535],\"xaxis\":\"x\",\"y\":[0.343,0.381,0.177,0.01,0.145],\"yaxis\":\"y\",\"type\":\"scatter\"}],                        {\"template\":{\"data\":{\"histogram2dcontour\":[{\"type\":\"histogram2dcontour\",\"colorbar\":{\"outlinewidth\":0,\"ticks\":\"\"},\"colorscale\":[[0.0,\"#0d0887\"],[0.1111111111111111,\"#46039f\"],[0.2222222222222222,\"#7201a8\"],[0.3333333333333333,\"#9c179e\"],[0.4444444444444444,\"#bd3786\"],[0.5555555555555556,\"#d8576b\"],[0.6666666666666666,\"#ed7953\"],[0.7777777777777778,\"#fb9f3a\"],[0.8888888888888888,\"#fdca26\"],[1.0,\"#f0f921\"]]}],\"choropleth\":[{\"type\":\"choropleth\",\"colorbar\":{\"outlinewidth\":0,\"ticks\":\"\"}}],\"histogram2d\":[{\"type\":\"histogram2d\",\"colorbar\":{\"outlinewidth\":0,\"ticks\":\"\"},\"colorscale\":[[0.0,\"#0d0887\"],[0.1111111111111111,\"#46039f\"],[0.2222222222222222,\"#7201a8\"],[0.3333333333333333,\"#9c179e\"],[0.4444444444444444,\"#bd3786\"],[0.5555555555555556,\"#d8576b\"],[0.6666666666666666,\"#ed7953\"],[0.7777777777777778,\"#fb9f3a\"],[0.8888888888888888,\"#fdca26\"],[1.0,\"#f0f921\"]]}],\"heatmap\":[{\"type\":\"heatmap\",\"colorbar\":{\"outlinewidth\":0,\"ticks\":\"\"},\"colorscale\":[[0.0,\"#0d0887\"],[0.1111111111111111,\"#46039f\"],[0.2222222222222222,\"#7201a8\"],[0.3333333333333333,\"#9c179e\"],[0.4444444444444444,\"#bd3786\"],[0.5555555555555556,\"#d8576b\"],[0.6666666666666666,\"#ed7953\"],[0.7777777777777778,\"#fb9f3a\"],[0.8888888888888888,\"#fdca26\"],[1.0,\"#f0f921\"]]}],\"heatmapgl\":[{\"type\":\"heatmapgl\",\"colorbar\":{\"outlinewidth\":0,\"ticks\":\"\"},\"colorscale\":[[0.0,\"#0d0887\"],[0.1111111111111111,\"#46039f\"],[0.2222222222222222,\"#7201a8\"],[0.3333333333333333,\"#9c179e\"],[0.4444444444444444,\"#bd3786\"],[0.5555555555555556,\"#d8576b\"],[0.6666666666666666,\"#ed7953\"],[0.7777777777777778,\"#fb9f3a\"],[0.8888888888888888,\"#fdca26\"],[1.0,\"#f0f921\"]]}],\"contourcarpet\":[{\"type\":\"contourcarpet\",\"colorbar\":{\"outlinewidth\":0,\"ticks\":\"\"}}],\"contour\":[{\"type\":\"contour\",\"colorbar\":{\"outlinewidth\":0,\"ticks\":\"\"},\"colorscale\":[[0.0,\"#0d0887\"],[0.1111111111111111,\"#46039f\"],[0.2222222222222222,\"#7201a8\"],[0.3333333333333333,\"#9c179e\"],[0.4444444444444444,\"#bd3786\"],[0.5555555555555556,\"#d8576b\"],[0.6666666666666666,\"#ed7953\"],[0.7777777777777778,\"#fb9f3a\"],[0.8888888888888888,\"#fdca26\"],[1.0,\"#f0f921\"]]}],\"surface\":[{\"type\":\"surface\",\"colorbar\":{\"outlinewidth\":0,\"ticks\":\"\"},\"colorscale\":[[0.0,\"#0d0887\"],[0.1111111111111111,\"#46039f\"],[0.2222222222222222,\"#7201a8\"],[0.3333333333333333,\"#9c179e\"],[0.4444444444444444,\"#bd3786\"],[0.5555555555555556,\"#d8576b\"],[0.6666666666666666,\"#ed7953\"],[0.7777777777777778,\"#fb9f3a\"],[0.8888888888888888,\"#fdca26\"],[1.0,\"#f0f921\"]]}],\"mesh3d\":[{\"type\":\"mesh3d\",\"colorbar\":{\"outlinewidth\":0,\"ticks\":\"\"}}],\"scatter\":[{\"fillpattern\":{\"fillmode\":\"overlay\",\"size\":10,\"solidity\":0.2},\"type\":\"scatter\"}],\"parcoords\":[{\"type\":\"parcoords\",\"line\":{\"colorbar\":{\"outlinewidth\":0,\"ticks\":\"\"}}}],\"scatterpolargl\":[{\"type\":\"scatterpolargl\",\"marker\":{\"colorbar\":{\"outlinewidth\":0,\"ticks\":\"\"}}}],\"bar\":[{\"error_x\":{\"color\":\"#2a3f5f\"},\"error_y\":{\"color\":\"#2a3f5f\"},\"marker\":{\"line\":{\"color\":\"#E5ECF6\",\"width\":0.5},\"pattern\":{\"fillmode\":\"overlay\",\"size\":10,\"solidity\":0.2}},\"type\":\"bar\"}],\"scattergeo\":[{\"type\":\"scattergeo\",\"marker\":{\"colorbar\":{\"outlinewidth\":0,\"ticks\":\"\"}}}],\"scatterpolar\":[{\"type\":\"scatterpolar\",\"marker\":{\"colorbar\":{\"outlinewidth\":0,\"ticks\":\"\"}}}],\"histogram\":[{\"marker\":{\"pattern\":{\"fillmode\":\"overlay\",\"size\":10,\"solidity\":0.2}},\"type\":\"histogram\"}],\"scattergl\":[{\"type\":\"scattergl\",\"marker\":{\"colorbar\":{\"outlinewidth\":0,\"ticks\":\"\"}}}],\"scatter3d\":[{\"type\":\"scatter3d\",\"line\":{\"colorbar\":{\"outlinewidth\":0,\"ticks\":\"\"}},\"marker\":{\"colorbar\":{\"outlinewidth\":0,\"ticks\":\"\"}}}],\"scattermapbox\":[{\"type\":\"scattermapbox\",\"marker\":{\"colorbar\":{\"outlinewidth\":0,\"ticks\":\"\"}}}],\"scatterternary\":[{\"type\":\"scatterternary\",\"marker\":{\"colorbar\":{\"outlinewidth\":0,\"ticks\":\"\"}}}],\"scattercarpet\":[{\"type\":\"scattercarpet\",\"marker\":{\"colorbar\":{\"outlinewidth\":0,\"ticks\":\"\"}}}],\"carpet\":[{\"aaxis\":{\"endlinecolor\":\"#2a3f5f\",\"gridcolor\":\"white\",\"linecolor\":\"white\",\"minorgridcolor\":\"white\",\"startlinecolor\":\"#2a3f5f\"},\"baxis\":{\"endlinecolor\":\"#2a3f5f\",\"gridcolor\":\"white\",\"linecolor\":\"white\",\"minorgridcolor\":\"white\",\"startlinecolor\":\"#2a3f5f\"},\"type\":\"carpet\"}],\"table\":[{\"cells\":{\"fill\":{\"color\":\"#EBF0F8\"},\"line\":{\"color\":\"white\"}},\"header\":{\"fill\":{\"color\":\"#C8D4E3\"},\"line\":{\"color\":\"white\"}},\"type\":\"table\"}],\"barpolar\":[{\"marker\":{\"line\":{\"color\":\"#E5ECF6\",\"width\":0.5},\"pattern\":{\"fillmode\":\"overlay\",\"size\":10,\"solidity\":0.2}},\"type\":\"barpolar\"}],\"pie\":[{\"automargin\":true,\"type\":\"pie\"}]},\"layout\":{\"autotypenumbers\":\"strict\",\"colorway\":[\"#636efa\",\"#EF553B\",\"#00cc96\",\"#ab63fa\",\"#FFA15A\",\"#19d3f3\",\"#FF6692\",\"#B6E880\",\"#FF97FF\",\"#FECB52\"],\"font\":{\"color\":\"#2a3f5f\"},\"hovermode\":\"closest\",\"hoverlabel\":{\"align\":\"left\"},\"paper_bgcolor\":\"white\",\"plot_bgcolor\":\"#E5ECF6\",\"polar\":{\"bgcolor\":\"#E5ECF6\",\"angularaxis\":{\"gridcolor\":\"white\",\"linecolor\":\"white\",\"ticks\":\"\"},\"radialaxis\":{\"gridcolor\":\"white\",\"linecolor\":\"white\",\"ticks\":\"\"}},\"ternary\":{\"bgcolor\":\"#E5ECF6\",\"aaxis\":{\"gridcolor\":\"white\",\"linecolor\":\"white\",\"ticks\":\"\"},\"baxis\":{\"gridcolor\":\"white\",\"linecolor\":\"white\",\"ticks\":\"\"},\"caxis\":{\"gridcolor\":\"white\",\"linecolor\":\"white\",\"ticks\":\"\"}},\"coloraxis\":{\"colorbar\":{\"outlinewidth\":0,\"ticks\":\"\"}},\"colorscale\":{\"sequential\":[[0.0,\"#0d0887\"],[0.1111111111111111,\"#46039f\"],[0.2222222222222222,\"#7201a8\"],[0.3333333333333333,\"#9c179e\"],[0.4444444444444444,\"#bd3786\"],[0.5555555555555556,\"#d8576b\"],[0.6666666666666666,\"#ed7953\"],[0.7777777777777778,\"#fb9f3a\"],[0.8888888888888888,\"#fdca26\"],[1.0,\"#f0f921\"]],\"sequentialminus\":[[0.0,\"#0d0887\"],[0.1111111111111111,\"#46039f\"],[0.2222222222222222,\"#7201a8\"],[0.3333333333333333,\"#9c179e\"],[0.4444444444444444,\"#bd3786\"],[0.5555555555555556,\"#d8576b\"],[0.6666666666666666,\"#ed7953\"],[0.7777777777777778,\"#fb9f3a\"],[0.8888888888888888,\"#fdca26\"],[1.0,\"#f0f921\"]],\"diverging\":[[0,\"#8e0152\"],[0.1,\"#c51b7d\"],[0.2,\"#de77ae\"],[0.3,\"#f1b6da\"],[0.4,\"#fde0ef\"],[0.5,\"#f7f7f7\"],[0.6,\"#e6f5d0\"],[0.7,\"#b8e186\"],[0.8,\"#7fbc41\"],[0.9,\"#4d9221\"],[1,\"#276419\"]]},\"xaxis\":{\"gridcolor\":\"white\",\"linecolor\":\"white\",\"ticks\":\"\",\"title\":{\"standoff\":15},\"zerolinecolor\":\"white\",\"automargin\":true,\"zerolinewidth\":2},\"yaxis\":{\"gridcolor\":\"white\",\"linecolor\":\"white\",\"ticks\":\"\",\"title\":{\"standoff\":15},\"zerolinecolor\":\"white\",\"automargin\":true,\"zerolinewidth\":2},\"scene\":{\"xaxis\":{\"backgroundcolor\":\"#E5ECF6\",\"gridcolor\":\"white\",\"linecolor\":\"white\",\"showbackground\":true,\"ticks\":\"\",\"zerolinecolor\":\"white\",\"gridwidth\":2},\"yaxis\":{\"backgroundcolor\":\"#E5ECF6\",\"gridcolor\":\"white\",\"linecolor\":\"white\",\"showbackground\":true,\"ticks\":\"\",\"zerolinecolor\":\"white\",\"gridwidth\":2},\"zaxis\":{\"backgroundcolor\":\"#E5ECF6\",\"gridcolor\":\"white\",\"linecolor\":\"white\",\"showbackground\":true,\"ticks\":\"\",\"zerolinecolor\":\"white\",\"gridwidth\":2}},\"shapedefaults\":{\"line\":{\"color\":\"#2a3f5f\"}},\"annotationdefaults\":{\"arrowcolor\":\"#2a3f5f\",\"arrowhead\":0,\"arrowwidth\":1},\"geo\":{\"bgcolor\":\"white\",\"landcolor\":\"#E5ECF6\",\"subunitcolor\":\"white\",\"showland\":true,\"showlakes\":true,\"lakecolor\":\"white\"},\"title\":{\"x\":0.05},\"mapbox\":{\"style\":\"light\"}}},\"xaxis\":{\"anchor\":\"y\",\"domain\":[0.0,1.0],\"title\":{\"text\":\"Current health expenditure (% of GDP)\"}},\"yaxis\":{\"anchor\":\"x\",\"domain\":[0.0,1.0],\"title\":{\"text\":\"Healthy life expectancy\"}},\"legend\":{\"title\":{\"text\":\"color\"},\"tracegroupgap\":0},\"title\":{\"text\":\"ScatterPlot: Healthy life expectancy and Current health expenditure (% of GDP)\",\"x\":0.5}},                        {\"responsive\": true}                    ).then(function(){\n",
       "                            \n",
       "var gd = document.getElementById('dc9cacc2-e121-4a05-b9f5-22c9beaaf624');\n",
       "var x = new MutationObserver(function (mutations, observer) {{\n",
       "        var display = window.getComputedStyle(gd).display;\n",
       "        if (!display || display === 'none') {{\n",
       "            console.log([gd, 'removed!']);\n",
       "            Plotly.purge(gd);\n",
       "            observer.disconnect();\n",
       "        }}\n",
       "}});\n",
       "\n",
       "// Listen for the removal of the full notebook cells\n",
       "var notebookContainer = gd.closest('#notebook-container');\n",
       "if (notebookContainer) {{\n",
       "    x.observe(notebookContainer, {childList: true});\n",
       "}}\n",
       "\n",
       "// Listen for the clearing of the current output cell\n",
       "var outputEl = gd.closest('.output');\n",
       "if (outputEl) {{\n",
       "    x.observe(outputEl, {childList: true});\n",
       "}}\n",
       "\n",
       "                        })                };                });            </script>        </div>"
      ]
     },
     "metadata": {},
     "output_type": "display_data"
    }
   ],
   "source": [
    "country_col = 'Country Name'\n",
    "fig = px.scatter(data_frame=combined_indicator_df,y='Healthy life expectancy',x='Current health expenditure (% of GDP)',color='color',\n",
    "                 color_discrete_map={'Top 5 Countries ranked by happiness': 'green', 'Bottom 5 ranked by happiness': 'red','Other Countries':'blue'},\n",
    "                 title=\"ScatterPlot: Healthy life expectancy and Current health expenditure (% of GDP)\",custom_data=[country_col])\n",
    "# Note - install statsmodels for trendlines\n",
    "fig.update_traces(\n",
    "    hovertemplate=\"<br>\".join([\n",
    "        \"Healthy life expectancy: %{y}\",\n",
    "        \"Current health expenditure (% of GDP): %{x}\",\n",
    "        \"Country Name: %{customdata[0]}\",\n",
    "    ])\n",
    ")\n",
    "# Customize axis labels\n",
    "fig.update_layout(\n",
    "    xaxis_title=\"Current health expenditure (% of GDP)\",\n",
    "    yaxis_title=\"Healthy life expectancy\",\n",
    "    title_x=0.5 # center title\n",
    ")\n",
    "fig.show()"
   ]
  },
  {
   "cell_type": "markdown",
   "id": "04a41c67-15ea-41de-bc5c-5e9d2ee36392",
   "metadata": {},
   "source": [
    "As expected, we do see a strong positive correlation between % of GDP spent on Health and Healthy life expectancy levels of countries."
   ]
  },
  {
   "cell_type": "markdown",
   "id": "bd123e18-2a92-4536-a29b-5ae4185565b8",
   "metadata": {},
   "source": [
    "## Healthy Life Expectancy and Current Health Expenditure per capita (PPP) \n",
    "\n",
    "This question will help us answer whether proportion of GDP spent on health actually translates into the current health expenditure per capita and in turn influence healthy life expectancy similarly. "
   ]
  },
  {
   "cell_type": "code",
   "execution_count": 21,
   "id": "9374f735-da0d-4ff5-a279-372fbff19667",
   "metadata": {},
   "outputs": [
    {
     "data": {
      "application/vnd.plotly.v1+json": {
       "config": {
        "plotlyServerURL": "https://plot.ly"
       },
       "data": [
        {
         "customdata": [
          [
           "Finland"
          ],
          [
           "Norway"
          ],
          [
           "Denmark"
          ],
          [
           "Iceland"
          ],
          [
           "Switzerland"
          ]
         ],
         "hovertemplate": "Healthy life expectancy: %{y}<br>Current health expenditure per capita, PPP (current international $): %{x}<br>Country Name: %{customdata[0]}",
         "legendgroup": "Top 5 Countries ranked by happiness",
         "marker": {
          "color": "green",
          "symbol": "circle"
         },
         "mode": "markers",
         "name": "Top 5 Countries ranked by happiness",
         "orientation": "v",
         "showlegend": true,
         "type": "scatter",
         "x": [
          4457.17089844,
          6818.34619141,
          5794.25927734,
          5113.22167969,
          8113.94335938
         ],
         "xaxis": "x",
         "y": [
          0.874,
          0.861,
          0.868,
          0.914,
          0.927
         ],
         "yaxis": "y"
        },
        {
         "customdata": [
          [
           "Netherlands"
          ],
          [
           "Canada"
          ],
          [
           "New Zealand"
          ],
          [
           "Sweden"
          ],
          [
           "Australia"
          ],
          [
           "United Kingdom"
          ],
          [
           "Austria"
          ],
          [
           "Costa Rica"
          ],
          [
           "Ireland"
          ],
          [
           "Germany"
          ],
          [
           "Belgium"
          ],
          [
           "Luxembourg"
          ],
          [
           "United States"
          ],
          [
           "Israel"
          ],
          [
           "United Arab Emirates"
          ],
          [
           "Czech Republic"
          ],
          [
           "Malta"
          ],
          [
           "France"
          ],
          [
           "Mexico"
          ],
          [
           "Chile"
          ],
          [
           "Taiwan"
          ],
          [
           "Panama"
          ],
          [
           "Brazil"
          ],
          [
           "Argentina"
          ],
          [
           "Guatemala"
          ],
          [
           "Uruguay"
          ],
          [
           "Qatar"
          ],
          [
           "Saudi Arabia"
          ],
          [
           "Singapore"
          ],
          [
           "Malaysia"
          ],
          [
           "Spain"
          ],
          [
           "Colombia"
          ],
          [
           "Trinidad & Tobago"
          ],
          [
           "Slovakia"
          ],
          [
           "El Salvador"
          ],
          [
           "Nicaragua"
          ],
          [
           "Poland"
          ],
          [
           "Bahrain"
          ],
          [
           "Uzbekistan"
          ],
          [
           "Kuwait"
          ],
          [
           "Thailand"
          ],
          [
           "Italy"
          ],
          [
           "Ecuador"
          ],
          [
           "Belize"
          ],
          [
           "Lithuania"
          ],
          [
           "Slovenia"
          ],
          [
           "Romania"
          ],
          [
           "Latvia"
          ],
          [
           "Japan"
          ],
          [
           "Mauritius"
          ],
          [
           "Jamaica"
          ],
          [
           "South Korea"
          ],
          [
           "Northern Cyprus"
          ],
          [
           "Russia"
          ],
          [
           "Kazakhstan"
          ],
          [
           "Cyprus"
          ],
          [
           "Bolivia"
          ],
          [
           "Estonia"
          ],
          [
           "Paraguay"
          ],
          [
           "Peru"
          ],
          [
           "Kosovo"
          ],
          [
           "Moldova"
          ],
          [
           "Turkmenistan"
          ],
          [
           "Hungary"
          ],
          [
           "Libya"
          ],
          [
           "Philippines"
          ],
          [
           "Honduras"
          ],
          [
           "Belarus"
          ],
          [
           "Turkey"
          ],
          [
           "Pakistan"
          ],
          [
           "Hong Kong"
          ],
          [
           "Portugal"
          ],
          [
           "Serbia"
          ],
          [
           "Greece"
          ],
          [
           "Lebanon"
          ],
          [
           "Montenegro"
          ],
          [
           "Croatia"
          ],
          [
           "Dominican Republic"
          ],
          [
           "Algeria"
          ],
          [
           "Morocco"
          ],
          [
           "China"
          ],
          [
           "Azerbaijan"
          ],
          [
           "Tajikistan"
          ],
          [
           "Macedonia"
          ],
          [
           "Jordan"
          ],
          [
           "Nigeria"
          ],
          [
           "Kyrgyzstan"
          ],
          [
           "Bosnia and Herzegovina"
          ],
          [
           "Mongolia"
          ],
          [
           "Vietnam"
          ],
          [
           "Indonesia"
          ],
          [
           "Bhutan"
          ],
          [
           "Somalia"
          ],
          [
           "Cameroon"
          ],
          [
           "Bulgaria"
          ],
          [
           "Nepal"
          ],
          [
           "Venezuela"
          ],
          [
           "Gabon"
          ],
          [
           "Palestinian Territories"
          ],
          [
           "South Africa"
          ],
          [
           "Iran"
          ],
          [
           "Ivory Coast"
          ],
          [
           "Ghana"
          ],
          [
           "Senegal"
          ],
          [
           "Laos"
          ],
          [
           "Tunisia"
          ],
          [
           "Albania"
          ],
          [
           "Sierra Leone"
          ],
          [
           "Congo (Brazzaville)"
          ],
          [
           "Bangladesh"
          ],
          [
           "Sri Lanka"
          ],
          [
           "Iraq"
          ],
          [
           "Mali"
          ],
          [
           "Namibia"
          ],
          [
           "Cambodia"
          ],
          [
           "Burkina Faso"
          ],
          [
           "Egypt"
          ],
          [
           "Mozambique"
          ],
          [
           "Kenya"
          ],
          [
           "Zambia"
          ],
          [
           "Mauritania"
          ],
          [
           "Ethiopia"
          ],
          [
           "Georgia"
          ],
          [
           "Armenia"
          ],
          [
           "Myanmar"
          ],
          [
           "Chad"
          ],
          [
           "Congo (Kinshasa)"
          ],
          [
           "India"
          ],
          [
           "Niger"
          ],
          [
           "Uganda"
          ],
          [
           "Benin"
          ],
          [
           "Sudan"
          ],
          [
           "Ukraine"
          ],
          [
           "Togo"
          ],
          [
           "Guinea"
          ],
          [
           "Lesotho"
          ],
          [
           "Angola"
          ],
          [
           "Madagascar"
          ],
          [
           "Zimbabwe"
          ],
          [
           "Afghanistan"
          ],
          [
           "Botswana"
          ],
          [
           "Malawi"
          ],
          [
           "Haiti"
          ],
          [
           "Liberia"
          ],
          [
           "Syria"
          ],
          [
           "Rwanda"
          ]
         ],
         "hovertemplate": "Healthy life expectancy: %{y}<br>Current health expenditure per capita, PPP (current international $): %{x}<br>Country Name: %{customdata[0]}",
         "legendgroup": "Other Countries",
         "marker": {
          "color": "blue",
          "symbol": "circle"
         },
         "mode": "markers",
         "name": "Other Countries",
         "orientation": "v",
         "showlegend": true,
         "type": "scatter",
         "x": [
          5634.52929688,
          5199.97314453,
          4024.38623047,
          5828.40966797,
          5004.86669922,
          4619.57324219,
          5879.10302734,
          1336.52856445,
          5896.69189453,
          6098.20263672,
          5404.91601563,
          6047.82226563,
          10623.84960938,
          3207.46630859,
          3172.60766602,
          3040.51904297,
          3897.32861328,
          5250.4453125,
          1065.95007324,
          2305.67651367,
          null,
          1856.69128418,
          1530.82226563,
          1989.63562012,
          482.96057129,
          2169.28540039,
          3165.85791016,
          3519.90722656,
          4439.28173828,
          1193.85388184,
          3576.49194336,
          1155.4074707,
          null,
          null,
          592.34143066,
          473.92501831,
          2015.28588867,
          1955.35192871,
          459.42245483,
          3669.01660156,
          722.69683838,
          3624.08227539,
          954.76373291,
          506.31762695,
          2312.95532227,
          3158.38500977,
          1576.29931641,
          1895.77575684,
          4503.68212891,
          1380.73596191,
          559.11590576,
          null,
          null,
          null,
          783.76342773,
          2624.85083008,
          496.09091187,
          2427.62768555,
          935.32897949,
          766.63635254,
          null,
          479.85287476,
          1275.11584473,
          2115.19238281,
          null,
          393.90402222,
          362.26046753,
          1132.46948242,
          1170.77990723,
          178.24232483,
          null,
          3242.35180664,
          1484.64892578,
          2340.16577148,
          1085.85119629,
          1711.20996094,
          1876.10449219,
          1017.50299072,
          962.71936035,
          467.12515259,
          935.19287109,
          633.56213379,
          249.74613953,
          null,
          737.75085449,
          232.99221802,
          null,
          1300.77648926,
          519.26660156,
          440.16650391,
          375.15563965,
          322.09790039,
          null,
          133.60945129,
          1633.80444336,
          180.40550232,
          null,
          490.83758545,
          null,
          null,
          null,
          null,
          167.97952271,
          146.39419556000001,
          null,
          912.25427246,
          697.30487061,
          257.32653809,
          null,
          109.6439209,
          516.92150879,
          715.95831299,
          90.00173187,
          882.66326904,
          261.15719604,
          111.71577454,
          null,
          117.79573822,
          179.18043518,
          null,
          190.13778687,
          66.64078522,
          795.90411377,
          1036.95446777,
          291.7381897,
          79.01350403000001,
          null,
          275.13040161,
          77.98433685,
          139.33383179,
          83.21243286,
          293.05581665,
          682.50952148,
          109.35966492,
          109.24282074,
          308.99752808,
          164.70602417,
          79.07378387,
          null,
          186.4072876,
          1088.72900391,
          119.51282501,
          143.62878418,
          12642.83105469,
          null,
          169.82418823
         ],
         "xaxis": "x",
         "y": [
          0.878,
          0.896,
          0.876,
          0.913,
          0.91,
          0.888,
          0.891,
          0.817,
          0.876,
          0.861,
          0.894,
          0.896,
          0.819,
          0.883,
          0.67,
          0.854,
          0.884,
          0.908,
          0.761,
          0.808,
          0.857,
          0.759,
          0.675,
          0.744,
          0.608,
          0.771,
          0.748,
          0.633,
          1.008,
          0.669,
          0.965,
          0.635,
          0.564,
          0.776,
          0.639,
          0.7,
          0.781,
          0.698,
          0.605,
          0.675,
          0.707,
          0.946,
          0.736,
          0.474,
          0.716,
          0.856,
          0.726,
          0.671,
          0.988,
          0.684,
          0.693,
          0.955,
          0.909,
          0.599,
          0.631,
          0.909,
          0.508,
          0.737,
          0.615,
          0.674,
          0.578,
          0.62,
          0.517,
          0.732,
          0.553,
          0.513,
          0.622,
          0.7,
          0.686,
          0.424,
          1.03,
          0.884,
          0.685,
          0.879,
          0.785,
          0.729,
          0.737,
          0.614,
          0.687,
          0.669,
          0.799,
          0.603,
          0.598,
          0.691,
          0.645,
          0.048,
          0.594,
          0.758,
          0.575,
          0.702,
          0.522,
          0.527,
          0.115,
          0.182,
          0.712,
          0.539,
          0.657,
          0.404,
          0.602,
          0.33,
          0.691,
          0.08,
          0.337,
          0.433,
          0.441,
          0.69,
          0.79,
          0,
          0.343,
          0.579,
          0.672,
          0.536,
          0.152,
          0.365,
          0.457,
          0.254,
          0.553,
          0.173,
          0.454,
          0.295,
          0.292,
          0.391,
          0.643,
          0.666,
          0.429,
          0.053,
          0.204,
          0.485,
          0.221,
          0.237,
          0.24,
          0.312,
          0.609,
          0.253,
          0.211,
          0.079,
          0.269,
          0.402,
          0.248,
          0.255,
          0.417,
          0.306,
          0.289,
          0.267,
          0.539,
          0.4
         ],
         "yaxis": "y"
        },
        {
         "customdata": [
          [
           "Yemen"
          ],
          [
           "Tanzania"
          ],
          [
           "South Sudan"
          ],
          [
           "Central African Republic"
          ],
          [
           "Burundi"
          ]
         ],
         "hovertemplate": "Healthy life expectancy: %{y}<br>Current health expenditure per capita, PPP (current international $): %{x}<br>Country Name: %{customdata[0]}",
         "legendgroup": "Bottom 5 ranked by happiness",
         "marker": {
          "color": "red",
          "symbol": "circle"
         },
         "mode": "markers",
         "name": "Bottom 5 ranked by happiness",
         "orientation": "v",
         "showlegend": true,
         "type": "scatter",
         "x": [
          null,
          112.45636749,
          113.77922821,
          97.0058136,
          65.79267883
         ],
         "xaxis": "x",
         "y": [
          0.343,
          0.381,
          0.177,
          0.01,
          0.145
         ],
         "yaxis": "y"
        }
       ],
       "layout": {
        "legend": {
         "title": {
          "text": "color"
         },
         "tracegroupgap": 0
        },
        "template": {
         "data": {
          "bar": [
           {
            "error_x": {
             "color": "#2a3f5f"
            },
            "error_y": {
             "color": "#2a3f5f"
            },
            "marker": {
             "line": {
              "color": "#E5ECF6",
              "width": 0.5
             },
             "pattern": {
              "fillmode": "overlay",
              "size": 10,
              "solidity": 0.2
             }
            },
            "type": "bar"
           }
          ],
          "barpolar": [
           {
            "marker": {
             "line": {
              "color": "#E5ECF6",
              "width": 0.5
             },
             "pattern": {
              "fillmode": "overlay",
              "size": 10,
              "solidity": 0.2
             }
            },
            "type": "barpolar"
           }
          ],
          "carpet": [
           {
            "aaxis": {
             "endlinecolor": "#2a3f5f",
             "gridcolor": "white",
             "linecolor": "white",
             "minorgridcolor": "white",
             "startlinecolor": "#2a3f5f"
            },
            "baxis": {
             "endlinecolor": "#2a3f5f",
             "gridcolor": "white",
             "linecolor": "white",
             "minorgridcolor": "white",
             "startlinecolor": "#2a3f5f"
            },
            "type": "carpet"
           }
          ],
          "choropleth": [
           {
            "colorbar": {
             "outlinewidth": 0,
             "ticks": ""
            },
            "type": "choropleth"
           }
          ],
          "contour": [
           {
            "colorbar": {
             "outlinewidth": 0,
             "ticks": ""
            },
            "colorscale": [
             [
              0,
              "#0d0887"
             ],
             [
              0.1111111111111111,
              "#46039f"
             ],
             [
              0.2222222222222222,
              "#7201a8"
             ],
             [
              0.3333333333333333,
              "#9c179e"
             ],
             [
              0.4444444444444444,
              "#bd3786"
             ],
             [
              0.5555555555555556,
              "#d8576b"
             ],
             [
              0.6666666666666666,
              "#ed7953"
             ],
             [
              0.7777777777777778,
              "#fb9f3a"
             ],
             [
              0.8888888888888888,
              "#fdca26"
             ],
             [
              1,
              "#f0f921"
             ]
            ],
            "type": "contour"
           }
          ],
          "contourcarpet": [
           {
            "colorbar": {
             "outlinewidth": 0,
             "ticks": ""
            },
            "type": "contourcarpet"
           }
          ],
          "heatmap": [
           {
            "colorbar": {
             "outlinewidth": 0,
             "ticks": ""
            },
            "colorscale": [
             [
              0,
              "#0d0887"
             ],
             [
              0.1111111111111111,
              "#46039f"
             ],
             [
              0.2222222222222222,
              "#7201a8"
             ],
             [
              0.3333333333333333,
              "#9c179e"
             ],
             [
              0.4444444444444444,
              "#bd3786"
             ],
             [
              0.5555555555555556,
              "#d8576b"
             ],
             [
              0.6666666666666666,
              "#ed7953"
             ],
             [
              0.7777777777777778,
              "#fb9f3a"
             ],
             [
              0.8888888888888888,
              "#fdca26"
             ],
             [
              1,
              "#f0f921"
             ]
            ],
            "type": "heatmap"
           }
          ],
          "heatmapgl": [
           {
            "colorbar": {
             "outlinewidth": 0,
             "ticks": ""
            },
            "colorscale": [
             [
              0,
              "#0d0887"
             ],
             [
              0.1111111111111111,
              "#46039f"
             ],
             [
              0.2222222222222222,
              "#7201a8"
             ],
             [
              0.3333333333333333,
              "#9c179e"
             ],
             [
              0.4444444444444444,
              "#bd3786"
             ],
             [
              0.5555555555555556,
              "#d8576b"
             ],
             [
              0.6666666666666666,
              "#ed7953"
             ],
             [
              0.7777777777777778,
              "#fb9f3a"
             ],
             [
              0.8888888888888888,
              "#fdca26"
             ],
             [
              1,
              "#f0f921"
             ]
            ],
            "type": "heatmapgl"
           }
          ],
          "histogram": [
           {
            "marker": {
             "pattern": {
              "fillmode": "overlay",
              "size": 10,
              "solidity": 0.2
             }
            },
            "type": "histogram"
           }
          ],
          "histogram2d": [
           {
            "colorbar": {
             "outlinewidth": 0,
             "ticks": ""
            },
            "colorscale": [
             [
              0,
              "#0d0887"
             ],
             [
              0.1111111111111111,
              "#46039f"
             ],
             [
              0.2222222222222222,
              "#7201a8"
             ],
             [
              0.3333333333333333,
              "#9c179e"
             ],
             [
              0.4444444444444444,
              "#bd3786"
             ],
             [
              0.5555555555555556,
              "#d8576b"
             ],
             [
              0.6666666666666666,
              "#ed7953"
             ],
             [
              0.7777777777777778,
              "#fb9f3a"
             ],
             [
              0.8888888888888888,
              "#fdca26"
             ],
             [
              1,
              "#f0f921"
             ]
            ],
            "type": "histogram2d"
           }
          ],
          "histogram2dcontour": [
           {
            "colorbar": {
             "outlinewidth": 0,
             "ticks": ""
            },
            "colorscale": [
             [
              0,
              "#0d0887"
             ],
             [
              0.1111111111111111,
              "#46039f"
             ],
             [
              0.2222222222222222,
              "#7201a8"
             ],
             [
              0.3333333333333333,
              "#9c179e"
             ],
             [
              0.4444444444444444,
              "#bd3786"
             ],
             [
              0.5555555555555556,
              "#d8576b"
             ],
             [
              0.6666666666666666,
              "#ed7953"
             ],
             [
              0.7777777777777778,
              "#fb9f3a"
             ],
             [
              0.8888888888888888,
              "#fdca26"
             ],
             [
              1,
              "#f0f921"
             ]
            ],
            "type": "histogram2dcontour"
           }
          ],
          "mesh3d": [
           {
            "colorbar": {
             "outlinewidth": 0,
             "ticks": ""
            },
            "type": "mesh3d"
           }
          ],
          "parcoords": [
           {
            "line": {
             "colorbar": {
              "outlinewidth": 0,
              "ticks": ""
             }
            },
            "type": "parcoords"
           }
          ],
          "pie": [
           {
            "automargin": true,
            "type": "pie"
           }
          ],
          "scatter": [
           {
            "fillpattern": {
             "fillmode": "overlay",
             "size": 10,
             "solidity": 0.2
            },
            "type": "scatter"
           }
          ],
          "scatter3d": [
           {
            "line": {
             "colorbar": {
              "outlinewidth": 0,
              "ticks": ""
             }
            },
            "marker": {
             "colorbar": {
              "outlinewidth": 0,
              "ticks": ""
             }
            },
            "type": "scatter3d"
           }
          ],
          "scattercarpet": [
           {
            "marker": {
             "colorbar": {
              "outlinewidth": 0,
              "ticks": ""
             }
            },
            "type": "scattercarpet"
           }
          ],
          "scattergeo": [
           {
            "marker": {
             "colorbar": {
              "outlinewidth": 0,
              "ticks": ""
             }
            },
            "type": "scattergeo"
           }
          ],
          "scattergl": [
           {
            "marker": {
             "colorbar": {
              "outlinewidth": 0,
              "ticks": ""
             }
            },
            "type": "scattergl"
           }
          ],
          "scattermapbox": [
           {
            "marker": {
             "colorbar": {
              "outlinewidth": 0,
              "ticks": ""
             }
            },
            "type": "scattermapbox"
           }
          ],
          "scatterpolar": [
           {
            "marker": {
             "colorbar": {
              "outlinewidth": 0,
              "ticks": ""
             }
            },
            "type": "scatterpolar"
           }
          ],
          "scatterpolargl": [
           {
            "marker": {
             "colorbar": {
              "outlinewidth": 0,
              "ticks": ""
             }
            },
            "type": "scatterpolargl"
           }
          ],
          "scatterternary": [
           {
            "marker": {
             "colorbar": {
              "outlinewidth": 0,
              "ticks": ""
             }
            },
            "type": "scatterternary"
           }
          ],
          "surface": [
           {
            "colorbar": {
             "outlinewidth": 0,
             "ticks": ""
            },
            "colorscale": [
             [
              0,
              "#0d0887"
             ],
             [
              0.1111111111111111,
              "#46039f"
             ],
             [
              0.2222222222222222,
              "#7201a8"
             ],
             [
              0.3333333333333333,
              "#9c179e"
             ],
             [
              0.4444444444444444,
              "#bd3786"
             ],
             [
              0.5555555555555556,
              "#d8576b"
             ],
             [
              0.6666666666666666,
              "#ed7953"
             ],
             [
              0.7777777777777778,
              "#fb9f3a"
             ],
             [
              0.8888888888888888,
              "#fdca26"
             ],
             [
              1,
              "#f0f921"
             ]
            ],
            "type": "surface"
           }
          ],
          "table": [
           {
            "cells": {
             "fill": {
              "color": "#EBF0F8"
             },
             "line": {
              "color": "white"
             }
            },
            "header": {
             "fill": {
              "color": "#C8D4E3"
             },
             "line": {
              "color": "white"
             }
            },
            "type": "table"
           }
          ]
         },
         "layout": {
          "annotationdefaults": {
           "arrowcolor": "#2a3f5f",
           "arrowhead": 0,
           "arrowwidth": 1
          },
          "autotypenumbers": "strict",
          "coloraxis": {
           "colorbar": {
            "outlinewidth": 0,
            "ticks": ""
           }
          },
          "colorscale": {
           "diverging": [
            [
             0,
             "#8e0152"
            ],
            [
             0.1,
             "#c51b7d"
            ],
            [
             0.2,
             "#de77ae"
            ],
            [
             0.3,
             "#f1b6da"
            ],
            [
             0.4,
             "#fde0ef"
            ],
            [
             0.5,
             "#f7f7f7"
            ],
            [
             0.6,
             "#e6f5d0"
            ],
            [
             0.7,
             "#b8e186"
            ],
            [
             0.8,
             "#7fbc41"
            ],
            [
             0.9,
             "#4d9221"
            ],
            [
             1,
             "#276419"
            ]
           ],
           "sequential": [
            [
             0,
             "#0d0887"
            ],
            [
             0.1111111111111111,
             "#46039f"
            ],
            [
             0.2222222222222222,
             "#7201a8"
            ],
            [
             0.3333333333333333,
             "#9c179e"
            ],
            [
             0.4444444444444444,
             "#bd3786"
            ],
            [
             0.5555555555555556,
             "#d8576b"
            ],
            [
             0.6666666666666666,
             "#ed7953"
            ],
            [
             0.7777777777777778,
             "#fb9f3a"
            ],
            [
             0.8888888888888888,
             "#fdca26"
            ],
            [
             1,
             "#f0f921"
            ]
           ],
           "sequentialminus": [
            [
             0,
             "#0d0887"
            ],
            [
             0.1111111111111111,
             "#46039f"
            ],
            [
             0.2222222222222222,
             "#7201a8"
            ],
            [
             0.3333333333333333,
             "#9c179e"
            ],
            [
             0.4444444444444444,
             "#bd3786"
            ],
            [
             0.5555555555555556,
             "#d8576b"
            ],
            [
             0.6666666666666666,
             "#ed7953"
            ],
            [
             0.7777777777777778,
             "#fb9f3a"
            ],
            [
             0.8888888888888888,
             "#fdca26"
            ],
            [
             1,
             "#f0f921"
            ]
           ]
          },
          "colorway": [
           "#636efa",
           "#EF553B",
           "#00cc96",
           "#ab63fa",
           "#FFA15A",
           "#19d3f3",
           "#FF6692",
           "#B6E880",
           "#FF97FF",
           "#FECB52"
          ],
          "font": {
           "color": "#2a3f5f"
          },
          "geo": {
           "bgcolor": "white",
           "lakecolor": "white",
           "landcolor": "#E5ECF6",
           "showlakes": true,
           "showland": true,
           "subunitcolor": "white"
          },
          "hoverlabel": {
           "align": "left"
          },
          "hovermode": "closest",
          "mapbox": {
           "style": "light"
          },
          "paper_bgcolor": "white",
          "plot_bgcolor": "#E5ECF6",
          "polar": {
           "angularaxis": {
            "gridcolor": "white",
            "linecolor": "white",
            "ticks": ""
           },
           "bgcolor": "#E5ECF6",
           "radialaxis": {
            "gridcolor": "white",
            "linecolor": "white",
            "ticks": ""
           }
          },
          "scene": {
           "xaxis": {
            "backgroundcolor": "#E5ECF6",
            "gridcolor": "white",
            "gridwidth": 2,
            "linecolor": "white",
            "showbackground": true,
            "ticks": "",
            "zerolinecolor": "white"
           },
           "yaxis": {
            "backgroundcolor": "#E5ECF6",
            "gridcolor": "white",
            "gridwidth": 2,
            "linecolor": "white",
            "showbackground": true,
            "ticks": "",
            "zerolinecolor": "white"
           },
           "zaxis": {
            "backgroundcolor": "#E5ECF6",
            "gridcolor": "white",
            "gridwidth": 2,
            "linecolor": "white",
            "showbackground": true,
            "ticks": "",
            "zerolinecolor": "white"
           }
          },
          "shapedefaults": {
           "line": {
            "color": "#2a3f5f"
           }
          },
          "ternary": {
           "aaxis": {
            "gridcolor": "white",
            "linecolor": "white",
            "ticks": ""
           },
           "baxis": {
            "gridcolor": "white",
            "linecolor": "white",
            "ticks": ""
           },
           "bgcolor": "#E5ECF6",
           "caxis": {
            "gridcolor": "white",
            "linecolor": "white",
            "ticks": ""
           }
          },
          "title": {
           "x": 0.05
          },
          "xaxis": {
           "automargin": true,
           "gridcolor": "white",
           "linecolor": "white",
           "ticks": "",
           "title": {
            "standoff": 15
           },
           "zerolinecolor": "white",
           "zerolinewidth": 2
          },
          "yaxis": {
           "automargin": true,
           "gridcolor": "white",
           "linecolor": "white",
           "ticks": "",
           "title": {
            "standoff": 15
           },
           "zerolinecolor": "white",
           "zerolinewidth": 2
          }
         }
        },
        "title": {
         "text": "ScatterPlot: Healthy life expectancy and Current health expenditure per capita, PPP (current international $)",
         "x": 0.5
        },
        "xaxis": {
         "anchor": "y",
         "domain": [
          0,
          1
         ],
         "title": {
          "text": "Current health expenditure per capita, PPP (current international $)"
         }
        },
        "yaxis": {
         "anchor": "x",
         "domain": [
          0,
          1
         ],
         "title": {
          "text": "Healthy life expectancy"
         }
        }
       }
      },
      "text/html": [
       "<div>                            <div id=\"2ca71082-455f-49e6-9f77-751b9dfdaf29\" class=\"plotly-graph-div\" style=\"height:525px; width:100%;\"></div>            <script type=\"text/javascript\">                require([\"plotly\"], function(Plotly) {                    window.PLOTLYENV=window.PLOTLYENV || {};                                    if (document.getElementById(\"2ca71082-455f-49e6-9f77-751b9dfdaf29\")) {                    Plotly.newPlot(                        \"2ca71082-455f-49e6-9f77-751b9dfdaf29\",                        [{\"customdata\":[[\"Finland\"],[\"Norway\"],[\"Denmark\"],[\"Iceland\"],[\"Switzerland\"]],\"hovertemplate\":\"Healthy life expectancy: %{y}\\u003cbr\\u003eCurrent health expenditure per capita, PPP (current international $): %{x}\\u003cbr\\u003eCountry Name: %{customdata[0]}\",\"legendgroup\":\"Top 5 Countries ranked by happiness\",\"marker\":{\"color\":\"green\",\"symbol\":\"circle\"},\"mode\":\"markers\",\"name\":\"Top 5 Countries ranked by happiness\",\"orientation\":\"v\",\"showlegend\":true,\"x\":[4457.17089844,6818.34619141,5794.25927734,5113.22167969,8113.94335938],\"xaxis\":\"x\",\"y\":[0.874,0.861,0.868,0.914,0.927],\"yaxis\":\"y\",\"type\":\"scatter\"},{\"customdata\":[[\"Netherlands\"],[\"Canada\"],[\"New Zealand\"],[\"Sweden\"],[\"Australia\"],[\"United Kingdom\"],[\"Austria\"],[\"Costa Rica\"],[\"Ireland\"],[\"Germany\"],[\"Belgium\"],[\"Luxembourg\"],[\"United States\"],[\"Israel\"],[\"United Arab Emirates\"],[\"Czech Republic\"],[\"Malta\"],[\"France\"],[\"Mexico\"],[\"Chile\"],[\"Taiwan\"],[\"Panama\"],[\"Brazil\"],[\"Argentina\"],[\"Guatemala\"],[\"Uruguay\"],[\"Qatar\"],[\"Saudi Arabia\"],[\"Singapore\"],[\"Malaysia\"],[\"Spain\"],[\"Colombia\"],[\"Trinidad & Tobago\"],[\"Slovakia\"],[\"El Salvador\"],[\"Nicaragua\"],[\"Poland\"],[\"Bahrain\"],[\"Uzbekistan\"],[\"Kuwait\"],[\"Thailand\"],[\"Italy\"],[\"Ecuador\"],[\"Belize\"],[\"Lithuania\"],[\"Slovenia\"],[\"Romania\"],[\"Latvia\"],[\"Japan\"],[\"Mauritius\"],[\"Jamaica\"],[\"South Korea\"],[\"Northern Cyprus\"],[\"Russia\"],[\"Kazakhstan\"],[\"Cyprus\"],[\"Bolivia\"],[\"Estonia\"],[\"Paraguay\"],[\"Peru\"],[\"Kosovo\"],[\"Moldova\"],[\"Turkmenistan\"],[\"Hungary\"],[\"Libya\"],[\"Philippines\"],[\"Honduras\"],[\"Belarus\"],[\"Turkey\"],[\"Pakistan\"],[\"Hong Kong\"],[\"Portugal\"],[\"Serbia\"],[\"Greece\"],[\"Lebanon\"],[\"Montenegro\"],[\"Croatia\"],[\"Dominican Republic\"],[\"Algeria\"],[\"Morocco\"],[\"China\"],[\"Azerbaijan\"],[\"Tajikistan\"],[\"Macedonia\"],[\"Jordan\"],[\"Nigeria\"],[\"Kyrgyzstan\"],[\"Bosnia and Herzegovina\"],[\"Mongolia\"],[\"Vietnam\"],[\"Indonesia\"],[\"Bhutan\"],[\"Somalia\"],[\"Cameroon\"],[\"Bulgaria\"],[\"Nepal\"],[\"Venezuela\"],[\"Gabon\"],[\"Palestinian Territories\"],[\"South Africa\"],[\"Iran\"],[\"Ivory Coast\"],[\"Ghana\"],[\"Senegal\"],[\"Laos\"],[\"Tunisia\"],[\"Albania\"],[\"Sierra Leone\"],[\"Congo (Brazzaville)\"],[\"Bangladesh\"],[\"Sri Lanka\"],[\"Iraq\"],[\"Mali\"],[\"Namibia\"],[\"Cambodia\"],[\"Burkina Faso\"],[\"Egypt\"],[\"Mozambique\"],[\"Kenya\"],[\"Zambia\"],[\"Mauritania\"],[\"Ethiopia\"],[\"Georgia\"],[\"Armenia\"],[\"Myanmar\"],[\"Chad\"],[\"Congo (Kinshasa)\"],[\"India\"],[\"Niger\"],[\"Uganda\"],[\"Benin\"],[\"Sudan\"],[\"Ukraine\"],[\"Togo\"],[\"Guinea\"],[\"Lesotho\"],[\"Angola\"],[\"Madagascar\"],[\"Zimbabwe\"],[\"Afghanistan\"],[\"Botswana\"],[\"Malawi\"],[\"Haiti\"],[\"Liberia\"],[\"Syria\"],[\"Rwanda\"]],\"hovertemplate\":\"Healthy life expectancy: %{y}\\u003cbr\\u003eCurrent health expenditure per capita, PPP (current international $): %{x}\\u003cbr\\u003eCountry Name: %{customdata[0]}\",\"legendgroup\":\"Other Countries\",\"marker\":{\"color\":\"blue\",\"symbol\":\"circle\"},\"mode\":\"markers\",\"name\":\"Other Countries\",\"orientation\":\"v\",\"showlegend\":true,\"x\":[5634.52929688,5199.97314453,4024.38623047,5828.40966797,5004.86669922,4619.57324219,5879.10302734,1336.52856445,5896.69189453,6098.20263672,5404.91601563,6047.82226563,10623.84960938,3207.46630859,3172.60766602,3040.51904297,3897.32861328,5250.4453125,1065.95007324,2305.67651367,null,1856.69128418,1530.82226563,1989.63562012,482.96057129,2169.28540039,3165.85791016,3519.90722656,4439.28173828,1193.85388184,3576.49194336,1155.4074707,null,null,592.34143066,473.92501831,2015.28588867,1955.35192871,459.42245483,3669.01660156,722.69683838,3624.08227539,954.76373291,506.31762695,2312.95532227,3158.38500977,1576.29931641,1895.77575684,4503.68212891,1380.73596191,559.11590576,null,null,null,783.76342773,2624.85083008,496.09091187,2427.62768555,935.32897949,766.63635254,null,479.85287476,1275.11584473,2115.19238281,null,393.90402222,362.26046753,1132.46948242,1170.77990723,178.24232483,null,3242.35180664,1484.64892578,2340.16577148,1085.85119629,1711.20996094,1876.10449219,1017.50299072,962.71936035,467.12515259,935.19287109,633.56213379,249.74613953,null,737.75085449,232.99221802,null,1300.77648926,519.26660156,440.16650391,375.15563965,322.09790039,null,133.60945129,1633.80444336,180.40550232,null,490.83758545,null,null,null,null,167.97952271,146.39419556000001,null,912.25427246,697.30487061,257.32653809,null,109.6439209,516.92150879,715.95831299,90.00173187,882.66326904,261.15719604,111.71577454,null,117.79573822,179.18043518,null,190.13778687,66.64078522,795.90411377,1036.95446777,291.7381897,79.01350403000001,null,275.13040161,77.98433685,139.33383179,83.21243286,293.05581665,682.50952148,109.35966492,109.24282074,308.99752808,164.70602417,79.07378387,null,186.4072876,1088.72900391,119.51282501,143.62878418,12642.83105469,null,169.82418823],\"xaxis\":\"x\",\"y\":[0.878,0.896,0.876,0.913,0.91,0.888,0.891,0.817,0.876,0.861,0.894,0.896,0.819,0.883,0.67,0.854,0.884,0.908,0.761,0.808,0.857,0.759,0.675,0.744,0.608,0.771,0.748,0.633,1.008,0.669,0.965,0.635,0.564,0.776,0.639,0.7,0.781,0.698,0.605,0.675,0.707,0.946,0.736,0.474,0.716,0.856,0.726,0.671,0.988,0.684,0.693,0.955,0.909,0.599,0.631,0.909,0.508,0.737,0.615,0.674,0.578,0.62,0.517,0.732,0.553,0.513,0.622,0.7,0.686,0.424,1.03,0.884,0.685,0.879,0.785,0.729,0.737,0.614,0.687,0.669,0.799,0.603,0.598,0.691,0.645,0.048,0.594,0.758,0.575,0.702,0.522,0.527,0.115,0.182,0.712,0.539,0.657,0.404,0.602,0.33,0.691,0.08,0.337,0.433,0.441,0.69,0.79,0.0,0.343,0.579,0.672,0.536,0.152,0.365,0.457,0.254,0.553,0.173,0.454,0.295,0.292,0.391,0.643,0.666,0.429,0.053,0.204,0.485,0.221,0.237,0.24,0.312,0.609,0.253,0.211,0.079,0.269,0.402,0.248,0.255,0.417,0.306,0.289,0.267,0.539,0.4],\"yaxis\":\"y\",\"type\":\"scatter\"},{\"customdata\":[[\"Yemen\"],[\"Tanzania\"],[\"South Sudan\"],[\"Central African Republic\"],[\"Burundi\"]],\"hovertemplate\":\"Healthy life expectancy: %{y}\\u003cbr\\u003eCurrent health expenditure per capita, PPP (current international $): %{x}\\u003cbr\\u003eCountry Name: %{customdata[0]}\",\"legendgroup\":\"Bottom 5 ranked by happiness\",\"marker\":{\"color\":\"red\",\"symbol\":\"circle\"},\"mode\":\"markers\",\"name\":\"Bottom 5 ranked by happiness\",\"orientation\":\"v\",\"showlegend\":true,\"x\":[null,112.45636749,113.77922821,97.0058136,65.79267883],\"xaxis\":\"x\",\"y\":[0.343,0.381,0.177,0.01,0.145],\"yaxis\":\"y\",\"type\":\"scatter\"}],                        {\"template\":{\"data\":{\"histogram2dcontour\":[{\"type\":\"histogram2dcontour\",\"colorbar\":{\"outlinewidth\":0,\"ticks\":\"\"},\"colorscale\":[[0.0,\"#0d0887\"],[0.1111111111111111,\"#46039f\"],[0.2222222222222222,\"#7201a8\"],[0.3333333333333333,\"#9c179e\"],[0.4444444444444444,\"#bd3786\"],[0.5555555555555556,\"#d8576b\"],[0.6666666666666666,\"#ed7953\"],[0.7777777777777778,\"#fb9f3a\"],[0.8888888888888888,\"#fdca26\"],[1.0,\"#f0f921\"]]}],\"choropleth\":[{\"type\":\"choropleth\",\"colorbar\":{\"outlinewidth\":0,\"ticks\":\"\"}}],\"histogram2d\":[{\"type\":\"histogram2d\",\"colorbar\":{\"outlinewidth\":0,\"ticks\":\"\"},\"colorscale\":[[0.0,\"#0d0887\"],[0.1111111111111111,\"#46039f\"],[0.2222222222222222,\"#7201a8\"],[0.3333333333333333,\"#9c179e\"],[0.4444444444444444,\"#bd3786\"],[0.5555555555555556,\"#d8576b\"],[0.6666666666666666,\"#ed7953\"],[0.7777777777777778,\"#fb9f3a\"],[0.8888888888888888,\"#fdca26\"],[1.0,\"#f0f921\"]]}],\"heatmap\":[{\"type\":\"heatmap\",\"colorbar\":{\"outlinewidth\":0,\"ticks\":\"\"},\"colorscale\":[[0.0,\"#0d0887\"],[0.1111111111111111,\"#46039f\"],[0.2222222222222222,\"#7201a8\"],[0.3333333333333333,\"#9c179e\"],[0.4444444444444444,\"#bd3786\"],[0.5555555555555556,\"#d8576b\"],[0.6666666666666666,\"#ed7953\"],[0.7777777777777778,\"#fb9f3a\"],[0.8888888888888888,\"#fdca26\"],[1.0,\"#f0f921\"]]}],\"heatmapgl\":[{\"type\":\"heatmapgl\",\"colorbar\":{\"outlinewidth\":0,\"ticks\":\"\"},\"colorscale\":[[0.0,\"#0d0887\"],[0.1111111111111111,\"#46039f\"],[0.2222222222222222,\"#7201a8\"],[0.3333333333333333,\"#9c179e\"],[0.4444444444444444,\"#bd3786\"],[0.5555555555555556,\"#d8576b\"],[0.6666666666666666,\"#ed7953\"],[0.7777777777777778,\"#fb9f3a\"],[0.8888888888888888,\"#fdca26\"],[1.0,\"#f0f921\"]]}],\"contourcarpet\":[{\"type\":\"contourcarpet\",\"colorbar\":{\"outlinewidth\":0,\"ticks\":\"\"}}],\"contour\":[{\"type\":\"contour\",\"colorbar\":{\"outlinewidth\":0,\"ticks\":\"\"},\"colorscale\":[[0.0,\"#0d0887\"],[0.1111111111111111,\"#46039f\"],[0.2222222222222222,\"#7201a8\"],[0.3333333333333333,\"#9c179e\"],[0.4444444444444444,\"#bd3786\"],[0.5555555555555556,\"#d8576b\"],[0.6666666666666666,\"#ed7953\"],[0.7777777777777778,\"#fb9f3a\"],[0.8888888888888888,\"#fdca26\"],[1.0,\"#f0f921\"]]}],\"surface\":[{\"type\":\"surface\",\"colorbar\":{\"outlinewidth\":0,\"ticks\":\"\"},\"colorscale\":[[0.0,\"#0d0887\"],[0.1111111111111111,\"#46039f\"],[0.2222222222222222,\"#7201a8\"],[0.3333333333333333,\"#9c179e\"],[0.4444444444444444,\"#bd3786\"],[0.5555555555555556,\"#d8576b\"],[0.6666666666666666,\"#ed7953\"],[0.7777777777777778,\"#fb9f3a\"],[0.8888888888888888,\"#fdca26\"],[1.0,\"#f0f921\"]]}],\"mesh3d\":[{\"type\":\"mesh3d\",\"colorbar\":{\"outlinewidth\":0,\"ticks\":\"\"}}],\"scatter\":[{\"fillpattern\":{\"fillmode\":\"overlay\",\"size\":10,\"solidity\":0.2},\"type\":\"scatter\"}],\"parcoords\":[{\"type\":\"parcoords\",\"line\":{\"colorbar\":{\"outlinewidth\":0,\"ticks\":\"\"}}}],\"scatterpolargl\":[{\"type\":\"scatterpolargl\",\"marker\":{\"colorbar\":{\"outlinewidth\":0,\"ticks\":\"\"}}}],\"bar\":[{\"error_x\":{\"color\":\"#2a3f5f\"},\"error_y\":{\"color\":\"#2a3f5f\"},\"marker\":{\"line\":{\"color\":\"#E5ECF6\",\"width\":0.5},\"pattern\":{\"fillmode\":\"overlay\",\"size\":10,\"solidity\":0.2}},\"type\":\"bar\"}],\"scattergeo\":[{\"type\":\"scattergeo\",\"marker\":{\"colorbar\":{\"outlinewidth\":0,\"ticks\":\"\"}}}],\"scatterpolar\":[{\"type\":\"scatterpolar\",\"marker\":{\"colorbar\":{\"outlinewidth\":0,\"ticks\":\"\"}}}],\"histogram\":[{\"marker\":{\"pattern\":{\"fillmode\":\"overlay\",\"size\":10,\"solidity\":0.2}},\"type\":\"histogram\"}],\"scattergl\":[{\"type\":\"scattergl\",\"marker\":{\"colorbar\":{\"outlinewidth\":0,\"ticks\":\"\"}}}],\"scatter3d\":[{\"type\":\"scatter3d\",\"line\":{\"colorbar\":{\"outlinewidth\":0,\"ticks\":\"\"}},\"marker\":{\"colorbar\":{\"outlinewidth\":0,\"ticks\":\"\"}}}],\"scattermapbox\":[{\"type\":\"scattermapbox\",\"marker\":{\"colorbar\":{\"outlinewidth\":0,\"ticks\":\"\"}}}],\"scatterternary\":[{\"type\":\"scatterternary\",\"marker\":{\"colorbar\":{\"outlinewidth\":0,\"ticks\":\"\"}}}],\"scattercarpet\":[{\"type\":\"scattercarpet\",\"marker\":{\"colorbar\":{\"outlinewidth\":0,\"ticks\":\"\"}}}],\"carpet\":[{\"aaxis\":{\"endlinecolor\":\"#2a3f5f\",\"gridcolor\":\"white\",\"linecolor\":\"white\",\"minorgridcolor\":\"white\",\"startlinecolor\":\"#2a3f5f\"},\"baxis\":{\"endlinecolor\":\"#2a3f5f\",\"gridcolor\":\"white\",\"linecolor\":\"white\",\"minorgridcolor\":\"white\",\"startlinecolor\":\"#2a3f5f\"},\"type\":\"carpet\"}],\"table\":[{\"cells\":{\"fill\":{\"color\":\"#EBF0F8\"},\"line\":{\"color\":\"white\"}},\"header\":{\"fill\":{\"color\":\"#C8D4E3\"},\"line\":{\"color\":\"white\"}},\"type\":\"table\"}],\"barpolar\":[{\"marker\":{\"line\":{\"color\":\"#E5ECF6\",\"width\":0.5},\"pattern\":{\"fillmode\":\"overlay\",\"size\":10,\"solidity\":0.2}},\"type\":\"barpolar\"}],\"pie\":[{\"automargin\":true,\"type\":\"pie\"}]},\"layout\":{\"autotypenumbers\":\"strict\",\"colorway\":[\"#636efa\",\"#EF553B\",\"#00cc96\",\"#ab63fa\",\"#FFA15A\",\"#19d3f3\",\"#FF6692\",\"#B6E880\",\"#FF97FF\",\"#FECB52\"],\"font\":{\"color\":\"#2a3f5f\"},\"hovermode\":\"closest\",\"hoverlabel\":{\"align\":\"left\"},\"paper_bgcolor\":\"white\",\"plot_bgcolor\":\"#E5ECF6\",\"polar\":{\"bgcolor\":\"#E5ECF6\",\"angularaxis\":{\"gridcolor\":\"white\",\"linecolor\":\"white\",\"ticks\":\"\"},\"radialaxis\":{\"gridcolor\":\"white\",\"linecolor\":\"white\",\"ticks\":\"\"}},\"ternary\":{\"bgcolor\":\"#E5ECF6\",\"aaxis\":{\"gridcolor\":\"white\",\"linecolor\":\"white\",\"ticks\":\"\"},\"baxis\":{\"gridcolor\":\"white\",\"linecolor\":\"white\",\"ticks\":\"\"},\"caxis\":{\"gridcolor\":\"white\",\"linecolor\":\"white\",\"ticks\":\"\"}},\"coloraxis\":{\"colorbar\":{\"outlinewidth\":0,\"ticks\":\"\"}},\"colorscale\":{\"sequential\":[[0.0,\"#0d0887\"],[0.1111111111111111,\"#46039f\"],[0.2222222222222222,\"#7201a8\"],[0.3333333333333333,\"#9c179e\"],[0.4444444444444444,\"#bd3786\"],[0.5555555555555556,\"#d8576b\"],[0.6666666666666666,\"#ed7953\"],[0.7777777777777778,\"#fb9f3a\"],[0.8888888888888888,\"#fdca26\"],[1.0,\"#f0f921\"]],\"sequentialminus\":[[0.0,\"#0d0887\"],[0.1111111111111111,\"#46039f\"],[0.2222222222222222,\"#7201a8\"],[0.3333333333333333,\"#9c179e\"],[0.4444444444444444,\"#bd3786\"],[0.5555555555555556,\"#d8576b\"],[0.6666666666666666,\"#ed7953\"],[0.7777777777777778,\"#fb9f3a\"],[0.8888888888888888,\"#fdca26\"],[1.0,\"#f0f921\"]],\"diverging\":[[0,\"#8e0152\"],[0.1,\"#c51b7d\"],[0.2,\"#de77ae\"],[0.3,\"#f1b6da\"],[0.4,\"#fde0ef\"],[0.5,\"#f7f7f7\"],[0.6,\"#e6f5d0\"],[0.7,\"#b8e186\"],[0.8,\"#7fbc41\"],[0.9,\"#4d9221\"],[1,\"#276419\"]]},\"xaxis\":{\"gridcolor\":\"white\",\"linecolor\":\"white\",\"ticks\":\"\",\"title\":{\"standoff\":15},\"zerolinecolor\":\"white\",\"automargin\":true,\"zerolinewidth\":2},\"yaxis\":{\"gridcolor\":\"white\",\"linecolor\":\"white\",\"ticks\":\"\",\"title\":{\"standoff\":15},\"zerolinecolor\":\"white\",\"automargin\":true,\"zerolinewidth\":2},\"scene\":{\"xaxis\":{\"backgroundcolor\":\"#E5ECF6\",\"gridcolor\":\"white\",\"linecolor\":\"white\",\"showbackground\":true,\"ticks\":\"\",\"zerolinecolor\":\"white\",\"gridwidth\":2},\"yaxis\":{\"backgroundcolor\":\"#E5ECF6\",\"gridcolor\":\"white\",\"linecolor\":\"white\",\"showbackground\":true,\"ticks\":\"\",\"zerolinecolor\":\"white\",\"gridwidth\":2},\"zaxis\":{\"backgroundcolor\":\"#E5ECF6\",\"gridcolor\":\"white\",\"linecolor\":\"white\",\"showbackground\":true,\"ticks\":\"\",\"zerolinecolor\":\"white\",\"gridwidth\":2}},\"shapedefaults\":{\"line\":{\"color\":\"#2a3f5f\"}},\"annotationdefaults\":{\"arrowcolor\":\"#2a3f5f\",\"arrowhead\":0,\"arrowwidth\":1},\"geo\":{\"bgcolor\":\"white\",\"landcolor\":\"#E5ECF6\",\"subunitcolor\":\"white\",\"showland\":true,\"showlakes\":true,\"lakecolor\":\"white\"},\"title\":{\"x\":0.05},\"mapbox\":{\"style\":\"light\"}}},\"xaxis\":{\"anchor\":\"y\",\"domain\":[0.0,1.0],\"title\":{\"text\":\"Current health expenditure per capita, PPP (current international $)\"}},\"yaxis\":{\"anchor\":\"x\",\"domain\":[0.0,1.0],\"title\":{\"text\":\"Healthy life expectancy\"}},\"legend\":{\"title\":{\"text\":\"color\"},\"tracegroupgap\":0},\"title\":{\"text\":\"ScatterPlot: Healthy life expectancy and Current health expenditure per capita, PPP (current international $)\",\"x\":0.5}},                        {\"responsive\": true}                    ).then(function(){\n",
       "                            \n",
       "var gd = document.getElementById('2ca71082-455f-49e6-9f77-751b9dfdaf29');\n",
       "var x = new MutationObserver(function (mutations, observer) {{\n",
       "        var display = window.getComputedStyle(gd).display;\n",
       "        if (!display || display === 'none') {{\n",
       "            console.log([gd, 'removed!']);\n",
       "            Plotly.purge(gd);\n",
       "            observer.disconnect();\n",
       "        }}\n",
       "}});\n",
       "\n",
       "// Listen for the removal of the full notebook cells\n",
       "var notebookContainer = gd.closest('#notebook-container');\n",
       "if (notebookContainer) {{\n",
       "    x.observe(notebookContainer, {childList: true});\n",
       "}}\n",
       "\n",
       "// Listen for the clearing of the current output cell\n",
       "var outputEl = gd.closest('.output');\n",
       "if (outputEl) {{\n",
       "    x.observe(outputEl, {childList: true});\n",
       "}}\n",
       "\n",
       "                        })                };                });            </script>        </div>"
      ]
     },
     "metadata": {},
     "output_type": "display_data"
    }
   ],
   "source": [
    "country_col = 'Country Name'\n",
    "fig = px.scatter(data_frame=combined_indicator_df,y='Healthy life expectancy',x='Current health expenditure per capita, PPP (current international $)',color='color',\n",
    "                 color_discrete_map={'Top 5 Countries ranked by happiness': 'green', 'Bottom 5 ranked by happiness': 'red','Other Countries':'blue'},\n",
    "                 title=\"ScatterPlot: Healthy life expectancy and Current health expenditure per capita, PPP (current international $)\",custom_data=[country_col])\n",
    "# Note - install statsmodels for trendlines\n",
    "fig.update_traces(\n",
    "    hovertemplate=\"<br>\".join([\n",
    "        \"Healthy life expectancy: %{y}\",\n",
    "        \"Current health expenditure per capita, PPP (current international $): %{x}\",\n",
    "        \"Country Name: %{customdata[0]}\",\n",
    "    ])\n",
    ")\n",
    "# Customize axis labels\n",
    "fig.update_layout(\n",
    "    xaxis_title=\"Current health expenditure per capita, PPP (current international $)\",\n",
    "    yaxis_title=\"Healthy life expectancy\",\n",
    "    title_x=0.5 # center title\n",
    ")\n",
    "fig.show()"
   ]
  },
  {
   "cell_type": "markdown",
   "id": "0795d721-9a06-4085-9c07-687e57b7172f",
   "metadata": {},
   "source": [
    "We see that current health expenditure per capita has a concave relationship with healthy life expectancy. It seems to suggest that there are factors beyond mere infrastructure, access and delivery of healthcare services that may be influencing healthy life expectancy. These could be habit factors such as diets, exercise etc."
   ]
  },
  {
   "cell_type": "markdown",
   "id": "ff9d33ab-680c-4f95-b3d9-65ebd31a83db",
   "metadata": {},
   "source": [
    "## Healthy Life Expectancy and Food insecurity\n",
    "\n",
    "One way of testing the above suggestion is to observe the relationship between prevalence of moderate or severe food insecurity and healthy life expectancy. While this may not proxy habits but certainly proxy access to and affordability of a balanced diet.\n"
   ]
  },
  {
   "cell_type": "code",
   "execution_count": 22,
   "id": "91775f2b-2220-4943-9dc2-6d7e6898443e",
   "metadata": {},
   "outputs": [
    {
     "data": {
      "application/vnd.plotly.v1+json": {
       "config": {
        "plotlyServerURL": "https://plot.ly"
       },
       "data": [
        {
         "customdata": [
          [
           "Finland"
          ],
          [
           "Norway"
          ],
          [
           "Denmark"
          ],
          [
           "Iceland"
          ],
          [
           "Switzerland"
          ]
         ],
         "hovertemplate": "Healthy life expectancy: %{y}<br>Prevalence of moderate or severe food insecurity in the population (%): %{x}<br>Country Name: %{customdata[0]}",
         "legendgroup": "Top 5 Countries ranked by happiness",
         "marker": {
          "color": "green",
          "symbol": "circle"
         },
         "mode": "markers",
         "name": "Top 5 Countries ranked by happiness",
         "orientation": "v",
         "showlegend": true,
         "type": "scatter",
         "x": [
          7.7,
          4.9,
          5.2,
          7.3,
          2.7
         ],
         "xaxis": "x",
         "y": [
          0.874,
          0.861,
          0.868,
          0.914,
          0.927
         ],
         "yaxis": "y"
        },
        {
         "customdata": [
          [
           "Netherlands"
          ],
          [
           "Canada"
          ],
          [
           "New Zealand"
          ],
          [
           "Sweden"
          ],
          [
           "Australia"
          ],
          [
           "United Kingdom"
          ],
          [
           "Austria"
          ],
          [
           "Costa Rica"
          ],
          [
           "Ireland"
          ],
          [
           "Germany"
          ],
          [
           "Belgium"
          ],
          [
           "Luxembourg"
          ],
          [
           "United States"
          ],
          [
           "Israel"
          ],
          [
           "United Arab Emirates"
          ],
          [
           "Czech Republic"
          ],
          [
           "Malta"
          ],
          [
           "France"
          ],
          [
           "Mexico"
          ],
          [
           "Chile"
          ],
          [
           "Taiwan"
          ],
          [
           "Panama"
          ],
          [
           "Brazil"
          ],
          [
           "Argentina"
          ],
          [
           "Guatemala"
          ],
          [
           "Uruguay"
          ],
          [
           "Qatar"
          ],
          [
           "Saudi Arabia"
          ],
          [
           "Singapore"
          ],
          [
           "Malaysia"
          ],
          [
           "Spain"
          ],
          [
           "Colombia"
          ],
          [
           "Trinidad & Tobago"
          ],
          [
           "Slovakia"
          ],
          [
           "El Salvador"
          ],
          [
           "Nicaragua"
          ],
          [
           "Poland"
          ],
          [
           "Bahrain"
          ],
          [
           "Uzbekistan"
          ],
          [
           "Kuwait"
          ],
          [
           "Thailand"
          ],
          [
           "Italy"
          ],
          [
           "Ecuador"
          ],
          [
           "Belize"
          ],
          [
           "Lithuania"
          ],
          [
           "Slovenia"
          ],
          [
           "Romania"
          ],
          [
           "Latvia"
          ],
          [
           "Japan"
          ],
          [
           "Mauritius"
          ],
          [
           "Jamaica"
          ],
          [
           "South Korea"
          ],
          [
           "Northern Cyprus"
          ],
          [
           "Russia"
          ],
          [
           "Kazakhstan"
          ],
          [
           "Cyprus"
          ],
          [
           "Bolivia"
          ],
          [
           "Estonia"
          ],
          [
           "Paraguay"
          ],
          [
           "Peru"
          ],
          [
           "Kosovo"
          ],
          [
           "Moldova"
          ],
          [
           "Turkmenistan"
          ],
          [
           "Hungary"
          ],
          [
           "Libya"
          ],
          [
           "Philippines"
          ],
          [
           "Honduras"
          ],
          [
           "Belarus"
          ],
          [
           "Turkey"
          ],
          [
           "Pakistan"
          ],
          [
           "Hong Kong"
          ],
          [
           "Portugal"
          ],
          [
           "Serbia"
          ],
          [
           "Greece"
          ],
          [
           "Lebanon"
          ],
          [
           "Montenegro"
          ],
          [
           "Croatia"
          ],
          [
           "Dominican Republic"
          ],
          [
           "Algeria"
          ],
          [
           "Morocco"
          ],
          [
           "China"
          ],
          [
           "Azerbaijan"
          ],
          [
           "Tajikistan"
          ],
          [
           "Macedonia"
          ],
          [
           "Jordan"
          ],
          [
           "Nigeria"
          ],
          [
           "Kyrgyzstan"
          ],
          [
           "Bosnia and Herzegovina"
          ],
          [
           "Mongolia"
          ],
          [
           "Vietnam"
          ],
          [
           "Indonesia"
          ],
          [
           "Bhutan"
          ],
          [
           "Somalia"
          ],
          [
           "Cameroon"
          ],
          [
           "Bulgaria"
          ],
          [
           "Nepal"
          ],
          [
           "Venezuela"
          ],
          [
           "Gabon"
          ],
          [
           "Palestinian Territories"
          ],
          [
           "South Africa"
          ],
          [
           "Iran"
          ],
          [
           "Ivory Coast"
          ],
          [
           "Ghana"
          ],
          [
           "Senegal"
          ],
          [
           "Laos"
          ],
          [
           "Tunisia"
          ],
          [
           "Albania"
          ],
          [
           "Sierra Leone"
          ],
          [
           "Congo (Brazzaville)"
          ],
          [
           "Bangladesh"
          ],
          [
           "Sri Lanka"
          ],
          [
           "Iraq"
          ],
          [
           "Mali"
          ],
          [
           "Namibia"
          ],
          [
           "Cambodia"
          ],
          [
           "Burkina Faso"
          ],
          [
           "Egypt"
          ],
          [
           "Mozambique"
          ],
          [
           "Kenya"
          ],
          [
           "Zambia"
          ],
          [
           "Mauritania"
          ],
          [
           "Ethiopia"
          ],
          [
           "Georgia"
          ],
          [
           "Armenia"
          ],
          [
           "Myanmar"
          ],
          [
           "Chad"
          ],
          [
           "Congo (Kinshasa)"
          ],
          [
           "India"
          ],
          [
           "Niger"
          ],
          [
           "Uganda"
          ],
          [
           "Benin"
          ],
          [
           "Sudan"
          ],
          [
           "Ukraine"
          ],
          [
           "Togo"
          ],
          [
           "Guinea"
          ],
          [
           "Lesotho"
          ],
          [
           "Angola"
          ],
          [
           "Madagascar"
          ],
          [
           "Zimbabwe"
          ],
          [
           "Afghanistan"
          ],
          [
           "Botswana"
          ],
          [
           "Malawi"
          ],
          [
           "Haiti"
          ],
          [
           "Liberia"
          ],
          [
           "Syria"
          ],
          [
           "Rwanda"
          ]
         ],
         "hovertemplate": "Healthy life expectancy: %{y}<br>Prevalence of moderate or severe food insecurity in the population (%): %{x}<br>Country Name: %{customdata[0]}",
         "legendgroup": "Other Countries",
         "marker": {
          "color": "blue",
          "symbol": "circle"
         },
         "mode": "markers",
         "name": "Other Countries",
         "orientation": "v",
         "showlegend": true,
         "type": "scatter",
         "x": [
          5.1,
          null,
          14,
          5.8,
          13.5,
          5,
          3.6,
          25.5,
          7,
          3.5,
          10.8,
          3.3,
          8.5,
          12.2,
          null,
          3.7,
          4.4,
          6,
          34.9,
          15.6,
          null,
          null,
          20.6,
          35.8,
          45.2,
          23.2,
          null,
          null,
          4.7,
          15.1,
          8.6,
          null,
          null,
          null,
          42.2,
          null,
          4.3,
          null,
          17.2,
          12.3,
          null,
          7.3,
          null,
          null,
          10.7,
          10.4,
          14.5,
          9.5,
          3.1,
          20.5,
          null,
          null,
          null,
          null,
          null,
          null,
          null,
          7.4,
          null,
          null,
          null,
          27.5,
          null,
          6.9,
          35.9,
          55.3,
          55,
          null,
          null,
          null,
          null,
          10.6,
          12.4,
          13.3,
          null,
          12.9,
          10,
          null,
          17.6,
          null,
          null,
          9.6,
          null,
          null,
          null,
          44.1,
          null,
          9.2,
          27.5,
          null,
          7,
          null,
          null,
          null,
          12.5,
          33.8,
          null,
          null,
          null,
          null,
          null,
          null,
          51.1,
          40.7,
          null,
          20,
          37.1,
          81.4,
          null,
          31.5,
          null,
          null,
          null,
          56.4,
          44.1,
          47.7,
          null,
          68.4,
          null,
          null,
          44.8,
          57.9,
          38.3,
          34.9,
          null,
          null,
          null,
          null,
          null,
          66.3,
          null,
          48.9,
          18.3,
          null,
          74.1,
          null,
          null,
          null,
          null,
          60.8,
          66.7,
          82.2,
          null,
          88.5,
          null,
          null
         ],
         "xaxis": "x",
         "y": [
          0.878,
          0.896,
          0.876,
          0.913,
          0.91,
          0.888,
          0.891,
          0.817,
          0.876,
          0.861,
          0.894,
          0.896,
          0.819,
          0.883,
          0.67,
          0.854,
          0.884,
          0.908,
          0.761,
          0.808,
          0.857,
          0.759,
          0.675,
          0.744,
          0.608,
          0.771,
          0.748,
          0.633,
          1.008,
          0.669,
          0.965,
          0.635,
          0.564,
          0.776,
          0.639,
          0.7,
          0.781,
          0.698,
          0.605,
          0.675,
          0.707,
          0.946,
          0.736,
          0.474,
          0.716,
          0.856,
          0.726,
          0.671,
          0.988,
          0.684,
          0.693,
          0.955,
          0.909,
          0.599,
          0.631,
          0.909,
          0.508,
          0.737,
          0.615,
          0.674,
          0.578,
          0.62,
          0.517,
          0.732,
          0.553,
          0.513,
          0.622,
          0.7,
          0.686,
          0.424,
          1.03,
          0.884,
          0.685,
          0.879,
          0.785,
          0.729,
          0.737,
          0.614,
          0.687,
          0.669,
          0.799,
          0.603,
          0.598,
          0.691,
          0.645,
          0.048,
          0.594,
          0.758,
          0.575,
          0.702,
          0.522,
          0.527,
          0.115,
          0.182,
          0.712,
          0.539,
          0.657,
          0.404,
          0.602,
          0.33,
          0.691,
          0.08,
          0.337,
          0.433,
          0.441,
          0.69,
          0.79,
          0,
          0.343,
          0.579,
          0.672,
          0.536,
          0.152,
          0.365,
          0.457,
          0.254,
          0.553,
          0.173,
          0.454,
          0.295,
          0.292,
          0.391,
          0.643,
          0.666,
          0.429,
          0.053,
          0.204,
          0.485,
          0.221,
          0.237,
          0.24,
          0.312,
          0.609,
          0.253,
          0.211,
          0.079,
          0.269,
          0.402,
          0.248,
          0.255,
          0.417,
          0.306,
          0.289,
          0.267,
          0.539,
          0.4
         ],
         "yaxis": "y"
        },
        {
         "customdata": [
          [
           "Yemen"
          ],
          [
           "Tanzania"
          ],
          [
           "South Sudan"
          ],
          [
           "Central African Republic"
          ],
          [
           "Burundi"
          ]
         ],
         "hovertemplate": "Healthy life expectancy: %{y}<br>Prevalence of moderate or severe food insecurity in the population (%): %{x}<br>Country Name: %{customdata[0]}",
         "legendgroup": "Bottom 5 ranked by happiness",
         "marker": {
          "color": "red",
          "symbol": "circle"
         },
         "mode": "markers",
         "name": "Bottom 5 ranked by happiness",
         "orientation": "v",
         "showlegend": true,
         "type": "scatter",
         "x": [
          null,
          null,
          84.9,
          null,
          null
         ],
         "xaxis": "x",
         "y": [
          0.343,
          0.381,
          0.177,
          0.01,
          0.145
         ],
         "yaxis": "y"
        }
       ],
       "layout": {
        "legend": {
         "title": {
          "text": "color"
         },
         "tracegroupgap": 0
        },
        "template": {
         "data": {
          "bar": [
           {
            "error_x": {
             "color": "#2a3f5f"
            },
            "error_y": {
             "color": "#2a3f5f"
            },
            "marker": {
             "line": {
              "color": "#E5ECF6",
              "width": 0.5
             },
             "pattern": {
              "fillmode": "overlay",
              "size": 10,
              "solidity": 0.2
             }
            },
            "type": "bar"
           }
          ],
          "barpolar": [
           {
            "marker": {
             "line": {
              "color": "#E5ECF6",
              "width": 0.5
             },
             "pattern": {
              "fillmode": "overlay",
              "size": 10,
              "solidity": 0.2
             }
            },
            "type": "barpolar"
           }
          ],
          "carpet": [
           {
            "aaxis": {
             "endlinecolor": "#2a3f5f",
             "gridcolor": "white",
             "linecolor": "white",
             "minorgridcolor": "white",
             "startlinecolor": "#2a3f5f"
            },
            "baxis": {
             "endlinecolor": "#2a3f5f",
             "gridcolor": "white",
             "linecolor": "white",
             "minorgridcolor": "white",
             "startlinecolor": "#2a3f5f"
            },
            "type": "carpet"
           }
          ],
          "choropleth": [
           {
            "colorbar": {
             "outlinewidth": 0,
             "ticks": ""
            },
            "type": "choropleth"
           }
          ],
          "contour": [
           {
            "colorbar": {
             "outlinewidth": 0,
             "ticks": ""
            },
            "colorscale": [
             [
              0,
              "#0d0887"
             ],
             [
              0.1111111111111111,
              "#46039f"
             ],
             [
              0.2222222222222222,
              "#7201a8"
             ],
             [
              0.3333333333333333,
              "#9c179e"
             ],
             [
              0.4444444444444444,
              "#bd3786"
             ],
             [
              0.5555555555555556,
              "#d8576b"
             ],
             [
              0.6666666666666666,
              "#ed7953"
             ],
             [
              0.7777777777777778,
              "#fb9f3a"
             ],
             [
              0.8888888888888888,
              "#fdca26"
             ],
             [
              1,
              "#f0f921"
             ]
            ],
            "type": "contour"
           }
          ],
          "contourcarpet": [
           {
            "colorbar": {
             "outlinewidth": 0,
             "ticks": ""
            },
            "type": "contourcarpet"
           }
          ],
          "heatmap": [
           {
            "colorbar": {
             "outlinewidth": 0,
             "ticks": ""
            },
            "colorscale": [
             [
              0,
              "#0d0887"
             ],
             [
              0.1111111111111111,
              "#46039f"
             ],
             [
              0.2222222222222222,
              "#7201a8"
             ],
             [
              0.3333333333333333,
              "#9c179e"
             ],
             [
              0.4444444444444444,
              "#bd3786"
             ],
             [
              0.5555555555555556,
              "#d8576b"
             ],
             [
              0.6666666666666666,
              "#ed7953"
             ],
             [
              0.7777777777777778,
              "#fb9f3a"
             ],
             [
              0.8888888888888888,
              "#fdca26"
             ],
             [
              1,
              "#f0f921"
             ]
            ],
            "type": "heatmap"
           }
          ],
          "heatmapgl": [
           {
            "colorbar": {
             "outlinewidth": 0,
             "ticks": ""
            },
            "colorscale": [
             [
              0,
              "#0d0887"
             ],
             [
              0.1111111111111111,
              "#46039f"
             ],
             [
              0.2222222222222222,
              "#7201a8"
             ],
             [
              0.3333333333333333,
              "#9c179e"
             ],
             [
              0.4444444444444444,
              "#bd3786"
             ],
             [
              0.5555555555555556,
              "#d8576b"
             ],
             [
              0.6666666666666666,
              "#ed7953"
             ],
             [
              0.7777777777777778,
              "#fb9f3a"
             ],
             [
              0.8888888888888888,
              "#fdca26"
             ],
             [
              1,
              "#f0f921"
             ]
            ],
            "type": "heatmapgl"
           }
          ],
          "histogram": [
           {
            "marker": {
             "pattern": {
              "fillmode": "overlay",
              "size": 10,
              "solidity": 0.2
             }
            },
            "type": "histogram"
           }
          ],
          "histogram2d": [
           {
            "colorbar": {
             "outlinewidth": 0,
             "ticks": ""
            },
            "colorscale": [
             [
              0,
              "#0d0887"
             ],
             [
              0.1111111111111111,
              "#46039f"
             ],
             [
              0.2222222222222222,
              "#7201a8"
             ],
             [
              0.3333333333333333,
              "#9c179e"
             ],
             [
              0.4444444444444444,
              "#bd3786"
             ],
             [
              0.5555555555555556,
              "#d8576b"
             ],
             [
              0.6666666666666666,
              "#ed7953"
             ],
             [
              0.7777777777777778,
              "#fb9f3a"
             ],
             [
              0.8888888888888888,
              "#fdca26"
             ],
             [
              1,
              "#f0f921"
             ]
            ],
            "type": "histogram2d"
           }
          ],
          "histogram2dcontour": [
           {
            "colorbar": {
             "outlinewidth": 0,
             "ticks": ""
            },
            "colorscale": [
             [
              0,
              "#0d0887"
             ],
             [
              0.1111111111111111,
              "#46039f"
             ],
             [
              0.2222222222222222,
              "#7201a8"
             ],
             [
              0.3333333333333333,
              "#9c179e"
             ],
             [
              0.4444444444444444,
              "#bd3786"
             ],
             [
              0.5555555555555556,
              "#d8576b"
             ],
             [
              0.6666666666666666,
              "#ed7953"
             ],
             [
              0.7777777777777778,
              "#fb9f3a"
             ],
             [
              0.8888888888888888,
              "#fdca26"
             ],
             [
              1,
              "#f0f921"
             ]
            ],
            "type": "histogram2dcontour"
           }
          ],
          "mesh3d": [
           {
            "colorbar": {
             "outlinewidth": 0,
             "ticks": ""
            },
            "type": "mesh3d"
           }
          ],
          "parcoords": [
           {
            "line": {
             "colorbar": {
              "outlinewidth": 0,
              "ticks": ""
             }
            },
            "type": "parcoords"
           }
          ],
          "pie": [
           {
            "automargin": true,
            "type": "pie"
           }
          ],
          "scatter": [
           {
            "fillpattern": {
             "fillmode": "overlay",
             "size": 10,
             "solidity": 0.2
            },
            "type": "scatter"
           }
          ],
          "scatter3d": [
           {
            "line": {
             "colorbar": {
              "outlinewidth": 0,
              "ticks": ""
             }
            },
            "marker": {
             "colorbar": {
              "outlinewidth": 0,
              "ticks": ""
             }
            },
            "type": "scatter3d"
           }
          ],
          "scattercarpet": [
           {
            "marker": {
             "colorbar": {
              "outlinewidth": 0,
              "ticks": ""
             }
            },
            "type": "scattercarpet"
           }
          ],
          "scattergeo": [
           {
            "marker": {
             "colorbar": {
              "outlinewidth": 0,
              "ticks": ""
             }
            },
            "type": "scattergeo"
           }
          ],
          "scattergl": [
           {
            "marker": {
             "colorbar": {
              "outlinewidth": 0,
              "ticks": ""
             }
            },
            "type": "scattergl"
           }
          ],
          "scattermapbox": [
           {
            "marker": {
             "colorbar": {
              "outlinewidth": 0,
              "ticks": ""
             }
            },
            "type": "scattermapbox"
           }
          ],
          "scatterpolar": [
           {
            "marker": {
             "colorbar": {
              "outlinewidth": 0,
              "ticks": ""
             }
            },
            "type": "scatterpolar"
           }
          ],
          "scatterpolargl": [
           {
            "marker": {
             "colorbar": {
              "outlinewidth": 0,
              "ticks": ""
             }
            },
            "type": "scatterpolargl"
           }
          ],
          "scatterternary": [
           {
            "marker": {
             "colorbar": {
              "outlinewidth": 0,
              "ticks": ""
             }
            },
            "type": "scatterternary"
           }
          ],
          "surface": [
           {
            "colorbar": {
             "outlinewidth": 0,
             "ticks": ""
            },
            "colorscale": [
             [
              0,
              "#0d0887"
             ],
             [
              0.1111111111111111,
              "#46039f"
             ],
             [
              0.2222222222222222,
              "#7201a8"
             ],
             [
              0.3333333333333333,
              "#9c179e"
             ],
             [
              0.4444444444444444,
              "#bd3786"
             ],
             [
              0.5555555555555556,
              "#d8576b"
             ],
             [
              0.6666666666666666,
              "#ed7953"
             ],
             [
              0.7777777777777778,
              "#fb9f3a"
             ],
             [
              0.8888888888888888,
              "#fdca26"
             ],
             [
              1,
              "#f0f921"
             ]
            ],
            "type": "surface"
           }
          ],
          "table": [
           {
            "cells": {
             "fill": {
              "color": "#EBF0F8"
             },
             "line": {
              "color": "white"
             }
            },
            "header": {
             "fill": {
              "color": "#C8D4E3"
             },
             "line": {
              "color": "white"
             }
            },
            "type": "table"
           }
          ]
         },
         "layout": {
          "annotationdefaults": {
           "arrowcolor": "#2a3f5f",
           "arrowhead": 0,
           "arrowwidth": 1
          },
          "autotypenumbers": "strict",
          "coloraxis": {
           "colorbar": {
            "outlinewidth": 0,
            "ticks": ""
           }
          },
          "colorscale": {
           "diverging": [
            [
             0,
             "#8e0152"
            ],
            [
             0.1,
             "#c51b7d"
            ],
            [
             0.2,
             "#de77ae"
            ],
            [
             0.3,
             "#f1b6da"
            ],
            [
             0.4,
             "#fde0ef"
            ],
            [
             0.5,
             "#f7f7f7"
            ],
            [
             0.6,
             "#e6f5d0"
            ],
            [
             0.7,
             "#b8e186"
            ],
            [
             0.8,
             "#7fbc41"
            ],
            [
             0.9,
             "#4d9221"
            ],
            [
             1,
             "#276419"
            ]
           ],
           "sequential": [
            [
             0,
             "#0d0887"
            ],
            [
             0.1111111111111111,
             "#46039f"
            ],
            [
             0.2222222222222222,
             "#7201a8"
            ],
            [
             0.3333333333333333,
             "#9c179e"
            ],
            [
             0.4444444444444444,
             "#bd3786"
            ],
            [
             0.5555555555555556,
             "#d8576b"
            ],
            [
             0.6666666666666666,
             "#ed7953"
            ],
            [
             0.7777777777777778,
             "#fb9f3a"
            ],
            [
             0.8888888888888888,
             "#fdca26"
            ],
            [
             1,
             "#f0f921"
            ]
           ],
           "sequentialminus": [
            [
             0,
             "#0d0887"
            ],
            [
             0.1111111111111111,
             "#46039f"
            ],
            [
             0.2222222222222222,
             "#7201a8"
            ],
            [
             0.3333333333333333,
             "#9c179e"
            ],
            [
             0.4444444444444444,
             "#bd3786"
            ],
            [
             0.5555555555555556,
             "#d8576b"
            ],
            [
             0.6666666666666666,
             "#ed7953"
            ],
            [
             0.7777777777777778,
             "#fb9f3a"
            ],
            [
             0.8888888888888888,
             "#fdca26"
            ],
            [
             1,
             "#f0f921"
            ]
           ]
          },
          "colorway": [
           "#636efa",
           "#EF553B",
           "#00cc96",
           "#ab63fa",
           "#FFA15A",
           "#19d3f3",
           "#FF6692",
           "#B6E880",
           "#FF97FF",
           "#FECB52"
          ],
          "font": {
           "color": "#2a3f5f"
          },
          "geo": {
           "bgcolor": "white",
           "lakecolor": "white",
           "landcolor": "#E5ECF6",
           "showlakes": true,
           "showland": true,
           "subunitcolor": "white"
          },
          "hoverlabel": {
           "align": "left"
          },
          "hovermode": "closest",
          "mapbox": {
           "style": "light"
          },
          "paper_bgcolor": "white",
          "plot_bgcolor": "#E5ECF6",
          "polar": {
           "angularaxis": {
            "gridcolor": "white",
            "linecolor": "white",
            "ticks": ""
           },
           "bgcolor": "#E5ECF6",
           "radialaxis": {
            "gridcolor": "white",
            "linecolor": "white",
            "ticks": ""
           }
          },
          "scene": {
           "xaxis": {
            "backgroundcolor": "#E5ECF6",
            "gridcolor": "white",
            "gridwidth": 2,
            "linecolor": "white",
            "showbackground": true,
            "ticks": "",
            "zerolinecolor": "white"
           },
           "yaxis": {
            "backgroundcolor": "#E5ECF6",
            "gridcolor": "white",
            "gridwidth": 2,
            "linecolor": "white",
            "showbackground": true,
            "ticks": "",
            "zerolinecolor": "white"
           },
           "zaxis": {
            "backgroundcolor": "#E5ECF6",
            "gridcolor": "white",
            "gridwidth": 2,
            "linecolor": "white",
            "showbackground": true,
            "ticks": "",
            "zerolinecolor": "white"
           }
          },
          "shapedefaults": {
           "line": {
            "color": "#2a3f5f"
           }
          },
          "ternary": {
           "aaxis": {
            "gridcolor": "white",
            "linecolor": "white",
            "ticks": ""
           },
           "baxis": {
            "gridcolor": "white",
            "linecolor": "white",
            "ticks": ""
           },
           "bgcolor": "#E5ECF6",
           "caxis": {
            "gridcolor": "white",
            "linecolor": "white",
            "ticks": ""
           }
          },
          "title": {
           "x": 0.05
          },
          "xaxis": {
           "automargin": true,
           "gridcolor": "white",
           "linecolor": "white",
           "ticks": "",
           "title": {
            "standoff": 15
           },
           "zerolinecolor": "white",
           "zerolinewidth": 2
          },
          "yaxis": {
           "automargin": true,
           "gridcolor": "white",
           "linecolor": "white",
           "ticks": "",
           "title": {
            "standoff": 15
           },
           "zerolinecolor": "white",
           "zerolinewidth": 2
          }
         }
        },
        "title": {
         "text": "ScatterPlot: Healthy life expectancy and Prevalence of moderate or severe food insecurity in the population (%)",
         "x": 0.5
        },
        "xaxis": {
         "anchor": "y",
         "domain": [
          0,
          1
         ],
         "title": {
          "text": "Prevalence of moderate or severe food insecurity in the population (%)"
         }
        },
        "yaxis": {
         "anchor": "x",
         "domain": [
          0,
          1
         ],
         "title": {
          "text": "Healthy life expectancy"
         }
        }
       }
      },
      "text/html": [
       "<div>                            <div id=\"6d0a47cf-8dbf-44db-a181-e19c6c2aa530\" class=\"plotly-graph-div\" style=\"height:525px; width:100%;\"></div>            <script type=\"text/javascript\">                require([\"plotly\"], function(Plotly) {                    window.PLOTLYENV=window.PLOTLYENV || {};                                    if (document.getElementById(\"6d0a47cf-8dbf-44db-a181-e19c6c2aa530\")) {                    Plotly.newPlot(                        \"6d0a47cf-8dbf-44db-a181-e19c6c2aa530\",                        [{\"customdata\":[[\"Finland\"],[\"Norway\"],[\"Denmark\"],[\"Iceland\"],[\"Switzerland\"]],\"hovertemplate\":\"Healthy life expectancy: %{y}\\u003cbr\\u003ePrevalence of moderate or severe food insecurity in the population (%): %{x}\\u003cbr\\u003eCountry Name: %{customdata[0]}\",\"legendgroup\":\"Top 5 Countries ranked by happiness\",\"marker\":{\"color\":\"green\",\"symbol\":\"circle\"},\"mode\":\"markers\",\"name\":\"Top 5 Countries ranked by happiness\",\"orientation\":\"v\",\"showlegend\":true,\"x\":[7.7,4.9,5.2,7.3,2.7],\"xaxis\":\"x\",\"y\":[0.874,0.861,0.868,0.914,0.927],\"yaxis\":\"y\",\"type\":\"scatter\"},{\"customdata\":[[\"Netherlands\"],[\"Canada\"],[\"New Zealand\"],[\"Sweden\"],[\"Australia\"],[\"United Kingdom\"],[\"Austria\"],[\"Costa Rica\"],[\"Ireland\"],[\"Germany\"],[\"Belgium\"],[\"Luxembourg\"],[\"United States\"],[\"Israel\"],[\"United Arab Emirates\"],[\"Czech Republic\"],[\"Malta\"],[\"France\"],[\"Mexico\"],[\"Chile\"],[\"Taiwan\"],[\"Panama\"],[\"Brazil\"],[\"Argentina\"],[\"Guatemala\"],[\"Uruguay\"],[\"Qatar\"],[\"Saudi Arabia\"],[\"Singapore\"],[\"Malaysia\"],[\"Spain\"],[\"Colombia\"],[\"Trinidad & Tobago\"],[\"Slovakia\"],[\"El Salvador\"],[\"Nicaragua\"],[\"Poland\"],[\"Bahrain\"],[\"Uzbekistan\"],[\"Kuwait\"],[\"Thailand\"],[\"Italy\"],[\"Ecuador\"],[\"Belize\"],[\"Lithuania\"],[\"Slovenia\"],[\"Romania\"],[\"Latvia\"],[\"Japan\"],[\"Mauritius\"],[\"Jamaica\"],[\"South Korea\"],[\"Northern Cyprus\"],[\"Russia\"],[\"Kazakhstan\"],[\"Cyprus\"],[\"Bolivia\"],[\"Estonia\"],[\"Paraguay\"],[\"Peru\"],[\"Kosovo\"],[\"Moldova\"],[\"Turkmenistan\"],[\"Hungary\"],[\"Libya\"],[\"Philippines\"],[\"Honduras\"],[\"Belarus\"],[\"Turkey\"],[\"Pakistan\"],[\"Hong Kong\"],[\"Portugal\"],[\"Serbia\"],[\"Greece\"],[\"Lebanon\"],[\"Montenegro\"],[\"Croatia\"],[\"Dominican Republic\"],[\"Algeria\"],[\"Morocco\"],[\"China\"],[\"Azerbaijan\"],[\"Tajikistan\"],[\"Macedonia\"],[\"Jordan\"],[\"Nigeria\"],[\"Kyrgyzstan\"],[\"Bosnia and Herzegovina\"],[\"Mongolia\"],[\"Vietnam\"],[\"Indonesia\"],[\"Bhutan\"],[\"Somalia\"],[\"Cameroon\"],[\"Bulgaria\"],[\"Nepal\"],[\"Venezuela\"],[\"Gabon\"],[\"Palestinian Territories\"],[\"South Africa\"],[\"Iran\"],[\"Ivory Coast\"],[\"Ghana\"],[\"Senegal\"],[\"Laos\"],[\"Tunisia\"],[\"Albania\"],[\"Sierra Leone\"],[\"Congo (Brazzaville)\"],[\"Bangladesh\"],[\"Sri Lanka\"],[\"Iraq\"],[\"Mali\"],[\"Namibia\"],[\"Cambodia\"],[\"Burkina Faso\"],[\"Egypt\"],[\"Mozambique\"],[\"Kenya\"],[\"Zambia\"],[\"Mauritania\"],[\"Ethiopia\"],[\"Georgia\"],[\"Armenia\"],[\"Myanmar\"],[\"Chad\"],[\"Congo (Kinshasa)\"],[\"India\"],[\"Niger\"],[\"Uganda\"],[\"Benin\"],[\"Sudan\"],[\"Ukraine\"],[\"Togo\"],[\"Guinea\"],[\"Lesotho\"],[\"Angola\"],[\"Madagascar\"],[\"Zimbabwe\"],[\"Afghanistan\"],[\"Botswana\"],[\"Malawi\"],[\"Haiti\"],[\"Liberia\"],[\"Syria\"],[\"Rwanda\"]],\"hovertemplate\":\"Healthy life expectancy: %{y}\\u003cbr\\u003ePrevalence of moderate or severe food insecurity in the population (%): %{x}\\u003cbr\\u003eCountry Name: %{customdata[0]}\",\"legendgroup\":\"Other Countries\",\"marker\":{\"color\":\"blue\",\"symbol\":\"circle\"},\"mode\":\"markers\",\"name\":\"Other Countries\",\"orientation\":\"v\",\"showlegend\":true,\"x\":[5.1,null,14.0,5.8,13.5,5.0,3.6,25.5,7.0,3.5,10.8,3.3,8.5,12.2,null,3.7,4.4,6.0,34.9,15.6,null,null,20.6,35.8,45.2,23.2,null,null,4.7,15.1,8.6,null,null,null,42.2,null,4.3,null,17.2,12.3,null,7.3,null,null,10.7,10.4,14.5,9.5,3.1,20.5,null,null,null,null,null,null,null,7.4,null,null,null,27.5,null,6.9,35.9,55.3,55.0,null,null,null,null,10.6,12.4,13.3,null,12.9,10.0,null,17.6,null,null,9.6,null,null,null,44.1,null,9.2,27.5,null,7.0,null,null,null,12.5,33.8,null,null,null,null,null,null,51.1,40.7,null,20.0,37.1,81.4,null,31.5,null,null,null,56.4,44.1,47.7,null,68.4,null,null,44.8,57.9,38.3,34.9,null,null,null,null,null,66.3,null,48.9,18.3,null,74.1,null,null,null,null,60.8,66.7,82.2,null,88.5,null,null],\"xaxis\":\"x\",\"y\":[0.878,0.896,0.876,0.913,0.91,0.888,0.891,0.817,0.876,0.861,0.894,0.896,0.819,0.883,0.67,0.854,0.884,0.908,0.761,0.808,0.857,0.759,0.675,0.744,0.608,0.771,0.748,0.633,1.008,0.669,0.965,0.635,0.564,0.776,0.639,0.7,0.781,0.698,0.605,0.675,0.707,0.946,0.736,0.474,0.716,0.856,0.726,0.671,0.988,0.684,0.693,0.955,0.909,0.599,0.631,0.909,0.508,0.737,0.615,0.674,0.578,0.62,0.517,0.732,0.553,0.513,0.622,0.7,0.686,0.424,1.03,0.884,0.685,0.879,0.785,0.729,0.737,0.614,0.687,0.669,0.799,0.603,0.598,0.691,0.645,0.048,0.594,0.758,0.575,0.702,0.522,0.527,0.115,0.182,0.712,0.539,0.657,0.404,0.602,0.33,0.691,0.08,0.337,0.433,0.441,0.69,0.79,0.0,0.343,0.579,0.672,0.536,0.152,0.365,0.457,0.254,0.553,0.173,0.454,0.295,0.292,0.391,0.643,0.666,0.429,0.053,0.204,0.485,0.221,0.237,0.24,0.312,0.609,0.253,0.211,0.079,0.269,0.402,0.248,0.255,0.417,0.306,0.289,0.267,0.539,0.4],\"yaxis\":\"y\",\"type\":\"scatter\"},{\"customdata\":[[\"Yemen\"],[\"Tanzania\"],[\"South Sudan\"],[\"Central African Republic\"],[\"Burundi\"]],\"hovertemplate\":\"Healthy life expectancy: %{y}\\u003cbr\\u003ePrevalence of moderate or severe food insecurity in the population (%): %{x}\\u003cbr\\u003eCountry Name: %{customdata[0]}\",\"legendgroup\":\"Bottom 5 ranked by happiness\",\"marker\":{\"color\":\"red\",\"symbol\":\"circle\"},\"mode\":\"markers\",\"name\":\"Bottom 5 ranked by happiness\",\"orientation\":\"v\",\"showlegend\":true,\"x\":[null,null,84.9,null,null],\"xaxis\":\"x\",\"y\":[0.343,0.381,0.177,0.01,0.145],\"yaxis\":\"y\",\"type\":\"scatter\"}],                        {\"template\":{\"data\":{\"histogram2dcontour\":[{\"type\":\"histogram2dcontour\",\"colorbar\":{\"outlinewidth\":0,\"ticks\":\"\"},\"colorscale\":[[0.0,\"#0d0887\"],[0.1111111111111111,\"#46039f\"],[0.2222222222222222,\"#7201a8\"],[0.3333333333333333,\"#9c179e\"],[0.4444444444444444,\"#bd3786\"],[0.5555555555555556,\"#d8576b\"],[0.6666666666666666,\"#ed7953\"],[0.7777777777777778,\"#fb9f3a\"],[0.8888888888888888,\"#fdca26\"],[1.0,\"#f0f921\"]]}],\"choropleth\":[{\"type\":\"choropleth\",\"colorbar\":{\"outlinewidth\":0,\"ticks\":\"\"}}],\"histogram2d\":[{\"type\":\"histogram2d\",\"colorbar\":{\"outlinewidth\":0,\"ticks\":\"\"},\"colorscale\":[[0.0,\"#0d0887\"],[0.1111111111111111,\"#46039f\"],[0.2222222222222222,\"#7201a8\"],[0.3333333333333333,\"#9c179e\"],[0.4444444444444444,\"#bd3786\"],[0.5555555555555556,\"#d8576b\"],[0.6666666666666666,\"#ed7953\"],[0.7777777777777778,\"#fb9f3a\"],[0.8888888888888888,\"#fdca26\"],[1.0,\"#f0f921\"]]}],\"heatmap\":[{\"type\":\"heatmap\",\"colorbar\":{\"outlinewidth\":0,\"ticks\":\"\"},\"colorscale\":[[0.0,\"#0d0887\"],[0.1111111111111111,\"#46039f\"],[0.2222222222222222,\"#7201a8\"],[0.3333333333333333,\"#9c179e\"],[0.4444444444444444,\"#bd3786\"],[0.5555555555555556,\"#d8576b\"],[0.6666666666666666,\"#ed7953\"],[0.7777777777777778,\"#fb9f3a\"],[0.8888888888888888,\"#fdca26\"],[1.0,\"#f0f921\"]]}],\"heatmapgl\":[{\"type\":\"heatmapgl\",\"colorbar\":{\"outlinewidth\":0,\"ticks\":\"\"},\"colorscale\":[[0.0,\"#0d0887\"],[0.1111111111111111,\"#46039f\"],[0.2222222222222222,\"#7201a8\"],[0.3333333333333333,\"#9c179e\"],[0.4444444444444444,\"#bd3786\"],[0.5555555555555556,\"#d8576b\"],[0.6666666666666666,\"#ed7953\"],[0.7777777777777778,\"#fb9f3a\"],[0.8888888888888888,\"#fdca26\"],[1.0,\"#f0f921\"]]}],\"contourcarpet\":[{\"type\":\"contourcarpet\",\"colorbar\":{\"outlinewidth\":0,\"ticks\":\"\"}}],\"contour\":[{\"type\":\"contour\",\"colorbar\":{\"outlinewidth\":0,\"ticks\":\"\"},\"colorscale\":[[0.0,\"#0d0887\"],[0.1111111111111111,\"#46039f\"],[0.2222222222222222,\"#7201a8\"],[0.3333333333333333,\"#9c179e\"],[0.4444444444444444,\"#bd3786\"],[0.5555555555555556,\"#d8576b\"],[0.6666666666666666,\"#ed7953\"],[0.7777777777777778,\"#fb9f3a\"],[0.8888888888888888,\"#fdca26\"],[1.0,\"#f0f921\"]]}],\"surface\":[{\"type\":\"surface\",\"colorbar\":{\"outlinewidth\":0,\"ticks\":\"\"},\"colorscale\":[[0.0,\"#0d0887\"],[0.1111111111111111,\"#46039f\"],[0.2222222222222222,\"#7201a8\"],[0.3333333333333333,\"#9c179e\"],[0.4444444444444444,\"#bd3786\"],[0.5555555555555556,\"#d8576b\"],[0.6666666666666666,\"#ed7953\"],[0.7777777777777778,\"#fb9f3a\"],[0.8888888888888888,\"#fdca26\"],[1.0,\"#f0f921\"]]}],\"mesh3d\":[{\"type\":\"mesh3d\",\"colorbar\":{\"outlinewidth\":0,\"ticks\":\"\"}}],\"scatter\":[{\"fillpattern\":{\"fillmode\":\"overlay\",\"size\":10,\"solidity\":0.2},\"type\":\"scatter\"}],\"parcoords\":[{\"type\":\"parcoords\",\"line\":{\"colorbar\":{\"outlinewidth\":0,\"ticks\":\"\"}}}],\"scatterpolargl\":[{\"type\":\"scatterpolargl\",\"marker\":{\"colorbar\":{\"outlinewidth\":0,\"ticks\":\"\"}}}],\"bar\":[{\"error_x\":{\"color\":\"#2a3f5f\"},\"error_y\":{\"color\":\"#2a3f5f\"},\"marker\":{\"line\":{\"color\":\"#E5ECF6\",\"width\":0.5},\"pattern\":{\"fillmode\":\"overlay\",\"size\":10,\"solidity\":0.2}},\"type\":\"bar\"}],\"scattergeo\":[{\"type\":\"scattergeo\",\"marker\":{\"colorbar\":{\"outlinewidth\":0,\"ticks\":\"\"}}}],\"scatterpolar\":[{\"type\":\"scatterpolar\",\"marker\":{\"colorbar\":{\"outlinewidth\":0,\"ticks\":\"\"}}}],\"histogram\":[{\"marker\":{\"pattern\":{\"fillmode\":\"overlay\",\"size\":10,\"solidity\":0.2}},\"type\":\"histogram\"}],\"scattergl\":[{\"type\":\"scattergl\",\"marker\":{\"colorbar\":{\"outlinewidth\":0,\"ticks\":\"\"}}}],\"scatter3d\":[{\"type\":\"scatter3d\",\"line\":{\"colorbar\":{\"outlinewidth\":0,\"ticks\":\"\"}},\"marker\":{\"colorbar\":{\"outlinewidth\":0,\"ticks\":\"\"}}}],\"scattermapbox\":[{\"type\":\"scattermapbox\",\"marker\":{\"colorbar\":{\"outlinewidth\":0,\"ticks\":\"\"}}}],\"scatterternary\":[{\"type\":\"scatterternary\",\"marker\":{\"colorbar\":{\"outlinewidth\":0,\"ticks\":\"\"}}}],\"scattercarpet\":[{\"type\":\"scattercarpet\",\"marker\":{\"colorbar\":{\"outlinewidth\":0,\"ticks\":\"\"}}}],\"carpet\":[{\"aaxis\":{\"endlinecolor\":\"#2a3f5f\",\"gridcolor\":\"white\",\"linecolor\":\"white\",\"minorgridcolor\":\"white\",\"startlinecolor\":\"#2a3f5f\"},\"baxis\":{\"endlinecolor\":\"#2a3f5f\",\"gridcolor\":\"white\",\"linecolor\":\"white\",\"minorgridcolor\":\"white\",\"startlinecolor\":\"#2a3f5f\"},\"type\":\"carpet\"}],\"table\":[{\"cells\":{\"fill\":{\"color\":\"#EBF0F8\"},\"line\":{\"color\":\"white\"}},\"header\":{\"fill\":{\"color\":\"#C8D4E3\"},\"line\":{\"color\":\"white\"}},\"type\":\"table\"}],\"barpolar\":[{\"marker\":{\"line\":{\"color\":\"#E5ECF6\",\"width\":0.5},\"pattern\":{\"fillmode\":\"overlay\",\"size\":10,\"solidity\":0.2}},\"type\":\"barpolar\"}],\"pie\":[{\"automargin\":true,\"type\":\"pie\"}]},\"layout\":{\"autotypenumbers\":\"strict\",\"colorway\":[\"#636efa\",\"#EF553B\",\"#00cc96\",\"#ab63fa\",\"#FFA15A\",\"#19d3f3\",\"#FF6692\",\"#B6E880\",\"#FF97FF\",\"#FECB52\"],\"font\":{\"color\":\"#2a3f5f\"},\"hovermode\":\"closest\",\"hoverlabel\":{\"align\":\"left\"},\"paper_bgcolor\":\"white\",\"plot_bgcolor\":\"#E5ECF6\",\"polar\":{\"bgcolor\":\"#E5ECF6\",\"angularaxis\":{\"gridcolor\":\"white\",\"linecolor\":\"white\",\"ticks\":\"\"},\"radialaxis\":{\"gridcolor\":\"white\",\"linecolor\":\"white\",\"ticks\":\"\"}},\"ternary\":{\"bgcolor\":\"#E5ECF6\",\"aaxis\":{\"gridcolor\":\"white\",\"linecolor\":\"white\",\"ticks\":\"\"},\"baxis\":{\"gridcolor\":\"white\",\"linecolor\":\"white\",\"ticks\":\"\"},\"caxis\":{\"gridcolor\":\"white\",\"linecolor\":\"white\",\"ticks\":\"\"}},\"coloraxis\":{\"colorbar\":{\"outlinewidth\":0,\"ticks\":\"\"}},\"colorscale\":{\"sequential\":[[0.0,\"#0d0887\"],[0.1111111111111111,\"#46039f\"],[0.2222222222222222,\"#7201a8\"],[0.3333333333333333,\"#9c179e\"],[0.4444444444444444,\"#bd3786\"],[0.5555555555555556,\"#d8576b\"],[0.6666666666666666,\"#ed7953\"],[0.7777777777777778,\"#fb9f3a\"],[0.8888888888888888,\"#fdca26\"],[1.0,\"#f0f921\"]],\"sequentialminus\":[[0.0,\"#0d0887\"],[0.1111111111111111,\"#46039f\"],[0.2222222222222222,\"#7201a8\"],[0.3333333333333333,\"#9c179e\"],[0.4444444444444444,\"#bd3786\"],[0.5555555555555556,\"#d8576b\"],[0.6666666666666666,\"#ed7953\"],[0.7777777777777778,\"#fb9f3a\"],[0.8888888888888888,\"#fdca26\"],[1.0,\"#f0f921\"]],\"diverging\":[[0,\"#8e0152\"],[0.1,\"#c51b7d\"],[0.2,\"#de77ae\"],[0.3,\"#f1b6da\"],[0.4,\"#fde0ef\"],[0.5,\"#f7f7f7\"],[0.6,\"#e6f5d0\"],[0.7,\"#b8e186\"],[0.8,\"#7fbc41\"],[0.9,\"#4d9221\"],[1,\"#276419\"]]},\"xaxis\":{\"gridcolor\":\"white\",\"linecolor\":\"white\",\"ticks\":\"\",\"title\":{\"standoff\":15},\"zerolinecolor\":\"white\",\"automargin\":true,\"zerolinewidth\":2},\"yaxis\":{\"gridcolor\":\"white\",\"linecolor\":\"white\",\"ticks\":\"\",\"title\":{\"standoff\":15},\"zerolinecolor\":\"white\",\"automargin\":true,\"zerolinewidth\":2},\"scene\":{\"xaxis\":{\"backgroundcolor\":\"#E5ECF6\",\"gridcolor\":\"white\",\"linecolor\":\"white\",\"showbackground\":true,\"ticks\":\"\",\"zerolinecolor\":\"white\",\"gridwidth\":2},\"yaxis\":{\"backgroundcolor\":\"#E5ECF6\",\"gridcolor\":\"white\",\"linecolor\":\"white\",\"showbackground\":true,\"ticks\":\"\",\"zerolinecolor\":\"white\",\"gridwidth\":2},\"zaxis\":{\"backgroundcolor\":\"#E5ECF6\",\"gridcolor\":\"white\",\"linecolor\":\"white\",\"showbackground\":true,\"ticks\":\"\",\"zerolinecolor\":\"white\",\"gridwidth\":2}},\"shapedefaults\":{\"line\":{\"color\":\"#2a3f5f\"}},\"annotationdefaults\":{\"arrowcolor\":\"#2a3f5f\",\"arrowhead\":0,\"arrowwidth\":1},\"geo\":{\"bgcolor\":\"white\",\"landcolor\":\"#E5ECF6\",\"subunitcolor\":\"white\",\"showland\":true,\"showlakes\":true,\"lakecolor\":\"white\"},\"title\":{\"x\":0.05},\"mapbox\":{\"style\":\"light\"}}},\"xaxis\":{\"anchor\":\"y\",\"domain\":[0.0,1.0],\"title\":{\"text\":\"Prevalence of moderate or severe food insecurity in the population (%)\"}},\"yaxis\":{\"anchor\":\"x\",\"domain\":[0.0,1.0],\"title\":{\"text\":\"Healthy life expectancy\"}},\"legend\":{\"title\":{\"text\":\"color\"},\"tracegroupgap\":0},\"title\":{\"text\":\"ScatterPlot: Healthy life expectancy and Prevalence of moderate or severe food insecurity in the population (%)\",\"x\":0.5}},                        {\"responsive\": true}                    ).then(function(){\n",
       "                            \n",
       "var gd = document.getElementById('6d0a47cf-8dbf-44db-a181-e19c6c2aa530');\n",
       "var x = new MutationObserver(function (mutations, observer) {{\n",
       "        var display = window.getComputedStyle(gd).display;\n",
       "        if (!display || display === 'none') {{\n",
       "            console.log([gd, 'removed!']);\n",
       "            Plotly.purge(gd);\n",
       "            observer.disconnect();\n",
       "        }}\n",
       "}});\n",
       "\n",
       "// Listen for the removal of the full notebook cells\n",
       "var notebookContainer = gd.closest('#notebook-container');\n",
       "if (notebookContainer) {{\n",
       "    x.observe(notebookContainer, {childList: true});\n",
       "}}\n",
       "\n",
       "// Listen for the clearing of the current output cell\n",
       "var outputEl = gd.closest('.output');\n",
       "if (outputEl) {{\n",
       "    x.observe(outputEl, {childList: true});\n",
       "}}\n",
       "\n",
       "                        })                };                });            </script>        </div>"
      ]
     },
     "metadata": {},
     "output_type": "display_data"
    }
   ],
   "source": [
    "country_col = 'Country Name'\n",
    "fig = px.scatter(data_frame=combined_indicator_df,y='Healthy life expectancy',x='Prevalence of moderate or severe food insecurity in the population (%)',color='color',\n",
    "                 color_discrete_map={'Top 5 Countries ranked by happiness': 'green', 'Bottom 5 ranked by happiness': 'red','Other Countries':'blue'},\n",
    "                 title=\"ScatterPlot: Healthy life expectancy and Prevalence of moderate or severe food insecurity in the population (%)\",custom_data=[country_col])\n",
    "# Note - install statsmodels for trendlines\n",
    "fig.update_traces(\n",
    "    hovertemplate=\"<br>\".join([\n",
    "        \"Healthy life expectancy: %{y}\",\n",
    "        \"Prevalence of moderate or severe food insecurity in the population (%): %{x}\",\n",
    "        \"Country Name: %{customdata[0]}\",\n",
    "    ])\n",
    ")\n",
    "# Customize axis labels\n",
    "fig.update_layout(\n",
    "    xaxis_title=\"Prevalence of moderate or severe food insecurity in the population (%)\",\n",
    "    yaxis_title=\"Healthy life expectancy\",\n",
    "    title_x=0.5 # center title\n",
    ")\n",
    "fig.show()"
   ]
  },
  {
   "cell_type": "markdown",
   "id": "23284da3-4940-4f2d-ab69-931a9ba82617",
   "metadata": {},
   "source": [
    "As anticipated, we see a strong negative correlation between the prevalence of food insecurity and healthy life expectancy confirming our hypothesis that a healthy life expectancy is driven by factors beyond healthcare expenditure."
   ]
  }
 ],
 "metadata": {
  "kernelspec": {
   "display_name": "cic",
   "language": "python",
   "name": "python3"
  },
  "language_info": {
   "codemirror_mode": {
    "name": "ipython",
    "version": 3
   },
   "file_extension": ".py",
   "mimetype": "text/x-python",
   "name": "python",
   "nbconvert_exporter": "python",
   "pygments_lexer": "ipython3",
   "version": "3.12.2"
  }
 },
 "nbformat": 4,
 "nbformat_minor": 5
}
